{
 "cells": [
  {
   "cell_type": "code",
   "execution_count": 1,
   "id": "8f441dc4",
   "metadata": {},
   "outputs": [],
   "source": [
    "import numpy as np\n",
    "import pandas as pd"
   ]
  },
  {
   "cell_type": "code",
   "execution_count": 2,
   "id": "38aae6fc",
   "metadata": {},
   "outputs": [
    {
     "data": {
      "text/html": [
       "<div>\n",
       "<style scoped>\n",
       "    .dataframe tbody tr th:only-of-type {\n",
       "        vertical-align: middle;\n",
       "    }\n",
       "\n",
       "    .dataframe tbody tr th {\n",
       "        vertical-align: top;\n",
       "    }\n",
       "\n",
       "    .dataframe thead th {\n",
       "        text-align: right;\n",
       "    }\n",
       "</style>\n",
       "<table border=\"1\" class=\"dataframe\">\n",
       "  <thead>\n",
       "    <tr style=\"text-align: right;\">\n",
       "      <th></th>\n",
       "      <th>label</th>\n",
       "      <th>1x1</th>\n",
       "      <th>1x2</th>\n",
       "      <th>1x3</th>\n",
       "      <th>1x4</th>\n",
       "      <th>1x5</th>\n",
       "      <th>1x6</th>\n",
       "      <th>1x7</th>\n",
       "      <th>1x8</th>\n",
       "      <th>1x9</th>\n",
       "      <th>...</th>\n",
       "      <th>28x19</th>\n",
       "      <th>28x20</th>\n",
       "      <th>28x21</th>\n",
       "      <th>28x22</th>\n",
       "      <th>28x23</th>\n",
       "      <th>28x24</th>\n",
       "      <th>28x25</th>\n",
       "      <th>28x26</th>\n",
       "      <th>28x27</th>\n",
       "      <th>28x28</th>\n",
       "    </tr>\n",
       "  </thead>\n",
       "  <tbody>\n",
       "    <tr>\n",
       "      <th>0</th>\n",
       "      <td>7</td>\n",
       "      <td>0</td>\n",
       "      <td>0</td>\n",
       "      <td>0</td>\n",
       "      <td>0</td>\n",
       "      <td>0</td>\n",
       "      <td>0</td>\n",
       "      <td>0</td>\n",
       "      <td>0</td>\n",
       "      <td>0</td>\n",
       "      <td>...</td>\n",
       "      <td>0</td>\n",
       "      <td>0</td>\n",
       "      <td>0</td>\n",
       "      <td>0</td>\n",
       "      <td>0</td>\n",
       "      <td>0</td>\n",
       "      <td>0</td>\n",
       "      <td>0</td>\n",
       "      <td>0</td>\n",
       "      <td>0</td>\n",
       "    </tr>\n",
       "    <tr>\n",
       "      <th>1</th>\n",
       "      <td>2</td>\n",
       "      <td>0</td>\n",
       "      <td>0</td>\n",
       "      <td>0</td>\n",
       "      <td>0</td>\n",
       "      <td>0</td>\n",
       "      <td>0</td>\n",
       "      <td>0</td>\n",
       "      <td>0</td>\n",
       "      <td>0</td>\n",
       "      <td>...</td>\n",
       "      <td>0</td>\n",
       "      <td>0</td>\n",
       "      <td>0</td>\n",
       "      <td>0</td>\n",
       "      <td>0</td>\n",
       "      <td>0</td>\n",
       "      <td>0</td>\n",
       "      <td>0</td>\n",
       "      <td>0</td>\n",
       "      <td>0</td>\n",
       "    </tr>\n",
       "    <tr>\n",
       "      <th>2</th>\n",
       "      <td>1</td>\n",
       "      <td>0</td>\n",
       "      <td>0</td>\n",
       "      <td>0</td>\n",
       "      <td>0</td>\n",
       "      <td>0</td>\n",
       "      <td>0</td>\n",
       "      <td>0</td>\n",
       "      <td>0</td>\n",
       "      <td>0</td>\n",
       "      <td>...</td>\n",
       "      <td>0</td>\n",
       "      <td>0</td>\n",
       "      <td>0</td>\n",
       "      <td>0</td>\n",
       "      <td>0</td>\n",
       "      <td>0</td>\n",
       "      <td>0</td>\n",
       "      <td>0</td>\n",
       "      <td>0</td>\n",
       "      <td>0</td>\n",
       "    </tr>\n",
       "    <tr>\n",
       "      <th>3</th>\n",
       "      <td>0</td>\n",
       "      <td>0</td>\n",
       "      <td>0</td>\n",
       "      <td>0</td>\n",
       "      <td>0</td>\n",
       "      <td>0</td>\n",
       "      <td>0</td>\n",
       "      <td>0</td>\n",
       "      <td>0</td>\n",
       "      <td>0</td>\n",
       "      <td>...</td>\n",
       "      <td>0</td>\n",
       "      <td>0</td>\n",
       "      <td>0</td>\n",
       "      <td>0</td>\n",
       "      <td>0</td>\n",
       "      <td>0</td>\n",
       "      <td>0</td>\n",
       "      <td>0</td>\n",
       "      <td>0</td>\n",
       "      <td>0</td>\n",
       "    </tr>\n",
       "    <tr>\n",
       "      <th>4</th>\n",
       "      <td>4</td>\n",
       "      <td>0</td>\n",
       "      <td>0</td>\n",
       "      <td>0</td>\n",
       "      <td>0</td>\n",
       "      <td>0</td>\n",
       "      <td>0</td>\n",
       "      <td>0</td>\n",
       "      <td>0</td>\n",
       "      <td>0</td>\n",
       "      <td>...</td>\n",
       "      <td>0</td>\n",
       "      <td>0</td>\n",
       "      <td>0</td>\n",
       "      <td>0</td>\n",
       "      <td>0</td>\n",
       "      <td>0</td>\n",
       "      <td>0</td>\n",
       "      <td>0</td>\n",
       "      <td>0</td>\n",
       "      <td>0</td>\n",
       "    </tr>\n",
       "  </tbody>\n",
       "</table>\n",
       "<p>5 rows × 785 columns</p>\n",
       "</div>"
      ],
      "text/plain": [
       "   label  1x1  1x2  1x3  1x4  1x5  1x6  1x7  1x8  1x9  ...  28x19  28x20  \\\n",
       "0      7    0    0    0    0    0    0    0    0    0  ...      0      0   \n",
       "1      2    0    0    0    0    0    0    0    0    0  ...      0      0   \n",
       "2      1    0    0    0    0    0    0    0    0    0  ...      0      0   \n",
       "3      0    0    0    0    0    0    0    0    0    0  ...      0      0   \n",
       "4      4    0    0    0    0    0    0    0    0    0  ...      0      0   \n",
       "\n",
       "   28x21  28x22  28x23  28x24  28x25  28x26  28x27  28x28  \n",
       "0      0      0      0      0      0      0      0      0  \n",
       "1      0      0      0      0      0      0      0      0  \n",
       "2      0      0      0      0      0      0      0      0  \n",
       "3      0      0      0      0      0      0      0      0  \n",
       "4      0      0      0      0      0      0      0      0  \n",
       "\n",
       "[5 rows x 785 columns]"
      ]
     },
     "execution_count": 2,
     "metadata": {},
     "output_type": "execute_result"
    }
   ],
   "source": [
    "df = pd.read_csv(\"../Datasets/mnist_test.csv\")\n",
    "df.head()"
   ]
  },
  {
   "cell_type": "code",
   "execution_count": 3,
   "id": "b4573740",
   "metadata": {},
   "outputs": [
    {
     "data": {
      "text/plain": [
       "label    0\n",
       "1x1      0\n",
       "1x2      0\n",
       "1x3      0\n",
       "1x4      0\n",
       "        ..\n",
       "28x24    0\n",
       "28x25    0\n",
       "28x26    0\n",
       "28x27    0\n",
       "28x28    0\n",
       "Length: 785, dtype: int64"
      ]
     },
     "execution_count": 3,
     "metadata": {},
     "output_type": "execute_result"
    }
   ],
   "source": [
    "df.isna().sum()"
   ]
  },
  {
   "cell_type": "code",
   "execution_count": 4,
   "id": "30611b29",
   "metadata": {},
   "outputs": [],
   "source": [
    "from sklearn.preprocessing import LabelEncoder , StandardScaler\n",
    "from sklearn.model_selection import train_test_split"
   ]
  },
  {
   "cell_type": "code",
   "execution_count": 5,
   "id": "b9a3267d",
   "metadata": {},
   "outputs": [
    {
     "data": {
      "text/html": [
       "<div>\n",
       "<style scoped>\n",
       "    .dataframe tbody tr th:only-of-type {\n",
       "        vertical-align: middle;\n",
       "    }\n",
       "\n",
       "    .dataframe tbody tr th {\n",
       "        vertical-align: top;\n",
       "    }\n",
       "\n",
       "    .dataframe thead th {\n",
       "        text-align: right;\n",
       "    }\n",
       "</style>\n",
       "<table border=\"1\" class=\"dataframe\">\n",
       "  <thead>\n",
       "    <tr style=\"text-align: right;\">\n",
       "      <th></th>\n",
       "      <th>1x1</th>\n",
       "      <th>1x2</th>\n",
       "      <th>1x3</th>\n",
       "      <th>1x4</th>\n",
       "      <th>1x5</th>\n",
       "      <th>1x6</th>\n",
       "      <th>1x7</th>\n",
       "      <th>1x8</th>\n",
       "      <th>1x9</th>\n",
       "      <th>1x10</th>\n",
       "      <th>...</th>\n",
       "      <th>28x19</th>\n",
       "      <th>28x20</th>\n",
       "      <th>28x21</th>\n",
       "      <th>28x22</th>\n",
       "      <th>28x23</th>\n",
       "      <th>28x24</th>\n",
       "      <th>28x25</th>\n",
       "      <th>28x26</th>\n",
       "      <th>28x27</th>\n",
       "      <th>28x28</th>\n",
       "    </tr>\n",
       "  </thead>\n",
       "  <tbody>\n",
       "    <tr>\n",
       "      <th>0</th>\n",
       "      <td>0</td>\n",
       "      <td>0</td>\n",
       "      <td>0</td>\n",
       "      <td>0</td>\n",
       "      <td>0</td>\n",
       "      <td>0</td>\n",
       "      <td>0</td>\n",
       "      <td>0</td>\n",
       "      <td>0</td>\n",
       "      <td>0</td>\n",
       "      <td>...</td>\n",
       "      <td>0</td>\n",
       "      <td>0</td>\n",
       "      <td>0</td>\n",
       "      <td>0</td>\n",
       "      <td>0</td>\n",
       "      <td>0</td>\n",
       "      <td>0</td>\n",
       "      <td>0</td>\n",
       "      <td>0</td>\n",
       "      <td>0</td>\n",
       "    </tr>\n",
       "    <tr>\n",
       "      <th>1</th>\n",
       "      <td>0</td>\n",
       "      <td>0</td>\n",
       "      <td>0</td>\n",
       "      <td>0</td>\n",
       "      <td>0</td>\n",
       "      <td>0</td>\n",
       "      <td>0</td>\n",
       "      <td>0</td>\n",
       "      <td>0</td>\n",
       "      <td>0</td>\n",
       "      <td>...</td>\n",
       "      <td>0</td>\n",
       "      <td>0</td>\n",
       "      <td>0</td>\n",
       "      <td>0</td>\n",
       "      <td>0</td>\n",
       "      <td>0</td>\n",
       "      <td>0</td>\n",
       "      <td>0</td>\n",
       "      <td>0</td>\n",
       "      <td>0</td>\n",
       "    </tr>\n",
       "    <tr>\n",
       "      <th>2</th>\n",
       "      <td>0</td>\n",
       "      <td>0</td>\n",
       "      <td>0</td>\n",
       "      <td>0</td>\n",
       "      <td>0</td>\n",
       "      <td>0</td>\n",
       "      <td>0</td>\n",
       "      <td>0</td>\n",
       "      <td>0</td>\n",
       "      <td>0</td>\n",
       "      <td>...</td>\n",
       "      <td>0</td>\n",
       "      <td>0</td>\n",
       "      <td>0</td>\n",
       "      <td>0</td>\n",
       "      <td>0</td>\n",
       "      <td>0</td>\n",
       "      <td>0</td>\n",
       "      <td>0</td>\n",
       "      <td>0</td>\n",
       "      <td>0</td>\n",
       "    </tr>\n",
       "    <tr>\n",
       "      <th>3</th>\n",
       "      <td>0</td>\n",
       "      <td>0</td>\n",
       "      <td>0</td>\n",
       "      <td>0</td>\n",
       "      <td>0</td>\n",
       "      <td>0</td>\n",
       "      <td>0</td>\n",
       "      <td>0</td>\n",
       "      <td>0</td>\n",
       "      <td>0</td>\n",
       "      <td>...</td>\n",
       "      <td>0</td>\n",
       "      <td>0</td>\n",
       "      <td>0</td>\n",
       "      <td>0</td>\n",
       "      <td>0</td>\n",
       "      <td>0</td>\n",
       "      <td>0</td>\n",
       "      <td>0</td>\n",
       "      <td>0</td>\n",
       "      <td>0</td>\n",
       "    </tr>\n",
       "    <tr>\n",
       "      <th>4</th>\n",
       "      <td>0</td>\n",
       "      <td>0</td>\n",
       "      <td>0</td>\n",
       "      <td>0</td>\n",
       "      <td>0</td>\n",
       "      <td>0</td>\n",
       "      <td>0</td>\n",
       "      <td>0</td>\n",
       "      <td>0</td>\n",
       "      <td>0</td>\n",
       "      <td>...</td>\n",
       "      <td>0</td>\n",
       "      <td>0</td>\n",
       "      <td>0</td>\n",
       "      <td>0</td>\n",
       "      <td>0</td>\n",
       "      <td>0</td>\n",
       "      <td>0</td>\n",
       "      <td>0</td>\n",
       "      <td>0</td>\n",
       "      <td>0</td>\n",
       "    </tr>\n",
       "    <tr>\n",
       "      <th>...</th>\n",
       "      <td>...</td>\n",
       "      <td>...</td>\n",
       "      <td>...</td>\n",
       "      <td>...</td>\n",
       "      <td>...</td>\n",
       "      <td>...</td>\n",
       "      <td>...</td>\n",
       "      <td>...</td>\n",
       "      <td>...</td>\n",
       "      <td>...</td>\n",
       "      <td>...</td>\n",
       "      <td>...</td>\n",
       "      <td>...</td>\n",
       "      <td>...</td>\n",
       "      <td>...</td>\n",
       "      <td>...</td>\n",
       "      <td>...</td>\n",
       "      <td>...</td>\n",
       "      <td>...</td>\n",
       "      <td>...</td>\n",
       "      <td>...</td>\n",
       "    </tr>\n",
       "    <tr>\n",
       "      <th>9995</th>\n",
       "      <td>0</td>\n",
       "      <td>0</td>\n",
       "      <td>0</td>\n",
       "      <td>0</td>\n",
       "      <td>0</td>\n",
       "      <td>0</td>\n",
       "      <td>0</td>\n",
       "      <td>0</td>\n",
       "      <td>0</td>\n",
       "      <td>0</td>\n",
       "      <td>...</td>\n",
       "      <td>0</td>\n",
       "      <td>0</td>\n",
       "      <td>0</td>\n",
       "      <td>0</td>\n",
       "      <td>0</td>\n",
       "      <td>0</td>\n",
       "      <td>0</td>\n",
       "      <td>0</td>\n",
       "      <td>0</td>\n",
       "      <td>0</td>\n",
       "    </tr>\n",
       "    <tr>\n",
       "      <th>9996</th>\n",
       "      <td>0</td>\n",
       "      <td>0</td>\n",
       "      <td>0</td>\n",
       "      <td>0</td>\n",
       "      <td>0</td>\n",
       "      <td>0</td>\n",
       "      <td>0</td>\n",
       "      <td>0</td>\n",
       "      <td>0</td>\n",
       "      <td>0</td>\n",
       "      <td>...</td>\n",
       "      <td>0</td>\n",
       "      <td>0</td>\n",
       "      <td>0</td>\n",
       "      <td>0</td>\n",
       "      <td>0</td>\n",
       "      <td>0</td>\n",
       "      <td>0</td>\n",
       "      <td>0</td>\n",
       "      <td>0</td>\n",
       "      <td>0</td>\n",
       "    </tr>\n",
       "    <tr>\n",
       "      <th>9997</th>\n",
       "      <td>0</td>\n",
       "      <td>0</td>\n",
       "      <td>0</td>\n",
       "      <td>0</td>\n",
       "      <td>0</td>\n",
       "      <td>0</td>\n",
       "      <td>0</td>\n",
       "      <td>0</td>\n",
       "      <td>0</td>\n",
       "      <td>0</td>\n",
       "      <td>...</td>\n",
       "      <td>0</td>\n",
       "      <td>0</td>\n",
       "      <td>0</td>\n",
       "      <td>0</td>\n",
       "      <td>0</td>\n",
       "      <td>0</td>\n",
       "      <td>0</td>\n",
       "      <td>0</td>\n",
       "      <td>0</td>\n",
       "      <td>0</td>\n",
       "    </tr>\n",
       "    <tr>\n",
       "      <th>9998</th>\n",
       "      <td>0</td>\n",
       "      <td>0</td>\n",
       "      <td>0</td>\n",
       "      <td>0</td>\n",
       "      <td>0</td>\n",
       "      <td>0</td>\n",
       "      <td>0</td>\n",
       "      <td>0</td>\n",
       "      <td>0</td>\n",
       "      <td>0</td>\n",
       "      <td>...</td>\n",
       "      <td>0</td>\n",
       "      <td>0</td>\n",
       "      <td>0</td>\n",
       "      <td>0</td>\n",
       "      <td>0</td>\n",
       "      <td>0</td>\n",
       "      <td>0</td>\n",
       "      <td>0</td>\n",
       "      <td>0</td>\n",
       "      <td>0</td>\n",
       "    </tr>\n",
       "    <tr>\n",
       "      <th>9999</th>\n",
       "      <td>0</td>\n",
       "      <td>0</td>\n",
       "      <td>0</td>\n",
       "      <td>0</td>\n",
       "      <td>0</td>\n",
       "      <td>0</td>\n",
       "      <td>0</td>\n",
       "      <td>0</td>\n",
       "      <td>0</td>\n",
       "      <td>0</td>\n",
       "      <td>...</td>\n",
       "      <td>0</td>\n",
       "      <td>0</td>\n",
       "      <td>0</td>\n",
       "      <td>0</td>\n",
       "      <td>0</td>\n",
       "      <td>0</td>\n",
       "      <td>0</td>\n",
       "      <td>0</td>\n",
       "      <td>0</td>\n",
       "      <td>0</td>\n",
       "    </tr>\n",
       "  </tbody>\n",
       "</table>\n",
       "<p>10000 rows × 784 columns</p>\n",
       "</div>"
      ],
      "text/plain": [
       "      1x1  1x2  1x3  1x4  1x5  1x6  1x7  1x8  1x9  1x10  ...  28x19  28x20  \\\n",
       "0       0    0    0    0    0    0    0    0    0     0  ...      0      0   \n",
       "1       0    0    0    0    0    0    0    0    0     0  ...      0      0   \n",
       "2       0    0    0    0    0    0    0    0    0     0  ...      0      0   \n",
       "3       0    0    0    0    0    0    0    0    0     0  ...      0      0   \n",
       "4       0    0    0    0    0    0    0    0    0     0  ...      0      0   \n",
       "...   ...  ...  ...  ...  ...  ...  ...  ...  ...   ...  ...    ...    ...   \n",
       "9995    0    0    0    0    0    0    0    0    0     0  ...      0      0   \n",
       "9996    0    0    0    0    0    0    0    0    0     0  ...      0      0   \n",
       "9997    0    0    0    0    0    0    0    0    0     0  ...      0      0   \n",
       "9998    0    0    0    0    0    0    0    0    0     0  ...      0      0   \n",
       "9999    0    0    0    0    0    0    0    0    0     0  ...      0      0   \n",
       "\n",
       "      28x21  28x22  28x23  28x24  28x25  28x26  28x27  28x28  \n",
       "0         0      0      0      0      0      0      0      0  \n",
       "1         0      0      0      0      0      0      0      0  \n",
       "2         0      0      0      0      0      0      0      0  \n",
       "3         0      0      0      0      0      0      0      0  \n",
       "4         0      0      0      0      0      0      0      0  \n",
       "...     ...    ...    ...    ...    ...    ...    ...    ...  \n",
       "9995      0      0      0      0      0      0      0      0  \n",
       "9996      0      0      0      0      0      0      0      0  \n",
       "9997      0      0      0      0      0      0      0      0  \n",
       "9998      0      0      0      0      0      0      0      0  \n",
       "9999      0      0      0      0      0      0      0      0  \n",
       "\n",
       "[10000 rows x 784 columns]"
      ]
     },
     "execution_count": 5,
     "metadata": {},
     "output_type": "execute_result"
    }
   ],
   "source": [
    "X = df.iloc[:,1:]\n",
    "X"
   ]
  },
  {
   "cell_type": "code",
   "execution_count": 8,
   "id": "07f552c9",
   "metadata": {},
   "outputs": [
    {
     "data": {
      "text/plain": [
       "0       7\n",
       "1       2\n",
       "2       1\n",
       "3       0\n",
       "4       4\n",
       "       ..\n",
       "9995    2\n",
       "9996    3\n",
       "9997    4\n",
       "9998    5\n",
       "9999    6\n",
       "Name: label, Length: 10000, dtype: int64"
      ]
     },
     "execution_count": 8,
     "metadata": {},
     "output_type": "execute_result"
    }
   ],
   "source": [
    "Y=df.iloc[:,0]\n",
    "Y"
   ]
  },
  {
   "cell_type": "code",
   "execution_count": 9,
   "id": "1503f90f",
   "metadata": {},
   "outputs": [],
   "source": [
    "X_train , X_test ,Y_train , Y_test = train_test_split(X,Y,test_size=0.3,random_state=40)"
   ]
  },
  {
   "cell_type": "code",
   "execution_count": 10,
   "id": "db595c1a",
   "metadata": {},
   "outputs": [
    {
     "data": {
      "text/plain": [
       "((7000, 784), (3000, 784), (7000,), (3000,))"
      ]
     },
     "execution_count": 10,
     "metadata": {},
     "output_type": "execute_result"
    }
   ],
   "source": [
    "X_train.shape, X_test.shape, Y_train.shape, Y_test.shape"
   ]
  },
  {
   "cell_type": "code",
   "execution_count": 11,
   "id": "3aa6dea2",
   "metadata": {},
   "outputs": [],
   "source": [
    "standar_scaler = StandardScaler()\n",
    "label_encoder = LabelEncoder()\n",
    "X_train = standar_scaler.fit_transform(X_train)\n",
    "X_test = standar_scaler.transform(X_test)"
   ]
  },
  {
   "cell_type": "code",
   "execution_count": 12,
   "id": "5b32b5f9",
   "metadata": {},
   "outputs": [],
   "source": [
    "Y_train = label_encoder.fit_transform(Y_train)\n",
    "Y_test = label_encoder.transform(Y_test)"
   ]
  },
  {
   "cell_type": "code",
   "execution_count": 13,
   "id": "a8fc22fb",
   "metadata": {},
   "outputs": [
    {
     "data": {
      "text/plain": [
       "array([0, 1, 2, 3, 4, 5, 6, 7, 8, 9])"
      ]
     },
     "execution_count": 13,
     "metadata": {},
     "output_type": "execute_result"
    }
   ],
   "source": [
    "label_encoder.classes_"
   ]
  },
  {
   "cell_type": "code",
   "execution_count": 14,
   "id": "ae38614b",
   "metadata": {},
   "outputs": [],
   "source": [
    "from sklearn.manifold import TSNE\n",
    "import plotly.express as px\n",
    "import os\n",
    "os.environ[\"LOKY_MAX_CPU_COUNT\"] = \"8\"  # Replace 8 with your number of physical cores\n",
    "\n",
    "\n",
    "tsne = TSNE(n_components=2, random_state=20)\n",
    "projections = tsne.fit_transform(X_train)"
   ]
  },
  {
   "cell_type": "code",
   "execution_count": 16,
   "id": "c12f2285",
   "metadata": {},
   "outputs": [
    {
     "data": {
      "application/vnd.plotly.v1+json": {
       "config": {
        "plotlyServerURL": "https://plot.ly"
       },
       "data": [
        {
         "hovertemplate": "x=%{x}<br>y=%{y}<br>label=%{marker.color}<extra></extra>",
         "legendgroup": "",
         "marker": {
          "color": {
           "bdata": "CQAGAwgCAwIDAwIEAQgBAAEGAwAHCQkGBAMHAQkCBwcIBQUECQEGCQECBAkGBwQHAgIBCAAAAAcBAgIGAQAICQgGBwYBBwAIBAUEAAMEAgUABgECAgEABwUABQkEAwcDAwEFAAIDCAcBBQgACQQDCQQIBgYCAwUEBAECCQQJAgMIAQYEAgEDBAMIAwQDBAAICQgGCQkHBwUEAQQJBwQHBgMDAAkEAQICBgAJAwIIBgcHAAgGBwkJBwcGAQMIBAABBwUGCQgABAUHBgUABQAEAwkHBAMJAAQECAcECQQHBAYIAwYDAQYDBgQCAwkJBAgBBwYJAQkFBQYHAgIEAggHCQMAAQgGAAEEBQEGAQgICAkDBAADBAkBAQIBAwMGBAUCAQMACQQBAQYJCQAHAAUBAgUJBQEEBgQDCQkABAcABgIEAgkACAQDCAIGBAUDBQIDAgkDBQMJBAgFAwYJCQMBAwAJBQUDBgIHCQgGBQkIAgYABwYEBwMHBQMCCAIGAAIHCAcCBAkBBgMAAQYCAAYJAwYEBAIFAAkCAQYHAAAFAQEBBggAAgMECAIAAggHAQMGBQEEAAQBAQkBBAUBAwIFBAYJAQAJAgMACAcFBgIDBQUJAggEBgAABwQDCQYDAAcHBwIDAQMJBQEIBgkDCAQECAcEAwEDAwQIBwYGBAkIAAACBwkDBgIFAQUDCQkBBQIGCAgBBQYFBAIFAAIDAwMABwUJBAUBAAkDCAACBgEFBQkDAgEICQIHBQUFCQgGCAcCAgEEBQkJBAcBAgYHAgIFCQgJBgIIAgICAgcFBQEIAQACAwIBAwAFAgAABwYCBwcDBAgGBQUJBgUACAMEBgcBAQgFCAgBAQICBwMJAggGBwUCBwEDCQEFCQkHAAIEBAMBAQkCCAUGCAcFCQEIAAEAAAUBAwgCAQEEAQUFAAEDCQEGAAEBBwYHAgIBBwEHBAYIBwkFCAkDBQAGCAYBAQECBgMBBAYFBgIACAcEBQUBBQgJBwQABQkBBAgHCQYEBQUCAgQGBAgHAgcGBAIEAQIDBwAJAQIBAQcABQABAwYJAwQEAwcBAAECBQYJCAYJCQICAwcEBAQHCAAJCQUCAAMDAAQHCAgICAYCCAgECAcJCAkBBQQCBgIFAAgFAwIABQMBCAAHAgMHAQQGCAYDAQAFAgYAAQYDAwIHCAQFCAkAAQIAAQIFBgEBAwMEBgYDAAEGCQEDAQMBAgUHAAMHAAcEAAYIBgYCAAMEBgEICQcBAQUEAgUICQIJAwYBCAEBCAkBCAAABAYEAQMCAwcBCAQEAQkBAQIDAAIHBgMFAwYCBAYJAQIIBAEECQcHCQYBBgYDCAgABgMIAwkHAwgCAQYCAAYHBwYBAQIDAggJAAAJAQYJAAMFBggIAwIBBwUCCQYIBAcDBwIAAQQCCQgCBQEEBQIEBggBBgkDCQQFBQQIAQkIAQkDBAkCCQkECAcJAgQFAgAEAAYDAgcFBgUHAQAEBQIBCAgABgMGCAkDAgYFBwcCBwkBBQQDAwABBAMDCQICCAMABAYGAwgHCAAEAAAIAgkEBQcHAQAHBQUFCQYHBAQAAAMHAgYFAggGCAUCAQYEAwkIAQAJBwIFCQYBCQcBBAQFAgQEAgcEAAUABgYDBQQBBQgICAEHBQIIBAIBBgcGAgEFBgMFBQUJCQYBAwcABAYBBQkDBQkJCQUEBgcIBQUEBwIIAgIHAQAGBwMBAAYDCAkIBQcABAQAAQkDAgICBAcABwYFCAkJBwYGAAcGAQACBQkICAgEAAcGBwMHBQYIAgAGCQQAAwQIAgEAAAQFAAcAAgQHAAIAAAUFCAQEAAcEBAAEAAQHBgYFAgEFCQcBAgECBwcFAAEIBAEJCAAEAQQJCQIDBQUBCAQDBQEHAQcEBAgBBgIDCAAABwEBCQYCCAIBAwkEBAECBQACAAgFCAIEAQAAAQUEAQQDAwcBAwUDCQYBBgEEAAYAAgIDAwkDBgIJBwcABgUCBQIIAAQDAAAAAwkDBQAFAwkJBgkFBQcHBwcDAgIJCAMHBgEHBwIGBQQBBAkICQECBgICBAAJAAYDCQQDBwYGBAEAAgEHCAUJBggGBwIICQgBBAEJAQABAgYACQEAAwUHBwcDAQYHAwcIBgQFAwYGAQEJBwEHCAgGAAMIAAYDCQEAAgQHBwgBBQcCBwEGAQIBCQgBBQgHAAkABgcGBwYDBAYJBQcBBQAHAgEDBgQIAgEHBAUJAgEICQAJAAkDAQcCAwUAAAMAAgkHBAcBAAEJCQQGCQEBAgIGAwYECQEGCAMDCQIHBgADAwMFBgkHCQIICQUFAQAEBQIJCQQHAgYAAAAIBAgHAgcABQAEBAgIBwYABwcCCQABBAMHBgEBBwMHBgUIBwAHBAgECQUBAwIIBwUICQUIBgMHAwMDAwABBwMBAwcJBQMCAQEEBAAJBgMDAQMEAgQCAQMHAQYFBwEACQEBCQADAAIABgQIBwAAAQcDCAMAAgUIBwMJBAIDBAUAAgUIBQEBAQcHAAkJBgEHAQMFAwEABgMBAgEIBAgCBwIEBAkECQcICAIBBwIICQMECAYEBggFAQYAAQcCAAYJBgIGBQMECQgCBgMCAgMFAAEJAwkHAQIBAgIEAwgGAAIDAgQHBgUJAgYGAgUFAgcCAgIHAgEGAQUJAQkFCQQIBgcIBQUJCQAGAQkHAgkDBQgJAgkFBQkJBgIAAgICAgMACQUIBgICAgQHAAMDCQQBAwMHBAcDBwcFBAcEBwUECQYBAgEFCAcDAAUHBgMBAgMDBQgBBQEIAAIJAggJAgcGAgMFAwQHAQgBAAgJBQQFAAQABAcFAwEFAwUAAAICBwYBBwgGCQYBAQcDAAQBBwgHAAMDAQQFBgAJBwcIAAIBAQMGAQcHBgkCAAQHBAUJCQkJAQMCAQYAAQkCBwYBAAQFAwUECQcEAAkACAMBCQACAAQABwAEAAgGAgACAgUABwUBCAEHAggFCAACCQUBAwIDAQUFAAYJAwYIBwUBBgUGAQMDBgkBBwkHCQMFAgcHAQMAAAMDCAAFCAgCAQYCBQIFCQQJBwMHAQkCBAcGAwEGBAYFBQADAwQHAAQBBgkIAwIBAQQEAgkIBwcFAwUEAgUJAAUGAAQAAwYCAQcCAwcHBgMABAMBAQIDAAkBAgQHBgkFAQIABQQIBQMIBwEDBwgFAwgDAwMGAwIFAQMFAwYCBgQIBQICAQcFAwMECQMCCAEHAgkICAMAAAcCBwUDAAQABQEIAwEGBwMCAQUJAwIFBAYECQQGBQYGCAgJBQUHBwQFAAcHAgQGAQgGBgMABwgECQECBQQFBwAGAAgJCQUJAwcGAAADBwMIAAEBAgIABQgCCAgICAADBQEHCAEJAwUFBwQCBQQJAQEGBwQGCAYIBAYHBwkEAwUJAgUEAQABAQYGCQAJBgcEAAgDCQAIBQkBBQQJBwcGAAMJCQEABAUJAwMICQUJBgcEBgQFCQEICAQFBQMICAkHCAMJAQEJAQEFBAUACAEJBAMIBgYBBAIGBgAAAgIHCQgICQIJAQADAQkHCAkDBQIABgkFAQQICQYABwQFCAkIAgMBBQkEAgcFBAkFAgMAAQcBBAgHBAcHAAQHAgMBBQkDAAEACQYGBggCAwgFAQgACAcHCAgHBwgHAQgBCQUEBAEFAAIDBwkHBwkFAAkIAQIEAQkJBQcFAQUFCQMGAAMFAAYJCAMBCQYJAQcCCQUBBQcFBgEIBgABAAYFAAUJAgQDAQADCQkHAQcABQIJCQQDBwUGBQcABQIJAAUDCQcCBAIAAwgHAgYBAQAGAAEGAwQCAgEBBAcEAQEHBAMIBQUIAwkICAEAAAYDCQIIAQcCBgACAQkAAAABCAcFAAAJBQgEBgYEAwYDBgUDBgUGAwEHAwAHBwABBAYJAgcCCAgHAQMBCAkBAwYHAAgABgYCAwgAAAgACQYHCQgGCQMDBgcHCQcDBwIDBAUIBwMBAAMHBAEDBgcDAAYDAQkJAAkCBggFAAIGBQQGBggGBAIABwMEAAYDAQgEAgIHAAEIBwECBwEGCAgCCQACAQgBBwQDAgAEBAIDAgICAwcHCQgCAAgACAcBAwgJAwQICQMFAwMBCAcECQcCAgQEAQYBCAAFBAgCAQYAAQkDCQMJBwYICQUJAQYBBwMGCQQCBwYGAAkCAAEGBQIJCQgBCAQDAQcECQQBAAkEBwgFAAEGAQgJCQADBAEGBAQDAQUGBAYFAwMBAAQDAgkCAQEBAggHAAYJCQQEBAQBAwgEBgcCCAIJAgQCCQgHAwgBBwEEAwcBCQQBBgMGCQEGBgEDCAIGAQYIAgMBCAQDBwgJBwMFAwkFBwEAAAMHBgIBCQEABQEHAAYACAIICQQDCAICAwkEBgkJBwcDAAkHBAgGAwAGAgIECAkHBgkIBwEHBQcDBgYDAgcBCQgHAAYAAwEGAAcFCQQIAQcJAwUACQEJAAIBAgYABgcEBAYEAgMDCQEDBwABBAUDBwcABQgDBAAFAgMHAwYHBAIICAkGBAYDAwQABAIFCQgHAwEGCAgDCAYBAgAICQIDAAIHAgQDAwcGAwYHCAgDAAgFCAYCAgcDAgMIBgQGBAEFBQYACQMCCAkDCAIJAwEJBAcDBwQDAgYCBgQEBgIFBggGBwQIAgMAAgAIBwEFBwkHBwUHCAkEBAIHBQYBBgQBBQUICQgBBwUDAQgEAwQDBgIFBQQJBwUCAAAHBQEDCAIHAAkHCQcBCQEDAgYABAMHCAIIAQYIAgIFAgUBAgEEBAEHAwcFBAcBCAIJCAQIBgABBwUEAAUHAgYICQQHAwMHCQMDBAEBBwgAAQIBAgAGBgMACAYIAgYEBwECAQUBAAcGAgMJBQYHBgICBwcGBQQICAcDAwkGBwMFAAEBAQIDBgYEBwgGBwkGBAQIBQIEAggGAAYDBAcBBwMFCAMDAAQCCAgICAkJCAkEAgAEAgEAAAUDAQgEAAYAAwcCBgMEBwEEAAACAAkDBAIGAwkDAwMEAQACCQgDAAMDBAcGAgIACAEAAgAJBwIIAQEGAgIFCQkDCAAHAgQHBgcGBwEBAQcDAwkBBgkCBAMFCQUGAwgGCAEGBQkCAAIBBAcFBwIEAAEJAgYABwAFAwIDBAcBAQEDAgIICQAIAAEEBwQCBQcDCQgCCQYBCQgCCAMCAgEJCQUIAAcJBAYDAAcDBAQGBAQGBQgHBgIDAgMJAQcDBQACAwECBgQGCAcJAwkIBAkACAIEAAAFAAMHBAIECQMGBQkICAkEAQQACAcECAIEAQcIAQEECAAIAgYFAQQBAgAIBgcBBwcJBgQAAwMEBwcHAQUIAAMEBgYDBQAJCQUHAgkJAAcCBgkDAQgJAAQEBgMJAwgAAAMIBQcFAAABAwYDCQUJCAECAAUEBwYIBQgEBQgAAQQFBAcDBgQBCQcIBQYGBgEEAQQEBgkBAwYACQgACQkJAAcHBQgACQkIBQQHAAAJCQMACAAHCAgDCAIJAQYEBgkJAAUCAQYEBAADBgADAAAHAAAJCQEHBgEGAQUFBwMHBgQFBgMCBAgBAAMFBgkGBgAFAQAFBwAGBAEFAQYDCAcHAwAEBAEEAwEJAgMJAAECBwEBCQUFAgYACQEFAwkJAQQIAAEJBwAFBwUCCAYBAgEDAQAGAgYGAQYBCAkJBwcGBwAJCQQCCAECAQUEBQMCCAgABQQIAQgEAwYGAAAABAkABQMACAcIBQEJAAMBBAgDCQYECQYCBAkCBAUAAgMIAAcBCQYEBQkIBwYIBwgHBgQCBAkAAgIDBgkAAQQJAQUBBwAIAwYEBwgFAAMBBwEGCQYJBgYIAAYCBgUICAIGAgIHAgAAAQEHCQUBAggFCQEBCQEIAQcJBgQJBgkJBwIFAgACBgIHCQMDBAMDBwIAAAAFCAcEBwIECAACAgYEAwQDBQMAAwMACQcEAAUJBgAIBgMDBwABCQAHCQcFCAUJAAMCBgkIAQMIBgkHAgUHAgcAAQkIAwkFCQMABwIFAQEABwMIBwcCBgEICQUFBgADBwkDAAMEBwEFCQgJAwkGBAkHCAQIAggBAQUFAAEABQgBCQgAAQYECAAJBgYIBwACCAAJCQMGBQkHAQYGBAUEBQgHBAMHBgMDCAEJAAgHBgEACQECAgYIAQEGCAYJAgQBAQgABQQEBwAGAwcAAwYAAAcICAYABgcDAAADAAABAAgACAkCCQIHBQMDBAQIAwQDCQMIBwgEAQQGCQEJBQUHCQkBBAIHCQIICQcIAQYFAAUGBQAJBAgGAwYGAQUHCAYHAAUAAwADAgMBAQIJAgQBBwQFAQUABQEDCAEIAwIHCAYDBQYBBgAJAQICCQIDBAIHCQgJBQQBCQQDAgQIBwUFAQEDAAUGBQUIBgQFCAkFAQAEAAkACAcDCAAGBgUHBwcCAAEGAAICCQEFAQEJAwIHAAMBBAMDAQgDBgIICAMEBAEAAwkCBAUFAgcHBwIECAEJAQkIBQUGAQkIBAMCAQEBBwEDBQIDBQYFAgUHCQEJBgYIAQcEAwgEBwYDCAQEBggFBwAHAQUFBQgCBAIIAwEDAwEEBQkAAwkABwAJAQkJBAUEAQkFBQQDBAcCAQACAQEFAgUBAAgDBAgHAgUIAgkEAgkGAgABAgUCAAgIBgACBgkGBQcIAQgGAAYAAAAGAQYJBAABBQECCQcEAgcFAAMEBwMEAAEACQADAAEJAQkJBgMDBgEGBAYIAAcEBwECCAgCCAkEBgEJAwUDCQkBCAAJAAgAAwYJAAkCCQMIAQkEBQYGBQAEAAAIAgcIAwMECQAIBQUJCQgBAAUBCQkHBQYFAgcGAwABAwIABwMJAgMBBQIJCAECBAUFBAYCBggHAQAIBwEAAAgDBwgAAAMFCAkGAwMJAQUIBwEABAQCCAcIAAMJAwkEBgYGBAkICAQCBwgGAAcBCQQECQkHAAEGAwMCAQIEBgQBCQYCAgAJBAIGBgEDBAAGAwUIAQUDBgcAAggEBgQDAgMEBwEJAgYEAAMAAQMACQMIAAcHBgEIAwEECAIFCQEAAwYFBgYCAQQFBwgEAAEHAwEJBAAEAggJCAkBAgQEAQUJAwgAAQUBAQUCBgkCBwEGBgECCAYCCAIICQACAwgBAQEABgQCCQAAAgcEAAQCBggDBwIIBAIABQQCBgIICAUJAQIAAQYDAwYDAgUHCQUJBgUGBwUBBAIBAgEEAgcDAAYAAwgAAwIEBggIBgkABQIABwYGCAkBBQQIBAMGCQECBQACBgUFBwACCQYDAQACAQYJCQYCAgEJBQAEBAAFAgkIBAYEBQQAAAUCBAAFBQEDAwkDBwIJAQgICAIFAgIEAQEJCQUABQYCBQEGCAgEAwEJAgUJBAUHBwUBCQEICAgGCAgICQUDBgUIAAQIAAIJAAkGBQUJCQAGBwEABQcIBgcGBgkABwAHBwgIBQUJBwUHBgQGAgIABAYDBAkCAQMBAQEJBAkICAQIAQgHCQgACQQABAcJAwUBBAIIBggCCAYJCAUBAAUCAgUAAwUHBwIIAgkAAAgHBggABwkCAAEGCQUAAAICCAYGAAQEBgEDBAEFAAQFBAYEAwAHBQEJCQICBwAJAAgECQYABQIGBwYDBwQBAgkJAgACAgYDCAkAAQYIAAYBAgkEAgcCAQcBBggIAQkGBQMBBgECBAQHBgQDCAYBAQcDAgkDBAgAAgcBBwgJBwIJCQUFBwIJBgQAAAYJBQgHBAMACAkBBgYDAQIAAgkFBgcAAgQFAAcHBAgBAwkCCQkGAwEDBQcAAQgCBQAICQQGCAQABwMEAgEGBwAIAgYEAgYBAAcGBwQBAQYBCQQFBAUBAgUDAQcCCQMBCAQGAQQDAgcJAwQCAgQJAgYEBQkGBwYFBgcEAwMDAwMDAwIGBAQAAgMICAMBAwcABAgABgIDCQEGBAQECAIDAgQICAEEAQcCAwYHAgIGBQICBAgBCQQDCAAGAQEDCQkIBgICCQYJBAIBAgUIAggIAAgHAQkDAQAACAgIBAUFAwcEAgUFBgIGAwEABwQJBQEDAAICAwEJBQQCBQEEBgUEAwUHAQMEAwkACQMDAwYJCAAHAAADCQEHCQkFAgYGCAQEBwQGCQECBAkAAAMFCAcHAAEHBwIGAQcBAgIHBAgEBQkGAAEJCQAHCAMAAQkBCAkGCQIFCAAICAAHBAkCBAEDAQADBwIEBgkHCQgICAgDBAkACQkGAAgFBAcGAwADAwEHAQgCCQcJBQMEAQEBCAEBBAYDCAcBAAUACQcHAQkFAwgEAAIHCQUDAgAFCAMEBwUBBQcGAgICBgMJCAUFAQICAggHCAkAAAQIAAUGCAAIBQcACAEBAQYACAMGBQAHAAQFAgMCBggHBgcJAQkFBwMIBAkBBAMIBAMFCAUJBAACAgYFAgUCCQMAAQIFBQAGBwEDBAcIBAcHAQAJAAEDBwkJAAcJAgcICAEHBgYAAwEICQUDBwEJBQMFAgkDBQADBwQCAgICAQYICAcGAgMCCAcBAwYIAQIIAQMIAwkICQQEBAAIBwcEBwkEBwcGAwYCBQEGBgIAAAQJAwIDCQEHAAMBBQEEAAkABAABAAYGAQQEBAUGBgIBCAICCAIHCQUJAQMJBwcGAAIIAQQGAgEAAQcIAgEEBQMJBQADCAIFCAEDAwQECAAFBgAECAcABAcBBQgIAQcEAAQDBQADAQgABAEBAQcICAIBAgEEBgcGBgEHAwMDBwAGAQIEAwECBAMDBQMAAAgCBAAJBQAHBQUJAgUJAAkBBQgIBgEEBwMEAgkIBQIHBAUHBQkCBgQABgcEAwcEAwIDBQIBBgAHAgcFCAgGBAAAAgEJAQEHAgACBgQHBwcJAQUJBwkCBgEFCQUGBAAJAggCBgIEBAcHAgQDAgIJBgUBAgYGBQgGCAAIAwkBBAABBwQDAQkGBgABBAACAgcDBwAJBgMBBQMEBQUJAAAGAAQCAAQEBQYAAgQBBwIIBwAHAAQCAwECBQIEAQAJBwUFBgIICQMBBQYIBAEEBAMGBwIIAQgCAwEBBwkACQUJAgMJAwYHBAcJBQQBAgIDAgkDBQgJBAYDAgcDAQkIAwUJAwQGAAIABwYCBwQICAUICAYHAQAGBAAJAAICBgABBwIJAAYHBwQFAwYJBAYGAgcBBAAIBAUBAAMJAggCBwQDBgkDCAkJBQQBBgQDAQIHAwgDCAIEAAcBCAgJAwECAAUCAwAHBwMCAAYCBQMHCAcACAQFCAMFBggABAgIBAkABwIJCQkEAgMAAAgFCQkCAwEJBAUGAQkCAgYBBggBBAMHAgACAAgDCAcFBwMFAQgECQgIBgMGAAMCBwkIAAgBBgcEAQ==",
           "dtype": "i1"
          },
          "coloraxis": "coloraxis",
          "symbol": "circle"
         },
         "mode": "markers",
         "name": "",
         "showlegend": false,
         "type": "scattergl",
         "x": {
          "bdata": "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",
          "dtype": "f4"
         },
         "xaxis": "x",
         "y": {
          "bdata": "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",
          "dtype": "f4"
         },
         "yaxis": "y"
        }
       ],
       "layout": {
        "coloraxis": {
         "colorbar": {
          "title": {
           "text": "label"
          }
         },
         "colorscale": [
          [
           0,
           "#0d0887"
          ],
          [
           0.1111111111111111,
           "#46039f"
          ],
          [
           0.2222222222222222,
           "#7201a8"
          ],
          [
           0.3333333333333333,
           "#9c179e"
          ],
          [
           0.4444444444444444,
           "#bd3786"
          ],
          [
           0.5555555555555556,
           "#d8576b"
          ],
          [
           0.6666666666666666,
           "#ed7953"
          ],
          [
           0.7777777777777778,
           "#fb9f3a"
          ],
          [
           0.8888888888888888,
           "#fdca26"
          ],
          [
           1,
           "#f0f921"
          ]
         ]
        },
        "legend": {
         "tracegroupgap": 0
        },
        "margin": {
         "t": 60
        },
        "template": {
         "data": {
          "bar": [
           {
            "error_x": {
             "color": "#2a3f5f"
            },
            "error_y": {
             "color": "#2a3f5f"
            },
            "marker": {
             "line": {
              "color": "#E5ECF6",
              "width": 0.5
             },
             "pattern": {
              "fillmode": "overlay",
              "size": 10,
              "solidity": 0.2
             }
            },
            "type": "bar"
           }
          ],
          "barpolar": [
           {
            "marker": {
             "line": {
              "color": "#E5ECF6",
              "width": 0.5
             },
             "pattern": {
              "fillmode": "overlay",
              "size": 10,
              "solidity": 0.2
             }
            },
            "type": "barpolar"
           }
          ],
          "carpet": [
           {
            "aaxis": {
             "endlinecolor": "#2a3f5f",
             "gridcolor": "white",
             "linecolor": "white",
             "minorgridcolor": "white",
             "startlinecolor": "#2a3f5f"
            },
            "baxis": {
             "endlinecolor": "#2a3f5f",
             "gridcolor": "white",
             "linecolor": "white",
             "minorgridcolor": "white",
             "startlinecolor": "#2a3f5f"
            },
            "type": "carpet"
           }
          ],
          "choropleth": [
           {
            "colorbar": {
             "outlinewidth": 0,
             "ticks": ""
            },
            "type": "choropleth"
           }
          ],
          "contour": [
           {
            "colorbar": {
             "outlinewidth": 0,
             "ticks": ""
            },
            "colorscale": [
             [
              0,
              "#0d0887"
             ],
             [
              0.1111111111111111,
              "#46039f"
             ],
             [
              0.2222222222222222,
              "#7201a8"
             ],
             [
              0.3333333333333333,
              "#9c179e"
             ],
             [
              0.4444444444444444,
              "#bd3786"
             ],
             [
              0.5555555555555556,
              "#d8576b"
             ],
             [
              0.6666666666666666,
              "#ed7953"
             ],
             [
              0.7777777777777778,
              "#fb9f3a"
             ],
             [
              0.8888888888888888,
              "#fdca26"
             ],
             [
              1,
              "#f0f921"
             ]
            ],
            "type": "contour"
           }
          ],
          "contourcarpet": [
           {
            "colorbar": {
             "outlinewidth": 0,
             "ticks": ""
            },
            "type": "contourcarpet"
           }
          ],
          "heatmap": [
           {
            "colorbar": {
             "outlinewidth": 0,
             "ticks": ""
            },
            "colorscale": [
             [
              0,
              "#0d0887"
             ],
             [
              0.1111111111111111,
              "#46039f"
             ],
             [
              0.2222222222222222,
              "#7201a8"
             ],
             [
              0.3333333333333333,
              "#9c179e"
             ],
             [
              0.4444444444444444,
              "#bd3786"
             ],
             [
              0.5555555555555556,
              "#d8576b"
             ],
             [
              0.6666666666666666,
              "#ed7953"
             ],
             [
              0.7777777777777778,
              "#fb9f3a"
             ],
             [
              0.8888888888888888,
              "#fdca26"
             ],
             [
              1,
              "#f0f921"
             ]
            ],
            "type": "heatmap"
           }
          ],
          "histogram": [
           {
            "marker": {
             "pattern": {
              "fillmode": "overlay",
              "size": 10,
              "solidity": 0.2
             }
            },
            "type": "histogram"
           }
          ],
          "histogram2d": [
           {
            "colorbar": {
             "outlinewidth": 0,
             "ticks": ""
            },
            "colorscale": [
             [
              0,
              "#0d0887"
             ],
             [
              0.1111111111111111,
              "#46039f"
             ],
             [
              0.2222222222222222,
              "#7201a8"
             ],
             [
              0.3333333333333333,
              "#9c179e"
             ],
             [
              0.4444444444444444,
              "#bd3786"
             ],
             [
              0.5555555555555556,
              "#d8576b"
             ],
             [
              0.6666666666666666,
              "#ed7953"
             ],
             [
              0.7777777777777778,
              "#fb9f3a"
             ],
             [
              0.8888888888888888,
              "#fdca26"
             ],
             [
              1,
              "#f0f921"
             ]
            ],
            "type": "histogram2d"
           }
          ],
          "histogram2dcontour": [
           {
            "colorbar": {
             "outlinewidth": 0,
             "ticks": ""
            },
            "colorscale": [
             [
              0,
              "#0d0887"
             ],
             [
              0.1111111111111111,
              "#46039f"
             ],
             [
              0.2222222222222222,
              "#7201a8"
             ],
             [
              0.3333333333333333,
              "#9c179e"
             ],
             [
              0.4444444444444444,
              "#bd3786"
             ],
             [
              0.5555555555555556,
              "#d8576b"
             ],
             [
              0.6666666666666666,
              "#ed7953"
             ],
             [
              0.7777777777777778,
              "#fb9f3a"
             ],
             [
              0.8888888888888888,
              "#fdca26"
             ],
             [
              1,
              "#f0f921"
             ]
            ],
            "type": "histogram2dcontour"
           }
          ],
          "mesh3d": [
           {
            "colorbar": {
             "outlinewidth": 0,
             "ticks": ""
            },
            "type": "mesh3d"
           }
          ],
          "parcoords": [
           {
            "line": {
             "colorbar": {
              "outlinewidth": 0,
              "ticks": ""
             }
            },
            "type": "parcoords"
           }
          ],
          "pie": [
           {
            "automargin": true,
            "type": "pie"
           }
          ],
          "scatter": [
           {
            "fillpattern": {
             "fillmode": "overlay",
             "size": 10,
             "solidity": 0.2
            },
            "type": "scatter"
           }
          ],
          "scatter3d": [
           {
            "line": {
             "colorbar": {
              "outlinewidth": 0,
              "ticks": ""
             }
            },
            "marker": {
             "colorbar": {
              "outlinewidth": 0,
              "ticks": ""
             }
            },
            "type": "scatter3d"
           }
          ],
          "scattercarpet": [
           {
            "marker": {
             "colorbar": {
              "outlinewidth": 0,
              "ticks": ""
             }
            },
            "type": "scattercarpet"
           }
          ],
          "scattergeo": [
           {
            "marker": {
             "colorbar": {
              "outlinewidth": 0,
              "ticks": ""
             }
            },
            "type": "scattergeo"
           }
          ],
          "scattergl": [
           {
            "marker": {
             "colorbar": {
              "outlinewidth": 0,
              "ticks": ""
             }
            },
            "type": "scattergl"
           }
          ],
          "scattermap": [
           {
            "marker": {
             "colorbar": {
              "outlinewidth": 0,
              "ticks": ""
             }
            },
            "type": "scattermap"
           }
          ],
          "scattermapbox": [
           {
            "marker": {
             "colorbar": {
              "outlinewidth": 0,
              "ticks": ""
             }
            },
            "type": "scattermapbox"
           }
          ],
          "scatterpolar": [
           {
            "marker": {
             "colorbar": {
              "outlinewidth": 0,
              "ticks": ""
             }
            },
            "type": "scatterpolar"
           }
          ],
          "scatterpolargl": [
           {
            "marker": {
             "colorbar": {
              "outlinewidth": 0,
              "ticks": ""
             }
            },
            "type": "scatterpolargl"
           }
          ],
          "scatterternary": [
           {
            "marker": {
             "colorbar": {
              "outlinewidth": 0,
              "ticks": ""
             }
            },
            "type": "scatterternary"
           }
          ],
          "surface": [
           {
            "colorbar": {
             "outlinewidth": 0,
             "ticks": ""
            },
            "colorscale": [
             [
              0,
              "#0d0887"
             ],
             [
              0.1111111111111111,
              "#46039f"
             ],
             [
              0.2222222222222222,
              "#7201a8"
             ],
             [
              0.3333333333333333,
              "#9c179e"
             ],
             [
              0.4444444444444444,
              "#bd3786"
             ],
             [
              0.5555555555555556,
              "#d8576b"
             ],
             [
              0.6666666666666666,
              "#ed7953"
             ],
             [
              0.7777777777777778,
              "#fb9f3a"
             ],
             [
              0.8888888888888888,
              "#fdca26"
             ],
             [
              1,
              "#f0f921"
             ]
            ],
            "type": "surface"
           }
          ],
          "table": [
           {
            "cells": {
             "fill": {
              "color": "#EBF0F8"
             },
             "line": {
              "color": "white"
             }
            },
            "header": {
             "fill": {
              "color": "#C8D4E3"
             },
             "line": {
              "color": "white"
             }
            },
            "type": "table"
           }
          ]
         },
         "layout": {
          "annotationdefaults": {
           "arrowcolor": "#2a3f5f",
           "arrowhead": 0,
           "arrowwidth": 1
          },
          "autotypenumbers": "strict",
          "coloraxis": {
           "colorbar": {
            "outlinewidth": 0,
            "ticks": ""
           }
          },
          "colorscale": {
           "diverging": [
            [
             0,
             "#8e0152"
            ],
            [
             0.1,
             "#c51b7d"
            ],
            [
             0.2,
             "#de77ae"
            ],
            [
             0.3,
             "#f1b6da"
            ],
            [
             0.4,
             "#fde0ef"
            ],
            [
             0.5,
             "#f7f7f7"
            ],
            [
             0.6,
             "#e6f5d0"
            ],
            [
             0.7,
             "#b8e186"
            ],
            [
             0.8,
             "#7fbc41"
            ],
            [
             0.9,
             "#4d9221"
            ],
            [
             1,
             "#276419"
            ]
           ],
           "sequential": [
            [
             0,
             "#0d0887"
            ],
            [
             0.1111111111111111,
             "#46039f"
            ],
            [
             0.2222222222222222,
             "#7201a8"
            ],
            [
             0.3333333333333333,
             "#9c179e"
            ],
            [
             0.4444444444444444,
             "#bd3786"
            ],
            [
             0.5555555555555556,
             "#d8576b"
            ],
            [
             0.6666666666666666,
             "#ed7953"
            ],
            [
             0.7777777777777778,
             "#fb9f3a"
            ],
            [
             0.8888888888888888,
             "#fdca26"
            ],
            [
             1,
             "#f0f921"
            ]
           ],
           "sequentialminus": [
            [
             0,
             "#0d0887"
            ],
            [
             0.1111111111111111,
             "#46039f"
            ],
            [
             0.2222222222222222,
             "#7201a8"
            ],
            [
             0.3333333333333333,
             "#9c179e"
            ],
            [
             0.4444444444444444,
             "#bd3786"
            ],
            [
             0.5555555555555556,
             "#d8576b"
            ],
            [
             0.6666666666666666,
             "#ed7953"
            ],
            [
             0.7777777777777778,
             "#fb9f3a"
            ],
            [
             0.8888888888888888,
             "#fdca26"
            ],
            [
             1,
             "#f0f921"
            ]
           ]
          },
          "colorway": [
           "#636efa",
           "#EF553B",
           "#00cc96",
           "#ab63fa",
           "#FFA15A",
           "#19d3f3",
           "#FF6692",
           "#B6E880",
           "#FF97FF",
           "#FECB52"
          ],
          "font": {
           "color": "#2a3f5f"
          },
          "geo": {
           "bgcolor": "white",
           "lakecolor": "white",
           "landcolor": "#E5ECF6",
           "showlakes": true,
           "showland": true,
           "subunitcolor": "white"
          },
          "hoverlabel": {
           "align": "left"
          },
          "hovermode": "closest",
          "mapbox": {
           "style": "light"
          },
          "paper_bgcolor": "white",
          "plot_bgcolor": "#E5ECF6",
          "polar": {
           "angularaxis": {
            "gridcolor": "white",
            "linecolor": "white",
            "ticks": ""
           },
           "bgcolor": "#E5ECF6",
           "radialaxis": {
            "gridcolor": "white",
            "linecolor": "white",
            "ticks": ""
           }
          },
          "scene": {
           "xaxis": {
            "backgroundcolor": "#E5ECF6",
            "gridcolor": "white",
            "gridwidth": 2,
            "linecolor": "white",
            "showbackground": true,
            "ticks": "",
            "zerolinecolor": "white"
           },
           "yaxis": {
            "backgroundcolor": "#E5ECF6",
            "gridcolor": "white",
            "gridwidth": 2,
            "linecolor": "white",
            "showbackground": true,
            "ticks": "",
            "zerolinecolor": "white"
           },
           "zaxis": {
            "backgroundcolor": "#E5ECF6",
            "gridcolor": "white",
            "gridwidth": 2,
            "linecolor": "white",
            "showbackground": true,
            "ticks": "",
            "zerolinecolor": "white"
           }
          },
          "shapedefaults": {
           "line": {
            "color": "#2a3f5f"
           }
          },
          "ternary": {
           "aaxis": {
            "gridcolor": "white",
            "linecolor": "white",
            "ticks": ""
           },
           "baxis": {
            "gridcolor": "white",
            "linecolor": "white",
            "ticks": ""
           },
           "bgcolor": "#E5ECF6",
           "caxis": {
            "gridcolor": "white",
            "linecolor": "white",
            "ticks": ""
           }
          },
          "title": {
           "x": 0.05
          },
          "xaxis": {
           "automargin": true,
           "gridcolor": "white",
           "linecolor": "white",
           "ticks": "",
           "title": {
            "standoff": 15
           },
           "zerolinecolor": "white",
           "zerolinewidth": 2
          },
          "yaxis": {
           "automargin": true,
           "gridcolor": "white",
           "linecolor": "white",
           "ticks": "",
           "title": {
            "standoff": 15
           },
           "zerolinecolor": "white",
           "zerolinewidth": 2
          }
         }
        },
        "xaxis": {
         "anchor": "y",
         "domain": [
          0,
          1
         ],
         "title": {
          "text": "x"
         }
        },
        "yaxis": {
         "anchor": "x",
         "domain": [
          0,
          1
         ],
         "title": {
          "text": "y"
         }
        }
       }
      }
     },
     "metadata": {},
     "output_type": "display_data"
    }
   ],
   "source": [
    "df_plot = pd.DataFrame({\n",
    "    \"x\": projections[:, 0],\n",
    "    \"y\": projections[:, 1],\n",
    "    \"label\": Y_train\n",
    "})\n",
    "\n",
    "fig = px.scatter(df_plot, x='x', y='y', color='label')\n",
    "fig.show()"
   ]
  },
  {
   "cell_type": "code",
   "execution_count": 17,
   "id": "3952bd69",
   "metadata": {},
   "outputs": [],
   "source": [
    "tsne_3d = TSNE(n_components=3, random_state=20)\n",
    "projections_3d = tsne_3d.fit_transform(X_train)"
   ]
  },
  {
   "cell_type": "code",
   "execution_count": 18,
   "id": "30606a3a",
   "metadata": {},
   "outputs": [
    {
     "data": {
      "application/vnd.plotly.v1+json": {
       "config": {
        "plotlyServerURL": "https://plot.ly"
       },
       "data": [
        {
         "hovertemplate": "x=%{x}<br>y=%{y}<br>z=%{z}<br>label=%{marker.color}<extra></extra>",
         "legendgroup": "",
         "marker": {
          "color": {
           "bdata": "CQAGAwgCAwIDAwIEAQgBAAEGAwAHCQkGBAMHAQkCBwcIBQUECQEGCQECBAkGBwQHAgIBCAAAAAcBAgIGAQAICQgGBwYBBwAIBAUEAAMEAgUABgECAgEABwUABQkEAwcDAwEFAAIDCAcBBQgACQQDCQQIBgYCAwUEBAECCQQJAgMIAQYEAgEDBAMIAwQDBAAICQgGCQkHBwUEAQQJBwQHBgMDAAkEAQICBgAJAwIIBgcHAAgGBwkJBwcGAQMIBAABBwUGCQgABAUHBgUABQAEAwkHBAMJAAQECAcECQQHBAYIAwYDAQYDBgQCAwkJBAgBBwYJAQkFBQYHAgIEAggHCQMAAQgGAAEEBQEGAQgICAkDBAADBAkBAQIBAwMGBAUCAQMACQQBAQYJCQAHAAUBAgUJBQEEBgQDCQkABAcABgIEAgkACAQDCAIGBAUDBQIDAgkDBQMJBAgFAwYJCQMBAwAJBQUDBgIHCQgGBQkIAgYABwYEBwMHBQMCCAIGAAIHCAcCBAkBBgMAAQYCAAYJAwYEBAIFAAkCAQYHAAAFAQEBBggAAgMECAIAAggHAQMGBQEEAAQBAQkBBAUBAwIFBAYJAQAJAgMACAcFBgIDBQUJAggEBgAABwQDCQYDAAcHBwIDAQMJBQEIBgkDCAQECAcEAwEDAwQIBwYGBAkIAAACBwkDBgIFAQUDCQkBBQIGCAgBBQYFBAIFAAIDAwMABwUJBAUBAAkDCAACBgEFBQkDAgEICQIHBQUFCQgGCAcCAgEEBQkJBAcBAgYHAgIFCQgJBgIIAgICAgcFBQEIAQACAwIBAwAFAgAABwYCBwcDBAgGBQUJBgUACAMEBgcBAQgFCAgBAQICBwMJAggGBwUCBwEDCQEFCQkHAAIEBAMBAQkCCAUGCAcFCQEIAAEAAAUBAwgCAQEEAQUFAAEDCQEGAAEBBwYHAgIBBwEHBAYIBwkFCAkDBQAGCAYBAQECBgMBBAYFBgIACAcEBQUBBQgJBwQABQkBBAgHCQYEBQUCAgQGBAgHAgcGBAIEAQIDBwAJAQIBAQcABQABAwYJAwQEAwcBAAECBQYJCAYJCQICAwcEBAQHCAAJCQUCAAMDAAQHCAgICAYCCAgECAcJCAkBBQQCBgIFAAgFAwIABQMBCAAHAgMHAQQGCAYDAQAFAgYAAQYDAwIHCAQFCAkAAQIAAQIFBgEBAwMEBgYDAAEGCQEDAQMBAgUHAAMHAAcEAAYIBgYCAAMEBgEICQcBAQUEAgUICQIJAwYBCAEBCAkBCAAABAYEAQMCAwcBCAQEAQkBAQIDAAIHBgMFAwYCBAYJAQIIBAEECQcHCQYBBgYDCAgABgMIAwkHAwgCAQYCAAYHBwYBAQIDAggJAAAJAQYJAAMFBggIAwIBBwUCCQYIBAcDBwIAAQQCCQgCBQEEBQIEBggBBgkDCQQFBQQIAQkIAQkDBAkCCQkECAcJAgQFAgAEAAYDAgcFBgUHAQAEBQIBCAgABgMGCAkDAgYFBwcCBwkBBQQDAwABBAMDCQICCAMABAYGAwgHCAAEAAAIAgkEBQcHAQAHBQUFCQYHBAQAAAMHAgYFAggGCAUCAQYEAwkIAQAJBwIFCQYBCQcBBAQFAgQEAgcEAAUABgYDBQQBBQgICAEHBQIIBAIBBgcGAgEFBgMFBQUJCQYBAwcABAYBBQkDBQkJCQUEBgcIBQUEBwIIAgIHAQAGBwMBAAYDCAkIBQcABAQAAQkDAgICBAcABwYFCAkJBwYGAAcGAQACBQkICAgEAAcGBwMHBQYIAgAGCQQAAwQIAgEAAAQFAAcAAgQHAAIAAAUFCAQEAAcEBAAEAAQHBgYFAgEFCQcBAgECBwcFAAEIBAEJCAAEAQQJCQIDBQUBCAQDBQEHAQcEBAgBBgIDCAAABwEBCQYCCAIBAwkEBAECBQACAAgFCAIEAQAAAQUEAQQDAwcBAwUDCQYBBgEEAAYAAgIDAwkDBgIJBwcABgUCBQIIAAQDAAAAAwkDBQAFAwkJBgkFBQcHBwcDAgIJCAMHBgEHBwIGBQQBBAkICQECBgICBAAJAAYDCQQDBwYGBAEAAgEHCAUJBggGBwIICQgBBAEJAQABAgYACQEAAwUHBwcDAQYHAwcIBgQFAwYGAQEJBwEHCAgGAAMIAAYDCQEAAgQHBwgBBQcCBwEGAQIBCQgBBQgHAAkABgcGBwYDBAYJBQcBBQAHAgEDBgQIAgEHBAUJAgEICQAJAAkDAQcCAwUAAAMAAgkHBAcBAAEJCQQGCQEBAgIGAwYECQEGCAMDCQIHBgADAwMFBgkHCQIICQUFAQAEBQIJCQQHAgYAAAAIBAgHAgcABQAEBAgIBwYABwcCCQABBAMHBgEBBwMHBgUIBwAHBAgECQUBAwIIBwUICQUIBgMHAwMDAwABBwMBAwcJBQMCAQEEBAAJBgMDAQMEAgQCAQMHAQYFBwEACQEBCQADAAIABgQIBwAAAQcDCAMAAgUIBwMJBAIDBAUAAgUIBQEBAQcHAAkJBgEHAQMFAwEABgMBAgEIBAgCBwIEBAkECQcICAIBBwIICQMECAYEBggFAQYAAQcCAAYJBgIGBQMECQgCBgMCAgMFAAEJAwkHAQIBAgIEAwgGAAIDAgQHBgUJAgYGAgUFAgcCAgIHAgEGAQUJAQkFCQQIBgcIBQUJCQAGAQkHAgkDBQgJAgkFBQkJBgIAAgICAgMACQUIBgICAgQHAAMDCQQBAwMHBAcDBwcFBAcEBwUECQYBAgEFCAcDAAUHBgMBAgMDBQgBBQEIAAIJAggJAgcGAgMFAwQHAQgBAAgJBQQFAAQABAcFAwEFAwUAAAICBwYBBwgGCQYBAQcDAAQBBwgHAAMDAQQFBgAJBwcIAAIBAQMGAQcHBgkCAAQHBAUJCQkJAQMCAQYAAQkCBwYBAAQFAwUECQcEAAkACAMBCQACAAQABwAEAAgGAgACAgUABwUBCAEHAggFCAACCQUBAwIDAQUFAAYJAwYIBwUBBgUGAQMDBgkBBwkHCQMFAgcHAQMAAAMDCAAFCAgCAQYCBQIFCQQJBwMHAQkCBAcGAwEGBAYFBQADAwQHAAQBBgkIAwIBAQQEAgkIBwcFAwUEAgUJAAUGAAQAAwYCAQcCAwcHBgMABAMBAQIDAAkBAgQHBgkFAQIABQQIBQMIBwEDBwgFAwgDAwMGAwIFAQMFAwYCBgQIBQICAQcFAwMECQMCCAEHAgkICAMAAAcCBwUDAAQABQEIAwEGBwMCAQUJAwIFBAYECQQGBQYGCAgJBQUHBwQFAAcHAgQGAQgGBgMABwgECQECBQQFBwAGAAgJCQUJAwcGAAADBwMIAAEBAgIABQgCCAgICAADBQEHCAEJAwUFBwQCBQQJAQEGBwQGCAYIBAYHBwkEAwUJAgUEAQABAQYGCQAJBgcEAAgDCQAIBQkBBQQJBwcGAAMJCQEABAUJAwMICQUJBgcEBgQFCQEICAQFBQMICAkHCAMJAQEJAQEFBAUACAEJBAMIBgYBBAIGBgAAAgIHCQgICQIJAQADAQkHCAkDBQIABgkFAQQICQYABwQFCAkIAgMBBQkEAgcFBAkFAgMAAQcBBAgHBAcHAAQHAgMBBQkDAAEACQYGBggCAwgFAQgACAcHCAgHBwgHAQgBCQUEBAEFAAIDBwkHBwkFAAkIAQIEAQkJBQcFAQUFCQMGAAMFAAYJCAMBCQYJAQcCCQUBBQcFBgEIBgABAAYFAAUJAgQDAQADCQkHAQcABQIJCQQDBwUGBQcABQIJAAUDCQcCBAIAAwgHAgYBAQAGAAEGAwQCAgEBBAcEAQEHBAMIBQUIAwkICAEAAAYDCQIIAQcCBgACAQkAAAABCAcFAAAJBQgEBgYEAwYDBgUDBgUGAwEHAwAHBwABBAYJAgcCCAgHAQMBCAkBAwYHAAgABgYCAwgAAAgACQYHCQgGCQMDBgcHCQcDBwIDBAUIBwMBAAMHBAEDBgcDAAYDAQkJAAkCBggFAAIGBQQGBggGBAIABwMEAAYDAQgEAgIHAAEIBwECBwEGCAgCCQACAQgBBwQDAgAEBAIDAgICAwcHCQgCAAgACAcBAwgJAwQICQMFAwMBCAcECQcCAgQEAQYBCAAFBAgCAQYAAQkDCQMJBwYICQUJAQYBBwMGCQQCBwYGAAkCAAEGBQIJCQgBCAQDAQcECQQBAAkEBwgFAAEGAQgJCQADBAEGBAQDAQUGBAYFAwMBAAQDAgkCAQEBAggHAAYJCQQEBAQBAwgEBgcCCAIJAgQCCQgHAwgBBwEEAwcBCQQBBgMGCQEGBgEDCAIGAQYIAgMBCAQDBwgJBwMFAwkFBwEAAAMHBgIBCQEABQEHAAYACAIICQQDCAICAwkEBgkJBwcDAAkHBAgGAwAGAgIECAkHBgkIBwEHBQcDBgYDAgcBCQgHAAYAAwEGAAcFCQQIAQcJAwUACQEJAAIBAgYABgcEBAYEAgMDCQEDBwABBAUDBwcABQgDBAAFAgMHAwYHBAIICAkGBAYDAwQABAIFCQgHAwEGCAgDCAYBAgAICQIDAAIHAgQDAwcGAwYHCAgDAAgFCAYCAgcDAgMIBgQGBAEFBQYACQMCCAkDCAIJAwEJBAcDBwQDAgYCBgQEBgIFBggGBwQIAgMAAgAIBwEFBwkHBwUHCAkEBAIHBQYBBgQBBQUICQgBBwUDAQgEAwQDBgIFBQQJBwUCAAAHBQEDCAIHAAkHCQcBCQEDAgYABAMHCAIIAQYIAgIFAgUBAgEEBAEHAwcFBAcBCAIJCAQIBgABBwUEAAUHAgYICQQHAwMHCQMDBAEBBwgAAQIBAgAGBgMACAYIAgYEBwECAQUBAAcGAgMJBQYHBgICBwcGBQQICAcDAwkGBwMFAAEBAQIDBgYEBwgGBwkGBAQIBQIEAggGAAYDBAcBBwMFCAMDAAQCCAgICAkJCAkEAgAEAgEAAAUDAQgEAAYAAwcCBgMEBwEEAAACAAkDBAIGAwkDAwMEAQACCQgDAAMDBAcGAgIACAEAAgAJBwIIAQEGAgIFCQkDCAAHAgQHBgcGBwEBAQcDAwkBBgkCBAMFCQUGAwgGCAEGBQkCAAIBBAcFBwIEAAEJAgYABwAFAwIDBAcBAQEDAgIICQAIAAEEBwQCBQcDCQgCCQYBCQgCCAMCAgEJCQUIAAcJBAYDAAcDBAQGBAQGBQgHBgIDAgMJAQcDBQACAwECBgQGCAcJAwkIBAkACAIEAAAFAAMHBAIECQMGBQkICAkEAQQACAcECAIEAQcIAQEECAAIAgYFAQQBAgAIBgcBBwcJBgQAAwMEBwcHAQUIAAMEBgYDBQAJCQUHAgkJAAcCBgkDAQgJAAQEBgMJAwgAAAMIBQcFAAABAwYDCQUJCAECAAUEBwYIBQgEBQgAAQQFBAcDBgQBCQcIBQYGBgEEAQQEBgkBAwYACQgACQkJAAcHBQgACQkIBQQHAAAJCQMACAAHCAgDCAIJAQYEBgkJAAUCAQYEBAADBgADAAAHAAAJCQEHBgEGAQUFBwMHBgQFBgMCBAgBAAMFBgkGBgAFAQAFBwAGBAEFAQYDCAcHAwAEBAEEAwEJAgMJAAECBwEBCQUFAgYACQEFAwkJAQQIAAEJBwAFBwUCCAYBAgEDAQAGAgYGAQYBCAkJBwcGBwAJCQQCCAECAQUEBQMCCAgABQQIAQgEAwYGAAAABAkABQMACAcIBQEJAAMBBAgDCQYECQYCBAkCBAUAAgMIAAcBCQYEBQkIBwYIBwgHBgQCBAkAAgIDBgkAAQQJAQUBBwAIAwYEBwgFAAMBBwEGCQYJBgYIAAYCBgUICAIGAgIHAgAAAQEHCQUBAggFCQEBCQEIAQcJBgQJBgkJBwIFAgACBgIHCQMDBAMDBwIAAAAFCAcEBwIECAACAgYEAwQDBQMAAwMACQcEAAUJBgAIBgMDBwABCQAHCQcFCAUJAAMCBgkIAQMIBgkHAgUHAgcAAQkIAwkFCQMABwIFAQEABwMIBwcCBgEICQUFBgADBwkDAAMEBwEFCQgJAwkGBAkHCAQIAggBAQUFAAEABQgBCQgAAQYECAAJBgYIBwACCAAJCQMGBQkHAQYGBAUEBQgHBAMHBgMDCAEJAAgHBgEACQECAgYIAQEGCAYJAgQBAQgABQQEBwAGAwcAAwYAAAcICAYABgcDAAADAAABAAgACAkCCQIHBQMDBAQIAwQDCQMIBwgEAQQGCQEJBQUHCQkBBAIHCQIICQcIAQYFAAUGBQAJBAgGAwYGAQUHCAYHAAUAAwADAgMBAQIJAgQBBwQFAQUABQEDCAEIAwIHCAYDBQYBBgAJAQICCQIDBAIHCQgJBQQBCQQDAgQIBwUFAQEDAAUGBQUIBgQFCAkFAQAEAAkACAcDCAAGBgUHBwcCAAEGAAICCQEFAQEJAwIHAAMBBAMDAQgDBgIICAMEBAEAAwkCBAUFAgcHBwIECAEJAQkIBQUGAQkIBAMCAQEBBwEDBQIDBQYFAgUHCQEJBgYIAQcEAwgEBwYDCAQEBggFBwAHAQUFBQgCBAIIAwEDAwEEBQkAAwkABwAJAQkJBAUEAQkFBQQDBAcCAQACAQEFAgUBAAgDBAgHAgUIAgkEAgkGAgABAgUCAAgIBgACBgkGBQcIAQgGAAYAAAAGAQYJBAABBQECCQcEAgcFAAMEBwMEAAEACQADAAEJAQkJBgMDBgEGBAYIAAcEBwECCAgCCAkEBgEJAwUDCQkBCAAJAAgAAwYJAAkCCQMIAQkEBQYGBQAEAAAIAgcIAwMECQAIBQUJCQgBAAUBCQkHBQYFAgcGAwABAwIABwMJAgMBBQIJCAECBAUFBAYCBggHAQAIBwEAAAgDBwgAAAMFCAkGAwMJAQUIBwEABAQCCAcIAAMJAwkEBgYGBAkICAQCBwgGAAcBCQQECQkHAAEGAwMCAQIEBgQBCQYCAgAJBAIGBgEDBAAGAwUIAQUDBgcAAggEBgQDAgMEBwEJAgYEAAMAAQMACQMIAAcHBgEIAwEECAIFCQEAAwYFBgYCAQQFBwgEAAEHAwEJBAAEAggJCAkBAgQEAQUJAwgAAQUBAQUCBgkCBwEGBgECCAYCCAIICQACAwgBAQEABgQCCQAAAgcEAAQCBggDBwIIBAIABQQCBgIICAUJAQIAAQYDAwYDAgUHCQUJBgUGBwUBBAIBAgEEAgcDAAYAAwgAAwIEBggIBgkABQIABwYGCAkBBQQIBAMGCQECBQACBgUFBwACCQYDAQACAQYJCQYCAgEJBQAEBAAFAgkIBAYEBQQAAAUCBAAFBQEDAwkDBwIJAQgICAIFAgIEAQEJCQUABQYCBQEGCAgEAwEJAgUJBAUHBwUBCQEICAgGCAgICQUDBgUIAAQIAAIJAAkGBQUJCQAGBwEABQcIBgcGBgkABwAHBwgIBQUJBwUHBgQGAgIABAYDBAkCAQMBAQEJBAkICAQIAQgHCQgACQQABAcJAwUBBAIIBggCCAYJCAUBAAUCAgUAAwUHBwIIAgkAAAgHBggABwkCAAEGCQUAAAICCAYGAAQEBgEDBAEFAAQFBAYEAwAHBQEJCQICBwAJAAgECQYABQIGBwYDBwQBAgkJAgACAgYDCAkAAQYIAAYBAgkEAgcCAQcBBggIAQkGBQMBBgECBAQHBgQDCAYBAQcDAgkDBAgAAgcBBwgJBwIJCQUFBwIJBgQAAAYJBQgHBAMACAkBBgYDAQIAAgkFBgcAAgQFAAcHBAgBAwkCCQkGAwEDBQcAAQgCBQAICQQGCAQABwMEAgEGBwAIAgYEAgYBAAcGBwQBAQYBCQQFBAUBAgUDAQcCCQMBCAQGAQQDAgcJAwQCAgQJAgYEBQkGBwYFBgcEAwMDAwMDAwIGBAQAAgMICAMBAwcABAgABgIDCQEGBAQECAIDAgQICAEEAQcCAwYHAgIGBQICBAgBCQQDCAAGAQEDCQkIBgICCQYJBAIBAgUIAggIAAgHAQkDAQAACAgIBAUFAwcEAgUFBgIGAwEABwQJBQEDAAICAwEJBQQCBQEEBgUEAwUHAQMEAwkACQMDAwYJCAAHAAADCQEHCQkFAgYGCAQEBwQGCQECBAkAAAMFCAcHAAEHBwIGAQcBAgIHBAgEBQkGAAEJCQAHCAMAAQkBCAkGCQIFCAAICAAHBAkCBAEDAQADBwIEBgkHCQgICAgDBAkACQkGAAgFBAcGAwADAwEHAQgCCQcJBQMEAQEBCAEBBAYDCAcBAAUACQcHAQkFAwgEAAIHCQUDAgAFCAMEBwUBBQcGAgICBgMJCAUFAQICAggHCAkAAAQIAAUGCAAIBQcACAEBAQYACAMGBQAHAAQFAgMCBggHBgcJAQkFBwMIBAkBBAMIBAMFCAUJBAACAgYFAgUCCQMAAQIFBQAGBwEDBAcIBAcHAQAJAAEDBwkJAAcJAgcICAEHBgYAAwEICQUDBwEJBQMFAgkDBQADBwQCAgICAQYICAcGAgMCCAcBAwYIAQIIAQMIAwkICQQEBAAIBwcEBwkEBwcGAwYCBQEGBgIAAAQJAwIDCQEHAAMBBQEEAAkABAABAAYGAQQEBAUGBgIBCAICCAIHCQUJAQMJBwcGAAIIAQQGAgEAAQcIAgEEBQMJBQADCAIFCAEDAwQECAAFBgAECAcABAcBBQgIAQcEAAQDBQADAQgABAEBAQcICAIBAgEEBgcGBgEHAwMDBwAGAQIEAwECBAMDBQMAAAgCBAAJBQAHBQUJAgUJAAkBBQgIBgEEBwMEAgkIBQIHBAUHBQkCBgQABgcEAwcEAwIDBQIBBgAHAgcFCAgGBAAAAgEJAQEHAgACBgQHBwcJAQUJBwkCBgEFCQUGBAAJAggCBgIEBAcHAgQDAgIJBgUBAgYGBQgGCAAIAwkBBAABBwQDAQkGBgABBAACAgcDBwAJBgMBBQMEBQUJAAAGAAQCAAQEBQYAAgQBBwIIBwAHAAQCAwECBQIEAQAJBwUFBgIICQMBBQYIBAEEBAMGBwIIAQgCAwEBBwkACQUJAgMJAwYHBAcJBQQBAgIDAgkDBQgJBAYDAgcDAQkIAwUJAwQGAAIABwYCBwQICAUICAYHAQAGBAAJAAICBgABBwIJAAYHBwQFAwYJBAYGAgcBBAAIBAUBAAMJAggCBwQDBgkDCAkJBQQBBgQDAQIHAwgDCAIEAAcBCAgJAwECAAUCAwAHBwMCAAYCBQMHCAcACAQFCAMFBggABAgIBAkABwIJCQkEAgMAAAgFCQkCAwEJBAUGAQkCAgYBBggBBAMHAgACAAgDCAcFBwMFAQgECQgIBgMGAAMCBwkIAAgBBgcEAQ==",
           "dtype": "i1"
          },
          "coloraxis": "coloraxis",
          "symbol": "circle"
         },
         "mode": "markers",
         "name": "",
         "scene": "scene",
         "showlegend": false,
         "type": "scatter3d",
         "x": {
          "bdata": "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",
          "dtype": "f4"
         },
         "y": {
          "bdata": "a0RUQTPHp0DB2kNA8XqKweYfWUBL3kTBt2N1wTgmZcBcMz7Aamc9QKo50L95Z4NA76e0wJjvEL4qyyZAgwO8wOSrb8GN+5O/KjvZwIiRgMCMGCBBr8cTQRFm3b7OLJg+GteEQMXAsUB1jI1AtDw/wRxt+0BQOoDBSOasQJzATUExRaK/4MoZwYn+EUGUyp9AJUByv4bVB0DpGT/BNequQe3e7cAkLJfB/76aQZRbWUGUSsM/18OzQdaNPUEoippBBxBmwc7fD8FBQOm+j4ocwQsnGEC6U7i/9ggmwNws1cDxJ77AaDqGwbPPk8HyzgTALajiv+d0WUB/k6jASLDyQB4mmr9aj/nAEgfLvxNvqD8M20jBhXGRQYIE1kDrFYs/2II5QRHuVMFDWkRBMoOmQPprU0CekCBBNcnJv0sXZcFV+upATQGPQOxdysCHWgbBWnFIP/6x5cD+zui/BFukQfshWsGOMhw+jZsKwHmkn0EqjJRAiu16wdk3P0Fqp7TAbufDv0sJVj94/QHBSYgAwLtYkMGHuLPAWS1swGL0gkEPPR3B71WhwO33+z8BlD/Beb0QQa2Of0CQDZzAIaywQWdntj9wt7DAL3LvwM+YJMGKX+tAFO9pwQ9wQMGnDxw/saIMQFn4acHmlyHBhlM1QUqgl0DDaWHBVOrGwDwP/8CL6bNA/4IXwZp4E0F+IPdA9+klwXvI0cCfKN/Ahrg2QGPpW8Dq+Mm/mVEfwYyFqkFsiuFAGzSQQZXHEUHiHsRAemt8QYoWJUFuSx1B19keQCPUj0HzWwFA5ceMwGn5N8GZh1tBIsnpwHH7LUGojmxBBDs1QcuHiEEvH6pBpLmDv/7Eu0APVWLBbz96QJv64EA0a/pAPfljwItLfcBX32DB0mb5v3+BF8ECywpBvEiPwOH4lsHHYiRBHa+NvhUAMkGYQJFBu30+QG8wysAnF79Ah4ocQfDhkkHt0OhAuRSPQdvBL0FpCBZBtuTcwIrBnj8aO7XAAFLjP0Hz70D0lChAg8R6Qba3YMFd1sfASBuoQDUm/MB9vpRAAOp8wAZRV8F4hZ1AXym8P5nDOcEYt/9A9EC3QBuWnEBzby5Bg3PdwLhmPkHqsTlBC+H2QC2LJcHRobC/H0/4v4bkEkGPuM9ABkfHQCar70CO9bk/JSZcQVlQHEAVJ1bAik/OwGypkr/vM/Y/qXyowKqVfMGPqdi+uIMmwXWfKUEzpQXB/bIRwaLs0r4+WI/B/G8bwVOdCkFs3zpBmWcLQXrgakCQ0RbBeV3LQEOfrEAhVbFBatSYv8ZDdkFP3EXBPIIwwdGK2T6onLZBhs6gwLWILMFZjag/cnSSwHgC7j3jTDs/NPNuQeD/5T9vUmXAe3kBwbZFOT+jqlLAwcJnwHR1cEAAx8VAOq1rwWvaYsGiIAe+oJU1wfus/8BO7RfBsLfBv4BOUUH25Kc+LwfaQNt31D+RHc0/QHBAQDtw1kCWKbnA+GzywFZY+MCae4jAD4RQwRO+L0DenBvBB0U+QTdDQ8HKVVPAUgsYwbVHd8FqJmnAIP9iQVhPOkFus9k/hQ0WwXM8tMC8qO9ArSoHQX4nBEGOWYxBeyIcQJU7AcHncUlAWxFPwQXSXcHP6CpBHmHFP7pe5MBCCitBWy4KQR3FFUFE3oJAq6eyQaKphED01tlAqH8OQAlAe0GQFOlAU1oyP2xtlcE5Y3xBJuMgwR5aK0ECYMbA6jA5wfjUC0HcL6lBsFOWQFHj0kCJytBAMfC2QBfsGMEPKk3AsxxUwdGokcEy0UrBHVNIweWmC0HjOzDBTqywv6ANskAu345BR51aQAREqD/cPFfBPQq5wEhqakAcdCpBs/KJQanh8sCEOHXB3AOJwdQJnr92JzZBwY04wYOg378ot25AI3gjweIXIcGczSBAr9KxQb5yFsDzA6DAUP+FwKOQs0E3RhDAN/2MwZS3ZsE843jApmQ/QZNeEUF4gbZAUsoIQTWEysDVoBbAobcTwCgR0z9mqa/AGlBqQJkBVME9PhI/0uYdQZ/LIsHEuaxBgZ+3QM0fqEBdcXXB/pvlQBkxTUGLQDzBW8zqwEbLj0AMusxANEQcwSQaH8HcfIbB79xxv6ASVUBCw3C9zdwTwXOM3r4yqJJANiM3QfFVncEsGm7Bos1hwEiIdUGPqUXBgNHAwCkFRb+drdbA7YAyQKBcY0AqeYI/SVJkwcEqe8Dj2YfAQhqwwGCGiD8G0sU/y70hwbT7+rr8PvtAVfOGv2PqIsFsTdpAeVRQPqgCMMGkiQJBNMJpwJIepsC9DrfAjFYwwZ7qz8B07gJBLg0Fwe2NG78UOifBytmMwaqJ3T998gNAjTzOQGjLDMBw2njB2A0+wNMpH8GbFzDB334jQMLTGUHqAAtBRWJpwWoKv0DoMK5BR6sjwfJxR77XRJC++N+IwK21SEA02EHB8auhQFnEksGNpBTAla4HwWZe/7/EH7NAbbZSwbZRcsDfrEpBbyNCwV81NUB0F7dAdo85QDaP/EApEZlAqrnKQCyQEcGi2S/BPoqrQPwuo0CiBgZBZoCuQRNqu8DXh1TA8kmzPodxKsFDgsQ/vvFkwZUsLz8+E/jAwJwUwZTrGEFKCjJB2MpWwLhhsb9165ZBaIbbQL5aqEHuYRxBuswcwbRf5cDdYF3BR2YcwT9V0kCjKRfB7tWVQaMIrsBrZobAByTAP6kPBUHcHwlB4u21wOoH80AbiQrBHIUrQeCmc7/PHSDB+x7UP4cOdsHwrCLBXQ4ewbt/xcDZrmNAY4+iQN4wJkHP0sPA0zZ5wVNBicGDQkZA/ciJQGlSH8FvUdK/tPl0wMwz+z+RbRnBgK9uQZHou8A2djzBNqSBQFMtUcEvtK4/OglMwQLDs8Cqeh6/nbG1PnxlkcAMPhlBwTMtQVFmmzwijqbAyL1XQHuxbcA69dTA/0jSv/jO0kDCqpfBxzaGQNyQhkBT0CfAKJ9Pv6LRUkFV1kS/J90mwH6ZTMEcu0a/2/AhQWSSXcHY7VU/OIn6vwWfWcHJ8ZnAyW8SQeXBDEHs/prAqd3KwIH6hUGjsHfB1lcLwQxC2b5okJtAbgM+wakNhEHVPzpBlz6MQFJK+kCtvkPBESKYwVErKMDsQelAkSAawYgmFMEdyk/BghiXQSonTD9TijVBSNQOQK8S5cBizYTBdhJ6wVIYHMEcwCrB9ghTwQiaakGHOAnB65FAwdX0aT+qX4Y/K7wSwWlv2kAOM1fB+J1jwDHABcEoOPm+Y7iKwIe/h79YPgrBavpGwNSj3r554gVB6xnzvj1VFEAhXxDBkPiRQIuej0Ec4n3BmG49Qc2fiL+Bdr7Ab3z1wNp76L+5jjRBn7aFwETo/z+EBLNAMeeQwLkYL8EUHwA/c8sYvzq9mUBYpFbByzVCwGPzxkCV+8XAoO6OwBbjJkBrCNy/e2Xsv/giA8FjKVPBhPxaQVICA8El/JRBI2ESwK/ZWkBRSgJAZdkIQaDzRcHc4JnBin8Rwa7Nc8GRJObAYQIbQdZiOcHQKJjAOiigQYTw7D+KkJ9BIpgTQSuwRMEOChTAFwN2QJb0AsFfO8zAoIZQv1JyTEBGV3PB5jahvzD2AcEHjIXAI1CpQLBXlEHAGZBAFTfVQDLj/sAdjKhAGBveQCt8jMAL7PQ+VnLZwPsrE8E7I+7Aam7gwAG/+78nVJTBrq71P/lQEcHVqX1BZI8zwaSAhMCKXvU++5prQL/1B8GuoeBAqfpHQQiJyr715GRAvIxcP9AwQ8Ean5jAEOxiQd2aCUEGSqtBU7ZXwVPPL0FT+enAIAbov2Ar+z3c/QxBTHOjQKdYVMCSAbS/c5SnQX+PcT8KqzPBncxvQHqC0kDkRCLBh9+SwP07kcEYOQHB45JfQMJ068CZ713BkvBqP2abFkBjRhvBTowGQU5Zxb/8WEHBpLB4QM0ehMBrbyzBuSkjweOt4sBWUeJA103GwEzHFEGSi4VA3SpqwZsZUb/e2CbBTInWwCKF8MC9oBVBcB8yv40hpECVbck/udUIwaFQjEAxduHAvoC9QPh28D8/DAFBPPdLQTWyhsC/OQFB6EwXv7efhcD+ydPATIuHwMc8sEB+X6PApbd9QbVZV0Al9znAePEOwWM2rUGVDuhAgbzIQCvNPsAUnj1B8hglweRME8FGHULB/CulQG7jqUDNkbFApLHJwPPuB8Gqew/APmNwwRX9kEFj5YDArBL6wKHgir9baWnAYroHwDqvRcFVfi5Bw966wHQXBECs7wRBZnEtweeZez5g5OjAhC8rwJF3GcGvU2vB6bCOwLUeob+KnkVBHxMQwbJ8ar0BoSpBLEAOQYYiGMEMbnLBW3mQweNxsj+amTNBoQUBQQi3kkEZH4FBZpshwZQPbUBvrj9BKrq1QT16NMECcBjBnm0NQScKBMAGTK/AY+eQwOwkv0GnvANBs+MEQI9wOMEdbihAO9JpQLPb9UAEMAnBkCT0v8PyjD7EQyNBM/UDQBzffMHwCd9A2Ca6P+6s/kCSmhnBv0AJQKGWb0H8+KNBnj0GwEjmH8HG2ETBMTCaQLqe0D+NqzTB0NVzv6FdKMF1k+xAvQwYwUm0g0DjiZDByFtaQDifBUCKz/ZAeskYQHhY58Bne05AxWobwafpmb7sMya/8OrswGyzR0BdJ7tA8XpAPSZfjUD03DPBzVQqwTPRmcCniSdA67AOwZwmp8D4GZDAX5mOwUksr8AQw49BICIUQAbzfEDYy0rA/FCZQCFBrkFJIq5AlUJvwVfvGME6sg1ApPoIwWhAIsH6MiHB/Bdqv0eDN8GWLarAAK4swb51R8AUjmRBiI0HQV4f78AK+WvBMLkXv7Wc3b6wg+TAxIqlQInBdsEQUfDAba95wUC1HL+CRGXBvZJjQP6XWcDwqpJBR2byv84d3j9dTsRBs51UwHv73sBp3gxBW2i9PoI1ZkC2pILANZFaQM92dcFEEanALUKJQGwHkMBMDhJBtI6oQN/59sAICU7AWMQ0QcgFPUCAfCvBv36VP50Hx0CGncdAVOVjwce4lsDoaJFADkhfQC1UK8E0j0RBW7BzQAM1FMG+is7ACBYhwT1nusBdPrPAmdu/QEjhHkEafx7AKcMLwYGH5L8nlxs/lQQ2QdbP4cBPy0tAFH9Ywbi7cMEj9o/BYA9ewGVnEUAu6rHADngNQF2egEF5Jv4/Ba6KwfrNmEFUaxbBzvVWwbYXM8EIgAfB/BNRQBhV68A1OKRBNzaXP64/2D6iikbAxyE+wb2+vEAKHJDBDtWOQKwBBsGVMolBqYfSP0rqlsHAsZjABOgMQW/ABcC7Mew++tUCQQeGh7+e/s1APcoFQXUPQEAXumPBa748wdNhWMH1koDB/kw0wM/Agb+8wqtAVW4UwUqjScA8g4JAf7uKwfrPh8FLCq5B09fMwO6UaMDWmsfAmWw1v0ezgUBNMgLB5oJLwF06NsC5C4lBOioIQXzCz7/t1mfA/fo+vn02LsEYNyhA/W0rwUQGjr38/GZBEckjQEsS28A0QBVAclkDwUASDEDxtj1BAQX6P2ALV8Bi/vbAkL7jwG8PdUCGzA9B0mlFwTpfdMD+yltA5tKVQdOeSsCMi0/BoautQJCyLsHBK9DAg2mvPiN0okHJaefAa6c9QRnfqsCQot7AawfgwBLqZUEgWx3BoVGDQdkgTkAhJlLBXs5gwUAwF0AN2GFBZGTbwD791MBr9B5BOcwrwUh8vEDA7SLBDrpfwK8mskG+GcPAJMiqP9bwYkG61S/BOSNmwctxGUEoohm//pgUPxN3sUHX4QlAJh/SQHTY60AFcDNBPqFov7xUeEEZery/8perwG5vD0EQRWzAQHYYwBMHQsDnE5hBdKo9wTcpcEG7sBxBtgKLwJ7iqT5q+mpBXyWLPyjsKcEMvsvAhUgQwWNBDUBi2CLBNQtFwdiXJ8GdfVBBrgUawXE2AT+syPo/Tyw/werwosAEoR7B+lXqwDshnr4xXBXA1cdAwaaavcCFfYtAaukTQemRq0E8njlBOO1IwfGcGsHQFgHBBeqrQTsDlUHrEmzBHiyZv5/40kA05d/AqBAXwOc3CUAxWLjAv0nhwGNbF0FP72vBo89JP1uwesF8EQrBo0bTQI7dh8EGwErBGv+ZQI/+s0Dqi7VAmqEaQXYjK0GNfd3AUa2JwW9HU8DxAPdA8GBaQIiDgkFg4ofAE8TaP/xA57+ZYUY/eodywVgDJEEpDANBmH49wfBvkEHWD3pBWIFev36nLsCs+45Auzvlv2Ev1MAAthLA2aQ0Qe0Y3j95f6NBAfE1QVRqE0Bot8dAEjo1wP+nFMGjIz5BF06LwbVIIEARvdjAqLnxwI9cTUA1mx/AZuRxQDBfW8F41Ve9J6L1wA4EDsGuw11BJNvkwCYlVkHOju/A4paywEL4GUBqoUZBFlw4vwALGsGT12jB7WKBwRvarT+PtDPBsY5lPxJfqb9KYBzBqCUUQeAxgMAtsfnArUI9wJGDPUBfj6RA2lMdwUo+wkGckopAaHGPP2aIisA0t5i/+9URwR0W9z8aMYTA9P6XQB6ibcC2lkDB1cspwcMeWb8Ra0TBtrgNQE0SiMDqLYFBRRchwUzIbsEH5MZAaTW7QAuGwcCWeCvBj9W4wJT8JUDlq0nAYRYWwdpARMEnKGrBrhJFwCVQDcEPrSNBewxgwd8nicA4LzhBlbevQS7pS8BQKSDBUhsewBjraj92nqrAA2UQQK6LTTzqRsHA0TgzweMDQ0F1BdfAVAF2wbFnSUH04JtBbUpvQUozusADFdpAjWJpwKwLh0AxB9HAwngJwYOEjMEIMkJBq5CdQLvxO8EoFEPBOD2awYFRGcDYrt6/dikZwSUpk8ANx3fAgEKGQYx7N8Dh/hPBO3UMQcVVg0C9qwnBiLB8QGN+Q0G/t8U/tmZqwT8+TEEEDQ9Av9Q5QVn880BXBUm/DqVQwTAhgUHIIMzANwhgwS2jSsEGOWbBg05DQSbck0D96yw/btelQWAH2j0VxglASBbvv7mcEkHHwmHAKZrtQNS3WcDbpNS/lmGkP2xY+EB50FLBRPA4wfQ5zb0CmYXAstpGwbpRU0Ex/d/ADUYcwRV7tsA7I2VBZQz5QHiqgUBAdTNBh4qjQTiNR8HSG4I/l+5XwRm0iL+jT9PAFKK0wN559789Uy9Bli3dQBJaNkFoh49AQyehwBUIJUGsTMC/0UpRwe+7A8E2SZZASOIHQTruRUARlh/BU0rev0oBEsBqYZpAFD9iwEoyqL9GnoBBxjDZQPYOQsGfLTtA33F6v6KUfsEUQybBm4lVPzPqJEGTaeJA1nd+wJFZqkGm12BAcLAeQSEBsD8vEIhB7zOCQMWvX0FO45tB7cHCwJ8mFkFJdKXAeT4uwR/UbD9E89jAr8CLQThyT0E6gU8+dvOBwX2MWMFiynLB7tuAQTjZjEHtihDB0dSXP51gr8D3z/XAGcwmQZG3PcCRQ4pBh8GPP2nXPsCKOSlBGjw8wIjDXD+1IQtBsM/qQBatnMCNiKHANiYfwKeLJsFgtB085GQIwXf5EkBqzP7AAvsjwTUCi7/clcNBbgLrwHSylEGDShBB+EU/QYS+AsCAISXBIyYEwc5t5MDMkyzBxGexvf2R6EBU6vJAGmSWQSykj8Gc/OTAzlSVQPyqHMHHCDPB/3uAwB8rJ8HOVwTBjmH1Pxlkvz9KN9hAnRTcP/9Pj0DxOf7AB1VEwdCVkr6b/kzBqDCMQNkQ1j8ThgnBkcxWQCzEUcH+4ipBcNlxwVkfuMBWak/ANH/NP5QO/D/lrzPBpKrCwJfNM0HIiBzBB07fQArQS0GJO34/anPIv7+iR8Fvi4fBE0dfQHddT8HfR1jAGqzIwO4Cv0AntjJBAh+4QFMR9cBmk59AXpeZvw89mMFizSvBG4Iuwb8t2EBlMi/BijcBwasyDMEHWRRBXEl6QZVwHkFQpAJBPlSFQMQzPb8fm97ARLIcvxmS9sBU1eJAzUsvQPZbNkHQNjbB86zLQJFwCUHKioJAlIvNwJgslEH6s5TBlNkJwOF6XsD01wO/9GoxwCHirEFmQcRAB3GuwAyJOUG7cFvBqWZWPeClTkEz1bxB3tnAQcdFJECWX+8+8ARPwdUlur++2i9B1En/QLwouMDhbx7AK98uwcvjQT47MjU+tHEJQLJckj8WDlXAKSMZwPfCdkExj9k+ajgnQSMVoEHxsi9A9z87QX4/wj8oehTBX9CAwHjFVsF97oDBDu8bQRknJECBWbhBvfEjQCMzdcAy5PXATJyCQQSmSEHBJhzB7mr6QHI1PkHkjqHAkeakP7dsdUDJ8cq/a9wGwaIEQj/DdM9Asgo/wKFmz8BpFOw/H9sTQI7ukUAGzC7BJc3BQTmbD8GSrIpAveSgQWqcsT8GIM7A7lZGv1QdBsGpCdpAcpmuwOGDpL9cuB3Azrf2wBo+BEBg2vJAnapoQfNq8r9O1hPARZ7mwMIiKcG9SSZBQ0+jQQBeh0Do+4nAu063wLDV+78mM5JBJBEAwfLKcEE84q/A0DmNwHSvi0HrYjLBnFiNweMPrL84OZTA93CmP1XBGcF6k5BBlFwAwPMNkkCUeJZAdtecwDW9CEGtACZBs6sbQeYv5sC3LqZAD+twPyzu+b7SAtO9GNNDQTGSFUA1YrdAcawQwVtzHkG+Tp9BLaEqQD2U3L+F+UzBucOMQAmZ8T8s4DnA6pTEQX1yTMERRujAsG9GwAYWX8HEfac/gG16P8SIxr6a908/LlIGwQsgBcCDr7lBEtLsPyehU0EQ3A5BdZgPQQ6UukGPKZLAtY+AQK8H5sDZVQTB8bZLQYv95EBE7JtBOGS1wOOnCUAZGYrBVWtLwQ3FEkE2QUW/Txd0wfnxmsB6SVrBzaAmwXJXlkBEJBLBAveDwea7wcAvy2/Anc+TQKmBC0ANviRBknfywOMfW8BY1d5AAdevQQyLVMCYfR1Bf1ssQH0LzUDrMzXB1xuIQI0cm8DlxJjBdaK6v4+Qi8DO6w/ASTnhQLra4cBLRBrAuC9GvsXtk0Elh+xATERLQbzpN8DPV4TBNGaUv1ztfsG/6lRBdoN5QU8fWEGKcvZAQqueQQMqKMGo1BvB0DWVwUbQ/sBrkPhA2o+xwL5oxj/DmLBAwqQlQaZ+QsCLlSNBxlGPv+CCT0CDQgfAq+wuwMUXhsHGPNjACZjDQKu108BPfKG/Ng4IwaXGsL9cU+/ADIRMQEmOf0BTAgpAyl6aQWBNAcGesJk/uTr8QFUqHEAPqk3BZJvev9jxvD+oOStB/LU5wU2TLsEh9oE+TPAPQbWPM0En47lBlB4TwbapF0Hsldm/JGqtQExEyD+mHK5ABWrMQIA0nECdAKlAcRuywJ8kokHdUBdBIoImwY3HJ8DIfiJBzXHJQJKFjr4Z6apAddEeQHwq/MAHWeBAger+Pwc94kDR5pTB9F00QSlJDsB4o3XAsPlxwGP/A8EPCSRBhhUVQX6GScAovkPBeQ4XQSHoEkB8jmhAdIYHP020DsGcyxnBROSFQaogsr+WhU3Axg8cQePYrsDQLE5BNq8OQcxFrT+Ld2bBU7gxwVzpXsG8Fb8/DxsIQVpYgMF1eSnBSvNXQbxaXsHmQZ9Ase2DQOkNnsCB5JtBIVbxwDsZXMCHyIfBOHctwT74tECBx7DAtKEzQQSDqsCTHhvBxUurv07I70CqYjVAdipAwVKerD/ouAnBHdVhwb1d5MCCevJA0wdeQcBBFUF/OH5AKrrXQNTFEsFzmtQ/Jin1wJGhGMF3jE1BhZgmwbtOM0GPPp3BgUAaweCnvEADlYZBxpAYwYFV+z8AxpXAHsRpQf9TKcCMYMY/XFyjQKXEpD8XlrPAMkeHQRld3L9YQ2HA1GiEPzMCvMAhU/s/uT5uQAqamEC0tOw+6ajtvylWDkFGaiJAQ/8rwV/jgkFrPVe+YMdMP9mzMsEtVzdA1zBKwSkCFsE/r0pA9r3Xv+kFiECQebpAwMJDQbK768CyEcA+ji7iQMNPccF3Kp9AgHvKwKCed8E3c7jAgePUPuUIqj+XfaK/XGmNwcmeG0CHawVBfVQKP3yhF0H43mdB7NPtwPmtPcF7mVdBoA4hwcT8lkCHfSfB/DMMQD7bqsBAI3tAoGJkwUArt8AjTEXB8MkZwc3CBcAcNATBObzEQFR6msBGKZXB4PVZQb4jDMG8TjtB7nFiQdgWe0Grp5W/uzubQRvx7kAlQrDAXOzkP1YVDcHXg0DB/Wg+v1xEI8F1UqnAUq3iQAcQ88Dz/ApBB89CvwYwjUDq8iRBy/jqv+et9cBq6cq/1CenwBV68cB0/hZAqaUAwIjnfkHqPB7Bm2UVQRIJAEDu1/FASz0MwAA2KUCvPANBkNIMwLVYlsG10SBBahHFQMi9WcBbo2bBhiH5wHpnh8G5NbjA4CCIwXvMPMCAgYXAOVEIv+mwX0CX7HhBomSkv2I5B0GoeylA6DmpwHfWk8FG0jzBcbohwWoWE0C3m4lAnoqtwDxmiMAunYRAxNW7QHO3xcA1ZeLApnmEwdRUeEEhJP1AfH8YwS3+P8GT5p9A/yzawLYCjMCGWedAcV6OwVuTCEEKMU7BaQVkwUhMuEGkGxrBcR5owZj8k8HpECdBLIGBwQhNGMFLUNs/Wt5/wWnjJEAIjDVBeXnkP/7FTUH2QSlBd4hjwEcHYUHcwRTAPXVTwDBxqUFzsgfAezhGwZsykcD57olBOOLtQJ77A0GH3nS/vNm6wNxxfz9tBfo+Kr9iwamdUEGfM8nAzaI6wXkoyEDCx09Bn3JywWFXL0H7V4BByJoeQNMCmEAeojFB0TgbwCcGIcEWf1e+3MsswCN8ZsHdczFBe/6UwNp+lkHLHNdAxARNQXI/JsBP/Ma/SFezwP0hesECcSvBX/CAwVl11L93IlJBCt8xwea5q0B+70rBkEqSv2H8vECndhE/pWcCwQQfkEBG+yXANPmUP6M+t0HJdAI+bYRPQehoaEEouhU/ETBOQdjVnkHj5KNACYFCQNCEisCexx5BFa6UQTe+gT9RBdPAF3mowKOSXMHurYrA43qMwO1uqUG32ePATlw1PqnwQcFkB2VBskWMv6vZVj4nrpLA3MCUwVujw7/yvvPAXqUkQd3/c0Cbuhm/HyMhwRfypD/mYSJAIDXjv83HSsH86IlBDFruQGPUq0AqhztBnVMFwdcTU0EJsqnA5De8wFKYH8Ey/ifBuYA4Qd2ZXED4L7pBVv6Lvh8PNkCiaxDAhV1fQOaXl0C5fx1B3nrwQJKYgkGPGXzBd+Z3v3v0BkENy+NAtnqNQJr+vUEKgI7AOfxEwOzT4cDk0W6/xW+gwIQCNEH1Z21A/GWNP4/iFsGvSo7Bm/ggPg+tbkDVAwq/89L4PpN/mz+pwNM/UBE4QRe93j7oPyvB5kAUwYtwd0GSZSvBmzlTP1PUQUF8w9o+FpOOQHAfokDcpMbAnPjmvqCs8sAdPkA8dlMbwTFdpUBZySDB5tGdwDhn8T4jJ9RAoPB/QR+hFEHrKCTBdR2DQFTLk8EtRhvB7af6vwWjNcFv3ghBa1eiP9QXWUHBuIRBZDsrQV8pXb82O4rBzNilQG3Yv0Ftn0BAdKwiQQycCECKoElBtAUXQbPCr0GpbQ5BqZJiwCCy6MBxxZzBkvTiwCHkosA9CMZAwlrjP8asckFnHRPB/w9SQbZCJ0EhzjjBDxcwwPue9j5i40rB+Y6PweXcksDhvhFBdI0KQW6IhUH7G4lA1iHEP015pEHp6uRAmhjXwEjfgcFNBVnAwQskQPHZtECsGSLBW1jyQAfWEkEGuy1AWeJTQUjJzb9SPpBAI4VTwFmHJMEtRwBAtP0iwQU/O789wJfBRVuFv939KEC96Vm/dbGfQdDyH8EzjbLAAXqjQCNOjUA3VKzAj9uTQNylIUDfQWTBaN3qv29rtb8hf1fBcSF0QdFi+cAtAi7AxZRKQDCPT8HAeSQ/uTRBwcv3LcF77tHA1o96wAmGIsHccbFBjKUdQNqRH8Hk2NHAEk9EQJCrg7/LzGHBmaEnQZESasHm1kTBftZlviiTQMGVkkLBauDMwIJj3j/lqsTAzg6ZQBM730ChEXBBO+NPQUUvP8FBpGbBiRGPwfS3+sDZHdhAPLPZP19RF8HBSgVBqRYFwKXEHcEVdR3Ac4pOwKo5TkDgAy0+tD5YQLFJYcCSvxjBznaYwCsMMMAbk0vB4a1EweIfBMB3hVDBd/6IQe/sv0HLJ4tB6bAGQdIgIcH0d1q/bdsGwfGTd0ESeOY+yZ4dQby/akEFGsxAf6d2wW55XsGpVhxA6M9aQbOdacEewkLBgLhXwaJ21T+dRJ7BcsmMwdg4lkG1r4E/VlDhQJFim0FWw4jABLQZwafDhEDnfSTBt5rrwN3EBcENcQtAxwA3P95C20DqyWtBmOUUPydPXEFP+afAa+S/QUfl5sDcMonA0ty9wEKKIMGiVLVAlc6JwfCZQcF1KI9BncSNQAT6JcFm0gJBidjwQJ0AA0FJzh8/XqkiwftzRcCAH63BfHetwO+imUFKknDBtDOPvRD/hUFQ+61Aj+kNwFueWsCEmQbBXZ4XQbSsxMDgRq7AhC4gwaAwicHbNnXBGyLcQGXT0UBSA7TA45lawa9HX8GeE80/DJC7QMaoWEF4FmjBbHhBwVaKjUD+6XjAj255PkVe7cB3wfLAVVJKwEW1GUBjTaK/6slUQbxZYUDXVa0/98wWwHZMtUCGlKDAGJ6Nv5Q+zT8goovBQ7wAQIUnTMGwFRlBWDAxP+0VYsGMzcXAmvj1wBZWpcC/KUvBkZ6OwLQoisA89ljB3a4SQXDJzEA/YaQ/oVopv3fbF8GYMhfBZ61nwdTin0HkIFLATIiQQBUX8T9mzwVB2vCtPzB51D1fSoTBV0StQLQUW8Eh6phBIxMLwbAkqkFY9EvAJd9hwElMrcBFHVI/mGrIwGOeJkBsDybB6DdoQd1bY8EUt+NAL8LXv2i0BkGwY6vAqcxbwQytPcG0AMPAuckfwM1oPD2njiPAdOshQQUBgMGc8BTBXyklQBiA1L9w10JBbmLNwCrUsb5AUDjBt0NwQK9DTMDcdj1A9cWUQUmxBkFIS1w/EPJYwT/GHMDaaw5BrKA0wa4JyUC/b/hAVhfEwDJ+aMHjmINBtbG7QfUGK0F7TI7BdFQwwKQRSkEn4xtBJHWDwQYsJkFbzPDAZ4YqwdGMy0DUUQPAmQJavw7Dub+4N7ZAt5SRP9DCOz+umh5BtWwOQfH3nr4FkRLA3ZOUQMDiiEAegUHB0QPCQblsqEBO9hDBiuzMwFYirj/SkZtAp/jSQJIuwcBnMD1BcwsswWSURcAWOiVBuK0BP97K1kAosAfB5CUPQZcm1MDrsqzAHMCRPlRQyj9y0M2+hbIewCWlbMGdraLAMIqKQJRiwD/FltPApkmTQLw3675qYIhA/e+Nvkt+tUDOBtC/+aELwSDTPUCgvCFB1tCZwFt0UcH3VLW/Yk80QcZGkkEmLlHBQddaQR0ybUGPP4TBb0cSwbqxuT/CDG1BV4cWP70yW8G8CAhBK/hwQfDge0AZZRXBlg+6QNFDu7/Z+R9Are0gQXE5C0EKdEhAWjGiQX8eb0EmAyxBhYAFwPAfssBxn5xBwEAIwcLVgMD1yRNB6X4wwfxLtMAlPj/BlB46wZWBzT8Df87Ajr92v38TmkBIJdJAjB/3wLhW38Al2bBACgPawNkq+EDyR+jA98CZQUSwScC93lVAqxtmwEeBrUE6j6rAic4LweeUC0GCGgZBcJreP/wvWsBM6gbBdiYhwCbjFcAhjgFBRciWQbKuI8G7akXAsJ8pQNj4JcECbGZBn0jLQMNsvEFDMNtAzvasQUpajsAdtVhBNAThwOgwgUGlhAhB7xoywW8PcEDYvhbBDH08QSJ9I8Gae6dAyOgBwQiGdEF+AHTB7E8AwRvmz78c6FnA892FP19YkEEMj7xBYoWmQHplQ0CsaghBKTsawVwEU0DlBQVBQBViwLVyDcEms03B8CSeQG3jkEHDsZdAsbANwE+lV8EITDpAaDNaQfw/oMBgJR+/nagcwZO9QEEnamHA6D3zQBLlT8EWS5LALR4qwQ5ebEDdyxtAKK6iwD+VVcGPfbtBf8KoPmh08cC5wtZAiKqDQT0+Yr8u3F5AuIojwTPbUkBggdvAuiEKwU9EJEE3UKJBiWBKwcHyLUH6VjjBEAMnwf7BisHb2B9B4oLkwAS3d0GPMkvAAXRRweOxJz67bUlAbbNoQeC4f8FLKtJAydg6QfFhQUGnRPLAqnXKwE/mLEEEhwO/vVAPwR9fHMEFbfs/xuc3wWDPiUFVc/dAuLuxQMT3PEEfjirAAdU/QXMrJUGsJUdB/cHtQHf4QMGeYKNAghaHwFI2xUHChcI+IDEQQUkgpEC5xIBBboxmPvsbKj+gYYRBwh9dv2t4bUHC2oVBACNzv1uNsL+hFGNABPYpwRNaM0GQiYjBezuxPwGTNMFYK1G/Bq0XQVr7l8BtR0K/5kYEQZC4qsCqJM/AnKA8wUyRFUGqEwHBIB3JwPXV10De0gE/wQaPQHtQaL8gdZJAsj2eQBmTGMCfVTBBk80/QOXmN8Gacx1AgUymwHuQ6T7BdVHBgTlpQLYqAMGMHytBVM49QUmBT8HWg03Blr4hP2XWjsEQHtfAtoCWQdnFGj1I10hBLWVsQbXrdUEA62o9pzf+QA+JhkFj5bvAOod1QF+TWMFLC0JBAa1ZQD5dWUGac4DAeJRewdVRhT/23SnBK8IaQFd7VcGyNijBIBonQYD6nEAZZya/tx6rP/SyQcFpAIBBrmr4P5Ep6cAPpgRBvQGhP94+E8GM15q/Rj8eQS0T4L9Q0JNB69C9vyUig0GyMkLBalN2Qa3ICMGRooe+Bq03wVutDEHMYCzBUQ93wO8Y3cDW/vq+bbMLwXUoMMBgmpvAV+fEP9GAPr/e81nBGB6Zv/Umkr9OKenAsOHAwM25JT+LDhu/tdBYvz9zI0A0W+Q/Fei2QDFCVUErKTxA2UWMwfJADkHWMqc/iBRbwLL1bsHOjB9BdiuZQUBXKkFlnRrBtGaxQBYS7sD1ljjBCW4zwT5YrkCruiE/kbwcwVaM68BPr35BulUUQaODDsAssP3AmmMyQWnhAL+9TXTBKjBeQYCZAcEbD/NAoC7xwJv7e0AXQiJB1ek9wdOsLME18E9Ae44WwZ5j80AAVQDBeYtiQN5GI8FEEBRAdmKJweIJcUG920jBczQJwDn5G8G9wEpAwFg5wa9lgUGj5lNBCttswRGgNsGpDoFBWvsFQStV/8AmUy/ApqN9wRC7DcHHrhbAxxUgwROXY8CJbb1AQ4sgwOYaH8EbpEnAs6GlQOswO8BrlcfAD76JQbYYP8GvHQLBouGdwJPaOr+G+xrBTfszwIUH3kD8HRzBoF/gwIQjl0GF0xpAYVzKQOfYmMCIAVrAehhRwFOR2UDXASzAYLx2QOAzsEBbxGlBuGyJwEDbuj+2umxBw7eBO7Wy5UBCocg/t+n/wLP1S8H2C2pApothQAnhRcHre6bAwaxuwCA8/j9xlj/BAIcTwPd7Y8HGORlB/VhIwBIDWcAeVupAZpWvQeYLXcDMpYfAMcNLQUWUAsGRTopBlT8hQeWpHUEcFqzB373IPwWHyj/u94JBw0GIQB9k1MCZVHTBli2Nvox8GkE/VXbA/+ezwHkNT785YblBKse7v8ib28BQcTrA77/LQE5O6cD55u6+fRbawBwvBMDZV7/AJQnUQMfOekBLXQVBaWgCQf3LP0Ag6wFBRsgwQdz058DgBRJALOazQbtdNr+On7I/2mlawYjebD+5c6dBOw5ZQd9AvMAnPzHBhOGhQWcIFMFt/fbAaqMUQd5GFMDAcbnAFRx4QU6G0r/Vsq/Ad2lyP4uWKsG7h49BE5geQe/MdcFiDuzAOgWLv1XPJMCQDdLA5GOpP2y/UUCPWK/ADFFiwW6hW0FMt4FASMZ6v0+w7kBp6sXAAAMFwA8mmz9iminACVXXQJhSRsGhQJ0/3GpuwXk8gkG+DBbBq9gXQV7pm8Ab5pjAbUeMQd2YAcG2T5XArG6uQbbmmkFnVG1A9f1ev2q/FMFKK/nA/B1cweGrLD8Ijn5Bep6KwaeDMsGOIeJA3Znav8xfE0AMbWc/JhtcQTWggcHBfXW+X4vNQHWIWcCPb+VAEXwUQcsMSMCAPUDBxZbsQGvzMUAE2ofBUmIMQNj8RUAMJ0fAzc11QfMuB0EjDrfAnliawd1AFsD+26Y8LiTnQDTSH8BJ6UY8wupJwYWHccHy80HBDWz5QG5rTUE7/Ou/km2HQK1AjL+HTB3ATPq4QMBpvUBsGwhBRiyhQBvdwUFQVx/A6vNOwRoeF8Ajs3RBTx4JwOjLD76khLLAV3oJQZPgjT8DuSzAMxj0wADXkMCyyfXAHvC5veYsgkGn4MQ96X/MQP9odMFCQlDBGiOWwf9oREHZwS1BGuNkwUtZX8C6RErB0uspQMYPx8Dp+mTBbp4ZQVXYoEB4Kp/BxfArwUHpQEGbC49AlSAPv/hVtkFA/e5AiMawQfPmF7/IeEZByI4cwPOBKEH2NLBA34c2QcGxjMDE0bJB0BvSwLM8NcGta4RANF1WQUHA7z+MZ0ZA5EMiQWawa0HR1P/AJGYgQVGxpr5+3kZA6c3LP37+gkE6QibBF/uTQKaJzL/fzSbAyzmqwJEEX8E7UGZB3UGBQBTJibyxEcM/cCTqP2k8FUGa3qvAkiqMQMdKlkFdZtRASDBDQafvDkGDS2PBJ0IaQKrDOEHQgPVAOHiSQZWY2UDyTx/AM7AbP3BRYMF1EC5AspOwwPumWkASEK1BFDl+QCcC3kBcqHRArD3HQGmgp70j8BnBGIhEQTz32EA4uhnAjbFCQEscyMB1luG/QUFcQRymFkEPThXBgIKnQIffNcH7SfbAB6w7QO5jVsAZrofAQypmwBmog0FOPBbBxvJowfMY6MB8sI/Br/iIwaFW8MB6BzVBXrWXQH7eqMD7hANBNjR/QTepoz/ZrSe/TKURQYrhaMCrcwdAZ4tGwXTI2T9mVQ9A16YtQLdYvEE28l3B/EBsv0fYTsE7BGJBbDeEvdb7KUGQM2NB3emVQSZ6C8BwmKtAV5Dcv8AI/b/hs7A/eZ6eP8joTj9jP0pBGrW3QKv/A8BWxSzB+0tTQE/Z+UAW9p2+m2B4wK1yL8HPY/RAVJWvQeRsNkDiklXAqa42PZ5He8GcrRPAQS34P8zNqsEuu49AQ0pEwSFuxcB9xrPAWrxawWDQgMEh757A6cmgwEHxHUE2jTTBy5xdQS4yYsCj97JBMXsjQfERg8F+pA/BVxYcwME1mkECwE3BgYGxQUXY6z6zeZxARh9Qv4s4MsAR5EhB7SdUQLjDIcGgX5G/3u0+QX1ST8FGXtE8nB5zwYMgj8C06alBxpaRwavTdUAxQEDA37+MwOhGEcEefiRA1JLCQGPdUEGI7atAW7ZywBtdZsFX3hrBc/lhQCmRYUG457XAQaQPQPzc6D2nTaVBacXfwLqwj0CtugfB5zZ3P32mM0E507VBYNDbQPhakUA5FIbACMmgv0annkCMZ25AyfpawQ3rT8G5ykxBkmrMPjjDDUFG3qdBKsX+QEvfq0G6FgG/aExuQZF0VcC49PfAY2o5v8on80DasFrA7irowKTOa8GBlr7AoedHwT5CoEEAkmrBxmScQA+8N8Hg7a3ARVfYQKoohkCWgQ9AbaCSwCryjcErgeJAOu4PwGuUgcDwtirBIeYMQWgb/z2CTydA1MtywdgbikF/BllAENS1wOkYe8ErKcdAqGIxQdpZdb/246tBI/20QNfdHMGGn1g+jQq5wIUC0b9NKKdAIPFDwZxla0G+lsZA2VPlQDYsp0CpQjFB0XowwEmX0b8qDi5BqCMcQRjNIcEyCLDAun66v2F91r9EPTBAj5PoQJbGPMFoSiHBNBq6Pw7czkAW/IC/8BkWQPP2vcD3QCfAkGWkv824mUDU5uo/KiVIwSntUMG8hQZBID4KwYXe4kAmlQ/AlCRhQULKDsESynFAJTYZwftRjj7cSUjBhXiGQYPGtsBSxR7AzgJPvyraSEH8yHI/d3CVP5WrUz+4jW7AXt+jP0fX60CxvP5A1/UpQSn7a8H9qOq/7oOqv7O75j0suRTBIW1bQPOP9MDQKIDAf30qwbc78D/yh93AB/FyQEq3ncF6R6c/8zmtQFCKAsFMLPRA9mYPwZlwH0Fv6pDBzTsHQKsae0Ge507A0TO9QHy/KkEhK31BVrwnwfwoNcFiYom/3xbXwAQzE8CjfHdAfBQwQIdlRkDCM2I/eeGHQdB4OUCY4kg/hyZWwVZzqcCnCFvALX6JwLCKZkBw9t2/VT9Gvsw5LsHSI1HBjJwQwXOfB8EjhoS/W3WiQcrlycBianzBluDKQNl4sUGq8WFAiNAUvt2xsT/YE5K/4wuqv5ZUacAe6kZBosMav48nHEGjFGbABcJTQJMVykAs9zDBbIYTwTD2v0CjnXnBq9YhwTNQeUFIH01Av3fzQEFlmMHP8CfBQ7EvQbj2nEBEC4K/pIFpQaRnhkB3Os6/P1WSwU7mb7+JSdvAg4QewfsEkb4DUxfAcCghQaXrnMDcFozAtsYDQZHMNkHYDedA9s+hQCzTEcG87snAUCObvQKBTEF8up1AAWl5QdmKi8G3K3lAexUPwPfS3EAGoqnA1hLNQPAh9EBQX1rAFjENwVQrNcHjXbk/Op+ZQb4nOkAsEwTB0HilQLoOQ8FMLd8/Zl94P0pqtL5FR5xAVhByvGs9lkDu7zpBKx3YwDgWYcG2eCLA+isYwacZL0E+xVNBMrBmvyqq7MCSv4jBU43JQGwoFEGL8vxAOUcZQctDDEA5Rm/BeOfBP7joIMFeX8G/jyUowA8PqUC5A75B81WxQSD8c0GrusbAYHKMQSTbqcALtHLAxhb9PM4FmT8hTbI+Kig6QT+40cA1DNnA9ZAQQE/tVcF2AgDB12jQv90ggUCOAzTB1VtTwbaZiMG3LSfBvXezwKXga8DIh3TB2b+dQF4fwcDIPWtBShSAQc7KAsGQKwFBygyfvyHgh0Bn1B7BclXPQE1Qb749Jzk/ZGsKQQoLj8FRN29B4Jqfv3+eFT8qzxK/dGZawTJua7+yBNnA2IW9Qb0pG8D9k1NBnnsVwPBwB8EODHRA/jkewXjCI0EdeDRBp5dLQeEWHMGGTwpBCAl9wQxOjMCd8S1ATzyYQZJbhcBT7xzBanpHPnkmjcBl5XzAkdmAQdw0BkGICOlAlRqSQB+zUcGQSSvBTXydQUZLDL+MuxHBXY+aQA7sh8CxhZG/qgmlwK56+kAQVhtAxoKDwd80+j+Q4wNBn+TmQELMOj9WoiLBiTsrQKYkFT4XOqk/knljwK3MwEHdvv9A8XaUwQuwtsCBxi9Bw09Dwb1gLUFCtYlB7Mq5wDAoisFN7rDAy3hvQdjB8j8pnZBAKlxowLOJ8EBQIFm+iCKEvzv6DEFHZd/AvVEGwZ6gJEGYlN5Ark2iQcv9AcHPP1/By/OZv/yHTkCKnm7Bi6AjQCR2c8H418y/IKvbQDjCusB+vEFBy8FrQVTYNsGQ3MtAl/RMQVUiS0Eqoi6/Cw1uQPT3QkGyQv7A1VtHwZDResFYo8RAhy3SwC/MVMAZhX7AqbvyPz2a90C/ej/B+gi4QFWLNkBLRwdAdqIhQZvRaz49K2bAU0ihQbb/FMCZ9ay/JXllwBdAHkGDpXRADH9BweBNNsGSoiw/S21PwEpQNkGLQLBAMsKcQIhDLUEQAAZBp/aqQVBKhUDykFZBF5rUwAglEcFqd+vAq4UzP/WXMsAKZhnBtpLVwK6DDMF5XSFBqnoFQKJB80ApWv0/HTh3wa1MgEGeyqHAPqEJweuYVz/8QO9ADGuWQfvDTsGY9ThBD+UCwDv03j8OtlbB/NEKQS7DS0FOgTjB7YJ6QWSCPMGPNhRB1/C2wEnTOkEa3tq/pnPywDz4ocDWDpFBQo04wTZcQECWY3jB88VVQX14Az7Et6fAsVPIQJjiKcGEf+K+b1xiQTxT6b/o9brABCvyPr5HAcE9vCc/ArFiQI+tJsFpgOlAcgJiwTPh+j97GT1AqLC9QZeegMFGuytAuG1JQNaHMb1TMBJBP3aXwRpwz7/GvyHAt/cxQbhT2UBj6IXBlW+hQGCs0D/G+GZBwMxHwZ6f9UBf8BLBV4jBwKwvp0EnRADB/Yw5QYGB28BzxRbB4nKnQOQyFkAKRaW/+E40QcrPe0HRFd7AZXQcwcMwh0ErHUDBVpQSQRGUlr8PxqpAIQhYQRXCFMFJtR/BAxezv0S81sAgNSrBw7UYPzh4GMG8v23BSqpQwdl8YkHyngtBRudEQMxtnsBQs6zA6PRlQDOSmUFuSLQ+i3ODwKtthsE0yJpAEb6sQBh1IEDfBnpBDoyNwaRi7EAEFQzA8KfZP2ptiD98UzHBhwB9QNixg8HoE2fAl6LNQP3eKEFeTYxALaAawaP+8cBD0nO/izEVwdLahcExotJARQy0QdCFRMCOFDfATucewCXJCsFOW8ZAqJWnQNyCiUDHiI/Bwl59QAxbuz8a4dXAdN9UQMqCF78ne9pAGzi6QQgp68DaHlDBgyaCQSGC08DZtnjBb3lXv4emJMEMV7VAkq8awewIBcFRNXpAREmvQR8NCcFp0+zADMOZP7h0Q8AVuipBOcZyQSN9N8CBcqBBTFMXQX1skEFOYvDA3OWXQEhPQEEX3JjADGqhQOoF6z8F7xTBMyQQwdnhrr8VOCxBd42mQEYphsCDDKtBLtGTwClWKL9MXQ5AdIcaQDX8sUFZB5NA8HakwJejbEAvLofBBnuDwZ1bTcHobfxAJPY0wP9Wh7+nxH++88SKwCyK+79rRTdBI2pLwK5XSUFues/A6b9pvzejGkF7Ea1AjmNyP4WGFsF/YTNB32h4wGYXFUHTqWTB1hOAwD64wsAP/11BVBJgQKkHVsGPukFBQkJ9QTnHZcGtJPK/Z6J4wPxrsEHxuZhAceynwFpBH0Gy4hw+izJjwQP3hr8d1dHAjJXrwH086EDfVexAtFfFvnDbmsGHvQpBZWHgwDw6mEHuxK5AHNGjwCCj/8BU6HlBw/6pwC6Z+j+5TgdAW3sqQRtgfcDD0G3BwdYXwPIgAUE/QkLBGl4qwZedK8D62aFAGL4LwSe2nUF351bA1qlIQTDCZ0FoiCxB6k+sQEqYbEC1NKpAo9tnweK9h8DfPxFB/7u7QTHRIEHPaeLAG5+Xv4u9kcCjhB3B4QiiQGkUJMBP7F1BSFMAwXaGsUC5Sdw+bDaRPkBY6MAiAItBobJFQW2SI8FqQEhBiMQSwZRxLkGZ035AId4CQPJbzEC2sczAS62LQFUjiEF1EUTBNBoLQMpOkEALauRAcLDQQB9KHEGMdk/AwVywv6IZh8CKuXtBEWsUwfYpk8BZmgU/wZ8UQWa3ysBQkro+6LJOwO+WhUCidTDB6P3UP4pCy78BmilA2tgFwIzso0B+NOjAgtuBQZkQR8EmYKNACDrVQCsYCUA2CSLBs5DfQGKkWsFeD5lAzJILwMcBL8CRh9Q/I71Nwdo/iEBkKVxBJZYxweHh4cBjekHA73hywfYNckG2APzAhapePzqdND77ysvArUpewZBjNEHv6TrBfCRBQZadnkDjtNrAYRt+wUWvMMGpAw7BuqoGv+QBxsBz9cJA73EnwThFB0HuvjBBy2pWwWrTgEGSWVjA/J7JQOmSUb53cuVA80mVQUUxu0AON81ADFKcQU5JqsBXKE5Bwrv+P3aWt7+ZLZ1A0GgPwR/CqEDJWIC/N2O/QQjKGEGWOJc/pIEXQYRiAEEFWp9BGgL6QOhmEkH5lkm+OIGyQRVbCkHgqeS/efG1wAqixMC3BHRBHrVqQE3SYD8gkeu/9U0BwcYhkcGLo3RBqswUwW3d7MBzJSZBaRAAwfQy0kAfdRBBeokJQZvJisBzggfBB4SQwb16RUCuCQxBoxvmQB3K0MAbKQfB8XgEPZXL4kBk5RLBP8lBwJ0+sT9xvYvA6yDlQBlRFUDM4q9BqSSFQapFT8AnDE5Bam3nQGCsf8FVzWLBMU3XwBqdBMAdw3PAVMlXQQK3V0D4P4dBKdPpQKeY30BYhOE/stIQwcLRT7yeIYnBg/v9QFz7oEDcTY3A6TQuP9JODkAuDwDBuyPcQEQiVkFI6M7AE97Fv9YpFEG3yYjAQfp+wXWiK0ERXzY/BsukQaanYMBN4j/BMVsswGLLEsBgw4W/SlU8P0JeTUAoYwbAdz2HQKbkM0GqTY1Bjxo1wdUag7/uoJM/6vyBQNPjOcGN2zVBESOPwMrjh8AMF9lA6CsdwDnePr/vVYdBOUCjv0AT2zw+WCfACumRQZr3D8FRhhg/5lagQcdNhECefX9BjaUNwXDGg8Fd3NRAUfewQQySB8EtCSzBqqdPwEnhekBdGxFBXuu1PCddbUHSZ7lA/W7lQBhd68C59ilBFPUWwEDNb78vQIS/XxvBQc8TR8AIY4A/Rh4NQOOiGUC0cR/BANxMwSBM8z9/KJ9Aj978wJSLCD5XBjbB2mQTwXPv0D+RbUbAx5zWwFoPBsCYoB3BSlM4wWNEokF2Ut4/8AVDQUVi98DDJhZBjcEVQJX0QMB796tBXBqjQYigWEEaBMXAEZUxP1CCXEDQ1Q7BWc0wP9+/sMBIQyJB00VGQUz6Eb365crAJHHhQB/puEAJZCm/OT4cP1jNoEB/f9hAC7luv8Fp2kAfZW0/nxVvwEgjGMFlxQVBKYykP6Yn5kA7qcrAoQ3Sv0UMZsEcT8XAk0G8wLOStTx1sbW9qCBhQLsoTkE+Gw/Abh5AwdXUgkDBuqxB0TvZP4QF1j/jQWhALcqUQO9VsD+muoXBfTaIQGqblUCOvd1Aja71QHlpWkAaj5LAlihGQUpmiEHlifjAgP05QdzG/cDqBpFAs7ZBwa6v/z76meDA1LIhwFIXWMBdmoU/Im+NQdDaG0Dd9IRBUawOwNu3fED6IOG/Rq5PQfNarkBJzrw9oKJlQVpUlD/flL1BaworwOrIab3bXhbBo433QLQsJEHg6F3BpqZ0waKCDMGFdCfAV5fcvx5h3EC8d/fAHDyNQGqg1kBKH3tBGdlnwdbJX8F3a0U/DqmTQXbFHUBoYvi/MAEBwYNQE0E3iEBBEixIQR6AmsACVQHB9at9vwn1i8H64Y8/ei+kvlNpgMH1EDNB0e86QZPUGMFFDVFBggfxwKiBAUD6wTA/oRVaPkTuKEF1vQ5B52Q7QKnTuz+uBo9BFVcdwYI5t8Ctziw/hVSIwfh6dr/dJFZBg6d/QYV8dMAh0/jA+BjdwMUIOsG3TPdAQ2cAQROGgcE6bSfB4pmXwS4ZYsAR0RrBvg+MPn4NHsGQJVrBHlCjwER9QcGvBa6/fO7RwF4rS0HRjLdAkn7SwAckT8BdDolAwXMhwabGN0EPBxNB91q/QWX+T8F3r0fBbPaVwfr7zkBXKo3AUT1zv1BKHMGe56/A89WPQXJ41j9gDss8Wzo2QRdGIcE+IPbAAIbCQD8jB8GopgRBEhswQAPT/z9Wo1TBiqOcQBhoc0EmVyM/iLxvQc+PrcDrg21AsKamwKr8L0BFF2TBZJqgwQ49tUDET7BAppl2QNdqIEEdkKjA8C5JwZ091j+5BSBA0g66wHQEocBCnhZBLzF8QDxElb0URfg/kNm3v/VdFcH8MLNBlgJYwdeyikCOodDAY7U6wSiYnkEw1zFBuxn7QEa/WsAKdijBnd62QbWMlMBZR2xBaOjKQOqAikEjdmnAGvS0wAQwJsEoDHNBUscnQKgHWcD6Mk3BdWevP8YZukCW5AvA0crMwIsbS8HYdE5AfLi5vwsbukBzhXzBfUKTwSKc58BLe2BBg2WgwSPDSEBmm7hAg+I0wNpEMUC8o7DAXjrqQPn3i0CQu0fBqnEYQcHNyD4Zpv1AMKA4QBqMnEAKNGrAuFovwVtquz98vLhAcjlJQNNX6sCyeIi/T6dyQZG2C0ET63hAbyIcwUnQy8D733xAMDiSQVzzHcEIBbjAs6rev6QhIEE6GbrA0jFTQOhtF0EahubAtwgmQYYkN8EUPtVAP380wLXJKsHv1Ly/nScyQYSqKECtfppBGEUNwTXxkkHW6Pu/JwMOQOEqR0AhFg1BYUIEwL17VEFh7+3AXWQGwEK52EBkdDDBGewtvqOSAsF02Mu/4KgOQXpIecGSa0bA7KpewdgemMHdS7C9IgCaQUID7sBB3pZASAHGPdO3VD/9otBA4dSdP8xkN0GuDFVBg/gsQZc2xsBFY/c/9VEZQbnsgj9SOWPB0BRBQMd8KkB8jYRBv0ZWQRfGTT/nzLLAqFjPQCLpskEaSqRB+33pwMaTi0DHmRDAHz1FQc/EKcG3Ak9BjxkJwTmK9sD9ZohAoCYiQVd7ZsDEBS5BwK/RwITtRMDmKSvAPtLRwBgOVcD7c5JBJE7kQF5wu8BLnHBB6GG8QNi7GMHOeRpBmKgRQfguZMFtrf/Ay+UuwZgkTMB6Wq7ALR1hwUb/CcHthcy+U9CeQH+UIsH2AadBcx+cQNjLB0HU/oHBHuxiwV8w0sAdERVB8ahzwV7DR0GmgUJBzQIgQb6A/MB8NE7A85CrwFUedUG6fQ5B2xKKwSxcicB48+BA3BQTQHXyHUE+Pu7AKoc1P6pgJMEjn3HAGyO4v463CUBTyCbBKUMZv8zwNT+TtxTAhiOVQOm8a8E9pfvAQwEkwAtIoUB0aqXAToAVQPZLoEGMuB/B/OLOQEXsKMEV8ldBWWePwfjw40C5Z49AFb0/QcWaDEHIIoC/4zHwwMAa5T85sou/BEl+QVpCjkApSBXAehNhQb3+c8AaeMlApOzzwDrDs0D5SiTBbbJBQTYLecAwV39BaYFIwaQ05MBE1qZBCHmDQWNLgUE6/XHAs4p+Qb1UiMHkll5B+uSlQbLfd8HX5pzARaGEQfw7nEESjy9A1GFfwZ4fQ8DDLy3BQTsUQLiON8Daar7AbhBtwJlJZL1AVlFBvhErQSdug8AHAc/Ahm3DQKg6w73ibBNBMTF9wChTf8CQGyJB9nmcvMkAr8Cwc7+/OT4IQfcRw8CPmpPAavlHwdCk6MBUzqbALsOZQePO28AbrBnBw8mvwB8GUcEja+y/EUdswdYGR0GknL3AvGpHQQF0rUBdn7+/X4KZP735+MB7YIw/LdUywAX7L8EQG4c/uu4wvlas9T2qBfTAAkvwQItrJ8DEbD1Bzz7Hvh/2QcBPAve/TQ0ZwXnaIsGY5FLBteaXQJ9e3EDaX7RBwwT4vc+8gcHFe5bB6ABSQWv7GMGGuCNBLy8rQYt2m0DA/7NAnaZCQcZNHUBBm3xBTIqEPzpOkUFp8krBJ2NowFuPSkHLbbnAtAMdwZqjZEH7rVS/Tubgv6RtBMGpTiDBK8HawN2fW8FzNJDBmSB6QMlLaMF3Y+lA+0YtwKWKL8Bbc6BBqmC6QE9VVkESVKrAY1hawHioHUGgLyTALmwhwVu1rj8YavhASYaTv7s6PUH8rZHAa8LrwD57kEGhWzjB0x78wKfmSkBBGQLBOegAwEI5jL+6cuNAat3cv58yhEArQJ7BUSOuQDvGzcAtD+VARDwZwJK2JMFwvkLBlyCywN4WJMHvqhdAfsYXwcAJ5MBkTk3AHXXvQEEjT0DIZ6RBCWWdQN9ZeMHS4szA8R8Gv+1KOMBCPKBARJC0wLMlAsFr0fO/DKRnwLfZF0HYzDq/n5LKQBeBRcAKMQNBm0V4QRihDcEc1A/AUm2YwTMIlUFl+hzAFqARQPptCMFyfmHBhnOfwfgfpEASuWNAndkEQfpHg8Go4TFANJ1dwGUXusB5zAZBqi0UwK1X1UAxGS1AhQFXwVu3i0EGuTJBAMstwB4qjjxDgznATpsyQQ3dr0GWN2TBRRgXwJplDsHE9F3B/MvjQLR+IUAipUJADyq6wIaugcGga+TAjO44wOdGSr/exTbBDa+BwY95KcDfP7C8SmNjQV3d3sDlvJxBia0WQI5xH7+WRktAnaqYwK/zPEE8OqDAUsMTwY/oQcGWZtdAwlE8P0PrFEGM5CxAtUYRv2rFQMDQRAhBlydAwMj2skA0CITAGhaVQXb5FkCeaORAE9DDP3ZpM8G6yUrBrKoewFP030ATGahAa6ptQcUNdcGA8oxAbgekQA2M0j4VcRHBxPa7P9YoLUCWCYFBbM6fwOB1hkDS9pVAvVYuwWChjkGlyAVBCv6qQKA5xD9Hsk5BKuiJwJq9M0H17tfAlcx2P8sgvsAa4HlBSuLEwIP9r0CNVhLBmpVWwZ7Q70AqiZ6/HixGQffCJkHAmdTApTE/vzhpC0HdwhzBqNQ+wabxG756BWHBuhZowejCPD+YWaDAcWBowArkIsF6vNpASbIcQVLnJMDasulAkfi8PfzqbMEWHA1BLcJTwbL3rkAjGoJBcDMawUvHhUF7oGHA24mPwW7K678+VmHB6rNhwOb1VsGX8d7ADDYaP+8N5sAXdsFAftYJwX1jDMAhXCHBYjktwVi0OEFVSnXBZeQcwaQ/w0HYPec/fRU5wZLcEkE3NdlAllRrwC9YuL6wDsg/JjwGwW4lID9D5NM/a/oiP/vqOkAhoNFAZNonQXqG0UCyDm3BiYKHwMReicEL6ybB4xzzQMOve0HXhcRASfaTwHhzsz/MvdjA8NkIwLyPecB8xvW8JdQUQSsl4sDtw+xA/LI8vx8IMEDJJilAP2yIQfXckj9Us20/ien5wOhrh8HSi99AwC0GwVLShUHm1J1Bz97EwEOvvz8UDDRBbbvFQOOMvsCiLJBAsy7VwNxcgb8wYEtAwfLBP9xBTEGl7ZtAG5wcQV13ecFYfInB8qn8wIakm0BfiCHBvvlhv1UVqEG4pDq/KxkywaVGN8FBMyBB798pwDxBGMC9kb9AZQ21QdLUh0AxGBnAKVlKwU/LA0AIRKhBVDrQQG20PcBn+AdBmCQ+wS/FWsCVUU1BfVvuwLBxAEEMTZDBdbePQfpFmj+7dM1AuN45wIZRi0G5uo5Bm18pwdJdTT/Zq6pAIPhVwX+gKEAOpXtBmO11wPoHpMDBtq/AqYCRwboevEHD1gDB6WKjwNwMvcAOHhZAmhftQPCa/r+QRg28zG4kwdUykcCM26tBI3u7QIGLVcAgl06+wnYawDZx5MDivknBiHRrQIgCOUGKXyNAy0FxwNK4ncBFiZpBpShiwYqxT0Cw1CpBSBWQwV3AccDOZUBAuO6iwErzJcEuL7m+bF6awExwgsFy/q9BiiYtwSYLAMGuuVrBShEDwTploMC7VqBBkX60P/Yxs7+eWDHByb05QW/MtMD89MpA6yfmQHQ3vD+jYRRAGrbKwHAqHcDOmgVB2sZfv9MaGUA2VLhAkIuuvqbdXMFfJQ5BIOzBwNgStcDE7AnBQ4aaQf5BskD9JJ9Av/gLwLgR/T4eZkjBZ+vMP8XqgUGbUhvBfYDHwO3fnz/8PbjAtKf/P1rtNsFSPWK+xoG/QVwijTvUQk4+vqpOQUP0T0FLNJfBLT28v9IEKkEtjoU/ExoZQEqtZkC8Ai9BODknwUMoZsDMGn9BcuPHvy+6J8BCgdA/2VCBQa30hEG2WmO/PnCowMYco0Hq/ZvB/Bbiv61Wq8Alwg5AbGGcQNBNTEGDbWI/TzVlQNUwnUHvRO1AXdt5QffGTUEfDSRB11wgQNTvXcD1yyrA97InwKDu0UDBxlXBzHE5wSqIyMBjVp5A7BkRwHea+EBavK+/NvsXQTZQQUCBngzBw6hNwSHlmMCdTZZBeDrxQEJNoMAQ3rNAoFcewCAWycCLAArBiXEYQG7iHkACOwVBCo/7P6lEWMGmEBLAoSR8wIW0NcFIn0HB/VEJQamBgkFcUoo/ba+Ewfwyw8DQBL9A1a3Kv22IHEEVp1G/FPqFwWcghMEnZjBBlZ1MwILpI8FdVRZB3/QkwSMeu8CeR2tBLs7fQNsEpL5bJ9M/f8eOQGFyC8FstTrATzZ5QWEC8cCCf4TAN2lzwNWxSUEg1lVBaf+rQN0QiD8aNui/FovKQPom/j+frcTAn1sZwDsZk8GoV5HA0dNxQTW9hMAXhvpAKgtNwQcsDcDrIBDAfyjXvyOmGkH56pTBGXvzwJ+xLkHi6D7B7pnRvy9Z6sAMFUBBVmmWv8aFi8GFqI7A5A7NwLjSm8CXO5lBGiAoQcU/HcBQtkdBamUZwYzzkz9OQrdBms4NwNVxIkH1RL/A0ZeZwRGllUH6mofAaMZvwe0gEcGWj7tBgIexv2ZA6sDTVTTAeeiEwZYTUsHBUwfBJMs9waRnyMCDBIvB/u6Pv4nikUA+mQTB3pyaQRivGkAQyPtAfIwPwKxXLMEwyLnAXzScv9YOXMDexTrBip6zwKl2nj1ckwg/Xs2CQeLkBUC7RpjBcLyLwQN1HMHgn/k+SzJJwNCB1j8rFwtBWt8Pv+2bB0C6IDHBMMa4QTPg50DMkKDAAuwTQEBrh0HgfY9BtwTrwM5LTkGNX1TBrikYwcma9MDzvUrBImCsQLM9AsEhJArBNojKQMO+9cC5aAzAts4IQO6W7UDxaxLBLIP6wBr8isH4HDFAG3LPvxijNMHsy9tADltYwSYNk8FYpsjA8FkMwVZMRcHjZwNAnLYJwZaN2r9gX5HBMFeIwRrsScFpgaFBrZIgQe3/zsB+QmFBOeqbvsAZC8DlTzbBIROwwCy2wMD+g8G/GlkOQWIoP8EBA2fB1H+zwI0VzcBpq8dAmHEFPqY3v0DA2WrA6kGWQKX66sARnl5AkeeqPwueb79Io+BAp2w/wA7gO8E/NohB3kgVQeFsmkBgH7fAiqKkv585FkEfiXjArexgwQOvlcGFBdQ+xPWBQSGsg0ADaXbA4vQGwJLMVkB3QGlA8mRrwPx8RkE6hmQ/1JpzQdaP+MDTcr1AyYhrQZeYjL9Z58NAEy4CwXjOFEFS5IzBvs2fwKsFBcE5uibBct+gQVmGDr/nuCvBofk5QWX7LUEZj4VA3lenvr2eg0Bn8ZPBu2DtwFv5tECNXApBxOMvQYzpQEFS0D7B6HClQI3lhcEcrFFBxqMQwRV03MAqQJrAAw8hQCD4/UBh7yC+2JplwVJIVkEF4BLACYmSQWOIeMEiZARBTdUmwWG9o8ALhqM/uoGaQDj3zL8qQlPB+M+wQFkCIEAQAwHBN9pfwRMGO8Fdy0XB8rI7vxe7K0FMg8c/CXpVQOuee8FD7W5Bs9SowFGNs8DC37FAfmw3wNcebcHSTdTA4ekQwXH918CYMB++343xwLZwBsFz6gRADySFQVNDAcF6J4Y/kpupQIekoL9EK4XBjPQkwQSMNMHuFy3Ah9mAwYYLA7992wFBI2kDQFKwcEBpDqJBKuuDwYcMBkDH5gdBCOXVQDKsMsF/1SFBT4eAQcZSNsGEX48/AVaFQR+U1T/ewXVA+XIFQQI3y8B3UFHAsz2XwJkDzMD2eBZAsFe2QUD2XsHIqf3AmqHPQNuZCsBQrpxAeEGIQNNsWkFjThTB1cdvweSqacGO+os+F3XowH3Gzj9AYhLBaoQLwWJTfMED8H3A8P2UQZzGNj+x0b9AUguYQKyTYcGNFOFAaSo0wVCV0sBdmpXAEQVnQLkQi0EtAS/B1yuAwEheOUFti4m7jl6OQWTbp73tNFTALpaMQfwo5T+zJ5e+XudEwd0cGsEmf5pAtW92QRS/VcEx1cJBQ7A7wew+6D7HBRVAUJsUwUMtJsFSkpQ/l5CRQLVdCUHTEI/BVo8gQaE7MUEbT5nB6267wDuZRcG4bIDBwzS0wHMgosDrLnxAJy3pQOBWMEGWr83AQdRkwNT4jEDReLvA/zdyQA4OzsAfIzdAZveDQTbQNUBCGchAYnQJQctrMUBy0NrAKiAkQCkwOUE9HtdAarPZwCn3gMAJRGU/C2MaQPMma8Ek8gbB1b3DQA8xrMAe9YLBM7RhwFBD00Dl5bBBfsEKwAiqRj/Igo9Agv0UP6O0icBDn4fBFpyTwd/oWcFLJu4/D1B6QOVIpsDxoA1BrQsbP8UMA8GapgVA0HmZwXBPM0HOG1M/5RkIwHI4wT/aSvJAUneivwgsRUBX7p9AehpfQYCAvEA5jqHAL26EwBqhk0C0rPPAylWpQXnnDcDDwuBAFuWEwIiKEj9MaWTBxBFGwJYSD8Gc9s7AyQ8xvZdjbb/wJJ/A6zmqwFZm5D7eRns/k34tQYwwL8HKlDnBl8o9QCYpVkHDdG/Bv+UBQSVMaz+z2zRBAroJwePZcMAJjYJBQwUDwQpKI8HXlgdBGu8lQTKwmsG3VGLBIiyKQZz2FUG7xYA/V54MQTLAHMGQ5/lAxLSOQQJaC782TwZBPoQqvpxwl8ERtdtALxAxQY2w2UDg8/7AKZO3Qb+hR0HWZkzBlTL3wFOzz0CgC4A+1MawwKf8CkHpbfPAzeqVwQv2w8D8cUnBDN4KP/O0vUBN05LA0QoowV0P3sCt95w/OQflQADTEEDzQKw/zymXQGS69MBJp9lAWnWWwUNvmcB2xinBs9BIwXbEQcFbA2vBPKbSv7N2rUCEVqVAsXcRQH6Qqb+SjanABq59wTmhicG3EC/BtrUPwC6dH8HttTrAbEJgQdXP4T4TIrpBtgTgQLIFkUEiWqbASKKxv5dz5MDI7Y3AwZUVweLcXEFWYRHBp58Zwfhgpj833YVB3k6hP7svD0BOpcHAmiMCwZwzaUHIDnXBEKgtQXSPicD1JkRATMu9QWjizcA9fL5AZsIoQc1gHcHN+RzAOBuBQQiXRr8S/VZBUW6MP0ImHEF9oxC/dgXXwHzlH8EpwpfAy+b0wPFcAMGoW5XAgG31QFsX6L48/ay+c/LiuQz1SUG+6yfA1jxZwPVCNME3ooTAQM3iwEZ0M8FQF1A/zhlvwVmJi0G//VXBm6tNwa93MkCskSvAag+pwJNcGUEKTyw+GYp0P4WeQkBEwtlAoro6QVmppD/O1DfBgdzqQD4pmkEenvI/cnctQKRP18AdJH2/exTZwGddcsB+ItPAE4nsP+SFE8DbagBB/FpaQGQm5MBoKXXBIthUwIYLwEByz/nAh9txPx6jF0H0cY+/lB23QAV71kAF/U3AcdqDQS2UjME6tQBB7zaPwcAyI8BYhcBAyVa2QZLztUCoMBPBe95Pwd0jHsBDn1lBtJSqwNcXrUCVNjzB9rOUP+cjjb+fEiHBDzEbQUSrKkEfqWHB9ZfAPxjXG8CQHbjAgfjKwO0A9UCMGD/BrWBZQezaM8EQdwzA6gkwwdRSSkHqdZk/SasUwQVuTEEICpvB/4tUQSaFIMHhem2/vDGzwI76PMDh6iXB8agBwT8Eq0Ds1erA0u3kwOyouEE69bBBKu8zwHQ7pUBkyHbBrXpwwffoUUHFxltBjo9dwZ7fF8HaxhtAGvMsQWRniUFbd91AZwyCQReAy8AknBdBzonYwPlVNUCkvBxB/NYOwTHAfsECgoTBkzRCwECH8MDjp3vAxB7fvmoB7b+crd5AEaSBQd1Xizyz7c8/8jkhwUEQEkGrZO6/nx6iwPLkTsENfojBWMcSwYLomT5qE/zAC5uUQNtBpkCSk8lAzAMsQMupaMEYUdq+OqfZQCQ/gsFkTQ9BzOdnQRR5KD9EoBJBkM9eQBUkhcFLkTrB2N2Mwbx3jUFEKrc/fHzsQK2/CMB1IZFAyfpEwIAK6L9rYDPB4yTJQECf6L903TzAx4hMwVmJiMGFisxAkpeMwGoJLsE/0zTBc/skPi/tiEBTkAPB4yYaQSbiOkEMCXPB7RM2QGRxs0B3S8TAIrHfvxZH6cCsOJPA4uNYwN5CHUBNNkjAmpKCwAqAiMG1JIfBqb6vQTjwwkCvMYVBPdwOQDQurcFv99G/kTQMwcz4N8EBl++/awgxwXqw08BIQWW/gSYoPw5JmL1YqxHB7wENQJy1q0FVrxnBZc4tv8iwjUDt62xAhb7JQC5CKkBUeFS/OtxgQf2LY8F00eU/p/ykwJSrXMC6JPVAk79Twe7FPMFW7UfBxP3fwN8cvMCnRQxAEbEpwfBlJMBOj4fA7v/aQI2rlj0RoEBBoLg5wYORdcHYyobAZqqpvxeoqMCdsFbBg0OIwRb1wcAZmVZA9BFQwUt2IUE+O7nAJdJywWWrsT493T9BS0CBwZa72sAxnZJA3h+HwAK5nECej5lBI/WfP1X3JECiHnpBt2O9v2VPnUG7aJFAqbCWQBXNr0E1AxDATNnBwCYMjUDQ4pVB7xXjwAflhUCThJxBkEy3Pz/zaT/UQmVABiaNwGjfIcCn9plBqAxlQYA5P0H2oBTBPVoJwAcxKcAhYvvA8DRIQEZAIkErzJpAVG8/QRdBPkDfvL7A4cBaQbg0+8A2pwvBrh0WQe64VUE5NkrAgNKAwO963UAh3FTBdUnJP+n/u0FAqg9BxqP2vwaZicDoIbpBHEEhQEdAc8FVY/jAvPqLPnK85UCfD5bAiqQmwX1xZMF3CzJBtjdKQVEANj8fIdNA+gZ/wXp6F0HmiSW/lmMzv7vvOsElUjdBMhobQXcSn0C3WRNBIjwGQWY5tD9qBb5Akv2vwEJ1iUGZxP7AQGOaPwAY08AwruhA6jjjQN0qJMEEbzvBrpyewGMD2sDRYbzAdcgbP5Hz2UCrR11BiqoDQVuzXMGZWt7AyLOYQMdNDMGaIbFBvJtVQJIEur+x9ZM/v94XQWBbKkEMuOzAYBOCwBjcfkE4z8zAeBNPQNlErj7Jgd4/rnPBwOw+FUBSyTxAZMiBP0oDhkAwhmNAns4zP7TzREHUvNJA/O48QNAF3L8zJSnBcKLyQKcjOcCfPN3AGb7/wHwzHEB/bfvAjgGEwZNdO0A/2Cy/kWKav14M+cCSm7vAmvzDQCDVWUGvn01AQ7OawAZCuMBk3C1BxTImwYqoicExqa7A7mYVQKo8f78MR24/ZNf1QPqpnD9U04M/+BMAwaNhWUFa3D4/YZgbQeh95sDB39ZAuSOUQVtWP8BRDY9A0hwdwRy5C78q5eo/LhwhwcewdUB2cUZB/r3NQPavHkC8Lo9B5PIyQcE9M8Fm9ao/YVl9wa+XUkBvjhfB/GtVv5La4sDV25VArEeGQTrUF8Gx+g/BrRQkQDAEsUDpiRJBqDVbwWLgvMBj3AnBsDmGQBXODL8tSpVBDnY6wDxFB8FTOkzBxQ6IQI42jsE1jHXBGzKCwckCKsDdm81AX5Hdv3O/QEGnF+NASfDkQP7pAEDc396/5qvdwPFWFEFUGYq+6mDHwGVTnD+jyALBVGrZPtA5ucDSlW/Ap4K+wJj3ir8VbmjAAgEPwFhHPkCU9s8/GCT6Pzf32sAZgA3Bd2MpwRrBBUEvaGFBnTAtQFURmUChSFTAEhExv3eWhcCN1XfB8+TQwEy5n76aaqnAQ/XkQOpz0j87u35BEfltwX0XAkG9TzTB+EsLQVllgcDOJ/fAEyZ/QeuzxMA9hYzA6lVUQIhZwj66XgbAC1h+Qd4pksFA41O/oiu8wLY5WsGcDQ9Bz4faQGghIEHkcuXAI74UwXb3qEAxHovADaCBwavoBMFCIibBZH6OQNsSHsFuAUdAGxcUQDc+08CJxC3AxfIHwJl8OkBo0fbAOMmmQW09EMGxGiFBHVtCQeyrjUEGC3G/W7uZQYtdgUGo72BBzhShwOFcYkA5x0xBO5gKQZ5NXMANAZFACKGqPzvQgUFgdIdBGuzYwDc/WsDG5QlBI8Vmwe1ihUFpmqu+U9VvPyuNtD654xZBU3nev1TOP0DGvYI/3CIxweddeT/Y/DtAtN4pQWquYsHsBiLB06WIQADfAsBxV9hAH/4IweasMMDrOaTAb/B8wbXJN0H5CK/Aulwiwdk14EB/m8vA3hnmQKRmaEG0AN3ArqnWwHp6WsET+t3AGE3iwKVXlMCHDCLBddOkQO6EPsBuG03AUJ0JwT2aQcGwcj3BtNtswTG7XUHD9uM/S8kOPtv4dkAu9MBA0iGuwHYeaMHzaQnBTsHIvpoOscA/pgxAdPsewQWApEDRXqZAXPwiQQ/aMkCOYq2+LwLzQN1onEDQIMK/KcdVv7bqsEF4Yg9BUzWuQTzrUEHJT1FBE0ufQfS1iEH3AADAbAy0QM3cr0DY13e/3P8QwUA8bMEAmgTB8nWxwMdvgcFtHUNAMcgIwCxxeEFS2YBB3y0AwVW0FsEHqdLATPSbQcd/acFsjv1Ayp/2QLyotMDF6nHBSEQmQIBxFj81b4VBA/kXQOQkJ0GglA5AOl8WQIZx7b9ro/Y/c8u9QGB3V8Cy/11ARosVwfQ21UA9EzpAwYxqwFSTEcEFJUo+enPDvzY/GsGzKK/ADD+Xvuf9k8FzLxzBhxQPwLKqlsCI607AXGxVQbbXZ8AWhFFBn0ZRwO1zyDxMj4tBWA8EQb/W/TyGkzE+R+vmQPFlzcC9pD8+o4GFwSX9UEEy6AFBIE8UwQlp0z85xQxBBU50v/w0tECBpCXA2WiYwdlFbMBFrC5BnZUNwEJh3cA+r4tBaYXYwKNL5sAUjNLAhb9fv/btTMF9Sfq/5DMHQLR6TT/IfR9ACFygQIJSkEHFsdtArOUpwO2Uh0DNHkXBl+SBQJxba8HUOqdAV0oWwUFhhUGqRmnAiZ5NQaYUI0FSMbxAZ3IzwYdKnEBEKAJBRi3SwGlFn0Eje9xAwR7sQLFNskBMNtRAjtqCwEkBHMDJ7uhAzZmTP+P8z78CZuvA5bq/QI15qkCEq4RANR4uwRYhPEF5mZ5Arf0BPg4LCMEYfIbB228ywAzsqUAEYPNAnMmhQB/nsMBy89lAibjoQI4Onj8RqvFAmAq2wMsprMBnaGrAFcdfQQLgZr62x8k/cO3lPxpeEsBr2BpA5AkOQFeY38A7v1LANPWDP/PEMUHHShHBHaTwQG73aUDWZulAkIssv0LBiL84i3fB1YxUQGHRCcCHF7dBmJoBwQZki0AQkzZBnepewYOiAcDnt4jAUtoewVwdSkFz9K5AGeBOwI0ilkGOSFNA6/snwSUVRsAoaB/ANcMQwZJ+TkAIcZpBWQw9QXp6ncABGUPA/I+FwZBipUE7XUlA2jVKQaB3iMHnY7lAeEAtQX8d0z/90l1BIU80wRPa8EB2lRbAK7KWwBjSnkArOXrAeJDTwP1LB0GxhpRAKuxJwRPrdED2A+JAe8QBwX6Gj0BaalK/+xZawQKUP8HZ5pfAr7igP3H3XcBv0JBATdzcv0o+QkCu2irAuDb0wLUR3j86PRxBvt0cQOS6rECKVgzBlXl4v2xZVD8gJapBhhc8wUamkL/xLYLAv1Hzvm28Y78Xc2TBRmHeQK7GEEFKZjpAJonBQNAGs0ERvBRBLbD4P7OoDUB683tBOAcBQMd4p0DARTjAE7e5P0VsEECnJArBREqNQRHZ/MDyHgBALsfGQAh76D6HVMM/TV5wwSGdXb4wB5XBGOpawJ2JGMGrFYZBWQ89v+g1bEF75TZAf8t0Pxw0a0HwYIzAzTQqwYNYyMB0yJxB2AiQQLbS5sDfQ5DBEDKGwZ5OykCBRPM/yvhewYVWdMD7pzbBTko4wLpGB0Fh2EJAK/6dQTbhbEH2GwJA2SoEQXkyrUABp+Y+aUPMwGXmj0Cl6T3B6c3tPeVNYkFA6a7A0QJhQBpbY0BW/EzBZgqbwMaQwMACYYHBMgsqQQxoZ0BTVd5AC3iaQd96JkDQ8wJBLIXJwGRJtMAQzY1APqhRwd+XT71USG1BRA4pwVyjjEGH/jZBLKzQQM7M9kDVgezACujVvzFMIEHQNnnBjkxnwHUOa0EGpD9AF9vNwJ8LjMC9jftAWqeXwXpDR0HgJUzBQE6kQYXNd7/WCxVB+9edQRj2DUG3gfVAFIwEQfiRGEEKFwvBviACwc8EKME+fXbBmAFlwaxOAcEz7iFBi5jnwNai3MBb011AxAK2QDmSGMHTmB3A86UEv87uz8D1iAxBUmA3QdL/6j6Mrq7A8CXPPzgIbMAM70w/W7kCQYxMPMHH+fLAi/IHQDDGrMCU/dlA94YCQCZUX8GzG94/jrVmwUjEFz+f4IrBLacvwDn5acE7iOzAUYeSQTBKLUHcHrRAKmcFQcuCBMHQgYfBkBGSv7ck8r60PbVBpsrewOynFMEoR21Bo8QiQYHcv0HBsahB01hGwardEkCteho/66fbwGnT8cBSmEfBlEAKwaMEtUEmFBHBQKKLwPTw2MCNjjJB7dWKQZ2IQcBY1QrB9hggwQzHoUH72JA/GB81QG2e3UCjQgpAKdKywKftF8EPsM1AszeswJIJyr3ax8TA8sgYQLLSacGOM/2/x7sGwLotjkCoM2XAs0/2QAGOMkEJ5TXAqOi+v16FlkBGbFBAoyRmwLzMCcE2ZZjATR2zwEREKMC7lN8/DmeBQQ7csb89ptBAlDvHQKpKhsFYpmLBDRFmQAQXX8Dc4HM/iRDAQcn1hcE5MVLA/FKEwCKKekAXMRRA29atQWWMnUBSZ1jBP6cqwK9PJcBjuPRA1MHvQBdh5cAQ7WS+0+lAwWNDM0FYH2vBS5BtQZxvwcCbagfAJIVhQbaMfcANXAnBH1A/QHA0OUGJUpJB/NlHwWHZA0F9vxvBuT8CQTyYAkEdXfPAxwYDQOL2wkCTWW/BQu+dwF9EeEE3cSQ/IH6ywJD9WUGpalnBkXG8wHHp9UDlius/OHQBwJGpZcGFM8ZBepuHQH9koEAmEYvBdoDLv/CuLr10LixBBCMxQHt3REAhjUTBcp4XQDn5vcD0i6NA45I3wLhjrT+jww+/T5vYP4oTxcB+7gK+5hGDwS0F3UA0bkdBT0YsQWsqncDMA8K/RTeWv4b0nMDN9ZDBxRVAwQubhcE0zc/ACD8QwZYofUG2itxAJqcgwZslOkH34V7BQQwMQIJzHMHifNvAkTCAQF/lV8GLX5JAZ1VOQcg/kL/13/O/jaYhQO8hkUFHBfY/wBOlQA2o/8DXB6y/wYxjPsStkEEU8iZAGOb6vhFCmEBTw06/L31rwBxXrL+iTEpBxZpdQXLwZkHUeozBdZAzwQ9S3z9GiRY/LCYyQXsHJcEaiBJBsA4VwSyBi0HEkIzBa5InwbDWXkAPX+I/Ib+CwJ0uwECA4DK/gax1QWL+nj9qZG9Buc7DwIPitEBTq9PAN3PCPx9Fn0B7Ys3AW9khwVf7y0CNNhDBmRjIQFLc2z4ts87AeMm/wLkIVkCDDrJAapayQShmDsC4o7LADNplwFeddkBsnrbAasjsvyGFTz8D6lHBbE6GQOjnLkEJLwO/4IDKv03cXMDE1mvBlrDeQNdNu0GRhiNA2lVVQA==",
          "dtype": "f4"
         },
         "z": {
          "bdata": "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",
          "dtype": "f4"
         }
        }
       ],
       "layout": {
        "coloraxis": {
         "colorbar": {
          "title": {
           "text": "label"
          }
         },
         "colorscale": [
          [
           0,
           "#0d0887"
          ],
          [
           0.1111111111111111,
           "#46039f"
          ],
          [
           0.2222222222222222,
           "#7201a8"
          ],
          [
           0.3333333333333333,
           "#9c179e"
          ],
          [
           0.4444444444444444,
           "#bd3786"
          ],
          [
           0.5555555555555556,
           "#d8576b"
          ],
          [
           0.6666666666666666,
           "#ed7953"
          ],
          [
           0.7777777777777778,
           "#fb9f3a"
          ],
          [
           0.8888888888888888,
           "#fdca26"
          ],
          [
           1,
           "#f0f921"
          ]
         ]
        },
        "height": 800,
        "legend": {
         "tracegroupgap": 0
        },
        "margin": {
         "t": 60
        },
        "scene": {
         "domain": {
          "x": [
           0,
           1
          ],
          "y": [
           0,
           1
          ]
         },
         "xaxis": {
          "title": {
           "text": "x"
          }
         },
         "yaxis": {
          "title": {
           "text": "y"
          }
         },
         "zaxis": {
          "title": {
           "text": "z"
          }
         }
        },
        "template": {
         "data": {
          "bar": [
           {
            "error_x": {
             "color": "#2a3f5f"
            },
            "error_y": {
             "color": "#2a3f5f"
            },
            "marker": {
             "line": {
              "color": "#E5ECF6",
              "width": 0.5
             },
             "pattern": {
              "fillmode": "overlay",
              "size": 10,
              "solidity": 0.2
             }
            },
            "type": "bar"
           }
          ],
          "barpolar": [
           {
            "marker": {
             "line": {
              "color": "#E5ECF6",
              "width": 0.5
             },
             "pattern": {
              "fillmode": "overlay",
              "size": 10,
              "solidity": 0.2
             }
            },
            "type": "barpolar"
           }
          ],
          "carpet": [
           {
            "aaxis": {
             "endlinecolor": "#2a3f5f",
             "gridcolor": "white",
             "linecolor": "white",
             "minorgridcolor": "white",
             "startlinecolor": "#2a3f5f"
            },
            "baxis": {
             "endlinecolor": "#2a3f5f",
             "gridcolor": "white",
             "linecolor": "white",
             "minorgridcolor": "white",
             "startlinecolor": "#2a3f5f"
            },
            "type": "carpet"
           }
          ],
          "choropleth": [
           {
            "colorbar": {
             "outlinewidth": 0,
             "ticks": ""
            },
            "type": "choropleth"
           }
          ],
          "contour": [
           {
            "colorbar": {
             "outlinewidth": 0,
             "ticks": ""
            },
            "colorscale": [
             [
              0,
              "#0d0887"
             ],
             [
              0.1111111111111111,
              "#46039f"
             ],
             [
              0.2222222222222222,
              "#7201a8"
             ],
             [
              0.3333333333333333,
              "#9c179e"
             ],
             [
              0.4444444444444444,
              "#bd3786"
             ],
             [
              0.5555555555555556,
              "#d8576b"
             ],
             [
              0.6666666666666666,
              "#ed7953"
             ],
             [
              0.7777777777777778,
              "#fb9f3a"
             ],
             [
              0.8888888888888888,
              "#fdca26"
             ],
             [
              1,
              "#f0f921"
             ]
            ],
            "type": "contour"
           }
          ],
          "contourcarpet": [
           {
            "colorbar": {
             "outlinewidth": 0,
             "ticks": ""
            },
            "type": "contourcarpet"
           }
          ],
          "heatmap": [
           {
            "colorbar": {
             "outlinewidth": 0,
             "ticks": ""
            },
            "colorscale": [
             [
              0,
              "#0d0887"
             ],
             [
              0.1111111111111111,
              "#46039f"
             ],
             [
              0.2222222222222222,
              "#7201a8"
             ],
             [
              0.3333333333333333,
              "#9c179e"
             ],
             [
              0.4444444444444444,
              "#bd3786"
             ],
             [
              0.5555555555555556,
              "#d8576b"
             ],
             [
              0.6666666666666666,
              "#ed7953"
             ],
             [
              0.7777777777777778,
              "#fb9f3a"
             ],
             [
              0.8888888888888888,
              "#fdca26"
             ],
             [
              1,
              "#f0f921"
             ]
            ],
            "type": "heatmap"
           }
          ],
          "histogram": [
           {
            "marker": {
             "pattern": {
              "fillmode": "overlay",
              "size": 10,
              "solidity": 0.2
             }
            },
            "type": "histogram"
           }
          ],
          "histogram2d": [
           {
            "colorbar": {
             "outlinewidth": 0,
             "ticks": ""
            },
            "colorscale": [
             [
              0,
              "#0d0887"
             ],
             [
              0.1111111111111111,
              "#46039f"
             ],
             [
              0.2222222222222222,
              "#7201a8"
             ],
             [
              0.3333333333333333,
              "#9c179e"
             ],
             [
              0.4444444444444444,
              "#bd3786"
             ],
             [
              0.5555555555555556,
              "#d8576b"
             ],
             [
              0.6666666666666666,
              "#ed7953"
             ],
             [
              0.7777777777777778,
              "#fb9f3a"
             ],
             [
              0.8888888888888888,
              "#fdca26"
             ],
             [
              1,
              "#f0f921"
             ]
            ],
            "type": "histogram2d"
           }
          ],
          "histogram2dcontour": [
           {
            "colorbar": {
             "outlinewidth": 0,
             "ticks": ""
            },
            "colorscale": [
             [
              0,
              "#0d0887"
             ],
             [
              0.1111111111111111,
              "#46039f"
             ],
             [
              0.2222222222222222,
              "#7201a8"
             ],
             [
              0.3333333333333333,
              "#9c179e"
             ],
             [
              0.4444444444444444,
              "#bd3786"
             ],
             [
              0.5555555555555556,
              "#d8576b"
             ],
             [
              0.6666666666666666,
              "#ed7953"
             ],
             [
              0.7777777777777778,
              "#fb9f3a"
             ],
             [
              0.8888888888888888,
              "#fdca26"
             ],
             [
              1,
              "#f0f921"
             ]
            ],
            "type": "histogram2dcontour"
           }
          ],
          "mesh3d": [
           {
            "colorbar": {
             "outlinewidth": 0,
             "ticks": ""
            },
            "type": "mesh3d"
           }
          ],
          "parcoords": [
           {
            "line": {
             "colorbar": {
              "outlinewidth": 0,
              "ticks": ""
             }
            },
            "type": "parcoords"
           }
          ],
          "pie": [
           {
            "automargin": true,
            "type": "pie"
           }
          ],
          "scatter": [
           {
            "fillpattern": {
             "fillmode": "overlay",
             "size": 10,
             "solidity": 0.2
            },
            "type": "scatter"
           }
          ],
          "scatter3d": [
           {
            "line": {
             "colorbar": {
              "outlinewidth": 0,
              "ticks": ""
             }
            },
            "marker": {
             "colorbar": {
              "outlinewidth": 0,
              "ticks": ""
             }
            },
            "type": "scatter3d"
           }
          ],
          "scattercarpet": [
           {
            "marker": {
             "colorbar": {
              "outlinewidth": 0,
              "ticks": ""
             }
            },
            "type": "scattercarpet"
           }
          ],
          "scattergeo": [
           {
            "marker": {
             "colorbar": {
              "outlinewidth": 0,
              "ticks": ""
             }
            },
            "type": "scattergeo"
           }
          ],
          "scattergl": [
           {
            "marker": {
             "colorbar": {
              "outlinewidth": 0,
              "ticks": ""
             }
            },
            "type": "scattergl"
           }
          ],
          "scattermap": [
           {
            "marker": {
             "colorbar": {
              "outlinewidth": 0,
              "ticks": ""
             }
            },
            "type": "scattermap"
           }
          ],
          "scattermapbox": [
           {
            "marker": {
             "colorbar": {
              "outlinewidth": 0,
              "ticks": ""
             }
            },
            "type": "scattermapbox"
           }
          ],
          "scatterpolar": [
           {
            "marker": {
             "colorbar": {
              "outlinewidth": 0,
              "ticks": ""
             }
            },
            "type": "scatterpolar"
           }
          ],
          "scatterpolargl": [
           {
            "marker": {
             "colorbar": {
              "outlinewidth": 0,
              "ticks": ""
             }
            },
            "type": "scatterpolargl"
           }
          ],
          "scatterternary": [
           {
            "marker": {
             "colorbar": {
              "outlinewidth": 0,
              "ticks": ""
             }
            },
            "type": "scatterternary"
           }
          ],
          "surface": [
           {
            "colorbar": {
             "outlinewidth": 0,
             "ticks": ""
            },
            "colorscale": [
             [
              0,
              "#0d0887"
             ],
             [
              0.1111111111111111,
              "#46039f"
             ],
             [
              0.2222222222222222,
              "#7201a8"
             ],
             [
              0.3333333333333333,
              "#9c179e"
             ],
             [
              0.4444444444444444,
              "#bd3786"
             ],
             [
              0.5555555555555556,
              "#d8576b"
             ],
             [
              0.6666666666666666,
              "#ed7953"
             ],
             [
              0.7777777777777778,
              "#fb9f3a"
             ],
             [
              0.8888888888888888,
              "#fdca26"
             ],
             [
              1,
              "#f0f921"
             ]
            ],
            "type": "surface"
           }
          ],
          "table": [
           {
            "cells": {
             "fill": {
              "color": "#EBF0F8"
             },
             "line": {
              "color": "white"
             }
            },
            "header": {
             "fill": {
              "color": "#C8D4E3"
             },
             "line": {
              "color": "white"
             }
            },
            "type": "table"
           }
          ]
         },
         "layout": {
          "annotationdefaults": {
           "arrowcolor": "#2a3f5f",
           "arrowhead": 0,
           "arrowwidth": 1
          },
          "autotypenumbers": "strict",
          "coloraxis": {
           "colorbar": {
            "outlinewidth": 0,
            "ticks": ""
           }
          },
          "colorscale": {
           "diverging": [
            [
             0,
             "#8e0152"
            ],
            [
             0.1,
             "#c51b7d"
            ],
            [
             0.2,
             "#de77ae"
            ],
            [
             0.3,
             "#f1b6da"
            ],
            [
             0.4,
             "#fde0ef"
            ],
            [
             0.5,
             "#f7f7f7"
            ],
            [
             0.6,
             "#e6f5d0"
            ],
            [
             0.7,
             "#b8e186"
            ],
            [
             0.8,
             "#7fbc41"
            ],
            [
             0.9,
             "#4d9221"
            ],
            [
             1,
             "#276419"
            ]
           ],
           "sequential": [
            [
             0,
             "#0d0887"
            ],
            [
             0.1111111111111111,
             "#46039f"
            ],
            [
             0.2222222222222222,
             "#7201a8"
            ],
            [
             0.3333333333333333,
             "#9c179e"
            ],
            [
             0.4444444444444444,
             "#bd3786"
            ],
            [
             0.5555555555555556,
             "#d8576b"
            ],
            [
             0.6666666666666666,
             "#ed7953"
            ],
            [
             0.7777777777777778,
             "#fb9f3a"
            ],
            [
             0.8888888888888888,
             "#fdca26"
            ],
            [
             1,
             "#f0f921"
            ]
           ],
           "sequentialminus": [
            [
             0,
             "#0d0887"
            ],
            [
             0.1111111111111111,
             "#46039f"
            ],
            [
             0.2222222222222222,
             "#7201a8"
            ],
            [
             0.3333333333333333,
             "#9c179e"
            ],
            [
             0.4444444444444444,
             "#bd3786"
            ],
            [
             0.5555555555555556,
             "#d8576b"
            ],
            [
             0.6666666666666666,
             "#ed7953"
            ],
            [
             0.7777777777777778,
             "#fb9f3a"
            ],
            [
             0.8888888888888888,
             "#fdca26"
            ],
            [
             1,
             "#f0f921"
            ]
           ]
          },
          "colorway": [
           "#636efa",
           "#EF553B",
           "#00cc96",
           "#ab63fa",
           "#FFA15A",
           "#19d3f3",
           "#FF6692",
           "#B6E880",
           "#FF97FF",
           "#FECB52"
          ],
          "font": {
           "color": "#2a3f5f"
          },
          "geo": {
           "bgcolor": "white",
           "lakecolor": "white",
           "landcolor": "#E5ECF6",
           "showlakes": true,
           "showland": true,
           "subunitcolor": "white"
          },
          "hoverlabel": {
           "align": "left"
          },
          "hovermode": "closest",
          "mapbox": {
           "style": "light"
          },
          "paper_bgcolor": "white",
          "plot_bgcolor": "#E5ECF6",
          "polar": {
           "angularaxis": {
            "gridcolor": "white",
            "linecolor": "white",
            "ticks": ""
           },
           "bgcolor": "#E5ECF6",
           "radialaxis": {
            "gridcolor": "white",
            "linecolor": "white",
            "ticks": ""
           }
          },
          "scene": {
           "xaxis": {
            "backgroundcolor": "#E5ECF6",
            "gridcolor": "white",
            "gridwidth": 2,
            "linecolor": "white",
            "showbackground": true,
            "ticks": "",
            "zerolinecolor": "white"
           },
           "yaxis": {
            "backgroundcolor": "#E5ECF6",
            "gridcolor": "white",
            "gridwidth": 2,
            "linecolor": "white",
            "showbackground": true,
            "ticks": "",
            "zerolinecolor": "white"
           },
           "zaxis": {
            "backgroundcolor": "#E5ECF6",
            "gridcolor": "white",
            "gridwidth": 2,
            "linecolor": "white",
            "showbackground": true,
            "ticks": "",
            "zerolinecolor": "white"
           }
          },
          "shapedefaults": {
           "line": {
            "color": "#2a3f5f"
           }
          },
          "ternary": {
           "aaxis": {
            "gridcolor": "white",
            "linecolor": "white",
            "ticks": ""
           },
           "baxis": {
            "gridcolor": "white",
            "linecolor": "white",
            "ticks": ""
           },
           "bgcolor": "#E5ECF6",
           "caxis": {
            "gridcolor": "white",
            "linecolor": "white",
            "ticks": ""
           }
          },
          "title": {
           "x": 0.05
          },
          "xaxis": {
           "automargin": true,
           "gridcolor": "white",
           "linecolor": "white",
           "ticks": "",
           "title": {
            "standoff": 15
           },
           "zerolinecolor": "white",
           "zerolinewidth": 2
          },
          "yaxis": {
           "automargin": true,
           "gridcolor": "white",
           "linecolor": "white",
           "ticks": "",
           "title": {
            "standoff": 15
           },
           "zerolinecolor": "white",
           "zerolinewidth": 2
          }
         }
        },
        "width": 1000
       }
      }
     },
     "metadata": {},
     "output_type": "display_data"
    }
   ],
   "source": [
    "df_plot_3d = pd.DataFrame({\n",
    "    \"x\": projections_3d[:, 0],\n",
    "    \"y\": projections_3d[:, 1],\n",
    "    \"z\":projections_3d[:,2],\n",
    "    \"label\": Y_train\n",
    "})\n",
    "\n",
    "fig = px.scatter_3d(df_plot_3d, x='x', y='y', z='z',color='label',width=1000,   height=800)\n",
    "fig.show()"
   ]
  },
  {
   "cell_type": "code",
   "execution_count": null,
   "id": "b1f15660",
   "metadata": {},
   "outputs": [],
   "source": [
    "import matplotlib.pyplot as plt\n",
    "import umap\n",
    "import seaborn as sns\n"
   ]
  },
  {
   "cell_type": "code",
   "execution_count": 21,
   "id": "9e6d4537",
   "metadata": {},
   "outputs": [
    {
     "name": "stderr",
     "output_type": "stream",
     "text": [
      "c:\\Users\\cd246\\OneDrive\\Desktop\\Sem3Practicals\\PiyushSem3\\Lib\\site-packages\\umap\\umap_.py:1952: UserWarning:\n",
      "\n",
      "n_jobs value 1 overridden to 1 by setting random_state. Use no seed for parallelism.\n",
      "\n"
     ]
    },
    {
     "data": {
      "application/vnd.plotly.v1+json": {
       "config": {
        "plotlyServerURL": "https://plot.ly"
       },
       "data": [
        {
         "hovertemplate": "UMAP1=%{x}<br>UMAP2=%{y}<br>label=%{marker.color}<extra></extra>",
         "legendgroup": "",
         "marker": {
          "color": {
           "bdata": "CQAGAwgCAwIDAwIEAQgBAAEGAwAHCQkGBAMHAQkCBwcIBQUECQEGCQECBAkGBwQHAgIBCAAAAAcBAgIGAQAICQgGBwYBBwAIBAUEAAMEAgUABgECAgEABwUABQkEAwcDAwEFAAIDCAcBBQgACQQDCQQIBgYCAwUEBAECCQQJAgMIAQYEAgEDBAMIAwQDBAAICQgGCQkHBwUEAQQJBwQHBgMDAAkEAQICBgAJAwIIBgcHAAgGBwkJBwcGAQMIBAABBwUGCQgABAUHBgUABQAEAwkHBAMJAAQECAcECQQHBAYIAwYDAQYDBgQCAwkJBAgBBwYJAQkFBQYHAgIEAggHCQMAAQgGAAEEBQEGAQgICAkDBAADBAkBAQIBAwMGBAUCAQMACQQBAQYJCQAHAAUBAgUJBQEEBgQDCQkABAcABgIEAgkACAQDCAIGBAUDBQIDAgkDBQMJBAgFAwYJCQMBAwAJBQUDBgIHCQgGBQkIAgYABwYEBwMHBQMCCAIGAAIHCAcCBAkBBgMAAQYCAAYJAwYEBAIFAAkCAQYHAAAFAQEBBggAAgMECAIAAggHAQMGBQEEAAQBAQkBBAUBAwIFBAYJAQAJAgMACAcFBgIDBQUJAggEBgAABwQDCQYDAAcHBwIDAQMJBQEIBgkDCAQECAcEAwEDAwQIBwYGBAkIAAACBwkDBgIFAQUDCQkBBQIGCAgBBQYFBAIFAAIDAwMABwUJBAUBAAkDCAACBgEFBQkDAgEICQIHBQUFCQgGCAcCAgEEBQkJBAcBAgYHAgIFCQgJBgIIAgICAgcFBQEIAQACAwIBAwAFAgAABwYCBwcDBAgGBQUJBgUACAMEBgcBAQgFCAgBAQICBwMJAggGBwUCBwEDCQEFCQkHAAIEBAMBAQkCCAUGCAcFCQEIAAEAAAUBAwgCAQEEAQUFAAEDCQEGAAEBBwYHAgIBBwEHBAYIBwkFCAkDBQAGCAYBAQECBgMBBAYFBgIACAcEBQUBBQgJBwQABQkBBAgHCQYEBQUCAgQGBAgHAgcGBAIEAQIDBwAJAQIBAQcABQABAwYJAwQEAwcBAAECBQYJCAYJCQICAwcEBAQHCAAJCQUCAAMDAAQHCAgICAYCCAgECAcJCAkBBQQCBgIFAAgFAwIABQMBCAAHAgMHAQQGCAYDAQAFAgYAAQYDAwIHCAQFCAkAAQIAAQIFBgEBAwMEBgYDAAEGCQEDAQMBAgUHAAMHAAcEAAYIBgYCAAMEBgEICQcBAQUEAgUICQIJAwYBCAEBCAkBCAAABAYEAQMCAwcBCAQEAQkBAQIDAAIHBgMFAwYCBAYJAQIIBAEECQcHCQYBBgYDCAgABgMIAwkHAwgCAQYCAAYHBwYBAQIDAggJAAAJAQYJAAMFBggIAwIBBwUCCQYIBAcDBwIAAQQCCQgCBQEEBQIEBggBBgkDCQQFBQQIAQkIAQkDBAkCCQkECAcJAgQFAgAEAAYDAgcFBgUHAQAEBQIBCAgABgMGCAkDAgYFBwcCBwkBBQQDAwABBAMDCQICCAMABAYGAwgHCAAEAAAIAgkEBQcHAQAHBQUFCQYHBAQAAAMHAgYFAggGCAUCAQYEAwkIAQAJBwIFCQYBCQcBBAQFAgQEAgcEAAUABgYDBQQBBQgICAEHBQIIBAIBBgcGAgEFBgMFBQUJCQYBAwcABAYBBQkDBQkJCQUEBgcIBQUEBwIIAgIHAQAGBwMBAAYDCAkIBQcABAQAAQkDAgICBAcABwYFCAkJBwYGAAcGAQACBQkICAgEAAcGBwMHBQYIAgAGCQQAAwQIAgEAAAQFAAcAAgQHAAIAAAUFCAQEAAcEBAAEAAQHBgYFAgEFCQcBAgECBwcFAAEIBAEJCAAEAQQJCQIDBQUBCAQDBQEHAQcEBAgBBgIDCAAABwEBCQYCCAIBAwkEBAECBQACAAgFCAIEAQAAAQUEAQQDAwcBAwUDCQYBBgEEAAYAAgIDAwkDBgIJBwcABgUCBQIIAAQDAAAAAwkDBQAFAwkJBgkFBQcHBwcDAgIJCAMHBgEHBwIGBQQBBAkICQECBgICBAAJAAYDCQQDBwYGBAEAAgEHCAUJBggGBwIICQgBBAEJAQABAgYACQEAAwUHBwcDAQYHAwcIBgQFAwYGAQEJBwEHCAgGAAMIAAYDCQEAAgQHBwgBBQcCBwEGAQIBCQgBBQgHAAkABgcGBwYDBAYJBQcBBQAHAgEDBgQIAgEHBAUJAgEICQAJAAkDAQcCAwUAAAMAAgkHBAcBAAEJCQQGCQEBAgIGAwYECQEGCAMDCQIHBgADAwMFBgkHCQIICQUFAQAEBQIJCQQHAgYAAAAIBAgHAgcABQAEBAgIBwYABwcCCQABBAMHBgEBBwMHBgUIBwAHBAgECQUBAwIIBwUICQUIBgMHAwMDAwABBwMBAwcJBQMCAQEEBAAJBgMDAQMEAgQCAQMHAQYFBwEACQEBCQADAAIABgQIBwAAAQcDCAMAAgUIBwMJBAIDBAUAAgUIBQEBAQcHAAkJBgEHAQMFAwEABgMBAgEIBAgCBwIEBAkECQcICAIBBwIICQMECAYEBggFAQYAAQcCAAYJBgIGBQMECQgCBgMCAgMFAAEJAwkHAQIBAgIEAwgGAAIDAgQHBgUJAgYGAgUFAgcCAgIHAgEGAQUJAQkFCQQIBgcIBQUJCQAGAQkHAgkDBQgJAgkFBQkJBgIAAgICAgMACQUIBgICAgQHAAMDCQQBAwMHBAcDBwcFBAcEBwUECQYBAgEFCAcDAAUHBgMBAgMDBQgBBQEIAAIJAggJAgcGAgMFAwQHAQgBAAgJBQQFAAQABAcFAwEFAwUAAAICBwYBBwgGCQYBAQcDAAQBBwgHAAMDAQQFBgAJBwcIAAIBAQMGAQcHBgkCAAQHBAUJCQkJAQMCAQYAAQkCBwYBAAQFAwUECQcEAAkACAMBCQACAAQABwAEAAgGAgACAgUABwUBCAEHAggFCAACCQUBAwIDAQUFAAYJAwYIBwUBBgUGAQMDBgkBBwkHCQMFAgcHAQMAAAMDCAAFCAgCAQYCBQIFCQQJBwMHAQkCBAcGAwEGBAYFBQADAwQHAAQBBgkIAwIBAQQEAgkIBwcFAwUEAgUJAAUGAAQAAwYCAQcCAwcHBgMABAMBAQIDAAkBAgQHBgkFAQIABQQIBQMIBwEDBwgFAwgDAwMGAwIFAQMFAwYCBgQIBQICAQcFAwMECQMCCAEHAgkICAMAAAcCBwUDAAQABQEIAwEGBwMCAQUJAwIFBAYECQQGBQYGCAgJBQUHBwQFAAcHAgQGAQgGBgMABwgECQECBQQFBwAGAAgJCQUJAwcGAAADBwMIAAEBAgIABQgCCAgICAADBQEHCAEJAwUFBwQCBQQJAQEGBwQGCAYIBAYHBwkEAwUJAgUEAQABAQYGCQAJBgcEAAgDCQAIBQkBBQQJBwcGAAMJCQEABAUJAwMICQUJBgcEBgQFCQEICAQFBQMICAkHCAMJAQEJAQEFBAUACAEJBAMIBgYBBAIGBgAAAgIHCQgICQIJAQADAQkHCAkDBQIABgkFAQQICQYABwQFCAkIAgMBBQkEAgcFBAkFAgMAAQcBBAgHBAcHAAQHAgMBBQkDAAEACQYGBggCAwgFAQgACAcHCAgHBwgHAQgBCQUEBAEFAAIDBwkHBwkFAAkIAQIEAQkJBQcFAQUFCQMGAAMFAAYJCAMBCQYJAQcCCQUBBQcFBgEIBgABAAYFAAUJAgQDAQADCQkHAQcABQIJCQQDBwUGBQcABQIJAAUDCQcCBAIAAwgHAgYBAQAGAAEGAwQCAgEBBAcEAQEHBAMIBQUIAwkICAEAAAYDCQIIAQcCBgACAQkAAAABCAcFAAAJBQgEBgYEAwYDBgUDBgUGAwEHAwAHBwABBAYJAgcCCAgHAQMBCAkBAwYHAAgABgYCAwgAAAgACQYHCQgGCQMDBgcHCQcDBwIDBAUIBwMBAAMHBAEDBgcDAAYDAQkJAAkCBggFAAIGBQQGBggGBAIABwMEAAYDAQgEAgIHAAEIBwECBwEGCAgCCQACAQgBBwQDAgAEBAIDAgICAwcHCQgCAAgACAcBAwgJAwQICQMFAwMBCAcECQcCAgQEAQYBCAAFBAgCAQYAAQkDCQMJBwYICQUJAQYBBwMGCQQCBwYGAAkCAAEGBQIJCQgBCAQDAQcECQQBAAkEBwgFAAEGAQgJCQADBAEGBAQDAQUGBAYFAwMBAAQDAgkCAQEBAggHAAYJCQQEBAQBAwgEBgcCCAIJAgQCCQgHAwgBBwEEAwcBCQQBBgMGCQEGBgEDCAIGAQYIAgMBCAQDBwgJBwMFAwkFBwEAAAMHBgIBCQEABQEHAAYACAIICQQDCAICAwkEBgkJBwcDAAkHBAgGAwAGAgIECAkHBgkIBwEHBQcDBgYDAgcBCQgHAAYAAwEGAAcFCQQIAQcJAwUACQEJAAIBAgYABgcEBAYEAgMDCQEDBwABBAUDBwcABQgDBAAFAgMHAwYHBAIICAkGBAYDAwQABAIFCQgHAwEGCAgDCAYBAgAICQIDAAIHAgQDAwcGAwYHCAgDAAgFCAYCAgcDAgMIBgQGBAEFBQYACQMCCAkDCAIJAwEJBAcDBwQDAgYCBgQEBgIFBggGBwQIAgMAAgAIBwEFBwkHBwUHCAkEBAIHBQYBBgQBBQUICQgBBwUDAQgEAwQDBgIFBQQJBwUCAAAHBQEDCAIHAAkHCQcBCQEDAgYABAMHCAIIAQYIAgIFAgUBAgEEBAEHAwcFBAcBCAIJCAQIBgABBwUEAAUHAgYICQQHAwMHCQMDBAEBBwgAAQIBAgAGBgMACAYIAgYEBwECAQUBAAcGAgMJBQYHBgICBwcGBQQICAcDAwkGBwMFAAEBAQIDBgYEBwgGBwkGBAQIBQIEAggGAAYDBAcBBwMFCAMDAAQCCAgICAkJCAkEAgAEAgEAAAUDAQgEAAYAAwcCBgMEBwEEAAACAAkDBAIGAwkDAwMEAQACCQgDAAMDBAcGAgIACAEAAgAJBwIIAQEGAgIFCQkDCAAHAgQHBgcGBwEBAQcDAwkBBgkCBAMFCQUGAwgGCAEGBQkCAAIBBAcFBwIEAAEJAgYABwAFAwIDBAcBAQEDAgIICQAIAAEEBwQCBQcDCQgCCQYBCQgCCAMCAgEJCQUIAAcJBAYDAAcDBAQGBAQGBQgHBgIDAgMJAQcDBQACAwECBgQGCAcJAwkIBAkACAIEAAAFAAMHBAIECQMGBQkICAkEAQQACAcECAIEAQcIAQEECAAIAgYFAQQBAgAIBgcBBwcJBgQAAwMEBwcHAQUIAAMEBgYDBQAJCQUHAgkJAAcCBgkDAQgJAAQEBgMJAwgAAAMIBQcFAAABAwYDCQUJCAECAAUEBwYIBQgEBQgAAQQFBAcDBgQBCQcIBQYGBgEEAQQEBgkBAwYACQgACQkJAAcHBQgACQkIBQQHAAAJCQMACAAHCAgDCAIJAQYEBgkJAAUCAQYEBAADBgADAAAHAAAJCQEHBgEGAQUFBwMHBgQFBgMCBAgBAAMFBgkGBgAFAQAFBwAGBAEFAQYDCAcHAwAEBAEEAwEJAgMJAAECBwEBCQUFAgYACQEFAwkJAQQIAAEJBwAFBwUCCAYBAgEDAQAGAgYGAQYBCAkJBwcGBwAJCQQCCAECAQUEBQMCCAgABQQIAQgEAwYGAAAABAkABQMACAcIBQEJAAMBBAgDCQYECQYCBAkCBAUAAgMIAAcBCQYEBQkIBwYIBwgHBgQCBAkAAgIDBgkAAQQJAQUBBwAIAwYEBwgFAAMBBwEGCQYJBgYIAAYCBgUICAIGAgIHAgAAAQEHCQUBAggFCQEBCQEIAQcJBgQJBgkJBwIFAgACBgIHCQMDBAMDBwIAAAAFCAcEBwIECAACAgYEAwQDBQMAAwMACQcEAAUJBgAIBgMDBwABCQAHCQcFCAUJAAMCBgkIAQMIBgkHAgUHAgcAAQkIAwkFCQMABwIFAQEABwMIBwcCBgEICQUFBgADBwkDAAMEBwEFCQgJAwkGBAkHCAQIAggBAQUFAAEABQgBCQgAAQYECAAJBgYIBwACCAAJCQMGBQkHAQYGBAUEBQgHBAMHBgMDCAEJAAgHBgEACQECAgYIAQEGCAYJAgQBAQgABQQEBwAGAwcAAwYAAAcICAYABgcDAAADAAABAAgACAkCCQIHBQMDBAQIAwQDCQMIBwgEAQQGCQEJBQUHCQkBBAIHCQIICQcIAQYFAAUGBQAJBAgGAwYGAQUHCAYHAAUAAwADAgMBAQIJAgQBBwQFAQUABQEDCAEIAwIHCAYDBQYBBgAJAQICCQIDBAIHCQgJBQQBCQQDAgQIBwUFAQEDAAUGBQUIBgQFCAkFAQAEAAkACAcDCAAGBgUHBwcCAAEGAAICCQEFAQEJAwIHAAMBBAMDAQgDBgIICAMEBAEAAwkCBAUFAgcHBwIECAEJAQkIBQUGAQkIBAMCAQEBBwEDBQIDBQYFAgUHCQEJBgYIAQcEAwgEBwYDCAQEBggFBwAHAQUFBQgCBAIIAwEDAwEEBQkAAwkABwAJAQkJBAUEAQkFBQQDBAcCAQACAQEFAgUBAAgDBAgHAgUIAgkEAgkGAgABAgUCAAgIBgACBgkGBQcIAQgGAAYAAAAGAQYJBAABBQECCQcEAgcFAAMEBwMEAAEACQADAAEJAQkJBgMDBgEGBAYIAAcEBwECCAgCCAkEBgEJAwUDCQkBCAAJAAgAAwYJAAkCCQMIAQkEBQYGBQAEAAAIAgcIAwMECQAIBQUJCQgBAAUBCQkHBQYFAgcGAwABAwIABwMJAgMBBQIJCAECBAUFBAYCBggHAQAIBwEAAAgDBwgAAAMFCAkGAwMJAQUIBwEABAQCCAcIAAMJAwkEBgYGBAkICAQCBwgGAAcBCQQECQkHAAEGAwMCAQIEBgQBCQYCAgAJBAIGBgEDBAAGAwUIAQUDBgcAAggEBgQDAgMEBwEJAgYEAAMAAQMACQMIAAcHBgEIAwEECAIFCQEAAwYFBgYCAQQFBwgEAAEHAwEJBAAEAggJCAkBAgQEAQUJAwgAAQUBAQUCBgkCBwEGBgECCAYCCAIICQACAwgBAQEABgQCCQAAAgcEAAQCBggDBwIIBAIABQQCBgIICAUJAQIAAQYDAwYDAgUHCQUJBgUGBwUBBAIBAgEEAgcDAAYAAwgAAwIEBggIBgkABQIABwYGCAkBBQQIBAMGCQECBQACBgUFBwACCQYDAQACAQYJCQYCAgEJBQAEBAAFAgkIBAYEBQQAAAUCBAAFBQEDAwkDBwIJAQgICAIFAgIEAQEJCQUABQYCBQEGCAgEAwEJAgUJBAUHBwUBCQEICAgGCAgICQUDBgUIAAQIAAIJAAkGBQUJCQAGBwEABQcIBgcGBgkABwAHBwgIBQUJBwUHBgQGAgIABAYDBAkCAQMBAQEJBAkICAQIAQgHCQgACQQABAcJAwUBBAIIBggCCAYJCAUBAAUCAgUAAwUHBwIIAgkAAAgHBggABwkCAAEGCQUAAAICCAYGAAQEBgEDBAEFAAQFBAYEAwAHBQEJCQICBwAJAAgECQYABQIGBwYDBwQBAgkJAgACAgYDCAkAAQYIAAYBAgkEAgcCAQcBBggIAQkGBQMBBgECBAQHBgQDCAYBAQcDAgkDBAgAAgcBBwgJBwIJCQUFBwIJBgQAAAYJBQgHBAMACAkBBgYDAQIAAgkFBgcAAgQFAAcHBAgBAwkCCQkGAwEDBQcAAQgCBQAICQQGCAQABwMEAgEGBwAIAgYEAgYBAAcGBwQBAQYBCQQFBAUBAgUDAQcCCQMBCAQGAQQDAgcJAwQCAgQJAgYEBQkGBwYFBgcEAwMDAwMDAwIGBAQAAgMICAMBAwcABAgABgIDCQEGBAQECAIDAgQICAEEAQcCAwYHAgIGBQICBAgBCQQDCAAGAQEDCQkIBgICCQYJBAIBAgUIAggIAAgHAQkDAQAACAgIBAUFAwcEAgUFBgIGAwEABwQJBQEDAAICAwEJBQQCBQEEBgUEAwUHAQMEAwkACQMDAwYJCAAHAAADCQEHCQkFAgYGCAQEBwQGCQECBAkAAAMFCAcHAAEHBwIGAQcBAgIHBAgEBQkGAAEJCQAHCAMAAQkBCAkGCQIFCAAICAAHBAkCBAEDAQADBwIEBgkHCQgICAgDBAkACQkGAAgFBAcGAwADAwEHAQgCCQcJBQMEAQEBCAEBBAYDCAcBAAUACQcHAQkFAwgEAAIHCQUDAgAFCAMEBwUBBQcGAgICBgMJCAUFAQICAggHCAkAAAQIAAUGCAAIBQcACAEBAQYACAMGBQAHAAQFAgMCBggHBgcJAQkFBwMIBAkBBAMIBAMFCAUJBAACAgYFAgUCCQMAAQIFBQAGBwEDBAcIBAcHAQAJAAEDBwkJAAcJAgcICAEHBgYAAwEICQUDBwEJBQMFAgkDBQADBwQCAgICAQYICAcGAgMCCAcBAwYIAQIIAQMIAwkICQQEBAAIBwcEBwkEBwcGAwYCBQEGBgIAAAQJAwIDCQEHAAMBBQEEAAkABAABAAYGAQQEBAUGBgIBCAICCAIHCQUJAQMJBwcGAAIIAQQGAgEAAQcIAgEEBQMJBQADCAIFCAEDAwQECAAFBgAECAcABAcBBQgIAQcEAAQDBQADAQgABAEBAQcICAIBAgEEBgcGBgEHAwMDBwAGAQIEAwECBAMDBQMAAAgCBAAJBQAHBQUJAgUJAAkBBQgIBgEEBwMEAgkIBQIHBAUHBQkCBgQABgcEAwcEAwIDBQIBBgAHAgcFCAgGBAAAAgEJAQEHAgACBgQHBwcJAQUJBwkCBgEFCQUGBAAJAggCBgIEBAcHAgQDAgIJBgUBAgYGBQgGCAAIAwkBBAABBwQDAQkGBgABBAACAgcDBwAJBgMBBQMEBQUJAAAGAAQCAAQEBQYAAgQBBwIIBwAHAAQCAwECBQIEAQAJBwUFBgIICQMBBQYIBAEEBAMGBwIIAQgCAwEBBwkACQUJAgMJAwYHBAcJBQQBAgIDAgkDBQgJBAYDAgcDAQkIAwUJAwQGAAIABwYCBwQICAUICAYHAQAGBAAJAAICBgABBwIJAAYHBwQFAwYJBAYGAgcBBAAIBAUBAAMJAggCBwQDBgkDCAkJBQQBBgQDAQIHAwgDCAIEAAcBCAgJAwECAAUCAwAHBwMCAAYCBQMHCAcACAQFCAMFBggABAgIBAkABwIJCQkEAgMAAAgFCQkCAwEJBAUGAQkCAgYBBggBBAMHAgACAAgDCAcFBwMFAQgECQgIBgMGAAMCBwkIAAgBBgcEAQ==",
           "dtype": "i1"
          },
          "coloraxis": "coloraxis",
          "symbol": "circle"
         },
         "mode": "markers",
         "name": "",
         "showlegend": false,
         "type": "scattergl",
         "x": {
          "bdata": "2NQGP3o9Q0GSAytBIBIDQQ7kBL2lG9tAB+z4QGfV0EAsctBAqSq/QKDp1kDvy+c/LLnQPpNFfUCB8EK/e5QiQaoX4j/hjiBBz71Jv4N7IEHEut+/OjWEv96ugT580iRBVnnsP5/wrEB2FB2/+VeKP4vZCcArBNlAVgdbvytJA7+v2HFA8IOfQIfMoEBjCdA/4ngiwFCbPb/inwFB40gmv6O8CD+bvwRBBf+qP2bPIj+dEyVBDYS1v46T+j9hweW/4a/dQGi+Yj+XLDA/M8XnQPVPP0FR/iJBobkiQZm7eD6/+Fs9nF32QBf2+UDZKB1Bm1zqvoI3OEGSZVNADAbkv5BdYECZ3g5BcWcIwLGNKEEc+KI/U7gNwC4uNkHZbJ5Ao7YOQIuLrkDIg7E/421DQZOHtECQieA/Hbb1QPm6O0AqXjdBHN0xQex28T5tx8RA8bovQfXInj3UkCZB8tC7vyn8iUDk+ytBmIauQAwgkD8e6QlA1VsAQWIq+b+k4tdAPDzJQC8QGr9K+LBAOAcbQdH49UAR5tZA2k1SQK7kpL+LLII/+560QNSTc0Ar9LE/EzP7v3Hfx0D4z8ZA6Ty4vrNozz/ea4JARCoNQfisCEElQj1BgsnyQC5BjUDfQ6o/2BOjPy5+vj+JBaRA49QkPlmEkT+fFu5AU0S1QNKP30Brnm5Ai5tUP0EIOEFuHDM/lfHGQKAbkj1syuFAi6SlP643ykByCplA+CXmQMe7rD+zd6RAKKCOP98sQ0EdyHFAEk6MP7DYQEELGztBvMSTvNahUb+dFCzAkr46v1BHLECgfrg/RIQxPSQeDUD8ZEU/Rf3Tv7eR9z/WwgfAHnggQYGeq0BK4/VAhtdDQaQkDMBcpwpAqrG9vn2G0UA+xu9AElggQY6gKkEEP5A/bWS8QOLp7ECgZTtByl8jQbvKXL6ASam/Pb9EQWmiXkC1kTpBlrIEwE8MkT9d9Vm+ED71v4M5BsCI4jpBNByZPAoWtkBEgllAdgKeP45eN0FaIH++flTSv8cXX0AltRFBF9QewN+EQkAmtkhBcDXkP0RdVUDAirdASgQjQQ1KeUCOZkpBjUsNQHEBSUGkTl0/wO/dQB9rAL55rda/fRQOQHJ430AZ/cE9FzEqQZOB/z8edb4/d2CrQNeHT79YXdo/unELP9uhsT85ahe/f4e1QKizIEGbKJRAVprSQJWJ+kCl0b5Az/c4P83HO0HzIuBACTcLQTzLvD8cqOtAlHHaQBKoQz5Ov6W/JJalP81Kh0D1/oI/8yFPv5AkM0H6E8s/kbCnvk3edT8PDzxA8OtBQMajIUGBBsY/eIC4QJe9yEBPVb8/2WrFQAoGqkDlWQi/5/dHv+DSsUDwEiRBgsdUPlu3n0CgCx1BGfsrQcEjLr+hXL8/FINxQD/Ipz/4zyJBCnuYP7yLUkCMMYFARfubQM3oTr+W8rVAJJVxP2NcI0Fd+sdAO8DIP4SDjz7ey4W9OAINPx+Oy0C52FQ+li7zQOoJrEA5wAhBiAaXPwvbNEB7DNNA3RiTP/wEwEAR1SFBxKV4v27E9D+0jD2/yMM+PyStF0EgvKG/QXocvlckSUHErfK/2YpBQTUVr0CEGH2+LsvRQBeTYUD8bsK/Oty1QFaZHT6e04E/sPs8QXVfBECvj5ZAjwUGvmUv2j2h0EpBDFGmP+hvCsANKkBBSNclQSWLAkHJcBdAkYvFQC+9fj4VJSBB2cA5QM4GnT/OgAC/muZ3QGBbcUDsSTRBRXOsPzcTeEAMFgJBbENcQNqKAkECsdhAJbjHQBeuS7k1e+hAWzmvQCjDsUD67Io/5oLVPzQ0h0CgwbJA2HfSQEoiLEF5ujS+u81Tv3fO0kD/Auo/iwACQd94OEFxITs/5YWpQCPjm0BYk8JAtJkEQQCGmz/z3SnAG67Zv1cwf0Bs5hdB8ycdPJkoAT4pYBW/SDvuQHjR+kDbRSVBlPUJwMsrO0EbjLc/ORbov8k+10CnBBXAt2a3QLP1tEBn07RAUHOCQLiRzkAVPyJBxhA8QbOPsz/gWPy/v03hP95HGsAPLNVARoi/P5jlIz+rF6w/GhsUQY6nfkDQsjVBWrFfP3tJDEHjDwVBk1cnQfkeKEGo5CTAnjTVQCvtIUFBeQNA/eaCP0FE+UCKxndAGBIiQVssQT9Bes5Ajdu3PQLsIUH8X2y/m+knQXjWQUH7VahAQjmxP5M6or7wFNc9HUkVQYgrkkCb3CxBvYTHQMh7uEAEBOw/AOiKQP1YvUDjjzZB2H/ZQLLgJkAUKw3Aidizvh861EDfdxVBBUWmQM1w47xpkwtAwekcQV9yvD+ByDA/H9sEQAWPLj7RKWK+OrXFP40SuUCy5fc/b+jGQJzg0ECaF7dAF1LXP8VROUFfbM6/CTyWP3XeQkHrnrY/kSqmQJQazj5p9CBBCeF4QDOaJcCybIFAYs4xQcv5+kBIZcJAk6WBQGhepkCh1P4+aAbgQKdBVkDLTr4/Wh4BQYI1QUEoDENBkCpWvyZdAEDPjbFAkCAZwGrXCEFPBOxAgb5JQQ4gKMC+KXC/t6M2v5IBzkBHtrJALhAiv6Rp7EAAjwc+lFSaQPrW/b4mRoVA/fAKQXjkyr+MvKa/gt5lQItTvT+UfABAsoqbQMWLuL+vp7w/gfvnQHbzMD5TNfxAnq/pQGIXTD9FBoBAM80TwEAHFEHW+BhB7srXP3DA/T7yvIpAz3QjQX/yPEGIYblAG/bQv8+piL5F2+RAwSYoQdtt6UB29qVAiNNoP+UgrUD9F7RAzWr9PSOmzz7Ivgw+W7l6QJNZ8UCOoi5BR1VrQDyla0AaHtO+hzK4QLmXKkE3WH1ApiLBP8GN0kDJlGRAeAVHQa+61EA5TLNAAI/iQHmUyEBzxR5BlXnJvpVJfUB0YLW/lbH+PxBAokCkPeo+DnoxQRqZmT8SBOFABduHQB8QREE3mvNACDUuQXfMnb6W6bFAFISjQJKVT71vDc5AZE/BQEnlkD/SfHpAsUcgvsez50DaASjAzua5QARp6kBBnLZAiKpMPucwPkHEkBhBLyBcQAL5rL8gecg/nZ3QQKKb0D2xtcg/1Z6AQEItWj9s4lM+0aO9PxWwIcBm1mE/TrH5QCK3GUGofE2/AonIQI1WzEAlPIlAeKHRPyuQw0BtpYq/x+wrQXAtukBfFxBADMHqQCdH2UB3vwBBt43OQJZZqr8Un51ADpiKQLimtr7WxHVAygsOP4PGOEGadNZAdNPTQDvAx0BkAN89qVzVQGSgJEEM2nhABXjUQPU6HkHkWDtBpo4nv7XKKkFa1u5A26CuvZIX879m3AFBUXwrPxHzWEDTdBVBmDjRQAIGo0DXx4i/jv4bQb1FsEAJgUpBEjJTQJ8a5UALcrg/go8hQUzQI8AbV5Q/oFvAvg00mkBkRqxAZmxSQBL3mkDr06M91op7vCcRvEA5HAFBsHUjv5Fnc7/kP1i/fFHYQOFXWED6zCtBnOkRQNziAEHo+wNBeJu8PsnZ3D8UstlAxvsUvi4Jpz+fsqdA3Dt/PxiONz4v1o+/WE8/Qegb1kAIxRZB0gzxP1gM30Bo9VA+uAfuvrQT1735suFAX9VlQFB2nEC6IxlBRamfvZx/GsDUEnhADViIvu1QIT+isHBAaBg3QatxYz2Wwz1BqI4mQSa3lUCn/rE+OXDMQPV1X0DXuuhAWUGAvno6Jj/wyKs/XvqQP4MCukDYpSRBnUUsQdKkqz7mA7VApauPPzDZ0b6SRC9BUFUvQcyaiz+xs0m+2O0CwHlGOUFlHfu/k+f4QJCq7EBIvBE/Jp0UwHHoQr509SfA/FkfP3B/HUGKR2xA0CcQwNurkz4mOrJAj4WNQFfi6j1pj9lAD7uBQBe3A0FJzxBBsWqJQFRyEEGNkeU/0GIXv896l76n6cRAaZE4QfA1y0B8BHs/rJWWPwKOGkGu20VAEpUKQVOOt0B99kpBBGFQQBX4+L/1P+0/aS17QNKCokB92Gw/WnedQNKHbEBUcxBAjWYgwAuIuD+B/zJB6QqYQDWtGcAd3Rs+NBzgPxzJUEBO4h/A2QwQPwkmFkFcPwFAL3OzQOUOwkCI1KY/Ft/TQC8ozD/7QhhB3BEWPxUPf0Dh9dS+2prDQAi3pr/eCzNBLgGtP7Z9G0Hkspw/qKhWP6pz0UACXvJAyxDTvlVhN0HZUyg9kizmvYug10AsuLK+z5O6Pyha+L9vWClB+2LjQJ9HI0FuyMC+Q8PBQCibCEF6oII+SFbWQMWZhD+OAt4/9kDsQCeDJ8BEJfs9B3QcQRB7Hj9q9NNA2yGtQH7NH0HaF8U+/4dJQH8tJEE/xcM+0jfiPqVMxUA3ifJAYjcFQZBm4L5Jnnk/UdETQHM2pT+alrO/KGphQKXlJkHd8R1AKvgZvrC0rkCsubxA9mI+QWcJwEA6X9ZAMO4fQQooC8C5iCXAETd5QAb6UkB+ypBAA0Z+QIi5K0FfNIk/e2VxQEifhECGKhlApA6CQPuRgL5up00+1ZeLQGpro7/doT4/i3DUvQ6TiD9SRQvADt8eQUtfxUCMN05ARX5FQXlZi0DkIK1AWejMQHGqx0DpZkdBPLugQEuRtkC8EAZAOPudQFgeLEGxil6/U+XEQLENzkB6OCnA0c9cP4rC1z9XJyNBu3hTQAK3KkEsxr1AaS70vfvwNUEr5T1ANyDCQP47FkHHQyBBPzAMP4M4FkG8wMpAUyfzQEEjt0CNU6C/wy1zQJP34j9czmNAHFuHQE39r76HX0lBr+ynPzBDxUBgGEVBrRSIPhJoz0Dk0KVAX/wgQfi+fD8DYey9JenlQA26wkD8Pg9Ahzk6QcCEE0E+yP1Ak3IuQTP5+77boxBB4BmQPdE97D8jxt5AXIjwPw9Us0CdzLY/6BqtQAAhjUAepp6/WUcdQSTSvEBF4OS/YLsqQYWZeT/lLKc/pqw4QWdiK0G1Om5AGgkvQYRbq0B5sLhAeyxCQbemzUAo5Z4/aSspQfjUED+avGtAmq2BvwMvX78B5VY/HJMfv+yzlUC0peU/m//gQNtagEAayJpAFmmlQPpBxkBFAaO8CA+3QOAhC0HGVgQ+T4IgQZ3zKD6v88A9vot0QFcTp78tFIy+CRtVQDZdNEH8bkBB9gV0P0hvEkEI/eY/0C+4P87s/ECus95AaerRQA6CLMBQK1k+meERvlb6EEBG+p4/9NwAQO5Bmz+GF+8+vqeZP6VAxkCf4chAb+YxQd/vUUBJKxXAGlEoQccKyED8JaZAYvruQJTvMUH63f1Aba6cPx25CkGIQ9k/ZZGAvlXzBEHCN1FA46NZv7QUDb8RLNI/WSaLvniJIcB5XBvAVM5wvgJuLUHMs8Q/0hYCQRiArEDJawFBA/gRwGBRVkBT8kJB2q8OQUljykDI0Y1A8ncDQcyi8kC+aQDA6FLSQLrSS0AQerNAtuefvqssLUFLYMNAcmApQfUTGL4ws7e/k9Vivw+9HEGny5m+VlsGvshKv0BN+bxAjBUlQKIegkCzAok+ZPdAQY2OIUFdE4492RcWPw4wK0EzliE86w4nQab30UA55pZA3+oPQTq4bkDO0ZJAJ5j0QEGr0UAe4SS/JhDfv2vSuEC7EdtAYSYCP2j0AkEy+1hARQapP2oGCcC/r+JA4PgHwEs30UCiRx9BmQpaPsuqsD9O+NBA/C59vxITj0DfjOFAhs2zQNzQW7/VLcg/vmOuQMTstEApdpQ/Bt4KQRYDlkAXpWE//OcZQUnsDb6bxNFAYtYVv3I/7z8s8WJAPuSpQH/Rkj+DS61Ank8zv+SWxD9n/2FAUjM1Qcvg9j4EFLZAsPGRP1cCJEBOY/dATR1Tv50+Qb5Cwew/jRBTQBUKIr/ZVEW/frrYQEG7hT9x8aNANacXQfbPOkHSFs4/9rokQTZoxUD7/NZAi/nDQKwTLMB5JmFAYp4AQepIJEAX7Oq/AAM1P453H0FdeDq+6jaNQPpg80A8cV0/vXVbQMCFcUDSFiFBXDEJQbysyUBlGy1B2lOaQIB/rT9fIu1AWdXQQAsADEFyPppAQfAOwCyigb+7OPxAKpoOv8z3Jz6apac+jimrQFqazT9btdNARrfeQFjVPUH1I+M/gj2eP5vZ/UBV5eJAswriPumt6UAJJtVA+TaLQOXesUAj+EJBQyJvP0AiPEHTbRFB+pj0QDrbgEB7jyXAHYCbQFyxDMDwuO4/k48jQa+gIkHCUHBALPPrQMzGTr6S0sY/b9eKQAq19r8g1AbAuSAhPsj3LUGcASy/KzsCQXyryEDz8rZAN+ziPfFiKEEZzcq/5PIQQP+8HD9AdDhBiN0cQZ7I20B4fPK/0nfsQOSNK0HIMs5AQkbFQJEAbEAfcR9BVvFzQPW0uUD+lcZABnQSP/lWDkH+p50/c6TMQNqkhz5IBFlAFpDmvVRXK0HIKiU/a10iwJZy6UD/7q1AZ0n5QLFsJ0E6NYQ//qkuPwJaFb/p1l8/DAeDP40l7j84Tp5A6mjUQLSyzT+CDJ4/Zdq/QJey3b4W734/AHcjQby0t0BtVx1BCxMLQezwJkHG1NRAsZ+pQLc66j+pQoY/bSxLQOofekDqypNAa92IQE2gab691Ny/wKahQIVi60Ak45hA3DbbP63twEDAQak/htYTQXh3LMDryxpBR4i7QOUJpT9+hPpADnIeQbkX6UAC3TlBBL11QFaXpkCmMHk+PpKzviNEG0GOjlg/OjLEQIOZmb7XgyRBGJfFP7KkH0E5efc+EdmfQBM1Qr8lQ+BAadJ7QDCMLT/iKIy+/F9/Pv4Qr0B+VIM/E+MYQelzI8D0Bj5AaYaZQI+kAEGT0AlAFEhQvxQo5EBtMDBA0wX/QDy+5EArXRO/+1N4P4W7IEEzNhpBshLWv9AWzEC+REU/+ak/QfPOLUEy0N1AZxeSQNzQ5z07DINA6YNpQCTv379FRUVByuBwP8nIEECjWS1B32XMP1JWCT+utNJANcX8QBrr3UBsgeVAz5anPz9ruL6+EjhB3q8DwDy/IUFajaxAEeeBQGow5j5fRjy/gDk5v6hKGkEjvxpBjIEsQY5Kz7/fOatAHwtnP9JuJkH+PtBACRiOQFxtsT5VPDxA/8lsQM6kZ0Cvqdk/WF1GQYOiJ8AG0zpBQ/Xcv9Oe60A/eyjAcTlSQJr/IEH+Z1pA2GPSQEJYMEF3LjpBNwClvkqykz+PLDFBnyZNP2V+vT84uIJAXDbdQDHHWD6B9D9B/HRGQTeQnz+s5p1AjsghQfinKL8FwkRB7O/TQNmZyz9Nq+O/XEVKQa7c2UBoY0JBcF0vQUB+pkBvW4hAMUF0QDhR+T8FRpg/fycnQZPWoT/q2sc/ji+3P1KXPkGhQBNAiMNGQdnPrT8o3+G/eVsVQd3GOUHio0hAJxHKQN7fL7+y8aZAfbnDPzbo9L8dvi6/k5vXQOilwj8luedAaIiAvy/Kx78d2JpAMQMkQb9Anj0WR1NABKiTP1y1HD+VoW8/F/edQINdMEG9bRBATuzvvnXf+T+CVee9urLGPnfx0EB57dNAYvKxQBi4YEAG5uW+ReRVQC2B1z94VdpA/vBgQCHokz75WdG/RPbsPBCqDsCythc/0CbsP4EviECdN4Q/daYPQYnGuEBb+elAkGSlQGSPNkGvZkZB5+sBwE2w+z9uMZY+VsWiOyjGDEEGncNAwdlpQFqP+kBb6+0+OuvAQOdQnj42VQRA7+GEPnVMnr6sQrpACgGEQFJNPUH3dNZALXlDQdjOnkCCsJ5ADEuhQGxO0EAb0eY/BhHBPwDJIkH7+SpBFeOhvnu6qkDkbFdAEfgKPuIExj+kX+tAYQq/QAZd678SMmy+NVq/QJwrQUDKYfJAU9chPfRrCEEEKZ++o+EUQVj1M0Ekf48/lJozQQBOC0Fw0kNB2P7VQL0O5UC48upAKl7rQHml8z6JafBA/i0RQVvOuUABOPi/aejdv+hd3b/lN0FBfD0xQXgD4kD8DcBAaKi0QARUyUCaY3ZAIPwpQc3Okj8iiOhA4rNKQSeSRUHhGTZB8DfJQCBhK7/aI/xAsgKrQCybI0HWb6NA9DLVQLHtiT9dg7Y+eyEUQdUgdD6yRFNA10OnQBA/9b8h5ig+9FbRv48ELsCXFMlArandQMYa20DslZs+1xCTQKm1jkCfM2u+bSUCQYNKwr1PC0O/bo4rwIVDKkFNdxtBfdCyQI2ilT99NRO/b0+OPwkHeT80fYpAJGKnv7O9LL/IRcRAdMAZQUSGx0BIWv1AYI8HQNmgLUG9v7++Nw4tQZlbHEFfzdRAfWVMP07mxT+gs+RA39TXv8L+OUH3WBdBaAjDP+hFOL9U0qFAbN+kQAs9aL4MUBrAFml8QCSogkCExUA+ijosQdTabEA3LANBsCitPdE4xUD7AW1A9yqTP+oFnUCw4b09IjzYP0ZWpT7WjhnA6W0EP2lNHkHpjcm+OljLQGzzIkE4mkRBS1ARPzDT2L78djVBbMrMQIP4HkBqA92/kULev/kFIMC12MlA08VCvausHUE7dAzAHKDgQGrct78JVbNAOKQWQY7eyz9zP7RA8s4CQWRKIUFd/hhBeuomv2a4TD/NYcI/Xr8RvyAlsr4vViLA+P5PQFDPk0BtRzlBAHlBQeYm1EACLWxAPrg/QdbcI0FE/8xABEoHP3J/gj99zjdB2R/JQPpDkD8Fr8q/U4Fjv4KTrkDYEKI/Yu48Pg/zh740hq2/MCTBv+2vpz+FjQ9BXB0KP+VO0UCecxu/LIFAP8A1dUAZaFy+GWmBQFNrnUBJUg+/SBYvQX8tBD2EtERBEes6Qa0g2b8kyRlBTVsgwFY0FEEVrNdAwPIOQA3CN0G/h0u9lh6xQKGJK8AGNQZAmW+MQHexRUHP1RM+wAbXQOsr2b0U8vdAQWIGQQYomj//XldAlTnmQOh4sjz8WSi/M0UKQKCOpUBn0pO/eBPHQPu4hT6yXoZAG6sZv85FIUG3TxFAgLkvQZxCFcDaYe1ACKJDv8SPNr85wvRACg82P9BnsUC4UDVB3m5BQYsL3UCQix5Bli3GQCaShT+O/yHAPTVoP4edE7+ijQNAS2ocQU8ipT/q/im+u+Rlv3hxvj9ihzZBAhedP8EIHD9v40c/fsP6QCkewkBEajNB5CbOQCrsKUHNKCm/HdMHvl6q+r6cXTpBAtJ8QMqFskB13sxAj+QdQUtj6UC5OXU/fp00QaTlIEEv361AEyfNQGY4wEBiPbJA7LsrQdThHT8SMSzA9NrFP58yLkAoSZ1AjG3nvTMOlUDnSIZAPSzDQMQBKEGnXwZAzTQwQG8NwkBp/nc+3wSLPv9NcD/3POC/YgLjQG4DO0FfOy1BRIhCQQ0iQUEAV5pA3FuwP7COm0DKIB7AgMy0QLcuF8ByIkFB8td/QNknGkFVfMM/oNCIPzQCgEAKbl9ADqIgwIYSD0FW8jlBrgLxvlmxLb/oP/1AAFXIvynaMEHhubC+HYzpP0bG20B8ewvAXn86QdbCsL7l13k/n3YkQCWfrkBjwCPA0fAiQSBchEC94WdA3W+5vywjI0FdfBDAA6y0Py/JkEB4dvk//DWpPnrMqkAEka8/lX3TQCIX5EBRfqRA9Nu2v6cVikBNjY1Ag8GSv9p5WEAtq4BAnTkyQbj0uUDJEBzA2sTRQEwyp0D69/BADA7gQPdxNUHeOhFBwsj6v4WA1EDgJ0s/zbO5QIOSIMCz0M49tFp+QGG6uUDExdFAYbOgPyaDqTz/HpI/o6GeP5IRPkF6H8u9OUY2QWO81EC6Fr1AWJIiP30740BSEwBAlhLTQCaBiD/2gvdAhuZAP8Fzm0DjXaO/FaVDP+P3K0Fye6xAukCzv1gGAb7nPiRBp4fJPQKPUL+uOP+9ctXbP4fpIkGA5stAHtsrQf+uzkDp3ipBUfsuQXVGqz+ZWG1A/aeTvl08OkHV4EFBWaZ8P8nsDcANJrdAUDBeQOpa5kBKUUFBx3TGQG5Hi0CslotAtUgbwE6Ds0DpiOw+oIgfQAVhyED7ochAY4XPPwrxdEDbpz1BHaOzQInzhEAj6ohAQGegQFWiKr+dyQm/81T7P4a3Sr9TwVu/04wnQfXcDjyOE6g+5FcLQRyQdj/URu+/W5ZePwA8sUByip9A3TC1QJtelb41STpBEbCoQJXkyED8Eo4/TqnRQKT18b5I5oNAmhKbP9TDWEC/7QJB8iS7vzZI10Cm6tI/CfQGQK4VwD5cm9Q/Uvs4P1AMJsBuMVBAUFSKQKxPxkD3IoA/LyHjvqbuzEAadVBA0QiBviLO4EBBnoo/fBV8QF+TLUED+AhAyi8eQTyabkC9TL1AXEG8Pg/nE0Hde0VBATTavjF4rb+L+9FAvnw+QVqYKUHlhHY+j30eQSK9xUDA+jRBpFC1QB/OBEG/LLY/b2kIwFLRdkDHpOxAYngTQUJDAkGn/9NAUVTlQDrwzUBM+uFAfxU7Qb+TFb9nviJAhP+5QEy0AUCJRSXAsqdGPQSAAkGFXKA/ievCQLy3xUBgZsg/eCfRQGVPfUBSZi1BzVI6QQlFr0AAXdNAc7r0QMoTnD9IyXK/xAkMQdqorUAsDhvAXNq5QHoVGUGkAjZB1C4DQVIVoUBAu4FAhiTkQA74lr5SJ9BAjifRQJBVA0HGowTA+WbVQBpE7D5FDidB7cb6P4ZvqkCxf+W/04AVv3Y3pD5eUUJBfioQwFxkoz8HC1BAQNkdQR1XB8DogJ1AKKY9QHwgF0Ecazc/a5amv3yzOUHOvSBBy9k+PKD2lD5LN/a+/A/mQA6U5j7UX9NAoF13QHQ3w0Biez8/Aj3tQNgEkb+yx88/2lyaQJD9GMBAwNa/7HgbQQqhu0ABLzBBuIX1QFnn4j9WPu1Apj25QAdxD8CTqTRBP9ZGP3IprECwGW9AS6MUQTlz0kAt/8tAXwP4QJjryD+0PwbAGz0IQeiKvEDGKutAHBGxQIwpGT/xhQ6/JbjCQGayvkAShEW+gc+8Pxsjrr6zO7tAfEb4vxCo4r8D/bBASZ2gP3vIb7/088Y/RtaePT/vr0BNzp0/aTLNP6qTI0FlS4C90TbSQAGerz+LwsZACfRTQDihAsDZt9dAquk+QStPbkBSkOK/PyIhQf8ttkCnV7K+HA/6QFfwykCrf9dAOkk/QdAfikAVpxi9rmuBQKx5KL8KAX5A3PguQZ2Uz0CtxkI/ysgCQV4d6DyQOqC/FCbHQF9/rb8hChZBRYS0QKzf5EDxXWNAiTO2QIvbPj9TBNq/KAUPvw6noEA8msi+0yVGQffMg0AXgZe/89FBQdlOIUDHck5AuZ4sQTI7DEC3oUBBX9XIP+CzbD0o9oBAoz/IQAthuD1LDqVAoDfXQFWgkz/ocjNB/H8/QZa2xEAMqPdAmBvuvhsvK0FW0D4+5OH1vnrbikDnayVBWYHcPt+mI0GLW3M/Jts6PzZ98L8YpeVAfaY9QQSmHEB2ogy/9agfwEkhgED+kWi/pPYtQcyh40BixblAZZ5SP6qeWz/8DKNAjogWQf6XNEGTNNo+6/gMwIHGI8DNRyRAm+ZGQbMxA0HaEFs/YR2+vu6x5EC1hjpBLWI1v1Vuw7/ZFhA/ryI8Qc57v0ACt/JAHMVDQVhuD8CNNmy//+bNP6NErED7akw+QQZVPiUbJL/ljss+JkOXvnyk2UDjXPlATkWnPm6yFEE1eT9B6raVvs90ar+pFcdAw37CvyvNOkFiz6M/1wocQW1q4j9ouXtAQOICQQtemUCCWgZAw0WFPSDJC8CZ+eo/6F8uQX6GwD++8klBiyNkQDIo/kDe9fW+7Ts0PuF6N0F1usRAMmdEQQoTJD7UjUFBrrCdvzTJEkHCy8A/UHYjQZJEj0Aq4ydBRe/IQEHyLUHl8ftARdnZQLpGr0Bf2jZBOTkYwGIACEE+Xsk+Ioh1QKm/Zb4Wukq/Q+Icv9hqlUAqGoFAnZGGQKOAHUGoNf9AtoNUPzHQqUCh+MK+Muy9QBRfx0CRL8NAtmhUP1kStkCSC61A38EoQUdHC0Gpehm/cDKpQNfDC0Gi55JAg8ArwCi6pEAdT7Y/WJo6QehdtEDFegBBGEcvvw/G4kBVpu9AxBQRQXNXZT4vrXm9g5xSvxtQxT5N3bm/U6xUv1Q/8kDX961Ag64DQdI2fj9UYhnAAfcgvqrT5UCqIUdBBSgkQag46EBwdsBAKDyHQG01QkHOgJ5A/86WQE1/hUCQ2MFA59VLPbqdIEFCKtlAfRRwQNlozEDAtLFAXgsWP98FDsBjcGQ/ZkNPv3Bs5UAZmI0/jqqdPqYAiz8uWS5BKIGfP52R/b/QAjVBlkUBQVLw6D+dUzBBctbcPzSu+kCoSKhATP9WQFgEMUEzV/VAnvMCQVG4nj+fYDC/axU1QWscqD8BK7s92yMMQYZpWT4EKeBAaCfSQF8FxkAW52O+ywIgv7EUAkAr/sM/bvfEQIFAXb9muVNAN6vrviNkgT+4doFAgFfSQOr8i0AkpuI/sn7yQNaHsEA6cVU/jZRAQYkkYEBB2zZBh6w2QX3zIUDU3D1B54vfQBwrG0HRsgJBb6DwPQemDsA89gFBWVm2QKlz5r97wsy/ftEdQXFbyUCI1yBBzaIMQB9I2UAvMjU8OLBPPzsJ7UCmSABB/bpJQQlOcD5DVWi+Y6ziQPs44z+Kfds+VRcwQeB7tD62fD9AgGOIP8Y+uEAV4iBBaWTDPhjDE0GFRkJAPDBrQFJrt0BGcntAKy7kv3UuF79Xh7NAbeYZPzuCY0AJL7RApfa9QKk9eEBhNAVBuLCrQMri40DiqDlBJTW0QCjr20DSIK1ArJEhP3D3xUCksYdAw4LSQLYHGUEje8lAPf09QXFt5T83V6FAlN8hQdAYwkBpw8BALLLcP23qDcBBSrhA7q2yQBCatkC5+/g/hlioQIukuUAc4PZA7mVcQHbonD/k9xrAsIzYQNu2Fb81XYNAgWeBQAlb0kDr8jxBxoYiQWgjKcAk3cNAJHvdv8RtbEBMTbFA77I0QeNI7T9YKyJBKNpRQCoGVz+2QVJABPvSQBxlFr/Y2hxBfb0FwAyFAUHtbcZAv0NuvucWqUAGXp29ZMLZQItFy0DKGqdATV/xP7tjHEG5dr8/0rE4P2a/D0Ak7iVBxSq6QIBKHUFlmzlBI1Y7QOari0AtNhS+yQiqQHInaUBEAtO/FUUIwF9OBUC2u/1AYpAtQTSR1r/yLHC/tzLdQCM2EUCs6RNBF5OFP2fwjkAtMyNBlEsiQcCJvUDyQzlB4Y3FQBNmhUD+UuI/ExKKPF6jEr9N+NhAxrCgQHIN7z/Bl25A6izov+RLPEFm7ApBZHEhQarNpEA7lbI+yugOwNuzrEAA9Zk927LsQGg4EsC8CDtBeNE3QVswOkF0h99AqGMAwIvG1EBNhGFAD586QbkxF77S+xG/uqLTQCnl20CCeihBUMSqQBe3jEA+iA0/KfOUQJFTcECNFJlAeipyQL2dPUEIH8NAlvZeQLaJRr8DVALAVFB/QC99kj/oZB3AMEK3QFoNXz+PRq1Ai2vSv36d7z8A4wRA5JzTQK3Z4T+9AVy/gA7Fvqanxj87MTtBVizCv7mlzz8lBAxBD6eUQBIpH0G0j2pA0rH/vaN/OEE/XyfAsOG4v2/DPz+bRqw/kWHPQNfEmkDo5NA/4t7OQGNpg0Czs2k/bUCUP8oPJkH9O20/0RU1P9XKJ0EuFxJBJJZYPqoVQkGGSDi+4o4OQd0qgr9kqbE/H48hQdwHkkCbadFAtI/UP+hyKUF9UGVA8hSJQGfWHr/JhO0+8jeoQCdVDUDWRAbARAAtwEyQOL9awgpBTPkyQahvwECOm48+hC6YP7RSMj+hCCRBPSvTPxd4WED+KHW/k5qqQBHJAMCzmKFAzyPBvseLvkBDBqg+Ve4UQaBSy7+69J8/ATkJQY/uij9eM6BAv8tZv3+LgD8NJmpAC3B3QCUMF0DJ/LVA70WcQG0ozEADXYhABF6RQPo8V7+XwQDAfUJYQKygtECq4uG9KetLP9LkWb+ll+k9Ime+Pq0WAT9OJINALRZVP2Mfbb+wuDRB9/CbQISRtj/kFxE+9pipP6LIyECONYZAJvgJQccOPEFrUIW+J9I1P3M+zkAO/hhBRn4JQYwsM0GyiC1B7vDQQNSu6kBBEem+2jWSPilSeEB6inVAMeyKvzrYe0Al4s89STwXP1nMJ0HYw+NAPYE5P50Y379Dpr2/jEpaQDu3l79jr+hAyiR+QDQM7EB/DD1BIj4SQVsvSL+AOatAG8ywP9748D+ouZlA7DS4Pi0C+UBMZEVBDxPzv2P75D8IhW5AvKVSQM8hkz6KTYFADZm6QInS5UB2X16+1MmkQDDBNz+YLOk/8/PLQPKxFr9ZLK1AOz8fQH1rrL/+BSFAdcYDQbbw8UCFa0FB2HnbPskHDcAUDY++s1gPQN7DkUAzhfs+ip6wP63z1768d7S/RMokQRJZ8D/GwHK/XJndQE+Uw0C3/lC+niCIQIEkmL8I7gFBlsknQb4Ogj9TsjBBLUfxPgNPE0HEBSJBaz46QTFcUUCXArZAGi/eQEaGm0Cl5phAnwTzPkCaokAVEjlB9OOBQLX7Lr849Vy/DHp+QC2rWUA8OYS/ch1wvzNbOUAyes6+dbhuvUqbbUAkfMs/czLwPkzra0BFGBFACOgcQBFwpj8YZq9AEIQmQXcE+EDh781ADwMQwEs8JMBSmeS/ToPdvwXVNz+Gw65AeDpEQXwyTD/BPFVAZXyFvidR/kCi8gdAELCCvoX26D4t/TG/FeZRQPgv9r7/6rRA3fNRv1oyp0Cydjw/Vov5Pm8vtEBNMSFBrSMsQTAt70B2F9A/cURAQeoBD0G8VEi+DCmaQNnw3EBnBAe/kPBZvkMsIEGwbcs/B/oKvwlM67/v+cBAYmF3P92YqUDKk/y+oSB1QINkFMATYX5AeTIZQfEFhjwkzo9AOJkNQWVmI0HhVgm+0UgyQTyFH0FLOzhATC4fQUqArUDc5MxAvOnXQAZisj89pbFApL0Wvz+mM0HQK7hArzf9PaJVEj/URVy/X9v/P57RJMAzBTFB3SOlQBdA3UBj4RlARYlav+haE0Cs/uZAnqUdwFVev0Ba9wlBzZeuQCdjGsBMwjhBXRpcQBgdVUDoJ/g+WOE7QX//ukA2L+BAFqy9v9ODzEA4z85AfUUHQF5swUB/1DVBN2XTQJ7MmkAjAQzAuvWxQFhcAkHdI02/dpV6P0XRRkFS7BJBPr1FQVkgXz83UihBTdACQdmlgz/OfNpAe/LdQKlvVD/Li7G+l8xMQI1yE8CVl8o/EG3MP1Kdmj/2q9u/gdjFPyuR4ED1OoRASpqrQIMD3kB+HIpAapjiQPChJ7+Ca5VA0RZ4QHslLj9gQS5BSatEQYKHHUEBoddAD/sOQGA/2UBkbIhAXDqSPs/bKL9+L8dA8WoaQWPLNUEE9LdAVfQJvY2vaD8IdyZBBSxIQeBnIEE6bd+6CO+JQFQOWb/Wt7lAPb0wQUniNkHNtl0/HviKQKBzb0DwQwFA7loiQWznNkHitR4/2ZPYQC2oB0Ej7rRA89ksQZj/PEBbqcxAq/IYQfJMqUCBbgFBwMnDQJJp1j+/Vw/AgnK8QJAWHkFFBVu/BVsivx6ZK0Ej/gc/N+t/P2PIE0F+yXw/6JE6QeMG679nHQJBftdfQC/ggUCrkdu/KJxsvuoGy0Bkous/YqWuQJ9oTL5CQpO+wMrOQFvXIkFzJcS+g5A3QRAAgkD7xR9BD1Q8QVDsDUEzCeZAf9HcQBwUCL8+9iBBbaFEQe63qUAEMDhBWYuYv1UdKkEU2iLAMZeSv2fMQ0BtsypBQJ9TPvnoskACFKlA4g2sQGLf+L47qRDA43o4PgrdzUCoYtxAeI+ev5Ra0UB9oM9AmUr8PsaCtEA1CJBAE1rzv4WAu0Bq7VA9IOE4QUKJ5kDnSMC/vbEIQJYp9D8HCtlAaSYfQR3RHr82Kd1AI3UtQQSYLUH5BcVAR2efP+HlGz/doAY/NmYkQT87wj6Jr7dAOm0fQTVweEBjgqVAkiI9QUPUzkBFqChBgxG2QFVGIUAn1wtB1H06Qb7+TECSkBVBp9KxP5WMwUA8GSdB2Ej8vxtejT+VkN4/ldIkQaPKCkFTatJAV1zBPx6edEAFZ0k/4J7uQIsu3EACOxzA1RobQTkLHL8er4pAxmtwPkMOqj9jTyZBkLdgv1LYIL5bBDZBADKRQBMYZUChSOdA8QliPs9yJEH+eeRA2visvgBWgEChlCw/46MIwNWjpj/h4sdADPMBQYaqLUFJQN8/b7v5Pxbr60ALeL9Auu7bQEEh5UAe0s1AtRoCQRfVwb8wQwS+B8iIuyTPkUA4vctAT7Q5Qc0bh0AWPURB+zWXQN8IDsBBfWS+IzfqQBpIsUBqrUo/lkzOQP41MD+caY5AC4bHv7Y40EDG3KpATX7fQBvly0A56RI/wMuHQIFFgr8Twtc/RBjlPb4I7kCXwddAj//tQFHCBUDYXOY/URjWP0xcGUG3kro/y7yYQLngHUFOjHlAojW/P4EMikBdTwJBaQZHP4i9PEGzLkRBr63bPatqtL93765AsrbCP5HVCj/7RJE+FjMMwL2nOkFLHpxADtZJv+j3pkB0pAo+W74sPkzSBkFLU4e+fvybv/e7tEAGSCpBrINHPoOv+z8I4sNAdkfkv6p9IkFPvC1B+ypBQbTgEz/AKKdAny86QfWPyL7F5h5BMh99QP7t20A/uqU+vPFFPS7ehkB5Bie/W412QDtlhj/Yi9hAl0Yvv6o2OD/X5d0/A/Xzvcc6NT81k7c/rEssQS0srr8TC9c/iCmCv265k0BGKapA5EInQXQjtj9E+CpBgZUXvuUbokBGO8y+/8ocwKgxQ0G2JbhAlYeLvmI5M7+4dAtBhJIPQOEIWj+8E89ANls9v8nsr0A0/DVBcVoMP1Q3O0EUaJlAMtS1QMcU20AciAw/ssAzQbuSxT+9ZGZAvYf0QNU9Xr85aL1AxXi2P00Zaj1UYQZAGYTtQLB/VkBGjtW/5tozQUAFFEG0n52/yugkP61CjD/BY7Q/mgirPzaiKD9iMju/U7HkQBKth0Dqt5o/bwYpQSiM1L9HJ8Y/Aal2QOKFw0AY5Nk9LPLJQDVZlT8lNwdA3rJJP8dPYECR+Wy/CqHAQFM8SED6lfm97/YowDM2B78ZIwlAh6OuQC8+Gb8XGm4/aKNWPosswD87Jly+hnQaQTu57EBsjDhBnAkiv6DqPL8SkRlBTXEkQVMrpD9HG85Akh53QFISAkGaXzNBktSQPxY9FUG8toRAzEPgQLd4AUFFhho8dRFSQKDbB0BuetlAkj2HPszKhkDOZJs+8hoKwJNOAkHSFZhADWvFQLIHlb5EkWZAOiEev8szHb+k60NB34g5QX8Oz0DpneW/GCctQS4wxEAi1dq+3L1Svw3DqT+kvz5BehUAQfk/kb2TkADAWpEDQZDBLEEIzyNBhW54QPWCvkDbFaFAB+mSvROUCECUNLNAdP6GQC7m7UC2dc9A86i1QCLKiL/sTdFAQ2srQdqcJcC8Zjy/lhVcv0zDJMAqu9FA5lIgQYqYlL+jANe/amRgP2fod0DDShhB3OwCQS3dNEF3eTBBV0/tQNpX4EAMkK8/MuR1QDyHiT7NiBHAaLM9QV+bHL+tYYRANGUKwBC9wkB5fnq/piydQPh7IsBR8NJAHNESQdra+kDtps9A29LMQLV/Z79rRaw/LEoWwGxew0Aka6i9fCU2QWbZKkFlui1BgsfTQMeTAkAMnDRB/k0vQRhvGr+SX6hArbluvoMJuD/5GJpAkoPtP+If6r8lMIA9fALXQEGtWkDvbUNBvqWFPZee4r4a+rA/jWo1QQeU0EDUdBy/CNvCQL5yH0HZz0lBpAQJQcDSA8Bxacs/aUB1P6v2mECff04/A714PhG3zUBR37hA/vcGQM6OYT8k38dAEAPUQDkeNkHIJBy/f8w5PxyEOEBpSuNAO1dWv6SFV7+nQTZB6NeyQD8ouUAQdMpARvS2P93ZQEEH36pAXa7ZQE6C80C5F1O/koTmQOikM0EuFxXAYCIRQNpG00AvqUpAx4GDQCJsiD59owhBbCIJQOaOFUE3w9BA2Ie9QDnsvz9XPj9BCoL2P0kixUBJjLBA83+gQMRAfkCerB3APLi4QMK+tz8m/R5B4w5pQAWOhEDAtONAIt+AQPl8DEED56K+/d3aQO96QUFok5RAXCzrPSpF70Dzw8VAA0tDQbzOvkDG7FC/LO3IQGQnoD+/bQVBIoW9QPZg3L86SRxBaSGkQFPMO0FtjwHANUVgQA+AYEC1hr1AyvMgQS2zX0AbkJdA4IKcQOcmKkH1D8VAhYAgQOzwbL+AXsVAZiXkQCU5xED+3IBAuoAZQRMvZT9YCR9BxSmkP7Qqkz9FsnRAEwCaQL5nDEFLkTBBnu+WPyeyzUC4y+1A+ziWQM6f3j+Z/7VAzP57QBPfMEG9ZlQ+M8rNQIkE474GhOM+9cnaP8RkDMC/u9RAKXtwv0jY4D+vke5AnSzOQLnrMUGtO+JAliMLQUqR/z+cDbU/m/c2QTKT6kCeGZ5AAD46Qe8XdUAWLiFBQGrev+7iBUDXKWRA8yEMQH+/y0AzJiFBQinTQHrLMEFI7XZACssIwNWePz4Ib8tAf/eavnKj5T78yRDADLY1v1f0n0AKLhM+kLBsQOKOHj+guuE/eXwjQJ4+80C9kFe/0tqrQLO9F0Bk09u9JOYzQXi+DT/JNb6+EVQMQZSmq0BxDZtAFvaTP5K8mkD+Kys/dWdBv4RaoUA8ArpAOzhGvvavikDh9gw9s6C3QBExtj8TC7pAZPAUQRmY70B9N71AXiOdQGpo9z82sIU61RghwCieYkBUcdpARQU8QX7rO0GZ3hnACbSeQH9/Qb8Izf5A4aFdQH0C0EB1+yS/Ro4cQV6MF8DpRuO/z3M8vmADw79nsuc9naR/P9spYL3ojNhANqHDQLY+JUF0nh9B2OOQP50l2EA4/mi/pF1mQBH2yUBdhC9AQvoXv0M5L0HfUSVAW9PgQJ7x9UBH+bJATaizQMYIoUCorMg/DMRxv9Xdkz1nNKk/nGIdQNOuHT9a5Ga/jO+0QLESIMCDv55AxFbyPxhvIcBHRCe/zpqJQOOR9kDmzoE+yuB7QKkbsT4qI4FAtSX9QIXRqEBWfZ+98XoJwNQvsEB31rU/6H8dQTL8mkCTfSvAZSbQQH2FOkGUbCe/R8DDvysCXT+TXCTAWAcBQfm5xUBXdifA0+OYP3jZwkAmM+hA3EX0P5veYL7lG5s+2rnwv2Twk0AsQUBBSXGJvlqe0kAqdUA/kCwPwM0oMUH9SA1Bve4vQfvvzkAUOi5B7QVHQDILPUEkT29ALTz2QDGDK0FqiMg/MPEOv5WkB78QesNAdAxJv/ylsUCFCku+3VcgQXXaCcCHrDdBMCvtQBMo0kAMq4o+CYQzQNC9N0ErFgfAeeYSQUGf70BMVLNA59ekv2DTa78w2S9BBAqfQIAR0z+aDW1A8AVzQBUiKcA50M1AHSLZQN/g7b3nRDZBZMuuv1dr10AID7pAAfQjQf7nP78QsbI/AEw/v9L8wj+LhgJBtf82QTUpFEG+NhpAJzACwMUblkBdNzZBdCrOv2nKh74wniFBJLDQP+8nRD/HkoNADa1FQMO920BFPNE/Wv9/P61XfkCuaxxBU1otQUE3OUEA/PBAf7OlP+LcK8DcSWm/smFpvnOayEDOuoZA5ugIwIoVz0BskMZAbDEkQSa4tT/wADtBCfnwQDZRk0CJaaRAhUmAQBEnAT/WBRs/4WSNQA6PiD7z2EI/qBHpvwoqR0GBXao/QMpUP+tmOz8awyFBuDk4QeSlqUAZ395ABmzOPnYUVUAQTgJAEh4pQdzKNkHecUFBXOG5QNJcmr9mVPFAACIOQSqOuEB8bc8/nub8v5xgqj88adw/QVg0QeZZQUFddepAk2tEQRYr2T5Nje1AcRvLP7sn1EDgJj5BwRDWQLZJqb2iedVA0xnhQOK71kCfSp0/WiluP4I7QkEV1+hAXlXHPpM0mEBu1dBAOYFDQUNY2kCprsxA+T0KQGCHCL5fMBVBEQrFQLqFz0BqJydBvSCFQIlthj8mZDZBuLTuQCRAK0HWgfg9HCoQPl7jGUGH3opAb0RvvuOMC7+DqjpBJinuQIrG1UBGIalAKLbnPtrkrT5m7ARBOmluQEOfKUGIcee/hrnXQKRiAECFFMo+71QSQUmNSL/WbA5B+ycUvqTiBj9d5uA+iX2evlFbKcDaH2VAwfC1QEgk0D8S1s89i2IMQel5Gz8iL9VAzPKePzUfvECabjBB9Wlav/G/h0A03QpBs/WqQHSoYkDcqQhBRGN/QBECbj9GhvpANh6eQPibOD/jp59AuBBGQUEq8kCkCW2+Jx/cP5Be8r+ZhJ5ASmEgv7eB3kA0rcc/49lBQWh16b3qRjo/5nT4QPagLz++Ti1BNzJJPmdGKkEK5VhAN1m1QAhd4UDQVtNAtdv9PxzB378pO96+ZdJFPwwJuz4NYc1ADRfQQKIN70CuGpZAeSNgvos2HEEwZlpAWsstQW3KOD9BBss/fDNjvwdJwT+JqfRAtTesQJdFJ8AVy85AyTi4PRzAtUCdcpdAavbYPfVoDUFEr6Q/Pt7yP8qShUBU5t9AtmyBQFIH6UBL+NZAIPrAQIzlJT8fPx7A2nemvqLZfkCMrWxAMFFAQQhEIb81xpW/7q4LQCD7HEGGzxDAQFM6QcOy9b9mOdhARvFiPt3o+j9tDhVBBr+7P5WXnD/3WeRAG/eaQDMdj0ARRfS/g7wwQYb/ukCwJe+/m1TRQG4kvUBDSx8+209Kv50B6b8USLFAMQe2QEawREGh6elA3jECQaFLmT+t3DxBPLYdQbCHsz+wgCFBMVCDQHToCL+ynYq/S5nBQM4ilr8oZ4VAwgnjQPwz3z44lEJB2J11QBVL0UBRs/Q/AKoiQUqfPEGTe7NAmb0dQZ4Z1EDy26A9P7GmP+XYxkA88CFAI6kZP86q5UAVbB9BKb+5QGfSuL7T6XhAZ2ETQfLOxT6FmsM/y0WuP4oNyj81YyFB1p9YQE2rGsCblcw/SdJkQNOdA0HQ9AhAhpoEPyvQHT8t9X5AUSKBvsi9Hj/n85Y/F4h3QCJnL0HOR3NAoT3uQFnOF0HeXYFAryvbvoJ2KUAW9ZA/JaveQETKMUGynq1AmnkLQZriGsDqCJS+eflnP5Bq9L+41989k0E0QXj9kD/shkRBRvj5QBYax0B980lBkc7Tv2TvAMD0Xnq/KpqWPXK9gEB+0IVA61cvQThHykCvigdAJCYSQc9aM0FE8rBAIHOcQB8bIUFHUdU/uVfQPP3uTkAeQQTA2jG6QE8dQL3NHx4/HqxBQYFWV7/1jLRAG8sxQWcyij/2DvRA4C8fv88ifUBp1Vo9We1BQV+GsD+WUio/x2IgQWTpy0BOWag/143eQGKthkChzCpBMyE3Qd+3zkCDZIRAS/m4QLo1Ar41bmhA8gkrQUNkNUEAKwi/eE/CQLenMUG5+9dATdgov9+drUAuSNc+GBqeQP5jQb+21b9AkwlFQWhOVkDjMsY/ZqveQI5fHUGldKFAWbWkQDI/l0C2SwhAHoaxQNs9XECWyyJBrDDoPzPyiT/E16xAy7fgPzjgoT4OUdlA8977QIC0BUAzJ1k/nmUHP3m2S7+sAXJAHsBYQNDpB0GlZw1BOGYhQV0d/j4pjPU/a75IP+Ig2T9B9XM/tLz9QMPbCz+LUfo+HxGtQOe5IEFijkJBOW9Zv1tBwECBh0JB8kOZP9KbKkFE/VQ+XjwjQTELDb8EUVW/dpibQMrEhkBzmS9BtlR0Pn8z8jvdZ3hAXWo9QdR/DUCZW7i/iWFFQQY+OkGjX40+gwEHv30UlEDR2R5BwzdUQPZvKEH68eO/5HBqQHXxcEDvKsBAuoiKQLjQA0FH1TS/+U9BP8jKDUEWHrA/1VwOQcV+ib8B9ks+KEJBQRBEpECx9MRAZnD4PzToKUG5hJY/wGvjP6i6I0F6As5A3BojQQFzQkHuyNlAtGslQZeTMEGLjyW//bREQVL4NEEU872+iP+LPxc1/Tw6Mum/L606Qfbx7j9zkZw/0QvmPsW+vkDdhJBA4QnUv4ByskDhgb2/7uM0QT3OOj/ZH61AZZQJQauixkALYvJAn77EP7kgcUDkZwE/eLM6QUGEt0DXtZ5A81I3QW6dHz/SzBJBNq5lvkHuN0FJcKhA2LPvP1jwQkE+Wa5Axwn0v0sPMUFG7QBBKj3CPpuydr4+qjg/tVVSvs1OLUHeIs1AKa9pQA8pCcD3G2C/wqvnQLe2H0GTntQ/xn/qP8TqiD/di5k/emXSQN41ib6oiYO+AGAuQeZizkBkxtg/pm4lQWRrFL9budZAorjRv1ykDj+/ZUC+jYW4P3bBq0Cz25ZAGRy6QGo1+EB45UZBrqy5PQ1RKj/I7EdAynvHQAQ7Dz/WmjC+JsUdv0Bd0D9p9HFANlw1QVns2T6rMWM9LwtfvuYeMEH5hKdAXNTjv7plxkCOh9VAFbSVQEgJJ0EMcGc/QePUQN+YJL/iH69Ab+G9PnxSJUEO+wFBPJ/QQHKrKkF/ORtBLjaYvY8NHUEmg0k/bzIsQK27tD+nkm4+XzDSv+2CYj/vyjpBYAtJv343KkHQLMo/6AYKv9qUpj8bDtNAEkNxQO6tg75NA8JAXoIYvlIOs0AgjWc/gC8nQErYv0BM4bNAjHaHQNfZjUCMjzVBk9+eQGXsxj/hGpFAQ2cdPRcPpEDbJ/A/eiW6QGIfDEGwWzdB1DQ4QT/JRUHRniRBmWC6PzNT7EDH/R5BJlLRQJwpu0BEUDFBvXmZQB8o6L+j3JRAacxuQKIDkr7uWg6/NA9EQVEJuUBa2gS/CFgHQLM4kkANuARB0E3bPgSxMUHu1a8/SSI1PmO2KEFnacVAT3l9P1YEKT9Woc5ADk+gP8rTiECTCUBBhwPNQOyquEAO72BAt4YgQen63L4w7EO/W/kpP7xrJ0HTEKM/2QirQInJAD+UlVxA47T2vybrGkB5zmRAbjsPwIJ9lUBingbAvkgcQcZIoj+2D8JAsZ+nP2TDSr7OXWZAg4XuQDSHxkAJr8VAPaYfQdi39L+WPyVBv/iYvp/Cfz+N63W/WOO1P50pqEBYt+q+vH0VwLrKQUHaJa5ArlPVQBXAOkEIiYc/pGn1v+ZYVUCW8ItArMckQXG3AkGgMcS+yZAiwKNnoD8WnzpBWRHwPrOZCEFpqGU+5LITQVtsJ0Ei+XJAEWgnQZWgOkGqgzlBNd4pQU2OmkCwUDQ/9VyBQNCvzkD6AipBadzsQI3e1UAH5JK/MqYOwKQDLEHJhB9BDNfwPou2KT9RDUG/2ARqvpovAkFuKAU/bin3QOaHbkD31qFA94qBPi4sZj/m4pI/XEiJP1ZBij8fr5lA414JPv0j1j3rrfE9IoUUQU0QgD+lAlk+tX8MQaguAj7K0PC/9lSrPivX10Aq62JA6QwFQbsWPEERH1VAyHUfQfFxzUArbc4+w4KRPy8QtUBp07VAQel5vvl92kA9ueRAxJWZPTAsuUBJLEJB/O1FQdw7LUGXLbNAkpduQB2bA8CCUqE/AfXCv5hevUB61q0/vchbQJCLNkCLavBAKCjdQDdnm0DHz7Y/0KatQDW0SD+kzNRAdZ9MQMSEs0A0wUBBTh/RQE2RzUDAFURBXvYkvl7FBT0rmak/m1UjQbCIYEBA1Qi+VTH9QJqjN0EuAGBAdawJQaRvEcCxpbpA7fELv/PBLL+4HDQ/8de2vli4KkFDdVG/DdUTwAMPtr/lKJhAeUuGQBKCoEAks1U/RcAqQdeSyUA9p9lAUtgoQe/nEcABlXVAY9hRPnkd8UBW5ZRAAzvkviJxFcBdTVq+W0PnQCtorkCBN92/OB4BQXwJBsDxeDhB0/LWvsUIkDseTWdAn8GuQGkPuz1oxYVAqTW3v7RXp0C2Xz5BD1FrvwUOtUBembBAX1s8P5k2Mr8FVDJBDo8XwOxA3UAPi6FAj/gAwHgQ178Ey6dAMiAMQYfE+D5L4xE9mOpUv52bB0FMNUS/n6keQXbwPEEM0dpAxoQtwF0egj788tRANrBBQd+T7kD6T9U/ZT2hvrTZRz9hrqdA8Xo1vcb0fUDjRUq/ZtbhQGm2R79ujyBBWo3iP6/0aj4YY1q/OX4fvzvzjz+FDFpAB3veQNJ+pUAL1lI/GrqLvpwdDUEM8ZpA0jxEQb0g9z82eCJB9UKrQI9l+0CYkQC/+P0AQEwdcUC69EJBllbzvrbxI0FTHc0/FRRbQHGoGkAZhBA9ab8gQJA+E0HPp5FAtToHwPGmLkE10OlA/dRpQPuzQEFG1lK/tBRrv8a6sECNphVBl7qrQFyXjb68vcO/Q7cEP/IwLUFDGxlBLbH3P9JadkBA5RNAC9hgQD5cdkANwU+/wsbuPzLby0CrXk+/69QSQfIFukDRDcNAgJSVQGQrob4Q5Ms/bTRDQcvfh0BF5/O/1kI1QShuPj/jTjxBU+98PrYsoD++V89AqHfIQFLRGUFYqsJA2JSyP0Dpbj+SpCFBa92QQIM1B0G+PyO/u0y3QP+/jz+Ad/c/+mDFP6ByWkD4ejZB1GFlQE7G7z+NeglAMGyEv5kpIEHuPRpB9HbQQIHq7r9cBZ9AlVACQZ3sGUH1t0JBSYwrQa+Y1L/6YGlArTS3QDApkz8IISBBgO0gQZdbYL+bR+dAYkMkQVdhKEF18c5AbBdEQfHo+kBoJkI/XIQeQdCLhkAofCZBLgCNQOZqgj+OEb5ARMkrPlNi6EDBlPm/NrkFQf+XsUDxNoJAHSkMQFa0jj9ZvXlAlHXWQGLSkz/M/MZAunjAPsQdtUAsa6BAKuUeP7+lxUDvpZg/vMGQPJSXDEB7ZAhBdpKCPi7be74Ubfw+CHuyQAaxzUBWrau/A/O8PgNbij/3VH++sgQeQO3/2kA8Sr2/Ac4SwB8v6kD0m1BAWwYcP2ZOjr9D2ZZADqLmP/U7G0F7a4BA/eJBQd73tkB+TRRBZY6wQL1ONUFR3YM++B3KP3wSh0Bv6g1B2HCwQAWaI0Ew6zpB8nJGvqsusUBKCeG/ndl0QB88FkDpHyvAkbo5QaceoUDiSCpBXaPiQET6IEGAKM9AAV0TwF79z0CQfkk/EBBYvk8a30DnoKa9gynmQHG3mj8wVTg/61Prv8DS6D+kVptAD6sav/sIr0C/BilBPbugQFaGgj9/GbdAWtOJQJ44M7+UdldAhfCeQD8/vkD9fAbAOk5/QBRZGkHXoMRADaldQIYiDEGQbs0/dL0uQdqjQkGZHRA+9Yj3vqre+EBaUARB0V7lPqns2EAJyLdAzGHRPz1IlUDOtyS/Tk2jPtWFjUCdVpM/qmyfQKFdnz/e478/Amorv2O3CUD71ddAWrPQQIUq7T9M2lpAl7AXwCM/pkDq9mJA6wiWPNXz3z91qAVBHYsqQfERfkARPytBAImpQGbUpkAEtxHALcc1QS+qBkD5mK1Am4hYQMgNsj4WSKlACw47P+RnMkHgRDk/g8MqQToP8z0FMiVBJ1VdQJHQyL9/M+NAoH5KQPmiMEE9KA9B7DIgQSrssEBTUBfAqgAYwPqPIsDvD/9AMGNJQUUysD6q2jxB7tQsQYl6w0BMJ8RAeGMpQb1TYT/AR6xALPadPx4DWz78Nxm/tbatQHEPTkAnJBTAXsVDQdDiAUE+3Ag+obLJP5JUyEChFq9A/5b9Pu3JU0DIp81AGxscQfxfI0C5c41AjUeLQKZIwUBr2BlAsbqTP1rSdD8U/hxBT2wDQZspUL9fmPVAaYyMP1DXp0DvUotAzqL6QK1UG8As9Ek+w8/iv9U710B8J88/5vBoQPzfXjz3Rka+9qzBvvJGaD4EfJhAeUuuQCbymj9OMTpB7znMvlzbkz40WF9AXYAxP3/tCMDsvOdAopz6vloHRz+cxN4/KOoLwIFKG78717JAEHenQMNg4UDdDN5AacSsQDAHIkGUhShAcPX4QAuPuEAFMu6+o/EFQGMoBz/Y4xu/b2QpQarUIkG7YaNAGB0ovqD/77/LWrJAMKHlQJ/pmEBBPpo/qE/uvjfNPEHnfbhA/kx7QLdr7j9BQ/0/5I0cQY1ZKT8PpLVAUu6Bv7B1RUH+ia1A67P+vMjTdEAX8G9AXIanQDvBi0D2w7FAOZ7nP8dv8kAbvJZAfbqyQFCv5L58WeRA/OizQObhUb/PApc/ZpSjQO6OMD9SDS5B95btQPvRW7+4uEVBt6AWwGKnQEHBP+0+JQd9PH+xRr6fxANBFIj8Pz4uq0B02KY/kLM/PoAGEcAS+6hA1KKIQAaC1T+Li21AgynyPwY0BcCpRLdAjuIFvxtNPkHjTdBAcMqsP4nEG7/PQq1ACuLqQIOom0DE/g6+5oYgQZ2fVkB2W8JADGOjP+qXdkAwQMa+qHLEQExoQkBuYpRA+h/aQM3byD5m4BdAzQW+QCDqVj/0hBdB8M7sQN6fKUE37qM/EZ5BvvYMqUDevNFAo85AQQRmV0BmzZdA6JQKQbXCK0GyLsRAZBALQV4b2T0VSVFArh+LQL6j6r/2J4RAsltRP/XAoECNxzZBjagYQfEnIUHL1j9ByxcfQXxhJUFluSlBte0bv0ZlKUHa2p0+1c+sP+WbP0E227w/EwWlQPwYAECuycVAh0czPG8VBMAILaE/vOl4QLxPUD8Hva5AQqguQZDE2UCOf9k/i5P+v6NFz0BtPQpAsM4jQQxV/b7q5UFBy/c9PwiOQEEA57RAVwsjQRq1BEDg7Ek+aOQuP1ryfD8MdVm/BZsQQWpHtUBfmbVAr8UwQW8iSj7v/y5BYka3Pt0qIEH9bYxAvzgmQUYl7b/PEq4/YvARwMLG5j9VffFADYK+QEjnMEHSnNFAfnpkQD/SEcAbC6A/GA4HQXpRmT/+aU++hFfRQMM3wUBazZ5AxRHMPTaiCz0PcOm+dVFbQPsYQkHw2AW/pMtFQZWcVkDu+zhB4+XwQKr0GUFIStQ+q4MiQUDnvL9hm/BAhWMzP4VKs0C6HZFAY7e9vns5Wj9Y9sI/4guGQI3xHj4hPDBBb+64QAw9JkFTYRZAodAmQYPsHUEWUoVAPysDQQWX6L+zh2JA5DPRQIOd2kDYzQ1Avx0GvwVeL0Fp/VpArKVaQMh2rEAJLRe/fjkawIDKhkC0aMS+WLAuQdxxsEADc6I/t97kPDwmCz9G0i3A382kQDC7FEEDGQJA3ZbrQNr6JsB+8jtBoD8GQZXuKEElyFu/ubTOQGlnwEDkEC9BhC88vwedAkFHgrw//EHTQD8930CEW50/rKsLQUuf0UCKcDa/dxuKQAS02r6eqMVAHxj1P1lMoUABUTVBlQv3P/7dHkG4A8VAYIITQX6TfUCXuVO/YP/mvqmbKkH7oDJBlN8iwPNjwz8xWj5B0wMhQYE1vEBh3uFAgJnnv+xT1j4s+0RB1k42QazprkC7X+tApHxsQL27UL+s5AhBXA3bQBhtsUAJBipBjTEpv/i/pkDGOGFA4OmIPrxlEb+rdDtBtwK6P/Felj+yN+BALN6JQDYgB8BD1do90YpAQbezs0D23oY/yi3iQB46K7/3OAZAtaEbQaaZGkFRBClB/oiWP50LSD/DD7RATKGCQJCcmj+U9gJB7I27vs3+YEA4yShBxOE/QZ74uL9/1/a+lmoBPwr/OD+QIQBA2p9cPxx7br//gQjA0F5FQT8oaL7v9xxBhrnEQBYbsEDKRupAuhNvP9ITs0CXQ1E/snUYQXenAkAnNhm/uZqeQKHLKUHNWZhAaZjCQL6eJUEQe/c/IBfWP0kM0UBBODJBul4eQUTTAz9dd99AXWh4P5UWLkHf0jhBPcy5QLnSq0AHwnVAjhKOvstdcUA9PvJAInE4QYV52L+XhztBERbpQFj6VkDGjJo/r7YfQWB9rD+DgsxASDHcQGqXAkFDIhBAS4wAv8+NeT+u4nU+y0i9QORMEkHTk8w/8Lo0QT6WjUCvDSNBsP+3vn4C4UAZbSFBN5vXPxLZ10AijYBA2B8sQYhPOr/Bq4y/5gM0QV+pJb+Ay19AfHSqQB2II7/cHD48meGfQBVDA0EWHItAS3nxPmCttL5eFjpBb/DyQLGFIUF9tZ9AZAMgQbHhOkGEtfdA+V0dP7lyMz8eeK9AvjLAvuO/T0AI41Q/1jgkQWsZBUC3KD+/3XPYQFHoBj8sASU/QGoAQKinIUFewJc/qIPDQDPmY0DaGa6+WvqJQOU3XL2eS+k+Pt0AQb1+mT9WD+4/EX3gP0bp1kBILse+kgbMQEBCcUBTzzJBjUkEQLxcrEAmjJM+LtClP+gFrkAJCexASn8hQe05xz4JkrtAxWiOPylEO78k+TxBZNgdQfFfaz/n0M1ASMiKQCr6F0FzKtZAaclkQLOg3UC1nGtAvj+RP0kbNEH3++JAbvIBQQ6Jl0BVYMK+UKOcvLtRqL5U0jxB/lohQXPy9j/AicJA4WiwvqPJRkE2pR9BHiHFQES327+Iaac/A4MiQVcYAUAmO/1AEhUJQcc4WUAkrupAczmqv07cyECfWVRARqPJP/szw0ASyh5BW3abQMcVKT84sblAuxMMQcqg+EBUs1VA349/QLZuO0CHiJU+GpHAP/Gq80CewSBBiYZJPla+CEEx9rtAhnvMQGpGHkF4mQVB30LuQNCKSUALM9S/98iOv/PApUDTuXS//cEkQQTfqUD/JpU/Mt3HPlwKpUADDQ6/24HpP+UqtkCteM8/sdzRQEhzv70Xhng/vGPEQCdEF8CcLdJAY1ZDQdIVEUFpy0FBxritQKtVdUDq7kpBGwfIQImx1UCDnvQ/w4U6QQYtc0DKaNhAw0AfQSfRKz9D6ytB2/l3QLtgBEEevShBAnzcv6uqLkEnOxtB0+qOQA6qr71CUoi+QryiQMhkiT/4/4lADMTKP3Ag3kAt4DNBhehwv70g2b1QHq9AmhiaQANDQEE+lvBAUgUXQZRiu0CgD1NAv7i5v/ulPUEJZdxAO3mrQJqJNkE7TalAATTmPP8+RkFZNP5AJuYKP/aen0Dbsko+K6uNPstmPEFUycxA9kJsvxvZAkBCRKk+8BudQG7WIUHvADM/tervPxnsQkHr/a1A9LLuQE02vj5adYtAauWVP1KKwj932JY/ehp2QFCztkAMpihBgCU+QQkyrUBGRQBBh+q3QCYpREH+MZ5AO/qzQJcKoj9Iu+FARbSjQGJX5L51kbdAS8QxvybG7UCP8Hg+CYqoPfatZECmsZZAe9yIQPSP40BidKZAEsjkQNyAwkBCWuY/xGU2PjhsKT/onyvA4S8kP5AmnEBG8iBBwUugQAjGHUG+T+9Am9Z9QDfAmj+F1xpBt+2pQIvRdkCOfPA/vUK0QLhNQ752uYY/enPiQPBfn0DtTS0+7FFyP7LYsEC4CQPAwYj6Pti0a0DUe7W+K8dMP1JiN79L1J9AMRN/QMqgWkBzxRxBm/U/PoK7jj8Bx3ZAFTybvyoGqUDhFttAPXAzQR6cuEB7xJBAaq4yQZGh5T+0uFJA9FqsQBOu70ADflY+GkshQVUehD7Bng1B4YifQODYUED7iBi/39PTP9RMJkFHcDRBE8gavwuP0T8RrD9BTlI7QOD0ZD7Vu4NA+akqQaxn+7/acwJBZjIYQemEG79saytBs+jDv70AH0GMJxLANCybv2RDiEAl0G1AuJI9QGNoa0Agvbw9A07qvyf7WkDEque/eH8CQUgPuD43/ShB2GPCQOFSx0C+VihBT0ALQFndN0HqswVBMDCtP+CgUz8rcgRBWGMWPkNw7kC+fABAEAOCPs9l9jyzbgk/pGH6P0dzm7+gftVArolaQJZl8D+00oRA0gAtv1AqWECjm2+/9jVUv186j0AZrj5BeveQPbHnnj+y1iFBGjrCP9zkB8DgQWO+GGnTQA+ruEC4IuQ9SffWPxzvzkD2c2hAbAI0QeK7XUAJB9hAXdtYQLMWNUF0scU/88dxQDlH/z+LRgK/nf4+QW03skCsJPdARNP8QGf7i0ATvcRAPtC3QJi8qED1Zk2/NMoEvw8Ju0CQoaRAXaf/QBX9kL+C/yRBo1UdQU5PcECxhxfAy6YhQa/dUUD0qUNBzFXGv6/ETL6YD9RACu0eQTTI5r4jaw1Bu0OrP8hDp0CmxkdBRhIkQeSpxUBeHdVA0xSJQFdbCkE08BNBT3I/QfIexkDllX4/RPUVQfwygL6O7tFA4sIOQK6ukj9o039Aib1EQSCEBEALsGRAeUHlP6jQJEHq18I/Dy/eQLojIkGrpwrAILOcQENXeD+DDIu+6Wmgvjw1BEHfcPNArTfFv/87PkFmm5M+LTQ+QXv8TEDIs9s/dnaOP5WJIkGzrkNBr1efQPMBBUG6RDJBW9IJwHmKPEERVNFAJs3dv+OUbz+hbL8/NXfXQGJInD5vW4g+a+K3QNhQR0Ft4bdAmyADQf+mFUFMgOlAtDt2QEIiDsBkXSJB5lxZP+MkEEGpcGVAGlo2QblNKUGoU1q//DG1QKmUzEDUuvI/zFL/QPv6EMCKtsVAwg2kP5zbsj9nwZ0/DG4dQcxdmUDeN4NA2OtUv6uqlT7ciRRBaT9cQIAKA0Hcvj0/QPYbQTJsVT8TStVA6KkPQIeO7D9CUxm/xoI0QSYszT/XX75AfcpsQHw7EUGMjvk+GGBGPytFAj5VLuJAnB6+QOl9PD5GBg7AnkTDQAgVgUDPjSJBthNSP4iiCsCC9Pc/+BADwL20UkBKlE+977VOPqYEy0AJ/os++bvmPfx9oUAOcadAcIuXvxAlyEDeYho/V2MoQR1Puz954TpBXc8mQbiZC0Hg0Ue/k1StQG3/Z0Cpokq/97IUQM1FukC1DStB17RxQHRl2z+thSq92ggoQZ8GB0HYJr9A3KKcuokAsUAx5y1B6VfoQBNZCj8l7rNAIAwIQflAJMCLCSBBPFLNQD2o7T/7DZxA1MAtQdxBdL+AYna/r3fOPxpgkkChhZA/66+tQEDvL7+Ly0BBCRnYPZBGaT9v7CBBOm7aQCBGxb4LL9xAvcS8QFjzXL7StjdBybCDvnGibEDDsudAthu5QCx/O0GTuUNAV+CHPsO8JEAwZyJBomthQPKMtj81fStBl4kLwKZtAkGWQu0/4KXaQCDRzL4lKTRB+DvSvyaJREF7qlVAT8TfQIAkHUEkGZY/z6zcQKfnIUF6HKs/GFRAQY5i1T6J6gtB2YUOwIgZcT99hcs/M02YvjO5G0FPpMM+CCIqQTTlEEBCskhAyOC2PxE+PkBLePm9IUfAQFSvgL9MsK1AGjA8P/1Wmz642/5A8wElP0f750D5DAy+79tSQEZp7T/z4wdBQ9dIP6b/wT9Vq99AtorDQNKw0r/Ij8Q/bAnMQFhS6D/uR9xAfbPpQB2XaD+ftIq/UgL9QMNTCkHqafI/7VW4QNtAHz89eRZAa2uov8z4E0HFR51AauQUQXz6JcB6gxBA8tDPQGuBAkEP7ANBPWofvxKC3kAhAtNAX2jMQC2h80C6SjpBCiSMP2OSqT+yuidBdXLDQNp9nkAftpRAGMhUQLmT80B2ePg/sFTlQJJpYb9tEiNBg5i0PxTWdUDjSkhB6qgqQSOF3kC4eLlAyDaEPn+vsz8ugDpBzX8TQE/5+z/tfag/nQh5PWVM9kC2R+VAjv/zQHw+rz8bJmZApcqDQOWjBr8A5J0/SKgRP74SCL/DWtNAb/GrQCwvIUGbLB2/89rrQGwd6EBG+jNBt88XQULf3kAGz8dAwlTxPywwlUDckkM/+3LUv5dlA0A4Zf9Ac4pwQJvnMUH2uxFBNovyvjIjuz47L8VATr7FQHNzJMClToZAtQEaQXx5AEHi1ddAfs6SP/mBM0FY2HA/L4PNP2PlA0FAStW+tly8QFP8pkDLwIhAkbjAQCQoY0A6aYFArnYqQdZjjUAXnTc/Y4WIvhsII78o+OZASKsfv84wMkEP/jBBBzJ7QFUxekCotoNAlVXJP3gdc0C+HgK+Og7NQKhqEb/08Ns/ojTLQEVpbkA4OEtAywolQYvK0kBa2ChBJRfoQLBtvL7mExpBNzg1v1Oi5T+yJQe+esp0QGni8D9RFtRAL+YrQc4F00AzK81AeW8BQabVX70Cdxi9TRlRQJSGVD8FQ9JA9DdgQJymQ79K1IU//6f5QNE+c0Cb1Pk/ojjUQFmnoUDEy/2/4OwsvyrUsUBdVaY/V8fBQNm0Wj8mUkJB9bImwOhQCMBDtdJAvSTZQFSSLUEMuoc/L056v3B5LkGvM9i/7pwuQZ0IPUHkwrFAw89xP/JmpL42px3AA5wAvLs8Y79datpAezrhQBjFHEH68w5BZWaYQPAHA0AWei4/zUDmv+fuNj+dzxVB7uiRv5qVzkC9z8xAxLusP4V/aD/OkCdBANogQdy0vUB0OqhAmjCjQKDLCMByVN6/ZOAbQZC9l74z2+u/2exmvx9t50DzYA1BZdjpvmHgU7+d90M8huHJQJFE/EBSCNO/EaXgP0d5ckBXL74/THWLQCTFzz537yJBRyYeQfPbYj8BSfa7j8XHPqA/NEFHJQ3A+JWCQH+kqkBPo0RBn8jNvcoD2D+aZhU/1G6QQK4VtkCIKDhBZbZ+Pk33wECXB2lAYyGJQJkOIUEs0XFApNifQKMXR0Hjhcu+6YqWP47G6kBxicNA7sI5P8OELT8DWwXAIhGPvn0OM0EOnbBAA0gkwCZbC0HzRxNB724aQfnZR79YEUs/TmHmPer4fEAhWn5AjKwRQb8okkAqu7BAjuL8P8bF/z4XPUJB8W8owCPm/73foDVBgGVGQfUqlEDexU1A/4YCQM/jE8BuJhFBIereQJQ/QkGCSuFA8FgCQUbHA7/kxe2+gVcIv+E3M0CRjM9AxqpVP44UBcD0094+M9G7QMMp0UAywwRAcg1CPw8aBEAdpf89V4xxQEFmAr/Vn0O/Dkv8Py1tKEF/xr1A/6ZSQCL15L+0SAm/xBNAQUq4oEDiHURBEJWFP582wr7pv9W+FEZNP10YWD40tDA+Xn3qQNiWlECb1nA/sO9JQTOJxUBIUp6/ydpMvoS3oUAiGrs/LjL1QI9JLEGC0Z9Afm12QOdZ3EAiPZ0/Rl/nvxdy5UDKqj4/UWSZQLs9Mb81ZjpBfMTkQDTPtEBY6sZAa94rQWj1hj4NZCe/zBOKQFZTmEBxNINA+lIvv4194kBmdOZAB2DoQHBBW0BJfFa/P22EQN1x2D5YyUFBphBIQUGv6T/ZMX9A0kEhQTF9nECBxyBBIBZSQFA1QEFjxXJAhPu7QGJ+9L/22iJBmZftvb4UBL9AHi8+griDvu5SLEF17SBB26ORQLIwzkDWFw1BfqCGQJPeREHSX7y/7PsnQW2hVj8GP7xA6wjiQLap0EB8afJAeqgVQY2dekD+Iqw9iZZJQW2dpz4n0hQ/f2iyP7gUnD5zcz9At54qwGZt1kCdFUVA/DCdPyyj0EAi2yW+GpmiP07ysEBvjV9An1+8P0oMBEH5yKlAlS21QIMXk0BA8DQ+sAa4P2nqQ0H8I8NAEJnLQMayMEHiDbZA6NPeQL7zt0AvjL5AoY6wPW4R6EBaljhB3jRMvx2fvkAfu7pACsDIQJQXMEGQyQ5BKWSQP+GsJj/oKrdA7fwfQB3p8b8kBohApEdvP/5K9r9+PMW/VQVvvhnYRUFA8Zc+mOFDQe4r0b6ArrZALksMvy+hGT+KKzk/EGAhQTOrC8B3X9i/bmjsQEuLyb96qK5ARCGYQGTUEr6QWBHAOJofQaPBLEFQcSFB1jTvQIaaNb/KfINAVl2Ov9m/vEBtIuBAJP8hwOpe2L48c1c98AWmQAxR0UDgJKhAoHLsQIiCLr5LSddAo0WlQFB/RUGZA89AgpgawAIn6z+Mws9AQWBXQE9d+EDD0sRAZtnpvNAAFkG332NA/4mTQNrkJb5JuR1BzgDtQAtX5kCuM9pAjM3FPyNe078JPji/gN2SPtQcK0GqJ29ArXmpvUNO1EDNu0BAW9PCvLQ61kCsu2xA8+XeQBPDvT5JP4hANYydv8tI3T+ePrk/SYg7P7SbSEEpZ3RA6SMQv9Qx2L+C2ZM/+pSlv0uRND8sAwRAp6euv3n0sr/QFB5BjRujQNCKLEH1PtlAfw60QAL9tT9kXBFBkSYVQZjt1ECOvSpBA4odQYa9yD+4HgTARnXhQFvez0BcGdNASghGP30OqT9qc3i/3HkzQfc41UABY+A/zl2oQDTV7L5FdJY/wm81Qf7H5j7U0EBB3lnDQFWMJ0HGRHG+JWs1Qfx8GEEegi5BaYALP7MChz/hEqo/9uTqP49vokBGRSVBbSwgQZBJxkAQsjg9xb2JQHQxA0HCJMJA/wZ5QDEZU0AK8d4+nLGrPp3hsECQ6ky/95H/Pg+5z0AmgY8/tF1bv3dHUr7GMCNBcZ1LQYcWt0ARP4xAHDgDQMspEUC/SjhBh0fkQO3IQL/LNUdBdpcHvxr5l77EDlpAIHsEQct/qz02rZ0/fAipQKdr0UA+3zK/hIOuQFJMIUGGTtxAkifLvFi/yUDr9KVA7b21QCgTjr5zB7VAhDewQCqiiz8Vvjk/RIdaQLiUR0GZoXBAgHosQczvU0DlHdc/NH1rQErehz80hzBBePCTP/3D879MsjFB5RB3QK4zUEBzSIBAwy+0PXp4mr98CdE/QEBLQbLDxz93VKJAhfK5QCaTHEFye65AgCAGvqaNfUBZtSBB+rjXP7Dknr7hlNi+Q3KBPyfb079t52tAB4VwQCtyzUDGb/s/zZfZQHCWxr7hqSY/S9MxQRUOij6L8TRBGZ42QRXkEL94M1S/QObTQEYc0kBQJtJAkfbhvzgILkFKWSVB3v8iv0v830AYFeQ/6E61QCS0cT5HZ9NA0qC+P1HauEAIh9VAJtJcvAE9q0C3qElBDu8rQeyFckDOKOpARnPfP0ncNkEXgvo9h7GiQPBXQkFhcQLAVYu1QAOOtkCL/lk/DwS/QI28er+ehhnAGmwmQUiY/j9CVoG+SYiGQB6eY0A9S2JAYi4OQVQWjb6PJKM/wScFwAiAw0A4z8+9dtTZQDbGAb+sMZlAw2V4vxL/40A2VEm/3OATQDHAWD73N8O/sko8QOLLsL4nbttA7WkXQVVCx0CBWydBS2MVQb6IEcBP8Gg/EQrqQO4DJcBj77c//TbUQI55t0Db0LhAuZyvQA6O6EDnjhY9dWnFQHzIJUGksn0+/ciOvttdbb/HHrdABBB1QAdac0DN6DpBoYKLP1RmREGMVx1BCIHiQEqGBb/EYwe/drx7P2KkDr0vbgu/WtO/QFd3OUHhAN9AH6w0QSppnT8DY26/dvEmwLCE9L9cBHc+C+W+vgMqqkCtrrU/xVwswJXF0r4UZdNAWnYkQTLAWL+Bl1tAOHP3vnVGgkCB4CVBGHfiP6KULUHAPVc+NQjjQCHIYUD+afNAiFwbQYAR7EAg7/I/uWhVP6f60b9nMnO/qNrEQG2MxT9rGs5AqibCQPHo1EBz5kg/I+ouQWnlbEDV3wRAFgnxQAUKM0EheipBnI9cQC9djkDG1gpBsaBjQG/7PUGJM5pArQJmv94DUz+Adbu+fY6DP1XDLkExKxS//oo/P5YdwD8Vt+VA7xPWvpmBRL9hAxZBjk4uQRGfQkEAjsg/fkA0P7OYJkE5a/FA05juQBnvKsCUQ65AH8DZv8E2J0HbKaO/PdugQIk000ANwAO/irehQG5dt0AUOlO/mK1fQJP9kD+dPx5AVvFJQZWeRUFk1Q9B0xY1QcELpT/ut95Ai+UkQRg+lz//QKE/UzehQJ9HGUG87TxBL3EEQVjOrD+0Ar4/ZC3xv5Uo20DH9ZpA9t9uv1v9PUG41jq/9yM/QQHftz96o59AU9vhQPrihz+CXNQ/THu4QM5nu0AHt1s/6fQNP130I0Fx8KFAvT9Dv4mmXkB/I7tAH0QhQU4ftECe6JRAQjK9PaMon0Ad6qu9yU6qQPEXGEF8TZ9AQVc9QWlQVD+ykhBB8UaZPy6RzkDPpzJBSBJqvw/m7UCzSVlA7OLQP3xtbUCg6fJAmBXJQN6ZtD9MuRFBH39wvzEv2j7K0zlByOkuvC8vpkBLufBAO8zdQF+Ju0B079E9HYV3vxBCC0GrQfu/6DYTQL1p8b82px6/t3WNQBKm1D9iEie/G5u4QK070EBcMvZAx8TMQEtztz0uttdAXnmuQFuQsj+/jMc94yTIP+HjG0EKS+NABQTBQFjr4L/9aaxAg54qv1yvPj7QAHNA5NHLQHWycUA+g4I+zVfMQIDWqD8DqRVBZysqQXpF50CAuy9BVPcsv9HSLUHYU/FAcbkXwHcWhD9p9VlA+vWVQCO1nkC76U08mHlXQKOuC0GNlRDAz94OP2dvNEGhNClB9/wNQAxgKkEGtNc+yQY7QWhs50Cef9pA2fsvQQ7cIkGVvJo9EN3pv0Tk20D4ihC/XTwfQYCsLUErQza/PKEIwGGKyD/ev/1AgDK2QC1tGUEPs2s+Lr3jPy8ADkFXPCNB5SjrQFshAsB0MaU/UU4TQL5XIUEeWHpA/MmYP0zno0DGMEA/6YkvQXlytEAuiow/WtvZQGSqJb9eScFAaLTTv4AwGUCOCN5A0KUoQUdwkj6AfwFBeYhdQDxTVz9IUaQ+iW6yQAHpEEBpbqk/GEETQTKwxz+Mfr9AQgUEv5+/1UCF7wzAQsMuwNZenkBDqwJB8PpKQLP52EBgZHM/cP8iQcjTJcAur5k/5Z6WQMaVh0DKOLA9UoTMQIniKb/LaMpAqvBAQVqIqECUtctA/uICQfTcQkG3HOO/LjIUwFKgzEDkJNZAB+E3QajHGEGwg/pArMpJQEykBEG5biI/YJF5QFcpm79A/0NBpx4gQVtSAUBgbIVAw+OTQPgU5UA1t2NAnIstQZk1pkAyE0BBXdMFQD78VUCdTohAG0+hP5KGUb87zkFBlslav7xXvkD0QWM+2Zz/PUKZVb+8q9Q/qOkXQIoIuUDItCRBML0lQffxV0AEEoa/2KWJPWRzKL9EOuhAwifmQBhuVr/AuJw+IS7LPw2d7EDJmD1Bu/MGP0+i0z+ssPpAjHzNQPuwLUE8Eim/b3YXQfWbnkBLNxY+JtMVQJkYJr9noKO/uZG3QLU9SkFywrZACZswQSZllEByVdJAvtNXQCyDGcDlCJtAQ9REv+Y6uEBKvK5ApoAHP7kUaEBkU8c//oTCPstQaUAU3lJAsnoWQUhts0CkzBRB4JgoQc3yn0BLHutAaEslwPcEl78TuHVAXK+jQFCmVUBAN7M/Bp8yQdWNAb9UXa4/X1SGvg==",
          "dtype": "f4"
         },
         "xaxis": "x",
         "y": {
          "bdata": "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",
          "dtype": "f4"
         },
         "yaxis": "y"
        }
       ],
       "layout": {
        "coloraxis": {
         "colorbar": {
          "title": {
           "text": "label"
          }
         },
         "colorscale": [
          [
           0,
           "#0d0887"
          ],
          [
           0.1111111111111111,
           "#46039f"
          ],
          [
           0.2222222222222222,
           "#7201a8"
          ],
          [
           0.3333333333333333,
           "#9c179e"
          ],
          [
           0.4444444444444444,
           "#bd3786"
          ],
          [
           0.5555555555555556,
           "#d8576b"
          ],
          [
           0.6666666666666666,
           "#ed7953"
          ],
          [
           0.7777777777777778,
           "#fb9f3a"
          ],
          [
           0.8888888888888888,
           "#fdca26"
          ],
          [
           1,
           "#f0f921"
          ]
         ]
        },
        "legend": {
         "tracegroupgap": 0
        },
        "template": {
         "data": {
          "bar": [
           {
            "error_x": {
             "color": "#2a3f5f"
            },
            "error_y": {
             "color": "#2a3f5f"
            },
            "marker": {
             "line": {
              "color": "#E5ECF6",
              "width": 0.5
             },
             "pattern": {
              "fillmode": "overlay",
              "size": 10,
              "solidity": 0.2
             }
            },
            "type": "bar"
           }
          ],
          "barpolar": [
           {
            "marker": {
             "line": {
              "color": "#E5ECF6",
              "width": 0.5
             },
             "pattern": {
              "fillmode": "overlay",
              "size": 10,
              "solidity": 0.2
             }
            },
            "type": "barpolar"
           }
          ],
          "carpet": [
           {
            "aaxis": {
             "endlinecolor": "#2a3f5f",
             "gridcolor": "white",
             "linecolor": "white",
             "minorgridcolor": "white",
             "startlinecolor": "#2a3f5f"
            },
            "baxis": {
             "endlinecolor": "#2a3f5f",
             "gridcolor": "white",
             "linecolor": "white",
             "minorgridcolor": "white",
             "startlinecolor": "#2a3f5f"
            },
            "type": "carpet"
           }
          ],
          "choropleth": [
           {
            "colorbar": {
             "outlinewidth": 0,
             "ticks": ""
            },
            "type": "choropleth"
           }
          ],
          "contour": [
           {
            "colorbar": {
             "outlinewidth": 0,
             "ticks": ""
            },
            "colorscale": [
             [
              0,
              "#0d0887"
             ],
             [
              0.1111111111111111,
              "#46039f"
             ],
             [
              0.2222222222222222,
              "#7201a8"
             ],
             [
              0.3333333333333333,
              "#9c179e"
             ],
             [
              0.4444444444444444,
              "#bd3786"
             ],
             [
              0.5555555555555556,
              "#d8576b"
             ],
             [
              0.6666666666666666,
              "#ed7953"
             ],
             [
              0.7777777777777778,
              "#fb9f3a"
             ],
             [
              0.8888888888888888,
              "#fdca26"
             ],
             [
              1,
              "#f0f921"
             ]
            ],
            "type": "contour"
           }
          ],
          "contourcarpet": [
           {
            "colorbar": {
             "outlinewidth": 0,
             "ticks": ""
            },
            "type": "contourcarpet"
           }
          ],
          "heatmap": [
           {
            "colorbar": {
             "outlinewidth": 0,
             "ticks": ""
            },
            "colorscale": [
             [
              0,
              "#0d0887"
             ],
             [
              0.1111111111111111,
              "#46039f"
             ],
             [
              0.2222222222222222,
              "#7201a8"
             ],
             [
              0.3333333333333333,
              "#9c179e"
             ],
             [
              0.4444444444444444,
              "#bd3786"
             ],
             [
              0.5555555555555556,
              "#d8576b"
             ],
             [
              0.6666666666666666,
              "#ed7953"
             ],
             [
              0.7777777777777778,
              "#fb9f3a"
             ],
             [
              0.8888888888888888,
              "#fdca26"
             ],
             [
              1,
              "#f0f921"
             ]
            ],
            "type": "heatmap"
           }
          ],
          "histogram": [
           {
            "marker": {
             "pattern": {
              "fillmode": "overlay",
              "size": 10,
              "solidity": 0.2
             }
            },
            "type": "histogram"
           }
          ],
          "histogram2d": [
           {
            "colorbar": {
             "outlinewidth": 0,
             "ticks": ""
            },
            "colorscale": [
             [
              0,
              "#0d0887"
             ],
             [
              0.1111111111111111,
              "#46039f"
             ],
             [
              0.2222222222222222,
              "#7201a8"
             ],
             [
              0.3333333333333333,
              "#9c179e"
             ],
             [
              0.4444444444444444,
              "#bd3786"
             ],
             [
              0.5555555555555556,
              "#d8576b"
             ],
             [
              0.6666666666666666,
              "#ed7953"
             ],
             [
              0.7777777777777778,
              "#fb9f3a"
             ],
             [
              0.8888888888888888,
              "#fdca26"
             ],
             [
              1,
              "#f0f921"
             ]
            ],
            "type": "histogram2d"
           }
          ],
          "histogram2dcontour": [
           {
            "colorbar": {
             "outlinewidth": 0,
             "ticks": ""
            },
            "colorscale": [
             [
              0,
              "#0d0887"
             ],
             [
              0.1111111111111111,
              "#46039f"
             ],
             [
              0.2222222222222222,
              "#7201a8"
             ],
             [
              0.3333333333333333,
              "#9c179e"
             ],
             [
              0.4444444444444444,
              "#bd3786"
             ],
             [
              0.5555555555555556,
              "#d8576b"
             ],
             [
              0.6666666666666666,
              "#ed7953"
             ],
             [
              0.7777777777777778,
              "#fb9f3a"
             ],
             [
              0.8888888888888888,
              "#fdca26"
             ],
             [
              1,
              "#f0f921"
             ]
            ],
            "type": "histogram2dcontour"
           }
          ],
          "mesh3d": [
           {
            "colorbar": {
             "outlinewidth": 0,
             "ticks": ""
            },
            "type": "mesh3d"
           }
          ],
          "parcoords": [
           {
            "line": {
             "colorbar": {
              "outlinewidth": 0,
              "ticks": ""
             }
            },
            "type": "parcoords"
           }
          ],
          "pie": [
           {
            "automargin": true,
            "type": "pie"
           }
          ],
          "scatter": [
           {
            "fillpattern": {
             "fillmode": "overlay",
             "size": 10,
             "solidity": 0.2
            },
            "type": "scatter"
           }
          ],
          "scatter3d": [
           {
            "line": {
             "colorbar": {
              "outlinewidth": 0,
              "ticks": ""
             }
            },
            "marker": {
             "colorbar": {
              "outlinewidth": 0,
              "ticks": ""
             }
            },
            "type": "scatter3d"
           }
          ],
          "scattercarpet": [
           {
            "marker": {
             "colorbar": {
              "outlinewidth": 0,
              "ticks": ""
             }
            },
            "type": "scattercarpet"
           }
          ],
          "scattergeo": [
           {
            "marker": {
             "colorbar": {
              "outlinewidth": 0,
              "ticks": ""
             }
            },
            "type": "scattergeo"
           }
          ],
          "scattergl": [
           {
            "marker": {
             "colorbar": {
              "outlinewidth": 0,
              "ticks": ""
             }
            },
            "type": "scattergl"
           }
          ],
          "scattermap": [
           {
            "marker": {
             "colorbar": {
              "outlinewidth": 0,
              "ticks": ""
             }
            },
            "type": "scattermap"
           }
          ],
          "scattermapbox": [
           {
            "marker": {
             "colorbar": {
              "outlinewidth": 0,
              "ticks": ""
             }
            },
            "type": "scattermapbox"
           }
          ],
          "scatterpolar": [
           {
            "marker": {
             "colorbar": {
              "outlinewidth": 0,
              "ticks": ""
             }
            },
            "type": "scatterpolar"
           }
          ],
          "scatterpolargl": [
           {
            "marker": {
             "colorbar": {
              "outlinewidth": 0,
              "ticks": ""
             }
            },
            "type": "scatterpolargl"
           }
          ],
          "scatterternary": [
           {
            "marker": {
             "colorbar": {
              "outlinewidth": 0,
              "ticks": ""
             }
            },
            "type": "scatterternary"
           }
          ],
          "surface": [
           {
            "colorbar": {
             "outlinewidth": 0,
             "ticks": ""
            },
            "colorscale": [
             [
              0,
              "#0d0887"
             ],
             [
              0.1111111111111111,
              "#46039f"
             ],
             [
              0.2222222222222222,
              "#7201a8"
             ],
             [
              0.3333333333333333,
              "#9c179e"
             ],
             [
              0.4444444444444444,
              "#bd3786"
             ],
             [
              0.5555555555555556,
              "#d8576b"
             ],
             [
              0.6666666666666666,
              "#ed7953"
             ],
             [
              0.7777777777777778,
              "#fb9f3a"
             ],
             [
              0.8888888888888888,
              "#fdca26"
             ],
             [
              1,
              "#f0f921"
             ]
            ],
            "type": "surface"
           }
          ],
          "table": [
           {
            "cells": {
             "fill": {
              "color": "#EBF0F8"
             },
             "line": {
              "color": "white"
             }
            },
            "header": {
             "fill": {
              "color": "#C8D4E3"
             },
             "line": {
              "color": "white"
             }
            },
            "type": "table"
           }
          ]
         },
         "layout": {
          "annotationdefaults": {
           "arrowcolor": "#2a3f5f",
           "arrowhead": 0,
           "arrowwidth": 1
          },
          "autotypenumbers": "strict",
          "coloraxis": {
           "colorbar": {
            "outlinewidth": 0,
            "ticks": ""
           }
          },
          "colorscale": {
           "diverging": [
            [
             0,
             "#8e0152"
            ],
            [
             0.1,
             "#c51b7d"
            ],
            [
             0.2,
             "#de77ae"
            ],
            [
             0.3,
             "#f1b6da"
            ],
            [
             0.4,
             "#fde0ef"
            ],
            [
             0.5,
             "#f7f7f7"
            ],
            [
             0.6,
             "#e6f5d0"
            ],
            [
             0.7,
             "#b8e186"
            ],
            [
             0.8,
             "#7fbc41"
            ],
            [
             0.9,
             "#4d9221"
            ],
            [
             1,
             "#276419"
            ]
           ],
           "sequential": [
            [
             0,
             "#0d0887"
            ],
            [
             0.1111111111111111,
             "#46039f"
            ],
            [
             0.2222222222222222,
             "#7201a8"
            ],
            [
             0.3333333333333333,
             "#9c179e"
            ],
            [
             0.4444444444444444,
             "#bd3786"
            ],
            [
             0.5555555555555556,
             "#d8576b"
            ],
            [
             0.6666666666666666,
             "#ed7953"
            ],
            [
             0.7777777777777778,
             "#fb9f3a"
            ],
            [
             0.8888888888888888,
             "#fdca26"
            ],
            [
             1,
             "#f0f921"
            ]
           ],
           "sequentialminus": [
            [
             0,
             "#0d0887"
            ],
            [
             0.1111111111111111,
             "#46039f"
            ],
            [
             0.2222222222222222,
             "#7201a8"
            ],
            [
             0.3333333333333333,
             "#9c179e"
            ],
            [
             0.4444444444444444,
             "#bd3786"
            ],
            [
             0.5555555555555556,
             "#d8576b"
            ],
            [
             0.6666666666666666,
             "#ed7953"
            ],
            [
             0.7777777777777778,
             "#fb9f3a"
            ],
            [
             0.8888888888888888,
             "#fdca26"
            ],
            [
             1,
             "#f0f921"
            ]
           ]
          },
          "colorway": [
           "#636efa",
           "#EF553B",
           "#00cc96",
           "#ab63fa",
           "#FFA15A",
           "#19d3f3",
           "#FF6692",
           "#B6E880",
           "#FF97FF",
           "#FECB52"
          ],
          "font": {
           "color": "#2a3f5f"
          },
          "geo": {
           "bgcolor": "white",
           "lakecolor": "white",
           "landcolor": "#E5ECF6",
           "showlakes": true,
           "showland": true,
           "subunitcolor": "white"
          },
          "hoverlabel": {
           "align": "left"
          },
          "hovermode": "closest",
          "mapbox": {
           "style": "light"
          },
          "paper_bgcolor": "white",
          "plot_bgcolor": "#E5ECF6",
          "polar": {
           "angularaxis": {
            "gridcolor": "white",
            "linecolor": "white",
            "ticks": ""
           },
           "bgcolor": "#E5ECF6",
           "radialaxis": {
            "gridcolor": "white",
            "linecolor": "white",
            "ticks": ""
           }
          },
          "scene": {
           "xaxis": {
            "backgroundcolor": "#E5ECF6",
            "gridcolor": "white",
            "gridwidth": 2,
            "linecolor": "white",
            "showbackground": true,
            "ticks": "",
            "zerolinecolor": "white"
           },
           "yaxis": {
            "backgroundcolor": "#E5ECF6",
            "gridcolor": "white",
            "gridwidth": 2,
            "linecolor": "white",
            "showbackground": true,
            "ticks": "",
            "zerolinecolor": "white"
           },
           "zaxis": {
            "backgroundcolor": "#E5ECF6",
            "gridcolor": "white",
            "gridwidth": 2,
            "linecolor": "white",
            "showbackground": true,
            "ticks": "",
            "zerolinecolor": "white"
           }
          },
          "shapedefaults": {
           "line": {
            "color": "#2a3f5f"
           }
          },
          "ternary": {
           "aaxis": {
            "gridcolor": "white",
            "linecolor": "white",
            "ticks": ""
           },
           "baxis": {
            "gridcolor": "white",
            "linecolor": "white",
            "ticks": ""
           },
           "bgcolor": "#E5ECF6",
           "caxis": {
            "gridcolor": "white",
            "linecolor": "white",
            "ticks": ""
           }
          },
          "title": {
           "x": 0.05
          },
          "xaxis": {
           "automargin": true,
           "gridcolor": "white",
           "linecolor": "white",
           "ticks": "",
           "title": {
            "standoff": 15
           },
           "zerolinecolor": "white",
           "zerolinewidth": 2
          },
          "yaxis": {
           "automargin": true,
           "gridcolor": "white",
           "linecolor": "white",
           "ticks": "",
           "title": {
            "standoff": 15
           },
           "zerolinecolor": "white",
           "zerolinewidth": 2
          }
         }
        },
        "title": {
         "text": "MNIST Projection"
        },
        "xaxis": {
         "anchor": "y",
         "domain": [
          0,
          1
         ],
         "title": {
          "text": "UMAP1"
         }
        },
        "yaxis": {
         "anchor": "x",
         "domain": [
          0,
          1
         ],
         "title": {
          "text": "UMAP2"
         }
        }
       }
      }
     },
     "metadata": {},
     "output_type": "display_data"
    }
   ],
   "source": [
    "os.environ[\"LOKY_MAX_CPU_COUNT\"] = \"8\"  # Replace 8 with your number of physical cores\n",
    "umap_2d = umap.UMAP(n_components=2,random_state=42)\n",
    "X_umap_2d = umap_2d.fit_transform(X_train)\n",
    "df_2d = pd.DataFrame({\n",
    "    'UMAP1': X_umap_2d[:, 0], \n",
    "    'UMAP2': X_umap_2d[:, 1],\n",
    "    'label': Y_train\n",
    "})\n",
    "\n",
    "fig2d = px.scatter(\n",
    "    df_2d, x='UMAP1', y='UMAP2', color='label',\n",
    "    title='MNIST Projection',\n",
    "    labels={'species': 'Species'}\n",
    ")\n",
    "fig2d.show()"
   ]
  },
  {
   "cell_type": "code",
   "execution_count": 23,
   "id": "c642a85b",
   "metadata": {},
   "outputs": [
    {
     "name": "stderr",
     "output_type": "stream",
     "text": [
      "c:\\Users\\cd246\\OneDrive\\Desktop\\Sem3Practicals\\PiyushSem3\\Lib\\site-packages\\umap\\umap_.py:1952: UserWarning:\n",
      "\n",
      "n_jobs value 1 overridden to 1 by setting random_state. Use no seed for parallelism.\n",
      "\n"
     ]
    },
    {
     "data": {
      "application/vnd.plotly.v1+json": {
       "config": {
        "plotlyServerURL": "https://plot.ly"
       },
       "data": [
        {
         "hovertemplate": "UMAP1=%{x}<br>UMAP2=%{y}<br>UMAP3=%{z}<br>label=%{marker.color}<extra></extra>",
         "legendgroup": "",
         "marker": {
          "color": {
           "bdata": "CQAGAwgCAwIDAwIEAQgBAAEGAwAHCQkGBAMHAQkCBwcIBQUECQEGCQECBAkGBwQHAgIBCAAAAAcBAgIGAQAICQgGBwYBBwAIBAUEAAMEAgUABgECAgEABwUABQkEAwcDAwEFAAIDCAcBBQgACQQDCQQIBgYCAwUEBAECCQQJAgMIAQYEAgEDBAMIAwQDBAAICQgGCQkHBwUEAQQJBwQHBgMDAAkEAQICBgAJAwIIBgcHAAgGBwkJBwcGAQMIBAABBwUGCQgABAUHBgUABQAEAwkHBAMJAAQECAcECQQHBAYIAwYDAQYDBgQCAwkJBAgBBwYJAQkFBQYHAgIEAggHCQMAAQgGAAEEBQEGAQgICAkDBAADBAkBAQIBAwMGBAUCAQMACQQBAQYJCQAHAAUBAgUJBQEEBgQDCQkABAcABgIEAgkACAQDCAIGBAUDBQIDAgkDBQMJBAgFAwYJCQMBAwAJBQUDBgIHCQgGBQkIAgYABwYEBwMHBQMCCAIGAAIHCAcCBAkBBgMAAQYCAAYJAwYEBAIFAAkCAQYHAAAFAQEBBggAAgMECAIAAggHAQMGBQEEAAQBAQkBBAUBAwIFBAYJAQAJAgMACAcFBgIDBQUJAggEBgAABwQDCQYDAAcHBwIDAQMJBQEIBgkDCAQECAcEAwEDAwQIBwYGBAkIAAACBwkDBgIFAQUDCQkBBQIGCAgBBQYFBAIFAAIDAwMABwUJBAUBAAkDCAACBgEFBQkDAgEICQIHBQUFCQgGCAcCAgEEBQkJBAcBAgYHAgIFCQgJBgIIAgICAgcFBQEIAQACAwIBAwAFAgAABwYCBwcDBAgGBQUJBgUACAMEBgcBAQgFCAgBAQICBwMJAggGBwUCBwEDCQEFCQkHAAIEBAMBAQkCCAUGCAcFCQEIAAEAAAUBAwgCAQEEAQUFAAEDCQEGAAEBBwYHAgIBBwEHBAYIBwkFCAkDBQAGCAYBAQECBgMBBAYFBgIACAcEBQUBBQgJBwQABQkBBAgHCQYEBQUCAgQGBAgHAgcGBAIEAQIDBwAJAQIBAQcABQABAwYJAwQEAwcBAAECBQYJCAYJCQICAwcEBAQHCAAJCQUCAAMDAAQHCAgICAYCCAgECAcJCAkBBQQCBgIFAAgFAwIABQMBCAAHAgMHAQQGCAYDAQAFAgYAAQYDAwIHCAQFCAkAAQIAAQIFBgEBAwMEBgYDAAEGCQEDAQMBAgUHAAMHAAcEAAYIBgYCAAMEBgEICQcBAQUEAgUICQIJAwYBCAEBCAkBCAAABAYEAQMCAwcBCAQEAQkBAQIDAAIHBgMFAwYCBAYJAQIIBAEECQcHCQYBBgYDCAgABgMIAwkHAwgCAQYCAAYHBwYBAQIDAggJAAAJAQYJAAMFBggIAwIBBwUCCQYIBAcDBwIAAQQCCQgCBQEEBQIEBggBBgkDCQQFBQQIAQkIAQkDBAkCCQkECAcJAgQFAgAEAAYDAgcFBgUHAQAEBQIBCAgABgMGCAkDAgYFBwcCBwkBBQQDAwABBAMDCQICCAMABAYGAwgHCAAEAAAIAgkEBQcHAQAHBQUFCQYHBAQAAAMHAgYFAggGCAUCAQYEAwkIAQAJBwIFCQYBCQcBBAQFAgQEAgcEAAUABgYDBQQBBQgICAEHBQIIBAIBBgcGAgEFBgMFBQUJCQYBAwcABAYBBQkDBQkJCQUEBgcIBQUEBwIIAgIHAQAGBwMBAAYDCAkIBQcABAQAAQkDAgICBAcABwYFCAkJBwYGAAcGAQACBQkICAgEAAcGBwMHBQYIAgAGCQQAAwQIAgEAAAQFAAcAAgQHAAIAAAUFCAQEAAcEBAAEAAQHBgYFAgEFCQcBAgECBwcFAAEIBAEJCAAEAQQJCQIDBQUBCAQDBQEHAQcEBAgBBgIDCAAABwEBCQYCCAIBAwkEBAECBQACAAgFCAIEAQAAAQUEAQQDAwcBAwUDCQYBBgEEAAYAAgIDAwkDBgIJBwcABgUCBQIIAAQDAAAAAwkDBQAFAwkJBgkFBQcHBwcDAgIJCAMHBgEHBwIGBQQBBAkICQECBgICBAAJAAYDCQQDBwYGBAEAAgEHCAUJBggGBwIICQgBBAEJAQABAgYACQEAAwUHBwcDAQYHAwcIBgQFAwYGAQEJBwEHCAgGAAMIAAYDCQEAAgQHBwgBBQcCBwEGAQIBCQgBBQgHAAkABgcGBwYDBAYJBQcBBQAHAgEDBgQIAgEHBAUJAgEICQAJAAkDAQcCAwUAAAMAAgkHBAcBAAEJCQQGCQEBAgIGAwYECQEGCAMDCQIHBgADAwMFBgkHCQIICQUFAQAEBQIJCQQHAgYAAAAIBAgHAgcABQAEBAgIBwYABwcCCQABBAMHBgEBBwMHBgUIBwAHBAgECQUBAwIIBwUICQUIBgMHAwMDAwABBwMBAwcJBQMCAQEEBAAJBgMDAQMEAgQCAQMHAQYFBwEACQEBCQADAAIABgQIBwAAAQcDCAMAAgUIBwMJBAIDBAUAAgUIBQEBAQcHAAkJBgEHAQMFAwEABgMBAgEIBAgCBwIEBAkECQcICAIBBwIICQMECAYEBggFAQYAAQcCAAYJBgIGBQMECQgCBgMCAgMFAAEJAwkHAQIBAgIEAwgGAAIDAgQHBgUJAgYGAgUFAgcCAgIHAgEGAQUJAQkFCQQIBgcIBQUJCQAGAQkHAgkDBQgJAgkFBQkJBgIAAgICAgMACQUIBgICAgQHAAMDCQQBAwMHBAcDBwcFBAcEBwUECQYBAgEFCAcDAAUHBgMBAgMDBQgBBQEIAAIJAggJAgcGAgMFAwQHAQgBAAgJBQQFAAQABAcFAwEFAwUAAAICBwYBBwgGCQYBAQcDAAQBBwgHAAMDAQQFBgAJBwcIAAIBAQMGAQcHBgkCAAQHBAUJCQkJAQMCAQYAAQkCBwYBAAQFAwUECQcEAAkACAMBCQACAAQABwAEAAgGAgACAgUABwUBCAEHAggFCAACCQUBAwIDAQUFAAYJAwYIBwUBBgUGAQMDBgkBBwkHCQMFAgcHAQMAAAMDCAAFCAgCAQYCBQIFCQQJBwMHAQkCBAcGAwEGBAYFBQADAwQHAAQBBgkIAwIBAQQEAgkIBwcFAwUEAgUJAAUGAAQAAwYCAQcCAwcHBgMABAMBAQIDAAkBAgQHBgkFAQIABQQIBQMIBwEDBwgFAwgDAwMGAwIFAQMFAwYCBgQIBQICAQcFAwMECQMCCAEHAgkICAMAAAcCBwUDAAQABQEIAwEGBwMCAQUJAwIFBAYECQQGBQYGCAgJBQUHBwQFAAcHAgQGAQgGBgMABwgECQECBQQFBwAGAAgJCQUJAwcGAAADBwMIAAEBAgIABQgCCAgICAADBQEHCAEJAwUFBwQCBQQJAQEGBwQGCAYIBAYHBwkEAwUJAgUEAQABAQYGCQAJBgcEAAgDCQAIBQkBBQQJBwcGAAMJCQEABAUJAwMICQUJBgcEBgQFCQEICAQFBQMICAkHCAMJAQEJAQEFBAUACAEJBAMIBgYBBAIGBgAAAgIHCQgICQIJAQADAQkHCAkDBQIABgkFAQQICQYABwQFCAkIAgMBBQkEAgcFBAkFAgMAAQcBBAgHBAcHAAQHAgMBBQkDAAEACQYGBggCAwgFAQgACAcHCAgHBwgHAQgBCQUEBAEFAAIDBwkHBwkFAAkIAQIEAQkJBQcFAQUFCQMGAAMFAAYJCAMBCQYJAQcCCQUBBQcFBgEIBgABAAYFAAUJAgQDAQADCQkHAQcABQIJCQQDBwUGBQcABQIJAAUDCQcCBAIAAwgHAgYBAQAGAAEGAwQCAgEBBAcEAQEHBAMIBQUIAwkICAEAAAYDCQIIAQcCBgACAQkAAAABCAcFAAAJBQgEBgYEAwYDBgUDBgUGAwEHAwAHBwABBAYJAgcCCAgHAQMBCAkBAwYHAAgABgYCAwgAAAgACQYHCQgGCQMDBgcHCQcDBwIDBAUIBwMBAAMHBAEDBgcDAAYDAQkJAAkCBggFAAIGBQQGBggGBAIABwMEAAYDAQgEAgIHAAEIBwECBwEGCAgCCQACAQgBBwQDAgAEBAIDAgICAwcHCQgCAAgACAcBAwgJAwQICQMFAwMBCAcECQcCAgQEAQYBCAAFBAgCAQYAAQkDCQMJBwYICQUJAQYBBwMGCQQCBwYGAAkCAAEGBQIJCQgBCAQDAQcECQQBAAkEBwgFAAEGAQgJCQADBAEGBAQDAQUGBAYFAwMBAAQDAgkCAQEBAggHAAYJCQQEBAQBAwgEBgcCCAIJAgQCCQgHAwgBBwEEAwcBCQQBBgMGCQEGBgEDCAIGAQYIAgMBCAQDBwgJBwMFAwkFBwEAAAMHBgIBCQEABQEHAAYACAIICQQDCAICAwkEBgkJBwcDAAkHBAgGAwAGAgIECAkHBgkIBwEHBQcDBgYDAgcBCQgHAAYAAwEGAAcFCQQIAQcJAwUACQEJAAIBAgYABgcEBAYEAgMDCQEDBwABBAUDBwcABQgDBAAFAgMHAwYHBAIICAkGBAYDAwQABAIFCQgHAwEGCAgDCAYBAgAICQIDAAIHAgQDAwcGAwYHCAgDAAgFCAYCAgcDAgMIBgQGBAEFBQYACQMCCAkDCAIJAwEJBAcDBwQDAgYCBgQEBgIFBggGBwQIAgMAAgAIBwEFBwkHBwUHCAkEBAIHBQYBBgQBBQUICQgBBwUDAQgEAwQDBgIFBQQJBwUCAAAHBQEDCAIHAAkHCQcBCQEDAgYABAMHCAIIAQYIAgIFAgUBAgEEBAEHAwcFBAcBCAIJCAQIBgABBwUEAAUHAgYICQQHAwMHCQMDBAEBBwgAAQIBAgAGBgMACAYIAgYEBwECAQUBAAcGAgMJBQYHBgICBwcGBQQICAcDAwkGBwMFAAEBAQIDBgYEBwgGBwkGBAQIBQIEAggGAAYDBAcBBwMFCAMDAAQCCAgICAkJCAkEAgAEAgEAAAUDAQgEAAYAAwcCBgMEBwEEAAACAAkDBAIGAwkDAwMEAQACCQgDAAMDBAcGAgIACAEAAgAJBwIIAQEGAgIFCQkDCAAHAgQHBgcGBwEBAQcDAwkBBgkCBAMFCQUGAwgGCAEGBQkCAAIBBAcFBwIEAAEJAgYABwAFAwIDBAcBAQEDAgIICQAIAAEEBwQCBQcDCQgCCQYBCQgCCAMCAgEJCQUIAAcJBAYDAAcDBAQGBAQGBQgHBgIDAgMJAQcDBQACAwECBgQGCAcJAwkIBAkACAIEAAAFAAMHBAIECQMGBQkICAkEAQQACAcECAIEAQcIAQEECAAIAgYFAQQBAgAIBgcBBwcJBgQAAwMEBwcHAQUIAAMEBgYDBQAJCQUHAgkJAAcCBgkDAQgJAAQEBgMJAwgAAAMIBQcFAAABAwYDCQUJCAECAAUEBwYIBQgEBQgAAQQFBAcDBgQBCQcIBQYGBgEEAQQEBgkBAwYACQgACQkJAAcHBQgACQkIBQQHAAAJCQMACAAHCAgDCAIJAQYEBgkJAAUCAQYEBAADBgADAAAHAAAJCQEHBgEGAQUFBwMHBgQFBgMCBAgBAAMFBgkGBgAFAQAFBwAGBAEFAQYDCAcHAwAEBAEEAwEJAgMJAAECBwEBCQUFAgYACQEFAwkJAQQIAAEJBwAFBwUCCAYBAgEDAQAGAgYGAQYBCAkJBwcGBwAJCQQCCAECAQUEBQMCCAgABQQIAQgEAwYGAAAABAkABQMACAcIBQEJAAMBBAgDCQYECQYCBAkCBAUAAgMIAAcBCQYEBQkIBwYIBwgHBgQCBAkAAgIDBgkAAQQJAQUBBwAIAwYEBwgFAAMBBwEGCQYJBgYIAAYCBgUICAIGAgIHAgAAAQEHCQUBAggFCQEBCQEIAQcJBgQJBgkJBwIFAgACBgIHCQMDBAMDBwIAAAAFCAcEBwIECAACAgYEAwQDBQMAAwMACQcEAAUJBgAIBgMDBwABCQAHCQcFCAUJAAMCBgkIAQMIBgkHAgUHAgcAAQkIAwkFCQMABwIFAQEABwMIBwcCBgEICQUFBgADBwkDAAMEBwEFCQgJAwkGBAkHCAQIAggBAQUFAAEABQgBCQgAAQYECAAJBgYIBwACCAAJCQMGBQkHAQYGBAUEBQgHBAMHBgMDCAEJAAgHBgEACQECAgYIAQEGCAYJAgQBAQgABQQEBwAGAwcAAwYAAAcICAYABgcDAAADAAABAAgACAkCCQIHBQMDBAQIAwQDCQMIBwgEAQQGCQEJBQUHCQkBBAIHCQIICQcIAQYFAAUGBQAJBAgGAwYGAQUHCAYHAAUAAwADAgMBAQIJAgQBBwQFAQUABQEDCAEIAwIHCAYDBQYBBgAJAQICCQIDBAIHCQgJBQQBCQQDAgQIBwUFAQEDAAUGBQUIBgQFCAkFAQAEAAkACAcDCAAGBgUHBwcCAAEGAAICCQEFAQEJAwIHAAMBBAMDAQgDBgIICAMEBAEAAwkCBAUFAgcHBwIECAEJAQkIBQUGAQkIBAMCAQEBBwEDBQIDBQYFAgUHCQEJBgYIAQcEAwgEBwYDCAQEBggFBwAHAQUFBQgCBAIIAwEDAwEEBQkAAwkABwAJAQkJBAUEAQkFBQQDBAcCAQACAQEFAgUBAAgDBAgHAgUIAgkEAgkGAgABAgUCAAgIBgACBgkGBQcIAQgGAAYAAAAGAQYJBAABBQECCQcEAgcFAAMEBwMEAAEACQADAAEJAQkJBgMDBgEGBAYIAAcEBwECCAgCCAkEBgEJAwUDCQkBCAAJAAgAAwYJAAkCCQMIAQkEBQYGBQAEAAAIAgcIAwMECQAIBQUJCQgBAAUBCQkHBQYFAgcGAwABAwIABwMJAgMBBQIJCAECBAUFBAYCBggHAQAIBwEAAAgDBwgAAAMFCAkGAwMJAQUIBwEABAQCCAcIAAMJAwkEBgYGBAkICAQCBwgGAAcBCQQECQkHAAEGAwMCAQIEBgQBCQYCAgAJBAIGBgEDBAAGAwUIAQUDBgcAAggEBgQDAgMEBwEJAgYEAAMAAQMACQMIAAcHBgEIAwEECAIFCQEAAwYFBgYCAQQFBwgEAAEHAwEJBAAEAggJCAkBAgQEAQUJAwgAAQUBAQUCBgkCBwEGBgECCAYCCAIICQACAwgBAQEABgQCCQAAAgcEAAQCBggDBwIIBAIABQQCBgIICAUJAQIAAQYDAwYDAgUHCQUJBgUGBwUBBAIBAgEEAgcDAAYAAwgAAwIEBggIBgkABQIABwYGCAkBBQQIBAMGCQECBQACBgUFBwACCQYDAQACAQYJCQYCAgEJBQAEBAAFAgkIBAYEBQQAAAUCBAAFBQEDAwkDBwIJAQgICAIFAgIEAQEJCQUABQYCBQEGCAgEAwEJAgUJBAUHBwUBCQEICAgGCAgICQUDBgUIAAQIAAIJAAkGBQUJCQAGBwEABQcIBgcGBgkABwAHBwgIBQUJBwUHBgQGAgIABAYDBAkCAQMBAQEJBAkICAQIAQgHCQgACQQABAcJAwUBBAIIBggCCAYJCAUBAAUCAgUAAwUHBwIIAgkAAAgHBggABwkCAAEGCQUAAAICCAYGAAQEBgEDBAEFAAQFBAYEAwAHBQEJCQICBwAJAAgECQYABQIGBwYDBwQBAgkJAgACAgYDCAkAAQYIAAYBAgkEAgcCAQcBBggIAQkGBQMBBgECBAQHBgQDCAYBAQcDAgkDBAgAAgcBBwgJBwIJCQUFBwIJBgQAAAYJBQgHBAMACAkBBgYDAQIAAgkFBgcAAgQFAAcHBAgBAwkCCQkGAwEDBQcAAQgCBQAICQQGCAQABwMEAgEGBwAIAgYEAgYBAAcGBwQBAQYBCQQFBAUBAgUDAQcCCQMBCAQGAQQDAgcJAwQCAgQJAgYEBQkGBwYFBgcEAwMDAwMDAwIGBAQAAgMICAMBAwcABAgABgIDCQEGBAQECAIDAgQICAEEAQcCAwYHAgIGBQICBAgBCQQDCAAGAQEDCQkIBgICCQYJBAIBAgUIAggIAAgHAQkDAQAACAgIBAUFAwcEAgUFBgIGAwEABwQJBQEDAAICAwEJBQQCBQEEBgUEAwUHAQMEAwkACQMDAwYJCAAHAAADCQEHCQkFAgYGCAQEBwQGCQECBAkAAAMFCAcHAAEHBwIGAQcBAgIHBAgEBQkGAAEJCQAHCAMAAQkBCAkGCQIFCAAICAAHBAkCBAEDAQADBwIEBgkHCQgICAgDBAkACQkGAAgFBAcGAwADAwEHAQgCCQcJBQMEAQEBCAEBBAYDCAcBAAUACQcHAQkFAwgEAAIHCQUDAgAFCAMEBwUBBQcGAgICBgMJCAUFAQICAggHCAkAAAQIAAUGCAAIBQcACAEBAQYACAMGBQAHAAQFAgMCBggHBgcJAQkFBwMIBAkBBAMIBAMFCAUJBAACAgYFAgUCCQMAAQIFBQAGBwEDBAcIBAcHAQAJAAEDBwkJAAcJAgcICAEHBgYAAwEICQUDBwEJBQMFAgkDBQADBwQCAgICAQYICAcGAgMCCAcBAwYIAQIIAQMIAwkICQQEBAAIBwcEBwkEBwcGAwYCBQEGBgIAAAQJAwIDCQEHAAMBBQEEAAkABAABAAYGAQQEBAUGBgIBCAICCAIHCQUJAQMJBwcGAAIIAQQGAgEAAQcIAgEEBQMJBQADCAIFCAEDAwQECAAFBgAECAcABAcBBQgIAQcEAAQDBQADAQgABAEBAQcICAIBAgEEBgcGBgEHAwMDBwAGAQIEAwECBAMDBQMAAAgCBAAJBQAHBQUJAgUJAAkBBQgIBgEEBwMEAgkIBQIHBAUHBQkCBgQABgcEAwcEAwIDBQIBBgAHAgcFCAgGBAAAAgEJAQEHAgACBgQHBwcJAQUJBwkCBgEFCQUGBAAJAggCBgIEBAcHAgQDAgIJBgUBAgYGBQgGCAAIAwkBBAABBwQDAQkGBgABBAACAgcDBwAJBgMBBQMEBQUJAAAGAAQCAAQEBQYAAgQBBwIIBwAHAAQCAwECBQIEAQAJBwUFBgIICQMBBQYIBAEEBAMGBwIIAQgCAwEBBwkACQUJAgMJAwYHBAcJBQQBAgIDAgkDBQgJBAYDAgcDAQkIAwUJAwQGAAIABwYCBwQICAUICAYHAQAGBAAJAAICBgABBwIJAAYHBwQFAwYJBAYGAgcBBAAIBAUBAAMJAggCBwQDBgkDCAkJBQQBBgQDAQIHAwgDCAIEAAcBCAgJAwECAAUCAwAHBwMCAAYCBQMHCAcACAQFCAMFBggABAgIBAkABwIJCQkEAgMAAAgFCQkCAwEJBAUGAQkCAgYBBggBBAMHAgACAAgDCAcFBwMFAQgECQgIBgMGAAMCBwkIAAgBBgcEAQ==",
           "dtype": "i1"
          },
          "coloraxis": "coloraxis",
          "symbol": "circle"
         },
         "mode": "markers",
         "name": "",
         "scene": "scene",
         "showlegend": false,
         "type": "scatter3d",
         "x": {
          "bdata": "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",
          "dtype": "f4"
         },
         "y": {
          "bdata": "9Q+YQOrt0j/Uf4hA3Ui3vlhdOUDyp7g/SlvRvuc6HEDe9G+9Hr0VP81gDEAubmRAbciWP/Az+7wBaRY/NuCRPzSK4T/Fel9AccPvP20TwD+TQoVA18WFQB9PIECEY4RAdKJsQBtB6j7PvGJAMTjGP3Rld0AUiJo/C+5zQMKlkEBDvyC9GHmvv1VwKL5MG4RAPMkmQNYLej9bhPM/i0zAQIGI6z/iQ4+9FaqkQEunmkCQAmhAmA28QE12l0A+SLJASWy5Pz1x3z+Ch4Q/cpbovtQ81D/iYOo/S1LePw/p+z86Eew/wPJNPxjYPz+smUZA/6mIPzCuBEDwuh2/5X93QLK9/b6rjEZAeZ9OQJ67bkA9Zu8/OVOoQHsRJkADvJm+NCqNQGvq6L8VkphAASn6P0gzRj7rToRAhxrUPx+ppL/rWjBANQSNQKDvhT9vSiRAnagEQK5L9z/c8sg/R9SzQFqx8b9etMk/4OKovwmhr0CsiGFAcYYkv816jUAzU3a+MIUsvrwIfz+cqKO/S1vjPyDltD+R8jO+NT4Dv82EoECGR/M/Zp26v1b1Gz0PWOU/zfqAQCX6TUAsGJy+8kLHQHPoOEDPdDO/+NsdQBgFoL9qzV9AqtQ6v4aq87/J8EdAoz1JQI196z+0aVk/tYCDQBFLfEA/WCq/6g71P/33bb7UJOc9CxfLP81zkEDIMoxATQwEQCxbuD+mt5q+hHFOQL5I8b7M9C6+S8e/vrfTrEAWS82+CRSlQA0tN0ApQlg+3xmkQOF2REDcXYFAdmFHQGiJrkAh7T1A1qQHQNoDf7/rs5pAjW3qP5OAlEC0p6FAURaMQG/ToUBYFbBAGGZ9QKCZEz5bvfy+mbPPP0D+dUD3CoFA8/jAP1nqHkAQlaw/woh9QJD7iD/3a5JA6+VPv2AKyj+TiTtAK/RZQAZajUBz96tA5OD+P3h88L4P3GNA/P+DQA+npkDXwnBAs4ulQDagl0AWHHZAiB/ZP2QvBL5XHCi/1khKQLm4LkAWRXI8Du6fQFMS1b+GzC1AC21YQK/ENb/pdBlAdBciQLkUyr9y/QU/GSlRQBR58794cydAdg6AQH3iE0DYVZRAZ8HZvuDPj0CZeo5AB9GBQAAEXb92WBVAtG6xP5HCiUCBnpFAbI0QPg/6e0DVKyFAOyyaQHkjR0A8eQxArzgAQPmoYEBq3YC+OtKOvhYm0T8WWHq+owaxPykSjkAOdZK+ROofQOtlQEDHuZo/D6dJv0OUc0DmPY5AG3aHQCqUDr2FOuo/V6Z5QNUzjUBJVbpA+pUbP2dXoUApBq+/mlnVv4iPUUAkxbtADT7DPwOuwz/sMj1AaxA/QCxjYL/hATpAWhWfQAI/tb0GE7w/98H4PwCAUb84m3hAqKabP8TdBj+vXnJASivov0248D9jrIBAApT1Px5Xw78nACu/buhRvrP9lkDqyZ6+X8ePQDpIA0Bcpws/Ww5EQE7EZkC9GO0/3XmHP6tkF0B8dI4/2fz5vjiVAb9Pwp+/qDeRQERGpb991RxADffkP2tiuL9ehds/OVqaQIzolUBAc3U/ZEulP38/akDwsH9A0MF3QCUSLEAMjahAVze0P3NFp7+Z3wG9PYu+P78O3r/ccYhAA1W8v/iH7D/SN4pAhklpQGwqh0D7e+C9WujJQM4JO0BOZCFAtahBQBdTokADcgxAmSxtQEgdxT7pSZ1AM4fJP3R5f0BL3J4/uKnEv8GHk0BgdcNAgGP3PUp0aD63yINAemNeQMOX5b/PxNa+6Y7Pv8LtrD58UEO/eHbYP9iQfUAikve+IwOiv9kmJj6peKlACBI3QNM7nr59Fsq/HxycvqEhiUBZ14RAErapQHJFOb/gmdY/RQL3vgI8nz/nmpFAs29gvz/Vq7/X5Di+HNQEQEYp5T92T0NAmIG2QM4kA7/jzWhAtPFMQN5IykCYawlArffBP5W21D8kzao/pqWOQIHQckADtGVAUSN+QFmtnr7DSRlA6+iEvwlcPL53O84/8yn5vk0SwT8dGE9A0bY5QPqT2T8IYLFA/rS2vsxkW0ATut0/XLN7QMPbmUANluU/DspcQPlPBj6chyZAgb/KP1AoPkARWDa/wgfmPzGteUDo2StAPyA3v2REZUDR421AvwCQQLxMsj9Nr+e/kh3MP3k1pUAwlbw/+S+ePzgOeEABxOU/As0LQJ4jvz+dEiy/KH3JPwOzqj+OPmA/04g4QHd+vr46kwhAY3zOP0xwIr9xsYhAIMwHvt9NEkDRuSxATTMMQK88ab9/S35Ao+emP5gsvb3Wll9A88Wrv26f6T/anoRAMhG0PzinOkB8QbY/03yrP2FON0DJw209PupjQHmDhr87oss/tv0bvyWdtj9jSqG/049qQDKme0AkY35AZrH5P15V/T9etrxAGHd7PxBcBr/M6PA/iqAUvwCwRkAKGPW/hyGMQFFZUD/YT5y+Amj0v1i+er9JpU5AoEyqP3N99r56opxACRPuP01Rtz9ZN/o/ighkQPZZekD+zl4+N5NmQMc1BUBs0wu/CPwWQL/0XUD2SIRASJe+QDGKbj8pWlC/iXdfP9vtFL/4iDtA6E+8v5mbHD+e/eG/0XkYQCVihED4S5FAmxXMvlcDP0An2KlA7F1/vsx4t0C795NADTw3vqd/7T8vVQe/wGMuvmgej0DEVjC/eP2oQDGHOEANPzxAVlM2QKHAgUDFaPy84wCSP2o/IEB4oQ1ABP2JQGjCvUAT0ui+G3ZdQGEoxD/y47S/xY0BQOJInb8bUrC7BRZIQEYoiEBmR5k/Rxvcvx09vT8LJIxApWoSPj2he78kIYQ/KuSSv85JhkB+dOq/Wx+gQPSzEEDNcee/ja4IQDL5lz/GWoK+ftpqv67FDb+dqOo/IXMtQHO0sb8hpYJAtnyRQJRhlr9XtnU/8Q4TQE4vJUCuJAW/cwYMv3Y0HkC5o7I/9cRkQGGN2L3D6Yu/P3SGv3yfkkDBlu8+rK0oQOEr9j8FDQG/avqRQJszsj8GNTZA0HxDv5CHSr93Ypm/9Et1QHz4WkDov2tAt2aGvwJKp0CsxOA/p7yHPxjCXD5XWnNAAm7lv9zbpUCEToRA8utrQFYPc0AEf+c/26CPP18mNEAFSXdAs8/lP7Sixz/7vfS/Up6vQDk6lr4BG5RAnGGKQOw63j/1pdW+hXzEP+MJoz/Dscs/tK+9P2ANnEB/4f2/SKnrv7lJ9z5EBGy+ZLOhPyfGLEDAxJU/uH5Fvg6gmj9w0EQ+j7KWviHF9z/VLfS/PtoXQMG16D8tMC1AHoIaQPI7hEByRdw/RH5JQI85qECeBey+PqWUQClzgr5Hq2VAOs5Pv1r/lL+03ZNALutGQELD7r5nJhtA9j7tvhkkW7/1/kJA55xhQKhIVkDzGvk/xmyLP2VXDL9rd72/QJwQv7Qs/b659as+7AybPlwu8j+rRZI/HhKWQJYd0z/VzK9AehMQQEOiLD7B64lAxsCXQBr54j9ee0Q/yM76PxDk2z+qxJO+89eEQIxg8D+g+bK/nd6sQDcqPEBmsbBAHmQyQBxEmT+jRDVAt0VMQBRqyL7B3YE/rvYsP0jTS0BNmcE/KnOoPuy7/L9HBDlAh41SQBa2m0DYWyc+JbVtQOrYjj9HoV+98I0nQHpFkT943KY/GD6HPwnosL8Vnps/ONPavrPD6L4diJY/owhkPpHA3T/C2JhAaiHqP17Ujr+771K/K5EKQKgD/j9Z1Z6+o22VQBHN+T5dp39AHbPwP8ue1D9MONk/0G2TQPCsf0B2RbFAmKpsP+Hs6D+B2pQ/QGQXQLJjDz6mAnpAfmNqQMPceECDhSK+onetQAz2KUDwBcW/kYWbvgI1YEAFWDW/Ewe5vyVfp779VUpANcA/vsqnMkC+eb4//aUpPy+vbj1ne8s/bTGBQPjHjj1G0+A/zixmQBPrb0C/mdm/7qMgQM/dwj/8liBA6/VtvjIbgUDIu2tAcWDuvx5vab9ro/o/Fo71v3g7Ar+B6YNAv9gmQPRsZkCK3+Q/Wxz/v9iIW0Af6do/fwB6QOunMT7wrXFAaSeZQPsESED81mpAUMmGv0nfY798TuQ/Dt0ZQJv3aED2MmpAhKKiQOnPBb90GVA/fXwfQO8HuUDf0oRAfBh6QOh02D9MdZVAgPG8P9qirD9ebQi/9wlrQPPPFkBgJXdAnMHbP5fo17x5IHc/aELiPxgxqEAHkpE/9F4gv68Y9D9yGqg/aD3zvrF8LkAvIYRA2FRKvmv6SECoxYhA+T8Hv5lCMkBqr/M/R4rePyzDAUDL3Mc/T52Fv0KKU0Aj/JVACpHgvq0DgUDemo9A2oB6QPoQxj+eE6w/svI0v4eFPUDmxpZAXP2IQHVkp0Dm1qNAf6ThvwGwC0BX7ohAE+rJQJravr9vHbg/NvBcQLCnyr7U3rm8pIvPPwi8r0DrPnZAALhlveFYJ79A4HC+ImUBPUAiVkBz3uo/e+bpvhcnGr/nr4hAhS2ivc0pE0BAZ1xAQuXMvvb4fEBhfABAspeoPg6WokD+da1AkHl1QEbZzT9j/8S/iRYPQEMUkr6+3MG/60IrPyD6vD8PfydA/yPovzA76z5/das/j3qwvvHvBkA0U4BAxMBHQB9ES7+wdEhAToPpP17HJUB1wX1Aoa4yv99Sc0ARb0++a8m9PfEWEUCg3c6/PQrcP5R8MUA5aP4/hx3LP40uY0AlAf++aklKPz3EyD8K5KdAGnPAvRtbYUBDMLK/XG4qviZHxkC9GSNAKhzNPwURzT/EGPU/sjLIP0cutT95Bq+/itR9QCs4+T8F98k/AXQfvzGMLb/RgJZAJD1wQBK8WEDK2xu/ebvWP3fukj+GiFFAlKBRQMJ9zz9GmwW+Mr/KP1kMhb6CEPU/xG8ZPwzdn7+g5qpAd1znP2UHsb4wNLxAT1ebP2D+9T+z64ZASO2tPxpXZUBQlue+aRCCQA+cAMCnm8c/G+LvPwnuIr+lNJFAElhqQKNBhz+UasG+5deOQFb+VkC6zLw/9hMMPz0QZb7713pAu7bAP1Zuvb+Fg7a+L7DlvoFIwT8nQYVAxU3yPsE3IkCBC8c/tUiHv+YZ5D/qnkU/Lt3zPQxziUBDTpo/wseXv3Dvnz99KaY/q86XQG7oQEAqvW1AjZvhP2YpMb/H0q4/p0FUPlVRQEAA1ZM/PYqbPqcpmECSikhAb8O5PzdSqkBSKv0/nqP5PxV1zD/P2Ga/aX4NQO9OK781gqtAXVuHQFSZsD7YkaS/g4gTv6rxgkD/gR8/MN11QEcuEkDfJKlA2ne6PbRqmb20ihK/tSd/Pxz5iD+fljFAemWDQNMUJkBc/GpAspt/QGFzgkBjrfI/Ezj9P5wg+7+m8xS/8Z8VQJ0isb7P0BZAO0xJQCoYIb/CeIi+OkrwvgPgKr8BLrFAC9wdvwhg275EWfQ/0feSPqfwXUDEo6s/8DSnP1YPAD/24KZABKWAQP7cPEAZV5w/1sKUPiqwEUDyWOk+LjlNv2oovr7avp5A9+iuP1zFgz/qtTxAosyHP1xQhUAkg5JAsUMLQOpPuD1DnOq/Lb8vQOxeWryK1tG9PkLwvoYGHkCrLdI+E+CxQDJYhL/LYMc/wYVGQCrq+z9fkwi/8fI/QBB1r0A5vBa/ag2KQJ7Fqz81iZY/yemlP4Z0nUBUra0/yW6kQM5iUL5FJ64/tP3YvzWgUz9Pf51AH76fv0FaA0DdKo9AOEg2QM6hsL6YE/Y/PV5HQLFuyUDW42K/ROKLPxZDmEAMSeG/X9YHwOgHikDu2l+/o76RP5NOu0Cppo++/vGNQGHvWUCxuaW+7lRQQDmrmkATUdQ/hC/6P5XPgEAJ3hRAdAcBv0WnDECDZa5A4fuvPxAHoUDxUJS+bS9oQFCLqT/i7qBAHaIEQFW3yj/ELBe/w2EbQESUQUCm9O6/wy/tP4fxT79KiZJA6A+tP35n/D9P2PY9de/zv/Rj0D+mbq8/Q6igvwqUtr7QJ94/AqMxQFfpv757b4xA+vxGvNemu0ALrfc/tvafP/QoPkB6sPa/3gmvQAQbs0BXqJM/f1o/QAArV0DaB+s/1EuJv1apO0D6IEK/j7EUv6TkUEAUzdc/WEdFQNA9575+FjS/W1ZUQOJdsT/k+5w/9QI5vhz8RT4wxPs/PU6SQEgsjUAqADZAhb0jvzWOab6/YnJAlYyEvoCppkAx0RlAJlgEQP+O4j+WZ3C+MxyhP3HYh0BnYpRAZ9b4v1TlqECZ2ZtAkHaDPovmqT8/P2BAVS31voeehL/lB4G//VSCQGFYh0DPmLRAuDWLQMBbOkCg7B5A8eTVP3BlYr9qy5BAB+y/P2FPg0CB6hq/RveDP8Sdorw8bEpAxK8QviW20L/uBz5AdKv5P6HxMED6NaFA/GcAvjxElkCQtaG/ib/nP0HRC0BeYpRA5rIpQKUgfD8JjOi/ZZ4LP0lphEAau9c/9KCAP6SJFkA3wgJAEbGSQBBjHUARN/q/Qe4cQPcqNUAUQnJAmSEXQBcOtUBd+5FAfeACQCn2mr+ukeg/tTQfQBIphEDT+96+GTIMv4Y+GkDYgso/ok3cv+LfgL6PQAHAq614vgnzwD9vh6BA5/zYvy1tpj8C4s6+BcRkQLXKoT9mE+I/MrE6QFAbQEC/HC5AMeUMQE3t8j9Ni9U/8LV1QJizHb9B8T5AUcrov76Gbb/r04hAsBHHQHj5VEAzetw/pzkVvyHwNUBYwZY/upRlQGx5dEB8iIw/6rPyv4JbkUBOz4G+ksXqv+I7mEAlIb5ACZygQO9fqb+595JAPzhqQAeeUUBKHii/zQPpvyBTBL/fwpJAwttoQFY1oj+wmZe/4/BjPzWFAUAgJxVAkr3xP8Y+wz/I9nBAXEahQABXqD1LS+U/Wb5UQK4VjUDOIIS+FplNv//MhUB1Ym2++Evlv5rskUDlj/g/GMGWQBFzcUBcxMs/jnXSP1LMoEBe2lq//FCXP7DBvT+UXro/LxqKQCEGaEA5DLc/+YOyQPrcZUBLulm/fUDvviczf0AnYwtA+GR8QCQxSkA4a0FAsp0HQI6edECzCve/n9f5P17DBUCJGxxAENzyv4obmUD1mi6/ad9Mv5bM4b6BhJlA4yE5QLqcUEDboYlAvPCyQHGkQ78xojVAur7Gv3F5gECzMvy+LoMZQFXNrz9/AnRAwXJxQEbbiUCPcBFA87wYPdrMkUC+yB+/69vSPzoD8D+yfPY/nI03QLTLb0Dl9PS/5S3kP2wuCkDcsxJAtvUZQBVuHkDUUaJAun4dQDDw5D/7jc4/KPm8PyOi9b9ATPu/acygvgEkh0CqW4RA/A+cP6OivEDs9kdAQdSMQJevoz918KBACEwJQHuKmUB2CLFAKX1hQJntjkAGbGK/6UHGP9f9Qz97eci/tQ+mQPnykkBWoos/hnWyPwud3D+uhsI/BWSfQILaqUDlzse/i6YEQL8Xij/CJTa/796XQAwoKz8LFaZA4Ygxv/Xgkz+fx5FAypG3PxTdLUBu84dABsxaQIxGHEAzcdK968GpvxID279ycP4+nfJBv4rwLUDdY5i+mqLtv09zrT6d6rtAJpLDP7aXrUBQoo1A3muRQLDE6r514PU/fQlMQBe70z+heuW+HiVMvwSfKkD00zZAShOwQCdmpz86C58/d5RHQPaoP0DRTh1AvorSvp0/hz9IPKg/UdU7v1EhKEAr3oBAT5hIQJvCt72sawFAr9rmv6nZnj+us5w/Z2TiP9XGY7/WD/u/aSTfvqZMwD+8i45AUdbQP+Xtlj8KzLE/J5DJPVDvgL+eyWG/1wadP4lzmEC8CxC/2D/NvlnBiECrS4g+Z2FcvsKhrr9L7i6/eX5DQHLuL0D97YU/KBxdQJXhjUDCqpJAxnsgQEclEkDjz+o/ua8VQAcPtT9InQe/fSwAvweQU0D4NBq/NKZMQHApDkBiRoNAMJ+lQFLMhUD1XRRA4FmBQCE5gT3e8Fw/+z2Hv5Chhz+mEF0+mMMPQMjri0AguVO/BKAjQPjiO0CPJAhA1Fj0vjNaskCyspA+rbSev6HKzj8etIG/keWovcNLwEBmjFpAC1MqQOtgkUBnI8a/Yl8yv8/pkUBBTcpASty7QFCJQkBVzO0+x5S3P/u0D0AfZ4RA0+skvigkG78H8R9A2XD4P++sxz1E0zFAQMk/QB7ve0DWqnFA8D2kvzAdn0B0eDQ/0IWJQM1UrUBcPk++LG+RQOmJhT+MEB1AOA5yQOWWpT+lMjY/PhaIQL8lBUB2GMhAg4ESQCCudkAF5Um/xdKlQPrxkkC26Nq++bt0QBZac0BReGRADio4QAVfRD/AtjG/GURmP6h9Az2rVmlAqzUdvxk25L9e4i9AF6WIQAUzI73D4fk/KFPJQGmlHUDyfyY+k4CvQE2MF7+Cleg/5JgtQGVuwz/u42xA4OFyP2Iu7z80N70/2WYeQNkmSECn5CVAItiaQBsziT92R5g/UZYNv7NVPr/2N4ZAeoGwQBjgaUBDgza/t5vqPyLkVEB5MalAzV12vtlHnECSrvE/qDVFQEaHnEADh66/2EaevspNY0DYn25ATuobP5Movz/Q+K1AY/gQQObzpr3ixlVAcAQKvz3C273bp2hA1YkyQKrxW7+1h6S9UqmpP26EgkDh8g+/C+OUQJOF5T/N3BpAiZaxP7OWjECUALdA5v9ZQFccTr+sdfM/NqiFQF6nMkC0UZJAyDa9QLPG/D+D8i1Axw85P4fwuT+6aQo/4LmFPzL5rr7GEdI87Zn0vxoqdL+TQ8JAyoQBQGw6lEA73TpAzouDQCS3uUAEfnBAOOZSQG37W0Aeg5C+RTaVQAvIjUDaaLhA90jBvzg4P0A3kLY/iRv0v9zHOkCD5RpAFOO+P5yI3z9LAvO+Xsr7P2OMWEB8OuG/QZC0P5NT0T+3dwdAJc1jQA5VFb+XN4pA09OWPx+NLj+XmCW+FvzBQE2E1D+jtIhATdsNQMLPYkAjrRq/PaoGPzp4A0CdF6U/QB81P3RRoL8n2Zw/wTYoQOp0gL4ibOg/i5s9QFmPrkAKInFAe8ifQFOaEUCewbU/vsHmP2yMwz+ZhJBAxbSdQDGCmUClRYxAK52vQFPwzj+TQAFAAFJCPxpUvj/TFjpAJgQJv0tPh0DimgQ/q9aIQDwdsj/xz3tAzMICvxaVMz4tmyo+xR59P3LXuj+IPABA1EyKQJ1YiT9RQWO/jcBJv2W0w76Lta2/YMiGQO3QRkDK+j1AK8ywQHbMOr81Exy/fkF2QC5rNL9xzfG/k80xQI94CUBKC5JAaSGTvzy41j8QpCVA3CWEQORilkCbsrlAUAZxvtDqfkDrsqE/qFnoP6h0tT/PPdq+PJCOQPdUUr6IGVxA4OTSP9Zfq0DNdDdAv7r3v4OP2z/IQJBAt4N/QLT9tL7EZ3Q+1HRJQGGPI0DCXyRAISw9QPDJdEC+zWA/4fSJQOQmtz+UDK0/+ooaQLrbIL9fUodAyHJ+QKThvz8Mffo/bROHQFFZi75kek5APw5SQDQS5L8NQfq+IjqmQApp6D9sDBRAYcOSQM7CFr+tQpFA1LaDQGfngr/N/vM/Ylcqv9wcrD84hF2/VTaEQEi57782E2G/W8uPQAeDzr/6pou+xAh/QBtieb853adAh2Erv4gEor8dwTK/PgYjv8jvIkCibJQ/iWGLQNkDHL5JUb0/oePPvVeHdECln0JACNn4v6oWdr1+pls/nJT5PzV+6D9zoYVAOY2dQAGfYUArF0ZAQcqOQBgdZr+7I/68C6X0P7OzuL4/OJlA3OeqP6WAl0CJELU/7pWjP9AFnr7CDqBAC+6mP9sGikDlzZq/SY2ZQMS8rT+NywNA2ldLQE5Yez+f47U/MeqnQL0cyz/9tse+JZIMQGv6EkB7tv4/W86LQDZDXkAeR5296HkmQMgmM0BbiLU/PxH9P165nECBxDO+3rPPvtzLT7/lzbU/E+CbP6zf/b8aBIK+tc0cQGWFmT1ht0xAcJuNQKC5qz9X/LU+54KMQBHI5r/uRR1AeND1P8048L+rjvq+utWlv+icZj9Fgnc/HPK4P9vhYkB7uH5AbcAGQFVCjkCC5J1ArNEQQGfv9j/NsZVAUl0BQFetHT4Yrfi//Q2OvqFYtj97tg1AtogHwDIeyr4kp9Q/g/yuP+tafD+oNPW/DU+AQJDuBL+jPUq+jzqWQPNUmD+wVplAhx+YQPc2oUDv/h9ANQCtQGWSb0AVkyO/2xPQvkRimj/+SN0/apMmQOhJmT+LdRK/8tZzQJyvbL54AZBAf+8Nv6KLjEDrM41AyQhlQAW3+75aWcy+wQSRPwAoXEDVWfs/j6qSP4Qnn0Dbmqc/DAVfQC5JiEDauVxAQHZWQDJJR0DOzztACIJ0v/TYLL/B/pJAdqdnQCOjtL5LS6I/rK1ZQAC0DL+X7Q1A0QjXP510nj7zeq++7BegP/TnsD5zvJtAfnckvrEGeEA+bUlA0bFdP46qgD6tU/0/nmUeQLTmR0CdllBAIjMsv3t4F7+ppIJAvncPQCboa0ASjyi/xxJcP80coECn+4RAJuc9QInq3r+SeVpAOjvJPwiVakB3p4FAp5xkvnBsS75O0e2/+BO8PwHQyEBQg7A/J1e6P3nCyL16jYZA7pSyP2hI8T/FCX5A+EO6P1XlU7/xN4pAuJrdPrfGk0B2IkNAr4YTQFbsoUCYsMq+/zJ5QLs6r0DBT6o9tVqtv1F4UkAyDqlAw2x6QMZ1KECxxHlA9jTrP+pdKUB0ojZA/KC7P8X2kEDl2g+/df/0v9tTJb5TnpNA+c+fP+08jUA2AJ9ARDEpvzmAXEDWxYdA0+A/QCB4EECC3dQ/bF3gP3az8D8eFOw/n4TIP8+ZrUD77ipApLqbQN+Sg7/kpwy/sDNcQIiitj8zwtY//n9cPxcrGUAm25BAuBgfQBJ5iL0lnUi/wL9pv90UlEAdi+k+XNhkP+PnEz8ToSFAwjA/QOzQx0DQkcG+HZiRQGejmUAdU4a//6mWQIV7tUDGrVlAzcs9QFUk2b9WX5ZAwqGvQMLYZkAoO9Y/c1gcQE19+T/BTXy/ETEOv4qDr0BtJxG/L8qhP2ES779rBZlA+1FtQEoHur6zL7g/ZXF/P/toMT6BsMe97D9IQFSjDb6nF7M+sj0AwMznGj9h11a+aOCzP7Flsz8ynaZAvUFevr3NUEDy6o1AVNKwP/oKlUBpVmBA3nTJP5FOq75/e+O/2UNfvkM8QkCQ5blAW/A7P4DGfb/RpXk/hncCQOdbIb7Uw4lA294IQCKDnEDGBLW/4AS3P1z9i0D/Pw1AvVV0QPSQykAd+3+/+TbCPvco3j88cwC/pzHIvlnzl0BM9hRA6mG0P0BGH0DheoA/Lsk0QFMsgECdLWA+IEw6QGXX/L1bw2lAgj6QQEBUfUAEDNE/8UDIPyDZnUBfER6/uMKtP0VdiUA1zPI+rbJVQLxahr4TVPA/24H2PzQ2Ib/5kyS+4YneP3gVeUD5mbu/+dIxQMiIwD89L1FAYBKeQB/6fUDSS0K/zRMMQKFKUj6X4gNAr0hQP/1hRb+DJH1A0WljP989lEDbM6NAOPeMQPmvxL5cTbY/BlryP7K7sEAPxWVAXpCPQNWMgL8nKopAWN9+QLpLwUDhK3tA2KS6P7OMCr4GNJs/8bSTP3S4MEA3fgpAVBGOPSoFnkAuSR5AJhGXQCytO0BoWvI/nJ3SP/z8MkB+5+u/3isNv6FDGL9nyYdA3eGDQBVtoEAxfnBAquXwP3bXr0A/5ydAS6aJv82L6L50OcI/Na02QNegIEBJxrs/bGs3QImpi0BId8A/9ZKSQI9Epzw20U1AbRm8P6GU/L+mGYZAqNzQPw3I2z8uRUo/2Y0OQMRWJ78z+KU/RpSqQIkuor8BbZ0/8BmBuo0ciL3KFPs/LIZsQP+7ib5v+PC/x/tivsmB5T9LOZU/h3OWQO+f0b8QQpg/D+0Kv3khsT9AFZ0+qPLxP81wo78Ktaa/WJS+P1owPEAS98BAESSOvvUcPUAprzi/mEJHQJbCQb+QK/U/9I98QJG+3b9GXuk/hteSP8PqXr8hYRe/kFswQGdJN0Biy9Y/kFllQDrVW0AyyJxA4OaWQITdHb8TGPy/bViHPJAY+z+pB21AomEDPh1y6L6UhzNAfa7dP66kIb797AW/m0KCvkCXwj8gqaq/giS6vudMHL/oKRZAccKTP+Th5T/v69E/Mfbsv2P3HkDKkeK/H1eoQLjfsEDD6KVAPVF/QOqSyDx8wKS+MGf9P3nroUAZg+c/FoGNQMG9mkAc5YxATAYbv9uyuD/2/hhAFHeVQN5q1z+KCuS/iNvNvzSq+T/d/aY/zVkBv7YIpkBWmzdALVUkQP6apkBFx2I/OM0/QOd3PEAP4Hy/xy1Vv5Besj+rVvU9FhdMPyxugUAgPKBAqsVEQM2Vl0DdOiC/l6DGQONV9z+ltZi/qzsvv4UUdr+UT2pARRCrP5ys1b9ZpaNAdMkRQDlp6L8wCZBA6XIpQPAYhkCuJKQ/j5Rev3EYb0BedSY/xppXP2FkrUDYyAa/ro2UvhzIo0D4t5lARa11QJDOLr/pyIA/qXqGQMGCu77LFcY/6aH2PyOHuz++9x+/hL8lQHJmVUDf+8o/JvLRPxNkrT/OQDtADyGDQImBlED9dpe/jQHuP+mmeT/q1dE/oS6Fvz8MXECkPji/I3PHv/ao3z6N1U6+XV+WQFWKyD5pXiK+qVyAP5uwyjxh7qm/4Sdwvrj517znQzu/qKlHvv3kZ7/Z7HxA8zeqvfCfkT+R86W/Rc+QPxh0BL9IrPK/utngvvUnbkAblrI/B+RjQOYUekACK2i/U5VhQGRRvj/qvhhA3v/gPxLvrUCvQ4S/Zf03PhhTrb2bCoFAuL67vk5ku772NUQ/bT7QPej9+T/AHqRA7UNpP1nCwECJIau+GvnKvnsd2L7Prqg/q/mkP4WDSEC4jyBATYOYQJqi17/ixRW+JJidP+3udkD0W8Y/v97Iv5vL7z+Naiq/2oNiPqPxST/G/3NAcsp+QLeSNL8gq7o/zd52vHtFlb83ho9ACQmXvvlOaD8q5+K/j1pIQJ9TckDRzjJAsyCnQFrAikCFflpAnA7Jvw8XR0Dpp3xAbjDQv5pCHr6zWYFAmGnIv8lM5b/xgaJAj4qyQEUSkUAEIx2/+ia3P4sykUC1MHdAmPyoP8DPj0BeJFxAi4f9P6JSQL5V4FNAqnWAQHgH5b4PSR5AJiRFQJ4PJb92wI1AlYluQB5Qkz/eXQ5A9e4nv3ZkakBMtfC/Zi28QNQ1FkBKggZA1u+EP8haXL/590ZAgvloQCIwxb90PZJACg8NvwvpFUBe9X5A3OW3P7C9KUDtksM8nph4QAPT2r7mjPG+Z+fSP4Bihz2tmiw/mWcYQNankz/pkok/wToJv6N9gb0qE/A/FDHHvk4llb7mtaW+rjXFviT3I0D083m+7HTGv7WxDD8Ms4VAeCwpv8hEyD+qaSBAGN/1vuaTp0AZjvy/2fWXQD3BmEBPBK4/nLKQv/c2G0DCUJxA2YejPiva6j8FXWtAJrqaQPbPcUAYFiVAl9uEvlxhVECyGw++TyWLQBcog0BSJklAtPiyQO+0oEAUaJNAIu1tPkbNlb+OZbBA01CeP8d/Hr/5zY5ACBD1P2ovhT8pccg/ajrYP5djhkAJBTZAMtQYQEhTIEAr32VA8EcpQNRY3D8JnINA4NeyP5YUO74soka/XIiwQHdxrj+tAMU937Glv8n7wUBDzJI/v67iv6Yki0BYVYBA8OI8QLxvCkCCEhRA8pyTP9d7t76JjXZAZGKvQGPN+j/Lt8c/th4/QCOS57/uU5tA3G0Evl0YukAKkou+ktvFQMJZYb9hfJZAZG9fQFvMoUAdkYRAzrEaQKFwW0C1wru/jQSRQB9a4j+A9PG8WvEPv8P5mkD02Ni/GAD3v7MSkD7jG9m+EGELv9mzqkCSoLdAXd6QPt7tgr7DUHpA/7X+P5ofUj8csYFABWZNPww7AUDFeOq/UVB5QBwkpEDytxdANoqQvbqR5j83WjdA4P6fQHACzr6grje+OIAZQHwLhECvoHo/7uuJQEquzD/o1WpAbxIhQMkP8j8O7Q5AznIaQJEVKr9iVMZAvUMlQMUg7775s249ofCfQI3QQz6JjElAHzXvP6kHCkA/4rS+LW2VP2UMh0DJdbhAKFebvzmxi0DjvEo+84P9vyfItj8rpDtAiuw+QPjDoUCdQJS/fpL0PwnLKUC3xqK+Q0qbQMeAzz/TtyBALI2KQMf2kUCtscC/6PHavsI/hkAxY/I8JGntPzDQ8L75JlI97JX1vz2FqECkO4FAZmpKQBHaikDM+Iu/+zWLQKNGi0DjPopAZPNovnOhDb+b1RtAXkRPP0zAsUCdpIY/i+yCQDuwqL79h51A3hsjQO36MUAbEaJAMgjwP+YYnECTB6VAv+b6P79M6b0urbG9tcncvxfUjUD7ow2/JbkGQA+x/D+jQLk/BdqEQPuVO0AnSoBAAfKGQBgCJ7+ZVuo/hsQ3vyyemT0YYea/6emRP9G4ub6KD6s/+z4kvtRCFkBw2mRAC9u8vvOs975GfoBA2AthQFf2yr8QDF1A2+jFP5wiTrxMieU/2tc3QOI4ur825odA4x+IQE7s2j/l9Oe/kPoDQEHPbT88Vf6+DXapQJvwLEBjaJRAkXmbQJMpoUDrAo6/RGM6QLgnpUD+NRu/VO7PvYjZkT/gfZNA+cvPvX4ZlEBbaQNAegTIv7JVMUAlnqy/umdaP7PNBsBV7ow/q52JQNiYjz7TFVtAaQsBQECR/b5akJ9Am5mrPzXyH0B5ondAzMKdvumWbL+ZUUU/eCKEQF66fkABtK9ApV6GP/EqnkAzkvw/TuWeQBeQ4L/ep5E/Um/wv8aEfUAjKv2/sY9sQNnIxz+eR7m+IbBGQHRS0D+LOdk/e4PfP+qXS0AeVZG/yKrsP4WmcL8ougC/a7MOQBlINkAOy2m/X6acP1q3FUBjqS0+M7xTQG0Gm0AzrVFA6N2yP2KDe0AoFNA/LKWpvyb0qD8qx4dAf9izQK5XiUAgROW+kzZgQMiQYL/D6TNARgy9v4sEXkCfQrk/QeDKvzeDL7+9aaFANk07QF+3kr8aWhW/jeWQQO0PND8xedc/YsuZQD55wz/xkzJAZ96fPc1cd79RjIZAoqCMP2BX+j/p0C8/s8rsP7NdNkB+XFhA6KMGQMoYyz+Z829ASkDPvp1/mUAFLas//EsDQGAvzD9tAyy948K9vxqMm0APdJVASmDlPyda7D8viKFAp1CTQPJ7ib6Lvsu+meP8v1l4Kb+SMx6/3gGZvpY5BkDt0YW+roKwvrzZ3D8n7pI/1jUSQL3KdUAKR52+x12iQIzlsD8W/PO/PJmMPyxDEED9d8M/2SQ8QFDXK0C/HHlAvdvNP4/DrEBgYwlAJ9IwQOUguT/KWp8/qHhEvyDAdkB/IoW/i7IdQGKCGEC6p6FAaaCMv9WLAz1q6ZlAc5RoQIdai0AC3j1AqHdpvkXcL0AZ+rE+w56KQHV0rL/IMB6/Uhg+QOtHhb9keO4/IxWnvs6K4j8AmIJAiJ7rvtaJ0j/yNXVA2SvCQKxhqT9aKUo/GXuYQALYWkAMIqhAC5yAQFEFhkDVyT4/3rDZPXjo875tL6JAmuafvXz7Ir8fa9c/UG2Cv0srhkCUbcI/7MEIv6FqfUCVAshAcbeXP9Q1278Pm9k/07RfQLhnGkC3SwtAX00fv/m6CUBdZI4/b780QLdr774p5yZANIuAQHw+ckCDXXlABuWMQJvLMb+cuoVAfA7KQKd8Ar9YH7++9djyv1rNPkD4P61A1IiZQCM0Zj9ds0a/Ty21QDOUpz/bRvS+4geLQO5sdL83cRK/ySieQAhC/r6HOMQ/+gK6P5Ws875dyapAJ2CMQPat0D8TMUC/HgdaQLOkFUBd8sO+ic4GQCSvi0AmJWm/uYz8P9S8mUA8czlAzHD6PxOzWkBn8mhASWd6QEQKsL0WN5e/ad4hQG6Wvj9sXohANdHXv5UBnUAcQCZAD0x/QH68A7+auzlAuE6iQB7Vvz83+Ik/qF2zQOpIr0BxrElAgGbuPx8+HEDVFe0+PqbjP9Utlb7NiKJA1+phPyyesD/PC29A/kTfP+h/6T6uMva+4YiLQHSQyj/WwgBACbR/QNcozz8A+ohATqhXva8IIr/Q4KM/nddgQC0ZBUDQl9c/0zrWPXu0xbyK2T8/NaWdQGcEhkC1N2+/25ULPwKwxz8mHylA+XaAQCL16T95Gya/8nHEP/STkz9pDLs/fnNqvoitkkApc9c/o7lVQNOsBL/vJoFAUwAiQAzHTb4FQThA/5XovhAcsUCbp5U/P9FGv83Iv76cSKNAyAx1PmIVMECKVO2+17d+QOFVzL6a73q/eXIxvthAPr8NiPE/m+IjvzNmpUCpvC9A6K9bQD/PIL92Upg/go3OP8AAlUAqdZFAfSP0P2ttX0ASI9w/75sdvhDFtD+WV+u/xh2JQDTHZ73niwI/fEPIPzQUhUA6pBBA0nVMPvX0tkCkOdY+20q7QK/MgT9ppYhAtFIVQD2wfECJxpy+KAuQQCgFsr/Zb8pAzIHpP9rIsL+uar+9RYaWQK5LAL9kmYBAgHiQQONbnEANCro/fVuFQMlde0BNEYtAufirP90JoUDme18/yPYXQJ2WSj/vo3dAZGW4v3gtkz9Y9JVAvp45QOw2Fb9dsfw+TkafPXJCkkCIOkq+uzM3P12hqkDKv2hABZaPQCFEj0DkufM/QfwRQLPti0ApBotArJidQJZmhr7PA4+/vBYBQBpK8z+VJoNAN2G9PyUVfL9Zx8VA+tlXQPsgJ0BHie0+oztsQLjilD9NDSVAtnySQN2tkUCW2y8+Ca4DP9Hhv78K8z1AUUuSQP06c0B788C/hvXrPohxL79PBoc/UdMQQEtPKEDCsAi/6RjeP1bXpUCQHtI/nUvsP9SkzT+5D6o/Ws23P/zGkb9k5YtAuzYXQJDfK0BmeX1AVGehQKdzSkALPEBAJJmSQBizJkD+x08/oGZmvw0wcb7YPU9AFWZhQKVKu0Cfbek/uG8Jv1hGC0AuhplAF76cP5GuikAemahAseyqQCSlBr9vKXlAHzVsvikk674w9eQ9puI5QNpQwT4ltpNA39GWPYjjEkB2C9g/5q07QAxUgEBsTjI/LzxzQNmrBL9OwotAMgTDQBtGWD8lRUFALguEQOjsyD/yTvI98vWtPMBhHz8zW49AAcLpP877YUD9Fwm/EcK5P5vqGb+MJjg/tn0PvxlIjkDrWze/cl2jQPFlKb/mGclAwgqIQKN4+74oB8W/3uXjvqVNu0DK6ti/oj/CQH2Bcj93LvM/61qbP8IAOj6EXZBAR+aKQD/jIUCKXUM/siiRQBdJ9z8OCp4/wFgiv50jKT9/h7BA68Szvr4aaEA+k8Y/zr0UvxmU6T8B/3G/Se1eQFsTmEACKBo+idypvuGhML/s1aI//CvdPvIdlUBKhRpA696GQO6BLUCZIbtA19zbP2gvU0A4PN8+6JAEQAu2jECc17pAxr2PQFQPUrzHUUNAhOPhvj9UGUDKX45ALkmsP8Q6zT+07ZtAeyk8vdw7b0Ajpq1A+YM/QKWawUAxeIS+FCCOQHfizT6NBNo/mGd/v3cJckA9cO48YgpRQKfl0j8O11y/F/ezP5xztEB/New/gUFbQMgsHkD/6+4/nrIiQMfxZ0Ar0Q9AjRWDvtRasD+FYHJAYdPCPzk2BkBABp+/ogKBQAh3R0BTw7K+nwvSP8dFpkB5GjlA/LwsvSpWzr9t0CJA4/WAQNl1mT8bfrtADuMgQJx8qz/OxGU/rl6KPxa9d0CJVhVADawwQFH5nUDDD1pAH3iJQAES8b4ohZRAz4T9P1wRkj79I76+ePmLQAuczT9A7/m+g1sXQNammz/1zKk+a+qDQHA1pb9MmOq+TvRiQBvpgUC5EaQ/+AU4v/MacL+/vlO+NjRAQI53HEADbHm/6ai2P2iAob5TeHxAHOEEv79gc0B7bxhAfW+VQBLMvj+03+u+1Zw2vwE6JkALoy9A92OhQMgzQkBEIIk+VN7dvnzykEBRoqY/RKswQK+FREBjeM2/J6ujvsCuL75Y53RAg5irvm9KzT8u71dAfzt3vpqeFr8+KMC+7p3Buf3VFEAk7b8/6Z2tP8etuD8UeDS/L3NPQFi4qD/xSoe+Jn4nQKTgvT+icoBAiIbAP973k0Brci2/jlbvPv4rnkAbDXZAMbrgvjqCjUCDqaBA/Jt1v7kUrb9/w5S+JuyoP09sG78eeam/BH57v8kshUBe+kVAv5+dQEY6ZUBBsLO+wX60P1glWL+6KIy/Of1sQFJ9WkA2KGJAoBpBQG6+8D9y8ei/Wb3Vv0PHHUBUuME/beqvQHdJk77T7KM/7kaMvlSxtUDqGxy8HJ6pvkZV5z+9wBdA1ru0PjbTwD/plpZADMIjQJjyg0CX41a9d5BcQIhYckBs3gC/r0KyP7hLjEDGP8I/aEI9QFxwnECn8GRAhi+DQO+hrD9eBeC/f/V3QK+iwT2P2mFAcx+bQK+ZV0CFMKS+SyecP8scyj6+d58/Y/ywP8M3zD9iUPy+IdaEQODbqT/2JP++Vwt5QDGKjUDOwm9AnUJlQO8o9L9tSPw/lrqZvrL4l0AujWxA962bQE26Xz9Ugl1AJGuSv1YHhEDvROc/j7aLQJOxfkA83Kg/NhkoQMOJzL/M1Ma+Y86uQPSZfL8Tm5c/kuVoQBMnA8ApKvi+QsA5OsPw775Hi1hA2DkOv003TkCcMte+JJVgQIrlrz8GhQa/Crzdv4pZjkAvU5VAE3ElQMKB2L/7bK8/tnssQEgJOUBKF3FAYEa1vYcYJD8NMge/njzovdQ4tz91xxBAw0DYP7HDXEAIG7xAGmjJQDaZnUAfD/A/NaKmQMxN1z/FNVE+fdw+QDrUf0BDt/s/BfaUQMBNGL0TcOQ/Cn4TPruZzD9QqTu//RuHP2TQjEBjZE2/gzyvP9j2mT8xyqu/JqDOP/vFCb/Jxds/g4SJQOlU4D9zsp1Az16cQOJE8z+CJINAGqsKvwMQWEDAV+6/fb9lQLXLKEBPux8/XrPHvNMYpz+iq5lAY87jvbHBNkBf9c+9WxnePy4TU7+6T94/cLGwQO1btb/LrpZA7C3eP9Av+79mf05ARS2hPyMza0CRI4FAX6aUQNryBECeS3FAFOkZv/z2SL+X+UhAIfCvQESOSb8v3s28teApQKMLgT/+Umo/3EqtQPgtqr1s+EhAnfS9vQrlsz9QY/k/z7quQH0awj+bfkVAt+OIQMQ5Cr9WFbE/kpQdv1VdZECIzVW+v28mP7b+iEDFAolAQmF2QA+j1z6E6h9AJgAiPwD0iL8ubqw91njPPyrJr0AoboJAzmqNP9suw77Y5oFAu/abv9y4Z0D1MqJA1dEzQBPpwj/cec8/ot6aQDEBTkAyS4xAuEGnvzS5k0Bwqsa+D2qcvmEweEDXRza/8uBrv7hriUARm3pA4ji1QHexX798xsO/dnLlP/Ot/j6/Acg/nHopP9Xc4z8F5Ny+ZVqMQFayNkAvwolA0b+RQPfuhr/QcYxA9r2TQFP7jkDcJWpAnW9uQHQKlUAMVRi9Kli/v3MGwj8lM4ZAwQztP/Y4zL5WsGJA8iQIQK5GikBPv/i+r09rQF8cRUBQR1o/4OGGQA8FDj9vVZa/GYawQBmDPD4P8bc9mLO3P1YMlECyRhtAuTsRv+Byir81TFK/v9gMvw7wlEB37V9A5ABgvrrJgkAmOpNAT/KqQLpYCUBKG51AXJvtP//HvT9ADYg/DnLEP+2zjL9We2u/KmmHP1IYm79+gYxAVloMQJA+g0CxW7g/p/XJv/gCoEA81dc/UWZGQEfqXL6xaJBA77+vQIfW2z9eO5FA9ZGhPwkIsj9/dua++HY4QNcdkEB3dZI+kwajQLMM9D8HCmRAKyt3vh2pjEAIdSQ9eF/XvYq8q71RMqZAuS70P2cCwD9Ndbw/LxSbQFVvn73SYsm+0In/P3FvQr/Vkrc+VOyWQFnt3T/CPGBAlGVCQKIipz/c5Mo/LYqLvUyi+T9lTClAdbWtP3LKE0BYnzlAu3/KQCKjvD/+Fim+fs1Zvd4peT8+F4JAbG7BP3wtEECBqI+/Uv+FQOJ9VUCt5zy/JQKxvdIwA0Bp15lAR3zrP0crd0DC4vc/Jpg2QDMZt0BDJkpA1Z2OQPuyhz+L0vk/z9cMvtHpQkAWfaa/gXnbvgPDn0DU5a8/lqY/QKX9pkAOGps/v4mEQDXVRL5ZXmVAzOKaQIyy/78DvR9A3rSEvnGmiL//kyRASJbCvhmF/D/uaNQ/ycGwv4k7nkCL7c+87WgHQHHz2z/dKtc/NLpMQGvSr0BYbqW/fBMJQJElzj8x+lVAhhEDQDOpiLzyxKJAG42iP9z3iECBftI/TpdDQDxUCUD0P9G/DOUMvbU0tz+bf8s91N1+QHYiiECz25G8EBrwP+ie4j/4k8g+bo+rP9gEuT+aCn6+gq7JQMkU0j9EnPu+WLe2P5ycnz8hzldA1g9vQKQ7UkC3Zpk/qi8Nv7ATWEDk0gO/wT5QQK1Dgb8VN1y+1HDLQIsDHEB52vs/uiajQP2cA7/M+Mc/Eu3fvtJMtjxVGl1AyX3dP7JKjz/CHVFA3hPHQMha9r8dy96+rB2mP6wtD0Cg54xAB8GZQOMpV0ARO7BAnyA7QLBuq0DECkG+Sn9kQDtllkCfw0FAR4SHQOcjR0DhlaG+YLfbvwV8D7/0BolASeIwQBIcrz9kCK5A7YwbQDWd2L3mYTJAsEtIP9kRtUBsHZM+uMqpvyn/BkDM/aI/kNbtvpKL5j989V9ArHxOQMFzO0B4o3hAU0ECv6DjD0Ct/JNAXoNBv83ukEAb8Am/zqUOQF+ifkDgQeA/i7l1vmcJrT9XuY9AIYa+P2zLOEA5T9S/TKW/P4m+Dr9DUYVANeJYQHkUmT8cCIxAxKigQHxYvT6U0npA9LiTv90dxkD3CTO+hmQpQG6ogUCG/jpAefzGP3QkL0B+OKU/6wmbv6WHcECMx3ZAFaSCvqcSgz5AFIVAhw+JP73hqkAm7X2+W6HEP673kj+h16BAK7L/vqQYBEBWP6i+/W/pP9SlQ0B1vu6/Y0mMPxeZg0DdQNU/uGWvP+0xnD8AqYG/BrkaQAUiqEBiMG8/+8GUQO2Al0DKUndAmAWOQI5XYUDs0hVARwE1v1leJb/h/yBAGxq7QNughkA7Qt4/gqOHPgIst78JnUq/XvkJQN6Eer4I8ZdApCdSQHsXdEAd1oW+BkSjv1nvfD9lEaxA1eKRQF/j4r/hPIpAVaINQCZniED4UURA6VW1P78EfkCAcgJArPmNQIfhp0CmtBK/D5q+PjuzIb6jVX5ASCYlQCqNk0BFVClArjl7QGeU/L7CyJ1AdTttvvGEH7+jKPY/Q/szQPlJNr+mBZI8xo6Ov236REBYrue/UjULQHFZnz9ZB8U+is/ovmIscUDqHgq/g8mlQALz7b+Ljk1Aiq8mv1pcaz/etxVASn82QG2wzL9nVHdADxz8P77ZXkA6HnK/GusGwNiybr/OephASYygv7Oy9b6pVug/3/3XP5//nEAhKZi/ZVo2QK/1NkD8N4C+GdfWP2N2j0AO0fc/3H2WQPywdUAnR6u/gEPOv08Elr/66kVA/y1WQGJmhD84lWtAflGsP5GBekDgeJpAfEneP0eIn0CbL0E/1MqLvRnnX0BvQCJA5NSxQLdJDb5C4QJA4n6uQAcw6D9BG5NA4ecDQFAHFkDi6WdA3xrSv7xOPL6jSsI/LxDJQOjkiUBl4DG+hcdLQNHwgEDZ+bdAhC83QElAOEAgKx9AvUfCQLT/Zr3O0OU/mkhSvzBqhz8HaJ9AsvrDuz6yYL7q+H++S4Lzv9z9kD1JSKRASzHbP+dWKkBb3pVA9LUtQHuCj0DnOGxASRwyQIfarb+ICyBAvjOuP094hkBcMolAnL99QN1Xmz8fPmC/41pmQJRiBEB1WHK/u9zAP22r8D+eeApAd7Y2QJN9DEAiFcZAI5mlQBLbqT9aHpNA51pwQGObyj9VVPI/zTOCP+cLA7/tKq+/tnOXQIZbPz4iUqVAx5+EQE90jUDdfXu/UfQYQPVTbj7vbaM/TRmEQJ2k2j3B5k8/jg+zPyEU274+pvi/UseMQNpNmUBeCTxAlAqRPwRoM0Bqaay/ipzRPxhDQUCgWIm/Nv+wQN93lD8tt+w/ocAjQBcVsT+DaYq+sXkyPfOji0B541A+nl7qPZ29hkBijItAishVvwBN9T9y5CVAvI5gQMWM1T8Xh5ZAffkHv7tZvz95hG1Aa5XQP7oYzD7iFqVAH2HhPxb9MT9pqxdACWCvQCEQmT/eT+A9cMmzQCj8D7/UUiS/DA8NQLkEwj+BXjBAbvHJQNmckz+/tdu/9cx/Ptc9Q0Bg/YBAveuQP6WQnkCCUIM9C9sjQHQe8T/CM4pAHXokQLHiyj+iwWu/XUq8QOG82b4OHhJAeSl9vr/BcEBPRv8/y+WUP7b83D5T/+M+rQGeP9YO+j+P8vI//2ysP+KfiECGmFtAgMzgP1NFc0Aa1vg/6eV8v9fTsUDyLDlAVyCQQG2i/T9U3W5AmZlhQKFWqT8jjbpAUCq4QJasmkDDLBVAZ5+Fvp6vG729RSBAz0H7PJftub9yfpRA69qJQBnzJb40/fg/tpoQvgS/uL4i6bI/LTSvv3TGSUAQyjW+4rJ1PnhGcb0OpzBAw31Bvx/sPUB3V5BAYjfPP3DVMUDGYKU/8nw8QCo4Gb9ej6s/CorQvrtFuL6YcMY/4Jh1v+PpkECoHVO/F/3yv0EDxL0HtMJAzd30P1h/0j1hYHU+pqRpQBda0r6A3je/OOE0QCpmckBuw4BA5EFjQC5ee0A/yj9Ay/GcQNiPqEBTq5g/fEOZQH+/9r+tsBRApgOMP0/eCr9+o+6+pdnhP/AbEUC9MIM/RVaoQLLccUC4sahAIJOCv5+4OEA+3Mi+O8KWQK+uTEAuSSC+yS+TQA79+r6qr7VA0UtbQNv7NECXOBtAiYuAQBP1i0C8J+a/MZMSv5Qetj8AdKK+mkV7QIjmakDISoY/RaMAvmu5kEBfKqBARWbJP3WICMDaB6U+dv2WQNY9uj8qjUm/0ur6vvFYgUAXqJtAJHyUQGUmEr8jEve/PsvmP6Atsb54zkU+uTsoQMPsvj81fIxASbyMQAXNDkBlTI9A/5laQITGWUAIKBe+/akAQNAGdUCiBOc/KeyCQABuJ7/YRaVAwoN6vxemaj+vuwNANw2tP6xdE0CIqJBALk2iQGssiT+RlZs/VxuGP9up2D/dRX5AuqV/QG8Z1r49380/7d6WP+cOyL7jgZG/jUIkQOCsAUDby88/WVYhQPU2xz9IFku+RT/oP7WMi0B9wE9AL3FdQBZ4HkBixGFA1QZAQAqBhED5GINAbk7IQFfe4j+BstO/TyQuvhdyHUBRqAK/29pjQFGPrT839MY/IsWoQIZZVb7HDJy+J0eNQEFtQr+H0aO+4SvWP+bdCkA7pxFAIogAQIs9CEA6e96/7nHFPa8Cn0DiGzdAF72cQMVhvz9F/2RATeoHv1fd+z9l6p8/O2u+PzSyAr8MEl1AJa9ivdVekkCijsm+eQnFvwnhCr6VaK4/wBfOvngpN7+3eT1A1pZYQAkVMEA31TtASnfnP3uN7b8+zslAe6DZPwXFCkDkO4W/dXszQPiBr0B1jHq+CgJ+QPhhCkAiobg/aUPIQFuziz/WQp5AfsxiQK9zoUCGO/C+Qt4gv2CP879N2qNA20QQQKaJ675jeZY/cBmGQOGOY0D4U+m+8ceAP1Y6Er+X4a++cLC5P58eYEAawhJAN4mvPwGtmr+oN5lAsagfP3laT0CKoxxA0WCYP/q0Q0CCh/K+7EfaPq8HQEDsuvC/jsKBQNbUnb6u7EJA1rZYQNclDD9adMS/pXz3P7PcfT8mPSZAxD5MQGaugb71Z969T3SZQCpdgEB9c4w+JVc+QNsmkj/NFzJA/qSuQCgHpL9H9Po/1AhWQJ+qPECnM0S+/b9FQALcdUC5aEC/tkpBQGHDF79ee35A+3IYP12B+j8Plmu/YRaPQEAfBL3IGblAfB7OvTXWrEBf03hAE2YpQO6NNUBDS39A7UgGQAfZnEDE0jm//uUOQMnC4r6tN7k/aJvGPlY0IUA0SpC/+F45QBjtzD+OwMc/7ecCwMx94zxQdBo/ZEKqQDO04b4Ydu0/PxqTP0G1gUA3n4BAkM5SvEnglUAr2pVAcYdNQAglRkBSnAa+hvWBQBJuA0AOkqg/799JPRsOuT8e+6lAQtaVQJn0iL7jYmFA5WAev+LbyEBdkrdA7wyHP9jbX0BPaTdAKk+ZQIXz9r8uHZNAnFrFv7tsBr+tL2VARFiGQAEiLb9SaYBAUuNAQArwar8XqEO/4UpFv6TvvD/yYa5A6R0gQFIYCL+P7JtAuouNQKW1nz+BbjxAE+GFQO9u9z94a/U/3pHEP4zkO0Cy9je/7LTRP2rn8z/5imRADGOhvoeLBED0NcFA4swBPxUbi0Ai3sk/nhXuPxjJgb8TuTJAgwzbvwJ4mkDuUZRAxC2BQNnuiT/mQitAh6JFv1jzo0CLixG+eru5voQ9b0CtBQJAfh0EQGn3hEDamAS/UxowviuX6z+b8NM/D2tgQBAITkAHn7W+ZjD0P3n5xT8DFZ8+vVERQPkk1D+cNss/WxLjP56LNL3hFIU/tG2ZvtosrEAEmKE/yxJbQODlcT8q1JNARRg6v5N/sL1OXkM+bzuVQMhZgkACkJC+JBA9v7DWSkAcLZ89vVmlQCvTJD5TmGG8ReOKQLSv0b7lt3xAwc3rP1PdfEAy+aW/sdSDQF4SxT9eZ6NAvIfYv1pakD94GrdA3D6mQFssoECdnHA/TtGcQEbWtz96TZhA7NWqQJ12wT/RTCC/XSWjQObns0BEjcG+VrC4P7fqNECQjM6/2qK0P7C0hr/dG1xAqFzIvxj+qz9L6o5AFhGXQEEnF78AoB1AJriBveIagkDGaYJAaqTIPwChvb8/HYVAgqeovnffk0DjAE9Ai8gHQJyd17/89o4/aHQ/vxN2kj/tR1S/VAGtQCZlAL8Fe84/O1S2P2PMrz8C+w5Aoa2uP3dBkUAWNlo/A3yQQPKeXUAbk4O/8EvuPmLTm79yyQhAqmqpv0al0j+NBgW/HTYKvzhCkj+QGjO/OMyNvoWFMEDjL4lAM2XGvdq/OkCOd/C+rynHvw2Ppr+IvdY/rf6NQHR6BEBH1spA3phGP4eeLD+KPYo9nJOYQMfHlT+M2J6+EzKUQL1Jbr7CFWhAwRyPQNrMVb5zv6RAj5hAvyMhpkCEl+c/6gQFQF0mlkAJX46+BuCxP5lKRUC7eRO/HWYbQIY75L+dqu2/F/LjP+awyD/Z2DW/7aUFQFUR7L8XrG5ATC19v+Njnb85W69A5CGNQPEmmEDYAKy/qSsFv7tWgEDPE52/jXb+PwL81z+oiI5AKVXkP7A3jUDs+tc/tuiRv3Ckq0CN0U2/7HpgvwRvD0Cw4klA1Yp9QCD2ir9x4mxAa0MbQERiaUCyr20/t8IfQKDqhT/oYF9Al6KqP754F0CyVeo/30jVP3hb/D/4DoC/LIPcP9Ln7T828ghAWgTTPgdhaD40B6xA0GXwP40gxr7wK98/jpc6QPhFGL+bq+A+MZt0P6FxRL9p458+M8V1QELNh0BNlQm/jSNGvnGBqr59m4xAygaaQNue9z8cXt8/w/oavxm1rkDjE9o/xadWQJip579iA/e/QGN/P1cjXEDfc/A/zqF9QCc2tT/+e0NAXwnXvp7CND9KO3pATLZ0Py2DU0DOQZy+BEXmvzH3pEDgW3VAEhC9PxXaIkCzBBm/74KQQD5psEB0TJo/fRyuP10gyz/Df78/PlBqQFicqz7oI6e+P+yyv1Blwj/GbBi+aG6Cv0viXUAHvIC/eXUyPyPyjb/jWzNAaZ2lQMaemD9bdbtAExmGQPoNZUDWAbG+P0fdPxsskED3YOc/QUDFvqWeFz7e11dAH902QN4sbkD4MNc+mNK8viysG0AtQ3tAJ59ZQNiugUAOKo+/XVWzQHIA+j/2HrhAIMffPkdd87/b7uO/Gr+dv3G6PL4B08E+JgyZQCQ8mT+ghc++Em1zPkZnij/JTp6+JKUvvtAJLT/vHKBAdl3Bv7TeRkDb1CpApm4Rv0jprkBh2zlADclhQC+lsj8SDZpAVHm6P5WTi0DOQSC+Uj8yQL93wr+aSZ5AJwWYPzMgY0DtIN6/Xhr4v1XkkkDe1Z6/z8+ZQJEKiUCLxc0/AokyP/ryWkDXaIg/JTXkPw4xVT/yIL6/mbm0PxCOtr9UgsY/GpTTP7SRpb9+edK+4IuTQK6/qL4rJsQ/gJ4+QJ4wlr91PQq+AMCNPwRoS0BYuZ9A9G3TP902pUA6emVAy3/NP3y96j8wV/g/mJQOPyE14r/gIQZAvX6sP277OL+CxgG/mDYTQJBAtj+Yjb8/h7A5QEZgkkDpnL6/MlPMv6XYu0BZfRG/iMj3P9h32rxZbIlA9jkxQDtbZ0Af6a8/K9qKP79x9D8s1odAMAkLP69qZUCp5l9A/TOTQIZ6CkBoueo/CY55v1AzuT/YmNc/5b+JQEnQn0CEvnlAZ6IGv6mgNkAIIKG/Zj+sP7pDe77loStA51aCQFtcUb+OEIBAr1nrP07Waj7lvb4/A8ylQIkssz/aWgq/mQl+P1bjtT9QGGZAOMWcPy4qpkArGrBA7YYhQPn73r4TQsq+HtaAQNHVZz9v/YhA5WirPwdMd0Bnvcm+l94LQNV8kEBR+lJAhQGGQAPy1j/qR60/uWu+PweKGkADBrM/TLWiPzLJrUD8WUJAucOCv1+66z+QUYtAY1ffPrGJ677BxaW+D8bKQOBHUECdUlc/7r+fvzpytz9qxsJAVCItQBD77b5XijdAy58sv9DWOUARoY1A5vWQPxZ1eUBvadQ/PymqQOFNi75yNnK+OVN4P9+kpEC2Z6ZAp57+v0i0uz7UdnlABhzPv11vC0AFE5lAECmdP0tezT8epg+/Iu7lvnH2vEBem6O/a2RNPlEjr75uwZ5AK0l8QATcqz+V1Iq+573Ov9uRo7//V8JA9DlXQGQhvr6TMeM+ONa8P7d9ur+cvdo/3dZAQH9fk0B2kEJA/i60v5bCMEAtz6hATpupPxWJS0BjM45ArIo3v2K/mz/t614/4GoWvzSkFECjrc4/vr8EQEGl8r6K67tA22a1P41USz6rxMg/dwQcQB2TeD4cHrZAdPWuvc9hgj+7vw1AR+WTQJVuuL9QEDFAJYlvQO9FQ0D+DUlA1jc8QOy3Nb+TK4BAZzmNP0KXEECE/jBA4jspQE4E3T//0zVAaEx+P9SOBr8UBvu+mXqnQImhfkA5+BNAjrOeP7yWTL7e+kK/gJuEvvCNpkBTq5+/ya4avZ1jhr6GKdc/aUbsPmYG77/+3YS+OpjIQKDuUj/On6Y/VV+VQKSInEBK2K4/X48Ovz3ug0CmcJw+kDK9PwI/VT2EZolAWS9Rv0r5AkAKr5xA2NxDQCH5PkBKHoZAqgKfQBMypUBLa6G+gEYSv6L6sEBWR6w+6L8qQBDyAb9+L4FAJ3QcQE6CkUC6oqA+h9I1QNHirED5Um5A+d+jQFWSlEAD84ZApiv5P5JmYD8ayXRADn6lvlHfwT4oRLA/fAL8P+OP8z+xyXlAez02QLQBikArjYs/GshuveLKXUAD4iw/8q8CQFG9ij8sfatAFKSRQDwDhj6yk4dA+H19QIVPjj/nCGy/OHVCQMI/DUAAGolAikB2vXOb7r8D2gm/LSLKPxi48r8kAhi/WQGQQG4CokAbHMk/IJh/P4eeHr+IQH5A3oZ9QFQol0D09sY+stS3Pwp10L5fg4pAVRsRQObtAUDEh3RAcRoTQNgOKEDZ959AsgkoQPtuEL8zhQJAK8CfvZQni74vM9c/QBihQJ7qJ77ywL2+j4WHP+aLkEBr84tACWeNQAPXYD+iCvm+Hd6aPT7hCD8SPvE/Vw4Bu9a4Ir5IVYy/WxGbQGytsD87/DRAyAkZv/LRfkB6d4y/Kd9cQBC1gUAplJg/kYvwP5PMkUDxjb+/Y9UuQNAYM79hZZlAA3znP7G0rj/+qQFA1aHavsG0YD+1katA2k6RQDku1D9sQJVANkkFQFmT270KjMhAUHMcvxbziUBsJOI//d8XPzinqEDfjxhAPuTgP7/zhL95bshAypCqPpbxy74O/pQ/QA+wP3oVAMDuoMQ/143vPxFGsr8BsJI/4Z9fQLrRO0BkbQNAXjqxQArJHT8MSmdABy93QE+R/T8X/2A/CRcRvy5aP0DVQzVAegnNvruR7j+/iqi+bbSiQGMP9T8ti60/lQnjvlo017/6p80+CxIjP/4Vkj2fCzRAn3xhQB6uNkBSdfQ/Gl/IQBHoOEDmjMs/HERIQNqko0Ds46VAcPuKP/Kch0C/d5I/OBigv1ZdN79vX0e/+SGWQGbPH0BTAIm/ZwSAQDKkcD+3nNk/dUUtv5L8hkC3XA5Aq04RQG/eiz9IgcY9bPNtvmas079PvmNAy7jfP4qLoD9TJpA/eDrxP4K7MEAxd3g8x0j3vgtrckDTCTO/KyuxPww4xb8/i7ZA1buJQL6Hsr+LaJpAZhRgQOS7Ir/fW+k/i0GlP2mdq7+B/II//IOEQJzXkz/9qPA/XjgcQAR33T/nMHNAgoZBQORCY0D4f10+6oHkP4u1OEDm+bY/lehVvknz675o7R9AmKsfv3CeuT+bQ6JAMWyCQAq70L2GqZK+n4JaQF+ki0CTopg/YtXrvxFnUL5gJv0/yAqiQDFkiUBsYHJA2OHhvpd5S0Bbgkq9NZyzvyvClUDqy9q+/hChQFPJOb7/iolATNGaQIoCkz4LbJQ+vtr/v4C2NkChomM/eGtjQFvsf78H7Nq/NPi4QBK+nj/AqApANlgBvz3IYUDsbru+K74dPruUC0Aq4lw/sCiFPwDhAr+DEIBAnmGCQOZUhkCwAr0/+rx0QKSNsj/LypdAAEfEv/beoj9+fi1AL0w8QIxWOUBzi0m/j6SjP7dWkUAq1SC/C2SkQDd86z+heY9AqYLnv/7syT8/Euc/xiYhQO2Nrb99bJY/t1sPP8A09D8ow6m/2gDWvxHs7z/L9mq/uRG/ve8YikBJEbi9V3ViQK91pD/DyZ5A81loP6y++r4SUpS+tR+1voWDsD8d7a+/Jk5pP1T7qz8RqSVAGsf0Pzsjqz9/RUFAW0SmQLmN+L+qPgNAWTPGvjyGSUB7jrE/rJL7v2Ov9D8ZOj5AaQ2+vzgxgb6JtYBAAC/yvpRaaL3cSK9A+l2XPwZQar+/3GFAhbKTQHvvqL9qtn1A5gWeQFv87L8vUYU/HrWoQAezGj+0rr6+TtegPXS0+r4+f1NAhVipP0FQ4j9FTKC93MGzQCJ3BcBRq7a+DByBQOpRdr9RxsC+hxoeQPHmnUBSbrG/QfEAwFTT0T4j7SRAD+99P8rmNEBcMS9APl75vw0Qur+nZgVAvLSuQJLmBUD6yYVANBhuQFIt7j8PtTJAyi3Tv3sr8z+QLtO+FxqAQJ4Ro0CY7fQ/Wr5FQDCSkEC87eQ/zqWqQMxa+D+EQBVA7wifQOlHrb3R95G+O9Kxv3L4878wk1dAgEyeQNw50b8J8LtAYQr6P672M0B8iGRA2v8cQDdn0j+f5Ow/na9gQKekkEBldTq/Dd+UQKx7l0DSkSQ9WQjbP9ZjHr+k8bk/bpWwP1A1Pz9AE0NADlxtQMY+jkDqesG+a4rjvjBBZ0CzZh6/fEm/PgNJ4L5Oi15AuxukQBRkWb4cnipAHLxZQPUiakAtP6E/eO9DQPsshkCpJWtAGEFPv0v+jr8jvM0+p/g/QIVsyz9aGRe/K1RyQOxlzL6VTLQ/74zSvs/2iUAvVLtAZ402vwArK0BY6AE95++hPzQw2L/2BTg/5L1pPzsN9r+1JUZA1fL5PivCv79Mmn1ApUM+QPF0+z/vDZu+UpxUPzaJjEC5sgNAc/HjP8Inib6eP3VAUvR+QMz+Zz4xXeQ/9aSZQOg/a0Cm4VI+2GzTP/y4hbxVVB9ADpu7QFNfJL9xvS9ACkWqP6mOQUCZQ9Y/02EPv/DZF0AnrkdAS9mhP74gU0BCzyZAAnphQHNvYT6KN86+oPeTQI+q+D+QM/2/5jz4P8qhl0C2O9+/jC+IQIX0VECPOZVACkyJvtEF1z9QTJxAUSX/v2bL/z/O/X1A4WyHQBp4ZjyVyqU/wC2oQCotYUAnKSVAlsw9QIC33787G49A3L6nQNFMgUAmWiZAsLyWvyouj725xoRAilWGQH8dW0CglPu+unO5QHjlnEALzeo/3OjeP1sOZUCgpyVAUZ3PP7cQN0BBiwpAQqiqvQg+YkBNFFG/6rEwvizjZkDy2dI/wpevP6POMUBndjC+bVksQLGLb0BLVXk/Mz8UP0i0AL+xOHpAuRdLPwveE0B0nL4/v/v6P/uy3T8k1sQ/HEVFQO0vBr+V4929CHY0P0O/H0C3tzBAO3nRv5VK/L4l9fg/UcFNQNFn7D88ORtAkGuYQFt4LUC5wsRALUV+QB0PrkDemQ+/6SCVvuEnNkAazlk/4sTrP7aVikBM8MW+UGnTP6dGNkBS96lAyTRJQGVQ8b4XPKI/cHgXv6srm0B+TM8/MK6FQM3iFL9UBjdAVyHKQDt9rD+8BlJA5Nh4QP705b+Vu5q/QFqgQG2WiT8xZZ1AIpWHQJgbkUDo2Js/I6KGP6fjPkD/jPc/ZK/LvwCrEb9l6P4/+2Z+QOhLZ74sz80/nsOtvqKINUAltQE/e8TDP90YnL8T5Yi+BDvnP2uqXj8x/fQ//MS3P0SQqEB6rNG/kU8uQI34SkDKF94/TBQdQIQ2i0CKbZu/0D0CQAikXkDnqoJAsQeTQLYQ3L6WaNM/DHG6Pn/8tUAFV7g/UoY8QILT8z/yOX5AyIM0vjJ8wj9CET2+S1FEv/0EI0ACPTdAmzKUvNa8a7/1hMI/UyaIv5vsEkCyujK/5GM4QDfph0C29X1A72Y5PYH0c0AlWJ8/7qmgQLyFvb54qIJAityyP8KTlj/ZS4ZAx326QKxSGUAcqdm+GR20P6rrT0BcdJtA3+h/vCxPUEDOseY/tcOsPwVW8z69UD1ARAKDQLBtlECd2+U/dftaPTfWS0DfgpI/hSadvq60f0DAnLu/mQ2gQOta0L/dXD0/+1DfP/7IlUBfFcy+isTgPyEIlkC0OVc/8MaZQBVgA78+i4M+mJEiv+rXIkAOKqG/Ap/JPx/AW0B1lF487RevPw35uUBUJ7tAis8sv9IZYUDYwck/twCmP5ZWnEBOFJdApSiUP6bRI0DSU0NAOgWZv9G+pUBO4oNASPuiQL4bO0A0R008dBZeQN11R0C/4YpAZBc3v2fFrL5U5zC/hJgNQMnFhb6Wwr2+RRTjPmaK2D+XfGhAUrafQHE8QEBfZgtAhmohQFcY0j1j6Uq+wLf0vvIyEr+rsrw/f3wAvYuyOEDOBI0/x+ViQNkKnb4U8S9Alg6HQL9ClT9C+Qq/NpRSQDtJtj9jjoJANR2XQBC6KUDa1YZADx3zPeXgrz+beU2/DuacPzKgpEBdo8a7D8yjvdT8oz9RXnlAeGg1P2aNDUASKK4/iZeEvEUae0D7CA9AM2mjP5Rz2D8jgIpASLdSQILOqj/gpL8/DYkpQBL1vb6e0Ms/khuEQPKMkkDjLia/0FhKvKkkJECRbTRAE2hyPzGWmz/Np9y+fF6pvpTLRUByp3e+a/VyQMZvEj+ZYbo/wXu/QP0xb0DE1aVAwHwsQPq3Ij9+MFg/5If7P125r7+iqAG/9Gb/P0+th78LW589I3TzP2zg9b5YLe8/WHsvPhOJwUCKi6K9//CMPxmhGEBa+xRAN7gfPfFFBb0kT6m+T4KWQAjg2L983h482jMUvwhHDUCSEIBA0+efPwPZ778wc8K/GvmBQGFfFEAL92JA5gPjvuuotz9P0M0/J6l1QOdTKECqBI9AqC70v3uU0j+vXGu8TCbKP0sFsT+fq9Y/83ASv4itzz/0qEZA0i3Mv+Vpk0BGFBZA7WTXv/3Ghz+DMZtAwsDLP/ldzb8oa11AYDzGvhay0b7nrq5ACCshP9SKGj1t/aBApH4Kvm7urUCE3ds/4Q5QQHwxskD6+ri93JAIvbEKhUC0H7FAN1vcPy/JDkAsDLNAF/D9P1r6zT9vZY4+EK73P+fGqD+RC6VAWa+SQDILkECaJxu/qAX2P4O6ckD+fy9AJcjlvtFCjUAqJHxA/QWNQHiHd0CWHWNA7sSVQOdRtr4hI7s/EByRQN4YoUD5aqQ/yJXIP5T9C78BjgXAxfmXvgN1tUBe3YFAYs7lP8B2sT+1J7lAC6FSQEIRwj9h/iZAOJaMP6hde0CanYg/FYC2P1gDjD9IkotA35kxQED2kL4sJXxAdr7vv+q+eECvZHtAdSHrP8LD+T/aMZFAvtODQKQdHEC8NIBAuJ3JvB1T1r5GayBA2broP6HTqUAtXoU/S9LpvjBmA0CYpYxA3dpdQG3qGEBAcNK/NRQMvzCIgj/0GUi/g9ZMv61kJEAXSKRApBCNQKJCJb+FB7Y/yil6QL+/oz8XbrJA4kqlvasDpz8EgW++UuJ4QHUCHkDgW1tAcP5vQNpfpkBwRv4/C+JKQBDqEb0O/ba9PsAyQFVUJr6iv7G+VbovQGouR0BSJMc/L4szQB3wj0AR1oxAd9ICQLhkSr8Y8du/0T1zQMQkF0Dv8S1Ae0+Kvk/LvD+hBRC/GqLnvg2wkT4vpC9AqVg/P7ppRL+laBVALTFYQCDRk0AFcDpAKY6Rv/GoWb+lVpFARIu8P3ahrz8+bmc/W47UPT8uQT/MjHw/vO6IQJHHh0AFubS+ynA1vwq/lEBQSDk/cto7QEDM8b+CpB5A55uuQNn8FUC1NGFAVPqwP+5jLECRPzxAZh0Mv8Kvbr+dyZ1AVZgjQLPnSEAADaRAquqJQIve7L9zVZ5AtBpAv5+7EkDo0O+/ny9WvmNBD74QonpAw5SgQJuc/L73pZ0/i1EIvwmCcUCLf4FAds68P9xJ+D9GJx1AvhmBQLAzIkDYBLRAwvq8vhtVAcBN1/G/3+bSPkPAsz+I9Y4/jnvBP6wRz74DSG9AY+zPvUOilUCU9wdA+aIzQN8jMkAOf36+A46wP9OuZD1DSmZAn8Tcv6TwpD8ohxK/bIH/vt5uCECDjLg/PUjMP05ecD/FMp4/EeSwPwT9iUDWpgJAIYTAvoJKjz89XEVAvCvVv6L7IUBjw5hAd5YMQNE6cUBjmVW/oqYOQOhVKr+nz6s/PwpgQFLj/r1VJuU/Q4IsQLe5OkAAx5tAyjXCP96RYUDwOcy/ek1yQPNLnr6RWDa/fNugQNgjsr6sjso/Z9BxQI1itL4OVw2/0/6hQIJiKr/ma3u/GYL0P1Tx1r+tQHJADn5+QG9RQEAHCoA/5fSsP555d0AHZJu/+hzBPy7gjr+efQ5AVTdCQAiR3b7c/v0/Kg59P0nJGz/2EHq/LNGzviBYEUAhPCxA4YC7QBoqlT9Jp5y+WHmLQPN1pkCKE9a+I7KsQEDQrECCvpdATV65PwALCUBGj4pA+Ic6QEuHtT+2gAU/p1VKQCMKo0AesaZAJJ6pP17Nyb/VMH9ASruuPw3epUBHtBq/1TYwvqy6/jzGmIJAvO95QEwSjED7tv8/aeIdv+9Hjj/kvIq7GRONQHyRw79xY1e/Pn9gQGenrD/x3l1Aq93wvzQ98D7H+66/4h2jP0ptikBnyEK9K8C3v9oDNkAgf8++ImxwQJz5m0B4pQlA23Irv+balj/JCao/EmrpPySIY0BWFW6/MDekvvsxI0AILXhAzx3pPzZE/777IMM/vLivP2J6lECUnj4/lfsmQBv1gUArmO89b9jJPyiusj+f7Qa/PgQtPvhLLj1h5/q92z1gvx8tS0CVWSK+LnCHQLThI0DqMkJA8vCNQBF/GEAkzte+QywjQPybuEAk84ZAfJS6QNfUmEAbP5dAVoG5QDYrpUCDPWJAm0HBvl0VaUBysgZAbgilv9Ikyz/bmlFAt3tgQLbSuj8HYv0/mOfjP9OxoEBPUqNA0aVivlIWrj/ZDPq+/C2uQAqDwD+ZkINAbywyQLJuJ79lf+E///RGv5eLij8wdaNAasLiP9t0jEBAlLY//nxGQDZS1z+uN5k90DIkQCArQUAsdY1AGtYBQBbvkkDLBnBAKp4ZQFmP8r8fdoVAxkx+QG5bxT90nWM/Qb0Cv2HCU74DBh9Af7UwvjcmHL97HRk/Rv2aQASnxL/c+pFAjE43P4fTTD20HalACCmCQLdAOUBx2ntAFvwkQErP5D/aggy/RH2xP+URlkC3soFAyx91P5ZGdD++eDZAJQCfP7cvZEArVCy/FCYoPTifmD8wWZRARqKEv58TVL/eKK9A6Wy4v5X9fD9tida+v1I0QMe8tz/j8IG/cOkrvxGLJj4SX6Y9nX2UPr0wo0Dpi41A6JPNvkRWDUBBwvK/EhiBQPfnyb/TL0pAAXftvjaGqEB5WZQ/Ut+TQChVhkDcEY5Aln/xvz2qWz7ypjk9U7LjP/wyuUBF34RAsJcjQG0VhkD7Suq9kQ6Qv0fw4T8/Nc0+0axBPn02UL44JHc/71l5QDHUDb46Lti8tFwBQN1jkEAaj6g9aWnjvQqdmD9r2r8/DRISQEi5173gE4xA7naJQPDGuz8Tqm9AH+uEQIPqfz+pynxA+QuWvm5Gl74oacA9jUaXQKue1j9FzWlAbr0SP/8+DEDHOHBALTzUPsxLsj8vpBZA4SNAQAnm1760Yka/+oeIQO6kOj3avyBAzMvtP01j0L6o4rI/m4w9QLfClj/U8spAcbbsv7Zc3D8WIopAG+DKv+qqgL/qUiRATWDZPzGFlUDy12BADJmyPxmQqkAGvXW9jCn/v01hBL8mQ/S+qRdJQA1eJr1+a6VARCuIQMagG75Emtw/kOS0Pw61wkAxd3i/6gmWQKVxuj/5UnJAOu+OQN37M0Cv7JdAhlzUv7sXgUB/LBJA65xqQHxNU0CPWbA/dYNfQLTsdkBDFXRAu2lOv6xFX0AiIYBAOzzgvtEQGD/rtee+QNXmv9Pqnj+K6sg/NpBEQPderj9GqglAX3gyQI/vVUC4RnC/drDMvl6Xyjx/SYJAK/o1QPhCF0AQd7Q/8DEPQHP/0D7CMcNArcD1P2o2kT6nCw1Atq5Kvv5LoD9XwbI/ddGAQDLGgEBhMVdAdCFqQPWhtUAklnFA0MhxPnjjRb/GqaFAeSg6QIPyY72XSB5ATKlrQEzeYT+MFsq/AsqrQH/+8b/ZqlRAPWRUQGsF4T9gzzNApXWXPwtMVT36zpg/5eBxQM0/fj/8d6JA+W8mQJtgnECvlFhAE2pGQMYtoUCL8tC+QwQcQK4uFUB2KKxAbRxoQD9ptr9Ec60/cXu9P3GPh0ABGIhA5oXTv30iFL8yDTZA7HXGvmXRPUCDnKC+9nO1QPaaokDa9Z0+MumTQOeZA0B75DY/Yk33P0v6bEBJN0q//V3BPn3gmEDXKWJAh8OMQMgDwz+SHN4/TEMIQMTsmz8+gq4/VfzrP6OhR0C6xtE+sO+nQAlkC0A8en5ArkumvyFB6r4vVZs9QSTKvwGIS74eBpxAinftv/+mqUBKtohAeZIpQJWELUCZBzNAhx6cP/1lkkB1dM4/bV2uP+B4m0BZDGlAglzmvzpMbUDZcDxAoOzTPUxSl0Bau9k/3I2uQEsc/z/V6sY9OhK1QKfOMUAwx39AOoc0QDszk0Cb/EI/Pa93vvDb8j9dkds/ffPWvzBy+D/7SZBAqUWWP26Spz+dxh+/vjtyQCQcxr8bl4y/sGJkQBA2AUC+MAa+l6+RQD+Kk7782eg/OJ95v3+WPUBFJ6a+7QtgQN+N0j+dR1JAIi5KQAWgLb+BIIJAdblQQNO/rz+AWIY9V7HqP7cVpL5oGLA/iiiuvqht6T9oA0JA0lGvQGzCkUDD5g5AfPV/QM3/6b8ORDW/8M4KQGztkL5FvspAkinjP0/fH0AlN5tAAQyIQAvpu0Dvh8BA8v31v4zGN0AgCWI/VNEDQGZIFUBn1Aq/bTmWP7M/ykC4yGK/REmZv09buz/GoI1A94ulQJbzTkB90cC++MjSP0KMskAtYye/lIPsPjbgWEAPRFg9AycsP3Mn6r9RPExAItMovxCkMkAia2BAl5gQQEZ60z9Zi7Y/YaMOQKT1jECr2uY/FGl2QGrqlUBSngK/4rKavqw97r6crDJAEaL+vi+7FECihxJAFkVyP2HilD8+sodAHFGdQJR6zT/naFhAE7YnQGARvD/Y18U/b5KOQHYEzT80LNc+xeK8QJOprD9M/gVAzE3RP+b6ikBVO1tAUnywQBsgikDVc9w/NlxRv9lyNkCN42NAN6V3QBKCG0D7QoFAxqaTPzRKjUBS/Pk/7nCXQG5Ojz9XthO/cXicQOYRJ79Z9K4/rpsPQCQ4gkChQa1AGum6P6pbd0AsWN0/5YJ3QM8OhkAVMnq+2hlRQDruU0D4Pw6/AorwvpDapEDPRCdAetLFv4oulUC1Qf8/sopYQHKNjkCKsQQ/xiOcPyv1uz9v0LNA83hOQGGGnL57yAi/mGPJvpVJDED1TpVA0WkDQMEmSUA32No/1rW0vip1Ir6KbUhABH8JPO0zQT8gkzRABWHlP0jsob9jaT0/BjADv3+8AkDVcZBA61SMQCYzpL4nHRZAUlybPyJoa0DnHWc/axfDv9U8Nb+L8fU/LNcUvyb9nkDtJSFArWJ/vyzoi0DDHfG/qcbpvmPMzL5ZSeC/fvhjQH1bCMAq2w9AN0CWQNJCuL7k5Ns8XeFcQHX7skD8yLg/kLJuQESE6T+YixFAw0Q0QAior0AnhydAMAWQQKbGDT++Su4/tvKrP1eVpr3u8JVAF+GZQATpmUBbZYg/l8tPv8ZPcD/HoyRAsKyUQAlQib9i52ZAyboBQIlxq0DAZ48/hEy1PxMOjEB/5BM/hNRjQMMDAb80UnU+GcmYQBpITkAqwZtAFLqnP6h/HUAKSMg/j3TZP3Svqr7zY0i/xEOMv/+6bEDvm9W/50R5QIf91r77HLO/7SOAP/p+sj1OaG1A6ynIQGk6vb4MIym/FptTQLTPiz1lFF1ABdXaP+6wpr5EHKE/42dQQGhPjEDOYDq9YA4SvxBAEL9T3sA/jFaDQNy7xUC3nG1AiJALvA==",
          "dtype": "f4"
         },
         "z": {
          "bdata": "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",
          "dtype": "f4"
         }
        }
       ],
       "layout": {
        "coloraxis": {
         "colorbar": {
          "title": {
           "text": "label"
          }
         },
         "colorscale": [
          [
           0,
           "#0d0887"
          ],
          [
           0.1111111111111111,
           "#46039f"
          ],
          [
           0.2222222222222222,
           "#7201a8"
          ],
          [
           0.3333333333333333,
           "#9c179e"
          ],
          [
           0.4444444444444444,
           "#bd3786"
          ],
          [
           0.5555555555555556,
           "#d8576b"
          ],
          [
           0.6666666666666666,
           "#ed7953"
          ],
          [
           0.7777777777777778,
           "#fb9f3a"
          ],
          [
           0.8888888888888888,
           "#fdca26"
          ],
          [
           1,
           "#f0f921"
          ]
         ]
        },
        "height": 800,
        "legend": {
         "tracegroupgap": 0
        },
        "scene": {
         "domain": {
          "x": [
           0,
           1
          ],
          "y": [
           0,
           1
          ]
         },
         "xaxis": {
          "title": {
           "text": "UMAP1"
          }
         },
         "yaxis": {
          "title": {
           "text": "UMAP2"
          }
         },
         "zaxis": {
          "title": {
           "text": "UMAP3"
          }
         }
        },
        "template": {
         "data": {
          "bar": [
           {
            "error_x": {
             "color": "#2a3f5f"
            },
            "error_y": {
             "color": "#2a3f5f"
            },
            "marker": {
             "line": {
              "color": "#E5ECF6",
              "width": 0.5
             },
             "pattern": {
              "fillmode": "overlay",
              "size": 10,
              "solidity": 0.2
             }
            },
            "type": "bar"
           }
          ],
          "barpolar": [
           {
            "marker": {
             "line": {
              "color": "#E5ECF6",
              "width": 0.5
             },
             "pattern": {
              "fillmode": "overlay",
              "size": 10,
              "solidity": 0.2
             }
            },
            "type": "barpolar"
           }
          ],
          "carpet": [
           {
            "aaxis": {
             "endlinecolor": "#2a3f5f",
             "gridcolor": "white",
             "linecolor": "white",
             "minorgridcolor": "white",
             "startlinecolor": "#2a3f5f"
            },
            "baxis": {
             "endlinecolor": "#2a3f5f",
             "gridcolor": "white",
             "linecolor": "white",
             "minorgridcolor": "white",
             "startlinecolor": "#2a3f5f"
            },
            "type": "carpet"
           }
          ],
          "choropleth": [
           {
            "colorbar": {
             "outlinewidth": 0,
             "ticks": ""
            },
            "type": "choropleth"
           }
          ],
          "contour": [
           {
            "colorbar": {
             "outlinewidth": 0,
             "ticks": ""
            },
            "colorscale": [
             [
              0,
              "#0d0887"
             ],
             [
              0.1111111111111111,
              "#46039f"
             ],
             [
              0.2222222222222222,
              "#7201a8"
             ],
             [
              0.3333333333333333,
              "#9c179e"
             ],
             [
              0.4444444444444444,
              "#bd3786"
             ],
             [
              0.5555555555555556,
              "#d8576b"
             ],
             [
              0.6666666666666666,
              "#ed7953"
             ],
             [
              0.7777777777777778,
              "#fb9f3a"
             ],
             [
              0.8888888888888888,
              "#fdca26"
             ],
             [
              1,
              "#f0f921"
             ]
            ],
            "type": "contour"
           }
          ],
          "contourcarpet": [
           {
            "colorbar": {
             "outlinewidth": 0,
             "ticks": ""
            },
            "type": "contourcarpet"
           }
          ],
          "heatmap": [
           {
            "colorbar": {
             "outlinewidth": 0,
             "ticks": ""
            },
            "colorscale": [
             [
              0,
              "#0d0887"
             ],
             [
              0.1111111111111111,
              "#46039f"
             ],
             [
              0.2222222222222222,
              "#7201a8"
             ],
             [
              0.3333333333333333,
              "#9c179e"
             ],
             [
              0.4444444444444444,
              "#bd3786"
             ],
             [
              0.5555555555555556,
              "#d8576b"
             ],
             [
              0.6666666666666666,
              "#ed7953"
             ],
             [
              0.7777777777777778,
              "#fb9f3a"
             ],
             [
              0.8888888888888888,
              "#fdca26"
             ],
             [
              1,
              "#f0f921"
             ]
            ],
            "type": "heatmap"
           }
          ],
          "histogram": [
           {
            "marker": {
             "pattern": {
              "fillmode": "overlay",
              "size": 10,
              "solidity": 0.2
             }
            },
            "type": "histogram"
           }
          ],
          "histogram2d": [
           {
            "colorbar": {
             "outlinewidth": 0,
             "ticks": ""
            },
            "colorscale": [
             [
              0,
              "#0d0887"
             ],
             [
              0.1111111111111111,
              "#46039f"
             ],
             [
              0.2222222222222222,
              "#7201a8"
             ],
             [
              0.3333333333333333,
              "#9c179e"
             ],
             [
              0.4444444444444444,
              "#bd3786"
             ],
             [
              0.5555555555555556,
              "#d8576b"
             ],
             [
              0.6666666666666666,
              "#ed7953"
             ],
             [
              0.7777777777777778,
              "#fb9f3a"
             ],
             [
              0.8888888888888888,
              "#fdca26"
             ],
             [
              1,
              "#f0f921"
             ]
            ],
            "type": "histogram2d"
           }
          ],
          "histogram2dcontour": [
           {
            "colorbar": {
             "outlinewidth": 0,
             "ticks": ""
            },
            "colorscale": [
             [
              0,
              "#0d0887"
             ],
             [
              0.1111111111111111,
              "#46039f"
             ],
             [
              0.2222222222222222,
              "#7201a8"
             ],
             [
              0.3333333333333333,
              "#9c179e"
             ],
             [
              0.4444444444444444,
              "#bd3786"
             ],
             [
              0.5555555555555556,
              "#d8576b"
             ],
             [
              0.6666666666666666,
              "#ed7953"
             ],
             [
              0.7777777777777778,
              "#fb9f3a"
             ],
             [
              0.8888888888888888,
              "#fdca26"
             ],
             [
              1,
              "#f0f921"
             ]
            ],
            "type": "histogram2dcontour"
           }
          ],
          "mesh3d": [
           {
            "colorbar": {
             "outlinewidth": 0,
             "ticks": ""
            },
            "type": "mesh3d"
           }
          ],
          "parcoords": [
           {
            "line": {
             "colorbar": {
              "outlinewidth": 0,
              "ticks": ""
             }
            },
            "type": "parcoords"
           }
          ],
          "pie": [
           {
            "automargin": true,
            "type": "pie"
           }
          ],
          "scatter": [
           {
            "fillpattern": {
             "fillmode": "overlay",
             "size": 10,
             "solidity": 0.2
            },
            "type": "scatter"
           }
          ],
          "scatter3d": [
           {
            "line": {
             "colorbar": {
              "outlinewidth": 0,
              "ticks": ""
             }
            },
            "marker": {
             "colorbar": {
              "outlinewidth": 0,
              "ticks": ""
             }
            },
            "type": "scatter3d"
           }
          ],
          "scattercarpet": [
           {
            "marker": {
             "colorbar": {
              "outlinewidth": 0,
              "ticks": ""
             }
            },
            "type": "scattercarpet"
           }
          ],
          "scattergeo": [
           {
            "marker": {
             "colorbar": {
              "outlinewidth": 0,
              "ticks": ""
             }
            },
            "type": "scattergeo"
           }
          ],
          "scattergl": [
           {
            "marker": {
             "colorbar": {
              "outlinewidth": 0,
              "ticks": ""
             }
            },
            "type": "scattergl"
           }
          ],
          "scattermap": [
           {
            "marker": {
             "colorbar": {
              "outlinewidth": 0,
              "ticks": ""
             }
            },
            "type": "scattermap"
           }
          ],
          "scattermapbox": [
           {
            "marker": {
             "colorbar": {
              "outlinewidth": 0,
              "ticks": ""
             }
            },
            "type": "scattermapbox"
           }
          ],
          "scatterpolar": [
           {
            "marker": {
             "colorbar": {
              "outlinewidth": 0,
              "ticks": ""
             }
            },
            "type": "scatterpolar"
           }
          ],
          "scatterpolargl": [
           {
            "marker": {
             "colorbar": {
              "outlinewidth": 0,
              "ticks": ""
             }
            },
            "type": "scatterpolargl"
           }
          ],
          "scatterternary": [
           {
            "marker": {
             "colorbar": {
              "outlinewidth": 0,
              "ticks": ""
             }
            },
            "type": "scatterternary"
           }
          ],
          "surface": [
           {
            "colorbar": {
             "outlinewidth": 0,
             "ticks": ""
            },
            "colorscale": [
             [
              0,
              "#0d0887"
             ],
             [
              0.1111111111111111,
              "#46039f"
             ],
             [
              0.2222222222222222,
              "#7201a8"
             ],
             [
              0.3333333333333333,
              "#9c179e"
             ],
             [
              0.4444444444444444,
              "#bd3786"
             ],
             [
              0.5555555555555556,
              "#d8576b"
             ],
             [
              0.6666666666666666,
              "#ed7953"
             ],
             [
              0.7777777777777778,
              "#fb9f3a"
             ],
             [
              0.8888888888888888,
              "#fdca26"
             ],
             [
              1,
              "#f0f921"
             ]
            ],
            "type": "surface"
           }
          ],
          "table": [
           {
            "cells": {
             "fill": {
              "color": "#EBF0F8"
             },
             "line": {
              "color": "white"
             }
            },
            "header": {
             "fill": {
              "color": "#C8D4E3"
             },
             "line": {
              "color": "white"
             }
            },
            "type": "table"
           }
          ]
         },
         "layout": {
          "annotationdefaults": {
           "arrowcolor": "#2a3f5f",
           "arrowhead": 0,
           "arrowwidth": 1
          },
          "autotypenumbers": "strict",
          "coloraxis": {
           "colorbar": {
            "outlinewidth": 0,
            "ticks": ""
           }
          },
          "colorscale": {
           "diverging": [
            [
             0,
             "#8e0152"
            ],
            [
             0.1,
             "#c51b7d"
            ],
            [
             0.2,
             "#de77ae"
            ],
            [
             0.3,
             "#f1b6da"
            ],
            [
             0.4,
             "#fde0ef"
            ],
            [
             0.5,
             "#f7f7f7"
            ],
            [
             0.6,
             "#e6f5d0"
            ],
            [
             0.7,
             "#b8e186"
            ],
            [
             0.8,
             "#7fbc41"
            ],
            [
             0.9,
             "#4d9221"
            ],
            [
             1,
             "#276419"
            ]
           ],
           "sequential": [
            [
             0,
             "#0d0887"
            ],
            [
             0.1111111111111111,
             "#46039f"
            ],
            [
             0.2222222222222222,
             "#7201a8"
            ],
            [
             0.3333333333333333,
             "#9c179e"
            ],
            [
             0.4444444444444444,
             "#bd3786"
            ],
            [
             0.5555555555555556,
             "#d8576b"
            ],
            [
             0.6666666666666666,
             "#ed7953"
            ],
            [
             0.7777777777777778,
             "#fb9f3a"
            ],
            [
             0.8888888888888888,
             "#fdca26"
            ],
            [
             1,
             "#f0f921"
            ]
           ],
           "sequentialminus": [
            [
             0,
             "#0d0887"
            ],
            [
             0.1111111111111111,
             "#46039f"
            ],
            [
             0.2222222222222222,
             "#7201a8"
            ],
            [
             0.3333333333333333,
             "#9c179e"
            ],
            [
             0.4444444444444444,
             "#bd3786"
            ],
            [
             0.5555555555555556,
             "#d8576b"
            ],
            [
             0.6666666666666666,
             "#ed7953"
            ],
            [
             0.7777777777777778,
             "#fb9f3a"
            ],
            [
             0.8888888888888888,
             "#fdca26"
            ],
            [
             1,
             "#f0f921"
            ]
           ]
          },
          "colorway": [
           "#636efa",
           "#EF553B",
           "#00cc96",
           "#ab63fa",
           "#FFA15A",
           "#19d3f3",
           "#FF6692",
           "#B6E880",
           "#FF97FF",
           "#FECB52"
          ],
          "font": {
           "color": "#2a3f5f"
          },
          "geo": {
           "bgcolor": "white",
           "lakecolor": "white",
           "landcolor": "#E5ECF6",
           "showlakes": true,
           "showland": true,
           "subunitcolor": "white"
          },
          "hoverlabel": {
           "align": "left"
          },
          "hovermode": "closest",
          "mapbox": {
           "style": "light"
          },
          "paper_bgcolor": "white",
          "plot_bgcolor": "#E5ECF6",
          "polar": {
           "angularaxis": {
            "gridcolor": "white",
            "linecolor": "white",
            "ticks": ""
           },
           "bgcolor": "#E5ECF6",
           "radialaxis": {
            "gridcolor": "white",
            "linecolor": "white",
            "ticks": ""
           }
          },
          "scene": {
           "xaxis": {
            "backgroundcolor": "#E5ECF6",
            "gridcolor": "white",
            "gridwidth": 2,
            "linecolor": "white",
            "showbackground": true,
            "ticks": "",
            "zerolinecolor": "white"
           },
           "yaxis": {
            "backgroundcolor": "#E5ECF6",
            "gridcolor": "white",
            "gridwidth": 2,
            "linecolor": "white",
            "showbackground": true,
            "ticks": "",
            "zerolinecolor": "white"
           },
           "zaxis": {
            "backgroundcolor": "#E5ECF6",
            "gridcolor": "white",
            "gridwidth": 2,
            "linecolor": "white",
            "showbackground": true,
            "ticks": "",
            "zerolinecolor": "white"
           }
          },
          "shapedefaults": {
           "line": {
            "color": "#2a3f5f"
           }
          },
          "ternary": {
           "aaxis": {
            "gridcolor": "white",
            "linecolor": "white",
            "ticks": ""
           },
           "baxis": {
            "gridcolor": "white",
            "linecolor": "white",
            "ticks": ""
           },
           "bgcolor": "#E5ECF6",
           "caxis": {
            "gridcolor": "white",
            "linecolor": "white",
            "ticks": ""
           }
          },
          "title": {
           "x": 0.05
          },
          "xaxis": {
           "automargin": true,
           "gridcolor": "white",
           "linecolor": "white",
           "ticks": "",
           "title": {
            "standoff": 15
           },
           "zerolinecolor": "white",
           "zerolinewidth": 2
          },
          "yaxis": {
           "automargin": true,
           "gridcolor": "white",
           "linecolor": "white",
           "ticks": "",
           "title": {
            "standoff": 15
           },
           "zerolinecolor": "white",
           "zerolinewidth": 2
          }
         }
        },
        "title": {
         "text": "Iris UMAP 3D Projection"
        },
        "width": 1000
       }
      }
     },
     "metadata": {},
     "output_type": "display_data"
    }
   ],
   "source": [
    "os.environ[\"LOKY_MAX_CPU_COUNT\"] = \"8\"  # Replace 8 with your number of physical cores\n",
    "umap_3d = umap.UMAP(n_components=3,random_state=42)\n",
    "X_umap_3d = umap_3d.fit_transform(X_train)\n",
    "df_3d = pd.DataFrame({\n",
    "    'UMAP1': X_umap_3d[:, 0], \n",
    "    'UMAP2': X_umap_3d[:, 1],\n",
    "    'UMAP3': X_umap_3d[:, 2],\n",
    "    'label': Y_train\n",
    "})\n",
    "\n",
    "\n",
    "fig3d = px.scatter_3d(\n",
    "    df_3d, x='UMAP1', y='UMAP2', z='UMAP3',color='label',\n",
    "    title='Iris UMAP 3D Projection',\n",
    "    labels={'species': 'Species'},\n",
    "    width=1000,   # Set desired width in pixels\n",
    "    height=800   # Set desired height in pixels\n",
    ")\n",
    "fig3d.show()"
   ]
  },
  {
   "cell_type": "code",
   "execution_count": null,
   "id": "7e57938e",
   "metadata": {},
   "outputs": [],
   "source": []
  }
 ],
 "metadata": {
  "kernelspec": {
   "display_name": "PiyushSem3",
   "language": "python",
   "name": "python3"
  },
  "language_info": {
   "codemirror_mode": {
    "name": "ipython",
    "version": 3
   },
   "file_extension": ".py",
   "mimetype": "text/x-python",
   "name": "python",
   "nbconvert_exporter": "python",
   "pygments_lexer": "ipython3",
   "version": "3.12.8"
  }
 },
 "nbformat": 4,
 "nbformat_minor": 5
}
