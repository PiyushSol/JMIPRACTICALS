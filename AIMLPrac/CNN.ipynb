{
 "cells": [
  {
   "cell_type": "code",
   "execution_count": 2,
   "id": "fa2b22f9",
   "metadata": {},
   "outputs": [],
   "source": [
    "import tensorflow as tf\n",
    "import keras\n"
   ]
  },
  {
   "cell_type": "code",
   "execution_count": 3,
   "id": "ce651665",
   "metadata": {},
   "outputs": [
    {
     "name": "stdout",
     "output_type": "stream",
     "text": [
      "3.9.2\n",
      "2.19.0\n"
     ]
    }
   ],
   "source": [
    "print(keras.__version__)\n",
    "print(tf.__version__)"
   ]
  },
  {
   "cell_type": "markdown",
   "id": "336b3ab5",
   "metadata": {},
   "source": [
    "#CNN Demo"
   ]
  },
  {
   "cell_type": "code",
   "execution_count": 4,
   "id": "b7fec3b0",
   "metadata": {},
   "outputs": [],
   "source": [
    "from tensorflow.keras.models import Sequential\n",
    "from tensorflow.keras.layers import Conv2D , MaxPooling2D,Flatten ,Dense,Dropout\n",
    "from tensorflow.keras.preprocessing.image import ImageDataGenerator\n",
    "from tensorflow.keras.optimizers import Adam"
   ]
  },
  {
   "cell_type": "code",
   "execution_count": 5,
   "id": "17749bdb",
   "metadata": {},
   "outputs": [],
   "source": [
    "#Define image properties\n",
    "img_height , img_width=128,128\n",
    "batch_size =32"
   ]
  },
  {
   "cell_type": "code",
   "execution_count": 6,
   "id": "a1d90f93",
   "metadata": {},
   "outputs": [],
   "source": [
    "#Data Preparation\n",
    "data_dir = 'Datasets/train'\n",
    "datagen = ImageDataGenerator(rescale=1./255,validation_split=0.2)"
   ]
  },
  {
   "cell_type": "code",
   "execution_count": 7,
   "id": "a07497cb",
   "metadata": {},
   "outputs": [
    {
     "name": "stdout",
     "output_type": "stream",
     "text": [
      "Found 2198 images belonging to 5 classes.\n"
     ]
    }
   ],
   "source": [
    "train_data = datagen.flow_from_directory(data_dir,\n",
    "target_size=(img_height,img_width),\n",
    "batch_size=batch_size,\n",
    "class_mode='categorical',\n",
    "subset='training',\n",
    "shuffle=True\n",
    ")"
   ]
  },
  {
   "cell_type": "code",
   "execution_count": 8,
   "id": "69588562",
   "metadata": {},
   "outputs": [
    {
     "name": "stdout",
     "output_type": "stream",
     "text": [
      "Found 548 images belonging to 5 classes.\n"
     ]
    }
   ],
   "source": [
    "val_data=datagen.flow_from_directory(\n",
    "    data_dir,\n",
    "    target_size=(img_height,img_width),\n",
    "    batch_size=batch_size,\n",
    "    class_mode='categorical',\n",
    "    subset='validation',\n",
    "    shuffle=True\n",
    ")"
   ]
  },
  {
   "cell_type": "code",
   "execution_count": 9,
   "id": "d031a3ee",
   "metadata": {},
   "outputs": [
    {
     "name": "stderr",
     "output_type": "stream",
     "text": [
      "c:\\Users\\cd246\\OneDrive\\Desktop\\JAMIA-PRAC\\AIMLPrac\\PiyushVirtual\\Lib\\site-packages\\keras\\src\\layers\\convolutional\\base_conv.py:107: UserWarning: Do not pass an `input_shape`/`input_dim` argument to a layer. When using Sequential models, prefer using an `Input(shape)` object as the first layer in the model instead.\n",
      "  super().__init__(activity_regularizer=activity_regularizer, **kwargs)\n"
     ]
    }
   ],
   "source": [
    "#Defining CNN model 1\n",
    "model = Sequential(\n",
    "    [\n",
    "        Conv2D(32,(3,3),activation='relu',input_shape=(img_height,img_width,3)),\n",
    "        MaxPooling2D(2,2),\n",
    "        Conv2D(64,(3,3),activation='relu'),\n",
    "        MaxPooling2D(2,2),\n",
    "        Conv2D(128,(3,3),activation='relu'),\n",
    "        MaxPooling2D(2,2),\n",
    "        Flatten(),\n",
    "        Dense(128,activation='relu'),\n",
    "        Dropout(0.5),\n",
    "        Dense(train_data.num_classes,activation='softmax')\n",
    "    ]\n",
    ")"
   ]
  },
  {
   "cell_type": "code",
   "execution_count": 16,
   "id": "ab4ffb2f",
   "metadata": {},
   "outputs": [
    {
     "name": "stdout",
     "output_type": "stream",
     "text": [
      "Epoch 1/10\n",
      "\u001b[1m69/69\u001b[0m \u001b[32m━━━━━━━━━━━━━━━━━━━━\u001b[0m\u001b[37m\u001b[0m \u001b[1m15s\u001b[0m 200ms/step - accuracy: 0.9653 - loss: 0.0959 - val_accuracy: 0.6259 - val_loss: 2.2731\n",
      "Epoch 2/10\n",
      "\u001b[1m69/69\u001b[0m \u001b[32m━━━━━━━━━━━━━━━━━━━━\u001b[0m\u001b[37m\u001b[0m \u001b[1m14s\u001b[0m 201ms/step - accuracy: 0.9746 - loss: 0.0617 - val_accuracy: 0.6277 - val_loss: 2.5169\n",
      "Epoch 3/10\n",
      "\u001b[1m69/69\u001b[0m \u001b[32m━━━━━━━━━━━━━━━━━━━━\u001b[0m\u001b[37m\u001b[0m \u001b[1m14s\u001b[0m 202ms/step - accuracy: 0.9760 - loss: 0.0818 - val_accuracy: 0.6369 - val_loss: 2.1806\n",
      "Epoch 4/10\n",
      "\u001b[1m69/69\u001b[0m \u001b[32m━━━━━━━━━━━━━━━━━━━━\u001b[0m\u001b[37m\u001b[0m \u001b[1m15s\u001b[0m 223ms/step - accuracy: 0.9807 - loss: 0.0643 - val_accuracy: 0.6588 - val_loss: 2.2874\n",
      "Epoch 5/10\n",
      "\u001b[1m69/69\u001b[0m \u001b[32m━━━━━━━━━━━━━━━━━━━━\u001b[0m\u001b[37m\u001b[0m \u001b[1m15s\u001b[0m 222ms/step - accuracy: 0.9719 - loss: 0.0617 - val_accuracy: 0.6296 - val_loss: 2.2895\n",
      "Epoch 6/10\n",
      "\u001b[1m69/69\u001b[0m \u001b[32m━━━━━━━━━━━━━━━━━━━━\u001b[0m\u001b[37m\u001b[0m \u001b[1m16s\u001b[0m 229ms/step - accuracy: 0.9794 - loss: 0.0549 - val_accuracy: 0.6460 - val_loss: 2.2551\n",
      "Epoch 7/10\n",
      "\u001b[1m69/69\u001b[0m \u001b[32m━━━━━━━━━━━━━━━━━━━━\u001b[0m\u001b[37m\u001b[0m \u001b[1m16s\u001b[0m 232ms/step - accuracy: 0.9819 - loss: 0.0514 - val_accuracy: 0.6387 - val_loss: 2.5209\n",
      "Epoch 8/10\n",
      "\u001b[1m69/69\u001b[0m \u001b[32m━━━━━━━━━━━━━━━━━━━━\u001b[0m\u001b[37m\u001b[0m \u001b[1m18s\u001b[0m 260ms/step - accuracy: 0.9826 - loss: 0.0482 - val_accuracy: 0.6588 - val_loss: 2.3688\n",
      "Epoch 9/10\n",
      "\u001b[1m69/69\u001b[0m \u001b[32m━━━━━━━━━━━━━━━━━━━━\u001b[0m\u001b[37m\u001b[0m \u001b[1m17s\u001b[0m 250ms/step - accuracy: 0.9878 - loss: 0.0444 - val_accuracy: 0.6296 - val_loss: 2.4347\n",
      "Epoch 10/10\n",
      "\u001b[1m69/69\u001b[0m \u001b[32m━━━━━━━━━━━━━━━━━━━━\u001b[0m\u001b[37m\u001b[0m \u001b[1m18s\u001b[0m 254ms/step - accuracy: 0.9799 - loss: 0.0538 - val_accuracy: 0.6296 - val_loss: 2.6115\n"
     ]
    }
   ],
   "source": [
    "#Compile Model\n",
    "model.compile(\n",
    "    optimizer=Adam(learning_rate=0.001),\n",
    "    loss='categorical_crossentropy',metrics=['accuracy']\n",
    ")\n",
    "history = model.fit(train_data,epochs=10,validation_data=val_data)"
   ]
  },
  {
   "cell_type": "code",
   "execution_count": 17,
   "id": "19d8afdb",
   "metadata": {},
   "outputs": [
    {
     "name": "stderr",
     "output_type": "stream",
     "text": [
      "WARNING:absl:You are saving your model as an HDF5 file via `model.save()` or `keras.saving.save_model(model)`. This file format is considered legacy. We recommend using instead the native Keras format, e.g. `model.save('my_model.keras')` or `keras.saving.save_model(model, 'my_model.keras')`. \n"
     ]
    }
   ],
   "source": [
    "#Save Model\n",
    "model.save('flower_cnn_model.h5')"
   ]
  },
  {
   "cell_type": "code",
   "execution_count": 18,
   "id": "88f16e45",
   "metadata": {},
   "outputs": [
    {
     "name": "stdout",
     "output_type": "stream",
     "text": [
      "\u001b[1m18/18\u001b[0m \u001b[32m━━━━━━━━━━━━━━━━━━━━\u001b[0m\u001b[37m\u001b[0m \u001b[1m1s\u001b[0m 67ms/step\n"
     ]
    }
   ],
   "source": [
    "import numpy as np\n",
    "val_data.reset()\n",
    "predictions = model.predict(val_data,verbose=1)\n",
    "predicted_classes = np.argmax(predictions , axis=1)\n",
    "true_classes = val_data.classes\n",
    "class_labels = list(val_data.class_indices.keys())"
   ]
  },
  {
   "cell_type": "code",
   "execution_count": 19,
   "id": "37598c87",
   "metadata": {},
   "outputs": [
    {
     "name": "stdout",
     "output_type": "stream",
     "text": [
      "True: daisy,Predicted : dandelion\n",
      "True: daisy,Predicted : dandelion\n",
      "True: daisy,Predicted : tulip\n",
      "True: daisy,Predicted : sunflower\n",
      "True: daisy,Predicted : tulip\n",
      "True: daisy,Predicted : sunflower\n",
      "True: daisy,Predicted : sunflower\n",
      "True: daisy,Predicted : rose\n",
      "True: daisy,Predicted : dandelion\n",
      "True: daisy,Predicted : tulip\n"
     ]
    }
   ],
   "source": [
    "for i in range(10):\n",
    "    print(f\"True: {class_labels[true_classes[i]]},Predicted : {class_labels[predicted_classes[i]]}\")"
   ]
  },
  {
   "cell_type": "code",
   "execution_count": 20,
   "id": "07daf02c",
   "metadata": {},
   "outputs": [
    {
     "name": "stdout",
     "output_type": "stream",
     "text": [
      "\u001b[1m18/18\u001b[0m \u001b[32m━━━━━━━━━━━━━━━━━━━━\u001b[0m\u001b[37m\u001b[0m \u001b[1m1s\u001b[0m 66ms/step - accuracy: 0.6054 - loss: 2.9066\n",
      "Validation Accuracy: 62.96%\n",
      "Validation Loss : 2.6115\n"
     ]
    }
   ],
   "source": [
    "val_loss , val_accuracy = model.evaluate(val_data)\n",
    "print(f'Validation Accuracy: {val_accuracy*100:.2f}%')\n",
    "print(f'Validation Loss : {val_loss:.4f}')"
   ]
  },
  {
   "cell_type": "code",
   "execution_count": 21,
   "id": "59429545",
   "metadata": {},
   "outputs": [
    {
     "data": {
      "text/plain": [
       "Text(0.5, 1.0, 'Accuracy')"
      ]
     },
     "execution_count": 21,
     "metadata": {},
     "output_type": "execute_result"
    },
    {
     "data": {
      "image/png": "[encoded data removed]",
      "text/plain": [
       "<Figure size 1000x500 with 1 Axes>"
      ]
     },
     "metadata": {},
     "output_type": "display_data"
    }
   ],
   "source": [
    "#Accuracy Plot\n",
    "import matplotlib.pyplot as plt\n",
    "plt.figure(figsize=(10,5))\n",
    "plt.subplot(1,2,1)\n",
    "plt.plot(history.history['accuracy'],label='Train Accuracy')\n",
    "plt.plot(history.history['val_accuracy'],label='Val Accuracy')\n",
    "plt.legend()\n",
    "plt.title('Accuracy')"
   ]
  },
  {
   "cell_type": "code",
   "execution_count": 22,
   "id": "324fe73b",
   "metadata": {},
   "outputs": [
    {
     "data": {
      "image/png": "[encoded data removed]",
      "text/plain": [
       "<Figure size 640x480 with 1 Axes>"
      ]
     },
     "metadata": {},
     "output_type": "display_data"
    }
   ],
   "source": [
    "#Loss Plot\n",
    "plt.subplot(1,2,2)\n",
    "plt.plot(history.history['loss'],label='Train Loss')\n",
    "plt.plot(history.history['val_loss'],label='Val Loss')\n",
    "plt.legend()\n",
    "plt.title('Loss')\n",
    "plt.show()"
   ]
  },
  {
   "cell_type": "code",
   "execution_count": null,
   "id": "aa318b9f",
   "metadata": {},
   "outputs": [],
   "source": []
  }
 ],
 "metadata": {
  "kernelspec": {
   "display_name": "PiyushVirtual",
   "language": "python",
   "name": "python3"
  },
  "language_info": {
   "codemirror_mode": {
    "name": "ipython",
    "version": 3
   },
   "file_extension": ".py",
   "mimetype": "text/x-python",
   "name": "python",
   "nbconvert_exporter": "python",
   "pygments_lexer": "ipython3",
   "version": "3.12.8"
  }
 },
 "nbformat": 4,
 "nbformat_minor": 5
}
