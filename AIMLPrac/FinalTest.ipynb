{
 "cells": [
  {
   "cell_type": "code",
   "execution_count": 1,
   "id": "71b2e7e4",
   "metadata": {},
   "outputs": [],
   "source": [
    "#CNN Test\n",
    "#Importing bnasic libraries\n",
    "import numpy as np\n",
    "import pandas as pd"
   ]
  },
  {
   "cell_type": "code",
   "execution_count": 2,
   "id": "bbae6fd0",
   "metadata": {},
   "outputs": [],
   "source": [
    "#Now import tensorflow and CNN libraries\n",
    "from tensorflow.keras.models import Sequential\n",
    "from tensorflow.keras.layers import Conv2D , MaxPooling2D ,Dense,Flatten,Dropout\n",
    "from tensorflow.keras.preprocessing.image import ImageDataGenerator\n",
    "from tensorflow.keras.optimizers import Adam"
   ]
  },
  {
   "cell_type": "code",
   "execution_count": 3,
   "id": "c8142b7e",
   "metadata": {},
   "outputs": [],
   "source": [
    "#Images\n",
    "img_height ,img_width= 128,128\n",
    "batch_size = 4"
   ]
  },
  {
   "cell_type": "code",
   "execution_count": 4,
   "id": "be5e1af0",
   "metadata": {},
   "outputs": [],
   "source": [
    "#Getting the Dataset\n",
    "data_dir = 'food-101-tiny'\n",
    "datagen = ImageDataGenerator(rescale=1./255,validation_split=0.3,rotation_range=15,\n",
    "    width_shift_range=0.1,\n",
    "    height_shift_range=0.1,\n",
    "    zoom_range=0.2,\n",
    "    horizontal_flip=True,\n",
    "    shear_range=0.1,\n",
    "    fill_mode='nearest')"
   ]
  },
  {
   "cell_type": "code",
   "execution_count": 5,
   "id": "1d61020c",
   "metadata": {},
   "outputs": [
    {
     "name": "stdout",
     "output_type": "stream",
     "text": [
      "Found 1400 images belonging to 2 classes.\n"
     ]
    }
   ],
   "source": [
    "train_data = datagen.flow_from_directory(data_dir,\n",
    "target_size = (img_height,img_width),\n",
    "batch_size=batch_size,\n",
    "class_mode = 'categorical',\n",
    "subset = 'training',\n",
    "shuffle=True\n",
    ")"
   ]
  },
  {
   "cell_type": "code",
   "execution_count": 6,
   "id": "a2279f42",
   "metadata": {},
   "outputs": [
    {
     "name": "stdout",
     "output_type": "stream",
     "text": [
      "Found 600 images belonging to 2 classes.\n"
     ]
    }
   ],
   "source": [
    "val_data = datagen.flow_from_directory(data_dir,\n",
    "target_size=(img_height,img_width),\n",
    "batch_size=batch_size,\n",
    "class_mode ='categorical',\n",
    "subset='validation',\n",
    "shuffle=True\n",
    ")"
   ]
  },
  {
   "cell_type": "code",
   "execution_count": 7,
   "id": "33065424",
   "metadata": {},
   "outputs": [
    {
     "name": "stderr",
     "output_type": "stream",
     "text": [
      "c:\\Users\\cd246\\OneDrive\\Desktop\\JAMIA-PRAC\\AIMLPrac\\PiyushVirtual\\Lib\\site-packages\\keras\\src\\layers\\convolutional\\base_conv.py:107: UserWarning: Do not pass an `input_shape`/`input_dim` argument to a layer. When using Sequential models, prefer using an `Input(shape)` object as the first layer in the model instead.\n",
      "  super().__init__(activity_regularizer=activity_regularizer, **kwargs)\n"
     ]
    }
   ],
   "source": [
    "#Define Sequential Model\n",
    "model = Sequential([\n",
    "    Conv2D(32,(3,3),activation='relu',input_shape=(img_height,img_width,3)),\n",
    "    MaxPooling2D(2,2),\n",
    "    Conv2D(64,(3,3),activation='relu'),\n",
    "    MaxPooling2D(2,2),\n",
    "    Conv2D(128,(3,3),activation='relu'),\n",
    "    MaxPooling2D(2,2),\n",
    "    Flatten(),\n",
    "    Dense(128,activation='relu'),\n",
    "    Dropout(0.5),\n",
    "    Dense(train_data.num_classes,activation='softmax')\n",
    "])"
   ]
  },
  {
   "cell_type": "code",
   "execution_count": 8,
   "id": "59faa761",
   "metadata": {},
   "outputs": [],
   "source": [
    "#Compiling the model \n",
    "model.compile(\n",
    "    optimizer=Adam(learning_rate=0.001),\n",
    "    loss='categorical_crossentropy',metrics=['accuracy']\n",
    ")\n"
   ]
  },
  {
   "cell_type": "code",
   "execution_count": 9,
   "id": "f663645e",
   "metadata": {},
   "outputs": [
    {
     "name": "stderr",
     "output_type": "stream",
     "text": [
      "c:\\Users\\cd246\\OneDrive\\Desktop\\JAMIA-PRAC\\AIMLPrac\\PiyushVirtual\\Lib\\site-packages\\keras\\src\\trainers\\data_adapters\\py_dataset_adapter.py:121: UserWarning: Your `PyDataset` class should call `super().__init__(**kwargs)` in its constructor. `**kwargs` can include `workers`, `use_multiprocessing`, `max_queue_size`. Do not pass these arguments to `fit()`, as they will be ignored.\n",
      "  self._warn_if_super_not_called()\n"
     ]
    },
    {
     "name": "stdout",
     "output_type": "stream",
     "text": [
      "Epoch 1/30\n",
      "\u001b[1m350/350\u001b[0m \u001b[32m━━━━━━━━━━━━━━━━━━━━\u001b[0m\u001b[37m\u001b[0m \u001b[1m69s\u001b[0m 194ms/step - accuracy: 0.7672 - loss: 0.5881 - val_accuracy: 0.7500 - val_loss: 0.5830\n",
      "Epoch 2/30\n",
      "\u001b[1m350/350\u001b[0m \u001b[32m━━━━━━━━━━━━━━━━━━━━\u001b[0m\u001b[37m\u001b[0m \u001b[1m59s\u001b[0m 168ms/step - accuracy: 0.7320 - loss: 0.5932 - val_accuracy: 0.7500 - val_loss: 0.5651\n",
      "Epoch 3/30\n",
      "\u001b[1m350/350\u001b[0m \u001b[32m━━━━━━━━━━━━━━━━━━━━\u001b[0m\u001b[37m\u001b[0m \u001b[1m65s\u001b[0m 186ms/step - accuracy: 0.7444 - loss: 0.5883 - val_accuracy: 0.7500 - val_loss: 0.5666\n",
      "Epoch 4/30\n",
      "\u001b[1m350/350\u001b[0m \u001b[32m━━━━━━━━━━━━━━━━━━━━\u001b[0m\u001b[37m\u001b[0m \u001b[1m68s\u001b[0m 193ms/step - accuracy: 0.7420 - loss: 0.5829 - val_accuracy: 0.7500 - val_loss: 0.5684\n",
      "Epoch 5/30\n",
      "\u001b[1m350/350\u001b[0m \u001b[32m━━━━━━━━━━━━━━━━━━━━\u001b[0m\u001b[37m\u001b[0m \u001b[1m67s\u001b[0m 191ms/step - accuracy: 0.7281 - loss: 0.5960 - val_accuracy: 0.7500 - val_loss: 0.5655\n",
      "Epoch 6/30\n",
      "\u001b[1m350/350\u001b[0m \u001b[32m━━━━━━━━━━━━━━━━━━━━\u001b[0m\u001b[37m\u001b[0m \u001b[1m66s\u001b[0m 188ms/step - accuracy: 0.7386 - loss: 0.5821 - val_accuracy: 0.7500 - val_loss: 0.5670\n",
      "Epoch 7/30\n",
      "\u001b[1m350/350\u001b[0m \u001b[32m━━━━━━━━━━━━━━━━━━━━\u001b[0m\u001b[37m\u001b[0m \u001b[1m68s\u001b[0m 195ms/step - accuracy: 0.7583 - loss: 0.5722 - val_accuracy: 0.7500 - val_loss: 0.5655\n",
      "Epoch 8/30\n",
      "\u001b[1m350/350\u001b[0m \u001b[32m━━━━━━━━━━━━━━━━━━━━\u001b[0m\u001b[37m\u001b[0m \u001b[1m68s\u001b[0m 194ms/step - accuracy: 0.7526 - loss: 0.5656 - val_accuracy: 0.7500 - val_loss: 0.5626\n",
      "Epoch 9/30\n",
      "\u001b[1m350/350\u001b[0m \u001b[32m━━━━━━━━━━━━━━━━━━━━\u001b[0m\u001b[37m\u001b[0m \u001b[1m65s\u001b[0m 186ms/step - accuracy: 0.7600 - loss: 0.5561 - val_accuracy: 0.7500 - val_loss: 0.5627\n",
      "Epoch 10/30\n",
      "\u001b[1m350/350\u001b[0m \u001b[32m━━━━━━━━━━━━━━━━━━━━\u001b[0m\u001b[37m\u001b[0m \u001b[1m67s\u001b[0m 190ms/step - accuracy: 0.7446 - loss: 0.5705 - val_accuracy: 0.7500 - val_loss: 0.5646\n",
      "Epoch 11/30\n",
      "\u001b[1m350/350\u001b[0m \u001b[32m━━━━━━━━━━━━━━━━━━━━\u001b[0m\u001b[37m\u001b[0m \u001b[1m68s\u001b[0m 193ms/step - accuracy: 0.7615 - loss: 0.5537 - val_accuracy: 0.7500 - val_loss: 0.5701\n",
      "Epoch 12/30\n",
      "\u001b[1m350/350\u001b[0m \u001b[32m━━━━━━━━━━━━━━━━━━━━\u001b[0m\u001b[37m\u001b[0m \u001b[1m68s\u001b[0m 195ms/step - accuracy: 0.7602 - loss: 0.5591 - val_accuracy: 0.7500 - val_loss: 0.5628\n",
      "Epoch 13/30\n",
      "\u001b[1m350/350\u001b[0m \u001b[32m━━━━━━━━━━━━━━━━━━━━\u001b[0m\u001b[37m\u001b[0m \u001b[1m67s\u001b[0m 191ms/step - accuracy: 0.7401 - loss: 0.5786 - val_accuracy: 0.7500 - val_loss: 0.5633\n",
      "Epoch 14/30\n",
      "\u001b[1m350/350\u001b[0m \u001b[32m━━━━━━━━━━━━━━━━━━━━\u001b[0m\u001b[37m\u001b[0m \u001b[1m64s\u001b[0m 182ms/step - accuracy: 0.7385 - loss: 0.5804 - val_accuracy: 0.7500 - val_loss: 0.5629\n",
      "Epoch 15/30\n",
      "\u001b[1m350/350\u001b[0m \u001b[32m━━━━━━━━━━━━━━━━━━━━\u001b[0m\u001b[37m\u001b[0m \u001b[1m19s\u001b[0m 53ms/step - accuracy: 0.7445 - loss: 0.5744 - val_accuracy: 0.7500 - val_loss: 0.5624\n",
      "Epoch 16/30\n",
      "\u001b[1m350/350\u001b[0m \u001b[32m━━━━━━━━━━━━━━━━━━━━\u001b[0m\u001b[37m\u001b[0m \u001b[1m22s\u001b[0m 62ms/step - accuracy: 0.7263 - loss: 0.5886 - val_accuracy: 0.7500 - val_loss: 0.5629\n",
      "Epoch 17/30\n",
      "\u001b[1m350/350\u001b[0m \u001b[32m━━━━━━━━━━━━━━━━━━━━\u001b[0m\u001b[37m\u001b[0m \u001b[1m21s\u001b[0m 60ms/step - accuracy: 0.7416 - loss: 0.5735 - val_accuracy: 0.7500 - val_loss: 0.5637\n",
      "Epoch 18/30\n",
      "\u001b[1m350/350\u001b[0m \u001b[32m━━━━━━━━━━━━━━━━━━━━\u001b[0m\u001b[37m\u001b[0m \u001b[1m22s\u001b[0m 62ms/step - accuracy: 0.7350 - loss: 0.5776 - val_accuracy: 0.7500 - val_loss: 0.5627\n",
      "Epoch 19/30\n",
      "\u001b[1m350/350\u001b[0m \u001b[32m━━━━━━━━━━━━━━━━━━━━\u001b[0m\u001b[37m\u001b[0m \u001b[1m22s\u001b[0m 62ms/step - accuracy: 0.7523 - loss: 0.5612 - val_accuracy: 0.7500 - val_loss: 0.5624\n",
      "Epoch 20/30\n",
      "\u001b[1m350/350\u001b[0m \u001b[32m━━━━━━━━━━━━━━━━━━━━\u001b[0m\u001b[37m\u001b[0m \u001b[1m21s\u001b[0m 60ms/step - accuracy: 0.7603 - loss: 0.5500 - val_accuracy: 0.7500 - val_loss: 0.5627\n",
      "Epoch 21/30\n",
      "\u001b[1m350/350\u001b[0m \u001b[32m━━━━━━━━━━━━━━━━━━━━\u001b[0m\u001b[37m\u001b[0m \u001b[1m21s\u001b[0m 60ms/step - accuracy: 0.7560 - loss: 0.5530 - val_accuracy: 0.7500 - val_loss: 0.5624\n",
      "Epoch 22/30\n",
      "\u001b[1m350/350\u001b[0m \u001b[32m━━━━━━━━━━━━━━━━━━━━\u001b[0m\u001b[37m\u001b[0m \u001b[1m22s\u001b[0m 62ms/step - accuracy: 0.7379 - loss: 0.5753 - val_accuracy: 0.7500 - val_loss: 0.5624\n",
      "Epoch 23/30\n",
      "\u001b[1m350/350\u001b[0m \u001b[32m━━━━━━━━━━━━━━━━━━━━\u001b[0m\u001b[37m\u001b[0m \u001b[1m23s\u001b[0m 65ms/step - accuracy: 0.7452 - loss: 0.5692 - val_accuracy: 0.7500 - val_loss: 0.5623\n",
      "Epoch 24/30\n",
      "\u001b[1m350/350\u001b[0m \u001b[32m━━━━━━━━━━━━━━━━━━━━\u001b[0m\u001b[37m\u001b[0m \u001b[1m24s\u001b[0m 69ms/step - accuracy: 0.7534 - loss: 0.5595 - val_accuracy: 0.7500 - val_loss: 0.5626\n",
      "Epoch 25/30\n",
      "\u001b[1m350/350\u001b[0m \u001b[32m━━━━━━━━━━━━━━━━━━━━\u001b[0m\u001b[37m\u001b[0m \u001b[1m21s\u001b[0m 60ms/step - accuracy: 0.7451 - loss: 0.5680 - val_accuracy: 0.7500 - val_loss: 0.5624\n",
      "Epoch 26/30\n",
      "\u001b[1m350/350\u001b[0m \u001b[32m━━━━━━━━━━━━━━━━━━━━\u001b[0m\u001b[37m\u001b[0m \u001b[1m23s\u001b[0m 65ms/step - accuracy: 0.7404 - loss: 0.5779 - val_accuracy: 0.7500 - val_loss: 0.5629\n",
      "Epoch 27/30\n",
      "\u001b[1m350/350\u001b[0m \u001b[32m━━━━━━━━━━━━━━━━━━━━\u001b[0m\u001b[37m\u001b[0m \u001b[1m23s\u001b[0m 65ms/step - accuracy: 0.7442 - loss: 0.5707 - val_accuracy: 0.7500 - val_loss: 0.5623\n",
      "Epoch 28/30\n",
      "\u001b[1m350/350\u001b[0m \u001b[32m━━━━━━━━━━━━━━━━━━━━\u001b[0m\u001b[37m\u001b[0m \u001b[1m25s\u001b[0m 71ms/step - accuracy: 0.7366 - loss: 0.5749 - val_accuracy: 0.7500 - val_loss: 0.5618\n",
      "Epoch 29/30\n",
      "\u001b[1m350/350\u001b[0m \u001b[32m━━━━━━━━━━━━━━━━━━━━\u001b[0m\u001b[37m\u001b[0m \u001b[1m22s\u001b[0m 62ms/step - accuracy: 0.7297 - loss: 0.5842 - val_accuracy: 0.7500 - val_loss: 0.5626\n",
      "Epoch 30/30\n",
      "\u001b[1m350/350\u001b[0m \u001b[32m━━━━━━━━━━━━━━━━━━━━\u001b[0m\u001b[37m\u001b[0m \u001b[1m21s\u001b[0m 60ms/step - accuracy: 0.7500 - loss: 0.5637 - val_accuracy: 0.7500 - val_loss: 0.5622\n"
     ]
    }
   ],
   "source": [
    "history = model.fit(train_data,epochs=30,validation_data=val_data)"
   ]
  },
  {
   "cell_type": "code",
   "execution_count": 10,
   "id": "9750f0bb",
   "metadata": {},
   "outputs": [
    {
     "name": "stdout",
     "output_type": "stream",
     "text": [
      "\u001b[1m150/150\u001b[0m \u001b[32m━━━━━━━━━━━━━━━━━━━━\u001b[0m\u001b[37m\u001b[0m \u001b[1m3s\u001b[0m 21ms/step\n"
     ]
    }
   ],
   "source": [
    "#Predicting model \n",
    "val_data.reset()\n",
    "predictions = model.predict(val_data,verbose=1)\n",
    "predicticed_class = np.argmax(predictions,axis=1)\n",
    "true_classes = val_data.classes\n",
    "class_labels = list(val_data.class_indices.keys())"
   ]
  },
  {
   "cell_type": "code",
   "execution_count": 11,
   "id": "b0a672bf",
   "metadata": {},
   "outputs": [
    {
     "name": "stdout",
     "output_type": "stream",
     "text": [
      "True: train, Predicted: train\n",
      "True: train, Predicted: train\n",
      "True: train, Predicted: train\n",
      "True: train, Predicted: train\n",
      "True: train, Predicted: train\n",
      "True: train, Predicted: train\n",
      "True: train, Predicted: train\n",
      "True: train, Predicted: train\n",
      "True: train, Predicted: train\n",
      "True: train, Predicted: train\n",
      "True: train, Predicted: train\n",
      "True: train, Predicted: train\n",
      "True: train, Predicted: train\n",
      "True: train, Predicted: train\n",
      "True: train, Predicted: train\n",
      "True: train, Predicted: train\n",
      "True: train, Predicted: train\n",
      "True: train, Predicted: train\n",
      "True: train, Predicted: train\n",
      "True: train, Predicted: train\n"
     ]
    }
   ],
   "source": [
    "for i in range(20):\n",
    "    print(f\"True: {class_labels[true_classes[i]]}, Predicted: {class_labels[predicticed_class[i]]}\")"
   ]
  },
  {
   "cell_type": "code",
   "execution_count": 12,
   "id": "e7980c55",
   "metadata": {},
   "outputs": [
    {
     "name": "stdout",
     "output_type": "stream",
     "text": [
      "\u001b[1m150/150\u001b[0m \u001b[32m━━━━━━━━━━━━━━━━━━━━\u001b[0m\u001b[37m\u001b[0m \u001b[1m3s\u001b[0m 20ms/step - accuracy: 0.7409 - loss: 0.5725\n",
      "Validation Accuracy: 75.00%\n",
      "Validation Loss : 0.5623\n"
     ]
    }
   ],
   "source": [
    "val_loss , val_accuracy = model.evaluate(val_data)\n",
    "print(f'Validation Accuracy: {val_accuracy*100:.2f}%')\n",
    "print(f'Validation Loss : {val_loss:.4f}')"
   ]
  },
  {
   "cell_type": "code",
   "execution_count": 13,
   "id": "357ecf79",
   "metadata": {},
   "outputs": [
    {
     "data": {
      "text/plain": [
       "Text(0.5, 1.0, 'Accuracy')"
      ]
     },
     "execution_count": 13,
     "metadata": {},
     "output_type": "execute_result"
    },
    {
     "data": {
      "image/png": "[encoded data removed]",
      "text/plain": [
       "<Figure size 1000x500 with 1 Axes>"
      ]
     },
     "metadata": {},
     "output_type": "display_data"
    }
   ],
   "source": [
    "#Accuracy Plot\n",
    "import matplotlib.pyplot as plt\n",
    "plt.figure(figsize=(10,5))\n",
    "plt.subplot(1,2,1)\n",
    "plt.plot(history.history['accuracy'],label='Train Accuracy')\n",
    "plt.plot(history.history['val_accuracy'],label='Val Accuracy')\n",
    "plt.legend()\n",
    "plt.title('Accuracy')"
   ]
  },
  {
   "cell_type": "code",
   "execution_count": 14,
   "id": "8a17aa81",
   "metadata": {},
   "outputs": [
    {
     "data": {
      "image/png": "[encoded data removed]",
      "text/plain": [
       "<Figure size 640x480 with 1 Axes>"
      ]
     },
     "metadata": {},
     "output_type": "display_data"
    }
   ],
   "source": [
    "#Loss Plot\n",
    "plt.subplot(1,2,2)\n",
    "plt.plot(history.history['loss'],label='Train Loss')\n",
    "plt.plot(history.history['val_loss'],label='Val Loss')\n",
    "plt.legend()\n",
    "plt.title('Loss')\n",
    "plt.show()"
   ]
  },
  {
   "cell_type": "code",
   "execution_count": null,
   "id": "a881e498",
   "metadata": {},
   "outputs": [],
   "source": []
  }
 ],
 "metadata": {
  "kernelspec": {
   "display_name": "PiyushVirtual",
   "language": "python",
   "name": "python3"
  },
  "language_info": {
   "codemirror_mode": {
    "name": "ipython",
    "version": 3
   },
   "file_extension": ".py",
   "mimetype": "text/x-python",
   "name": "python",
   "nbconvert_exporter": "python",
   "pygments_lexer": "ipython3",
   "version": "3.12.8"
  }
 },
 "nbformat": 4,
 "nbformat_minor": 5
}
