{
 "cells": [
  {
   "cell_type": "markdown",
   "id": "f869bb28-a5df-451c-84fb-e382117d0dc5",
   "metadata": {},
   "source": [
    "# Pandas Python Tutorial"
   ]
  },
  {
   "cell_type": "code",
   "execution_count": 1,
   "id": "4156154a-afb8-4d68-9310-703680da8da7",
   "metadata": {},
   "outputs": [],
   "source": [
    "import numpy as np\n",
    "import pandas as pd"
   ]
  },
  {
   "cell_type": "code",
   "execution_count": 2,
   "id": "d04898cd-4a43-4627-bb5f-9397a1444967",
   "metadata": {},
   "outputs": [],
   "source": [
    "dict1 ={\n",
    "\"name\":[\"Piyush\",\"Aryan\",\"Mukesh\"],\n",
    " \"marks\":[99,98,89],\n",
    "  \"city\":[\"Aburoad\",\"Akara Bhatta\" ,\"AamThala\"]  \n",
    "}"
   ]
  },
  {
   "cell_type": "code",
   "execution_count": 3,
   "id": "288d629a-aea4-4da4-aef2-9df8ccc3feb1",
   "metadata": {},
   "outputs": [
    {
     "data": {
      "text/plain": [
       "{'name': ['Piyush', 'Aryan', 'Mukesh'],\n",
       " 'marks': [99, 98, 89],\n",
       " 'city': ['Aburoad', 'Akara Bhatta', 'AamThala']}"
      ]
     },
     "execution_count": 3,
     "metadata": {},
     "output_type": "execute_result"
    }
   ],
   "source": [
    "dict1"
   ]
  },
  {
   "cell_type": "code",
   "execution_count": 4,
   "id": "c0249979-d9ed-4ad0-9eba-60f432d4f7d8",
   "metadata": {},
   "outputs": [],
   "source": [
    "df=pd.DataFrame(dict1)"
   ]
  },
  {
   "cell_type": "code",
   "execution_count": 5,
   "id": "a7c070ba-850c-4a2c-bbd9-0b90a8328516",
   "metadata": {},
   "outputs": [
    {
     "data": {
      "text/html": [
       "<div>\n",
       "<style scoped>\n",
       "    .dataframe tbody tr th:only-of-type {\n",
       "        vertical-align: middle;\n",
       "    }\n",
       "\n",
       "    .dataframe tbody tr th {\n",
       "        vertical-align: top;\n",
       "    }\n",
       "\n",
       "    .dataframe thead th {\n",
       "        text-align: right;\n",
       "    }\n",
       "</style>\n",
       "<table border=\"1\" class=\"dataframe\">\n",
       "  <thead>\n",
       "    <tr style=\"text-align: right;\">\n",
       "      <th></th>\n",
       "      <th>name</th>\n",
       "      <th>marks</th>\n",
       "      <th>city</th>\n",
       "    </tr>\n",
       "  </thead>\n",
       "  <tbody>\n",
       "    <tr>\n",
       "      <th>0</th>\n",
       "      <td>Piyush</td>\n",
       "      <td>99</td>\n",
       "      <td>Aburoad</td>\n",
       "    </tr>\n",
       "    <tr>\n",
       "      <th>1</th>\n",
       "      <td>Aryan</td>\n",
       "      <td>98</td>\n",
       "      <td>Akara Bhatta</td>\n",
       "    </tr>\n",
       "    <tr>\n",
       "      <th>2</th>\n",
       "      <td>Mukesh</td>\n",
       "      <td>89</td>\n",
       "      <td>AamThala</td>\n",
       "    </tr>\n",
       "  </tbody>\n",
       "</table>\n",
       "</div>"
      ],
      "text/plain": [
       "     name  marks          city\n",
       "0  Piyush     99       Aburoad\n",
       "1   Aryan     98  Akara Bhatta\n",
       "2  Mukesh     89      AamThala"
      ]
     },
     "execution_count": 5,
     "metadata": {},
     "output_type": "execute_result"
    }
   ],
   "source": [
    "df\n"
   ]
  },
  {
   "cell_type": "code",
   "execution_count": 6,
   "id": "6412215e-df8c-4f98-a0a3-83afa9760b77",
   "metadata": {},
   "outputs": [],
   "source": [
    "df.to_csv('friends.csv')"
   ]
  },
  {
   "cell_type": "code",
   "execution_count": 7,
   "id": "2b8b3c31-ee39-4099-b9ad-eded7a576267",
   "metadata": {},
   "outputs": [],
   "source": [
    "df.to_csv('friends_wi.csv',index=False)"
   ]
  },
  {
   "cell_type": "code",
   "execution_count": 8,
   "id": "ee0092d7-3f9e-4da0-b8e5-55afe7840f98",
   "metadata": {},
   "outputs": [
    {
     "data": {
      "text/html": [
       "<div>\n",
       "<style scoped>\n",
       "    .dataframe tbody tr th:only-of-type {\n",
       "        vertical-align: middle;\n",
       "    }\n",
       "\n",
       "    .dataframe tbody tr th {\n",
       "        vertical-align: top;\n",
       "    }\n",
       "\n",
       "    .dataframe thead th {\n",
       "        text-align: right;\n",
       "    }\n",
       "</style>\n",
       "<table border=\"1\" class=\"dataframe\">\n",
       "  <thead>\n",
       "    <tr style=\"text-align: right;\">\n",
       "      <th></th>\n",
       "      <th>name</th>\n",
       "      <th>marks</th>\n",
       "      <th>city</th>\n",
       "    </tr>\n",
       "  </thead>\n",
       "  <tbody>\n",
       "    <tr>\n",
       "      <th>0</th>\n",
       "      <td>Piyush</td>\n",
       "      <td>99</td>\n",
       "      <td>Aburoad</td>\n",
       "    </tr>\n",
       "    <tr>\n",
       "      <th>1</th>\n",
       "      <td>Aryan</td>\n",
       "      <td>98</td>\n",
       "      <td>Akara Bhatta</td>\n",
       "    </tr>\n",
       "  </tbody>\n",
       "</table>\n",
       "</div>"
      ],
      "text/plain": [
       "     name  marks          city\n",
       "0  Piyush     99       Aburoad\n",
       "1   Aryan     98  Akara Bhatta"
      ]
     },
     "execution_count": 8,
     "metadata": {},
     "output_type": "execute_result"
    }
   ],
   "source": [
    "df.head(2)"
   ]
  },
  {
   "cell_type": "code",
   "execution_count": 9,
   "id": "21fdad95-9c04-438f-8158-5e993fbc51cb",
   "metadata": {},
   "outputs": [
    {
     "data": {
      "text/html": [
       "<div>\n",
       "<style scoped>\n",
       "    .dataframe tbody tr th:only-of-type {\n",
       "        vertical-align: middle;\n",
       "    }\n",
       "\n",
       "    .dataframe tbody tr th {\n",
       "        vertical-align: top;\n",
       "    }\n",
       "\n",
       "    .dataframe thead th {\n",
       "        text-align: right;\n",
       "    }\n",
       "</style>\n",
       "<table border=\"1\" class=\"dataframe\">\n",
       "  <thead>\n",
       "    <tr style=\"text-align: right;\">\n",
       "      <th></th>\n",
       "      <th>name</th>\n",
       "      <th>marks</th>\n",
       "      <th>city</th>\n",
       "    </tr>\n",
       "  </thead>\n",
       "  <tbody>\n",
       "    <tr>\n",
       "      <th>1</th>\n",
       "      <td>Aryan</td>\n",
       "      <td>98</td>\n",
       "      <td>Akara Bhatta</td>\n",
       "    </tr>\n",
       "    <tr>\n",
       "      <th>2</th>\n",
       "      <td>Mukesh</td>\n",
       "      <td>89</td>\n",
       "      <td>AamThala</td>\n",
       "    </tr>\n",
       "  </tbody>\n",
       "</table>\n",
       "</div>"
      ],
      "text/plain": [
       "     name  marks          city\n",
       "1   Aryan     98  Akara Bhatta\n",
       "2  Mukesh     89      AamThala"
      ]
     },
     "execution_count": 9,
     "metadata": {},
     "output_type": "execute_result"
    }
   ],
   "source": [
    "df.tail(2)"
   ]
  },
  {
   "cell_type": "code",
   "execution_count": 10,
   "id": "829150f3-84c2-4c69-bb62-742d6e0feda4",
   "metadata": {},
   "outputs": [
    {
     "data": {
      "text/html": [
       "<div>\n",
       "<style scoped>\n",
       "    .dataframe tbody tr th:only-of-type {\n",
       "        vertical-align: middle;\n",
       "    }\n",
       "\n",
       "    .dataframe tbody tr th {\n",
       "        vertical-align: top;\n",
       "    }\n",
       "\n",
       "    .dataframe thead th {\n",
       "        text-align: right;\n",
       "    }\n",
       "</style>\n",
       "<table border=\"1\" class=\"dataframe\">\n",
       "  <thead>\n",
       "    <tr style=\"text-align: right;\">\n",
       "      <th></th>\n",
       "      <th>marks</th>\n",
       "    </tr>\n",
       "  </thead>\n",
       "  <tbody>\n",
       "    <tr>\n",
       "      <th>count</th>\n",
       "      <td>3.000000</td>\n",
       "    </tr>\n",
       "    <tr>\n",
       "      <th>mean</th>\n",
       "      <td>95.333333</td>\n",
       "    </tr>\n",
       "    <tr>\n",
       "      <th>std</th>\n",
       "      <td>5.507571</td>\n",
       "    </tr>\n",
       "    <tr>\n",
       "      <th>min</th>\n",
       "      <td>89.000000</td>\n",
       "    </tr>\n",
       "    <tr>\n",
       "      <th>25%</th>\n",
       "      <td>93.500000</td>\n",
       "    </tr>\n",
       "    <tr>\n",
       "      <th>50%</th>\n",
       "      <td>98.000000</td>\n",
       "    </tr>\n",
       "    <tr>\n",
       "      <th>75%</th>\n",
       "      <td>98.500000</td>\n",
       "    </tr>\n",
       "    <tr>\n",
       "      <th>max</th>\n",
       "      <td>99.000000</td>\n",
       "    </tr>\n",
       "  </tbody>\n",
       "</table>\n",
       "</div>"
      ],
      "text/plain": [
       "           marks\n",
       "count   3.000000\n",
       "mean   95.333333\n",
       "std     5.507571\n",
       "min    89.000000\n",
       "25%    93.500000\n",
       "50%    98.000000\n",
       "75%    98.500000\n",
       "max    99.000000"
      ]
     },
     "execution_count": 10,
     "metadata": {},
     "output_type": "execute_result"
    }
   ],
   "source": [
    "df.describe()"
   ]
  },
  {
   "cell_type": "code",
   "execution_count": 11,
   "id": "79c73d27-ecb5-49d6-bc90-27e6d8abcd9a",
   "metadata": {},
   "outputs": [],
   "source": [
    "piyush = pd.read_csv('piyush.csv')"
   ]
  },
  {
   "cell_type": "code",
   "execution_count": 12,
   "id": "c4fb6996-f7e8-4508-97ea-ffd0488b2899",
   "metadata": {},
   "outputs": [
    {
     "data": {
      "text/html": [
       "<div>\n",
       "<style scoped>\n",
       "    .dataframe tbody tr th:only-of-type {\n",
       "        vertical-align: middle;\n",
       "    }\n",
       "\n",
       "    .dataframe tbody tr th {\n",
       "        vertical-align: top;\n",
       "    }\n",
       "\n",
       "    .dataframe thead th {\n",
       "        text-align: right;\n",
       "    }\n",
       "</style>\n",
       "<table border=\"1\" class=\"dataframe\">\n",
       "  <thead>\n",
       "    <tr style=\"text-align: right;\">\n",
       "      <th></th>\n",
       "      <th>Train No</th>\n",
       "      <th>Speed</th>\n",
       "      <th>City</th>\n",
       "    </tr>\n",
       "  </thead>\n",
       "  <tbody>\n",
       "    <tr>\n",
       "      <th>0</th>\n",
       "      <td>12916</td>\n",
       "      <td>100</td>\n",
       "      <td>Delhi</td>\n",
       "    </tr>\n",
       "    <tr>\n",
       "      <th>1</th>\n",
       "      <td>12915</td>\n",
       "      <td>110</td>\n",
       "      <td>Ahemdabad</td>\n",
       "    </tr>\n",
       "    <tr>\n",
       "      <th>2</th>\n",
       "      <td>12216</td>\n",
       "      <td>130</td>\n",
       "      <td>Aburoad</td>\n",
       "    </tr>\n",
       "    <tr>\n",
       "      <th>3</th>\n",
       "      <td>22824</td>\n",
       "      <td>90</td>\n",
       "      <td>Jaipur</td>\n",
       "    </tr>\n",
       "  </tbody>\n",
       "</table>\n",
       "</div>"
      ],
      "text/plain": [
       "   Train No  Speed       City\n",
       "0     12916    100      Delhi\n",
       "1     12915    110  Ahemdabad\n",
       "2     12216    130    Aburoad\n",
       "3     22824     90     Jaipur"
      ]
     },
     "execution_count": 12,
     "metadata": {},
     "output_type": "execute_result"
    }
   ],
   "source": [
    "piyush"
   ]
  },
  {
   "cell_type": "code",
   "execution_count": 14,
   "id": "4e08ec4d-007e-46a6-b571-0af20c0cf9f9",
   "metadata": {},
   "outputs": [
    {
     "data": {
      "text/plain": [
       "0    100\n",
       "1    110\n",
       "2    130\n",
       "3     90\n",
       "Name: Speed, dtype: int64"
      ]
     },
     "execution_count": 14,
     "metadata": {},
     "output_type": "execute_result"
    }
   ],
   "source": [
    "piyush['Speed']"
   ]
  },
  {
   "cell_type": "code",
   "execution_count": 15,
   "id": "a708be3a-e605-4d24-bd9f-7b2a853c6354",
   "metadata": {},
   "outputs": [
    {
     "data": {
      "text/plain": [
       "np.int64(100)"
      ]
     },
     "execution_count": 15,
     "metadata": {},
     "output_type": "execute_result"
    }
   ],
   "source": [
    "piyush['Speed'][0]"
   ]
  },
  {
   "cell_type": "code",
   "execution_count": 18,
   "id": "19e58805-6c3c-4e45-b59c-050af59beae5",
   "metadata": {},
   "outputs": [
    {
     "data": {
      "text/plain": [
       "0    12916\n",
       "1    12915\n",
       "2    12216\n",
       "3    22824\n",
       "Name: Train No, dtype: int64"
      ]
     },
     "execution_count": 18,
     "metadata": {},
     "output_type": "execute_result"
    }
   ],
   "source": [
    " piyush['Train No']"
   ]
  },
  {
   "cell_type": "code",
   "execution_count": 19,
   "id": "c03d7b14-06fe-496e-b019-323bb3ef65b3",
   "metadata": {},
   "outputs": [
    {
     "data": {
      "text/html": [
       "<div>\n",
       "<style scoped>\n",
       "    .dataframe tbody tr th:only-of-type {\n",
       "        vertical-align: middle;\n",
       "    }\n",
       "\n",
       "    .dataframe tbody tr th {\n",
       "        vertical-align: top;\n",
       "    }\n",
       "\n",
       "    .dataframe thead th {\n",
       "        text-align: right;\n",
       "    }\n",
       "</style>\n",
       "<table border=\"1\" class=\"dataframe\">\n",
       "  <thead>\n",
       "    <tr style=\"text-align: right;\">\n",
       "      <th></th>\n",
       "      <th>Train No</th>\n",
       "      <th>Speed</th>\n",
       "      <th>City</th>\n",
       "    </tr>\n",
       "  </thead>\n",
       "  <tbody>\n",
       "    <tr>\n",
       "      <th>0</th>\n",
       "      <td>12916</td>\n",
       "      <td>100</td>\n",
       "      <td>Delhi</td>\n",
       "    </tr>\n",
       "    <tr>\n",
       "      <th>1</th>\n",
       "      <td>12915</td>\n",
       "      <td>110</td>\n",
       "      <td>Ahemdabad</td>\n",
       "    </tr>\n",
       "    <tr>\n",
       "      <th>2</th>\n",
       "      <td>12216</td>\n",
       "      <td>130</td>\n",
       "      <td>Aburoad</td>\n",
       "    </tr>\n",
       "    <tr>\n",
       "      <th>3</th>\n",
       "      <td>22824</td>\n",
       "      <td>90</td>\n",
       "      <td>Jaipur</td>\n",
       "    </tr>\n",
       "  </tbody>\n",
       "</table>\n",
       "</div>"
      ],
      "text/plain": [
       "   Train No  Speed       City\n",
       "0     12916    100      Delhi\n",
       "1     12915    110  Ahemdabad\n",
       "2     12216    130    Aburoad\n",
       "3     22824     90     Jaipur"
      ]
     },
     "execution_count": 19,
     "metadata": {},
     "output_type": "execute_result"
    }
   ],
   "source": [
    "piyush"
   ]
  },
  {
   "cell_type": "code",
   "execution_count": 22,
   "id": "b7c25870-006e-4877-b3c9-bc1bd9f322fa",
   "metadata": {},
   "outputs": [],
   "source": [
    "ser = pd.Series(np.random.rand(34))"
   ]
  },
  {
   "cell_type": "code",
   "execution_count": 24,
   "id": "0fa7ef3f-2576-4303-8b44-b6b86a7e19db",
   "metadata": {},
   "outputs": [
    {
     "data": {
      "text/plain": [
       "pandas.core.series.Series"
      ]
     },
     "execution_count": 24,
     "metadata": {},
     "output_type": "execute_result"
    }
   ],
   "source": [
    "type(ser)"
   ]
  },
  {
   "cell_type": "code",
   "execution_count": 25,
   "id": "20a541cd-af43-4a23-8e0e-fad27a8c5ae5",
   "metadata": {},
   "outputs": [],
   "source": [
    "newdf = pd.DataFrame(np.random.rand(334,5),index =np.arange(334))"
   ]
  },
  {
   "cell_type": "code",
   "execution_count": 28,
   "id": "9fa63e54-2cfb-4527-bbb2-c1f70558daa3",
   "metadata": {},
   "outputs": [
    {
     "data": {
      "text/plain": [
       "pandas.core.frame.DataFrame"
      ]
     },
     "execution_count": 28,
     "metadata": {},
     "output_type": "execute_result"
    }
   ],
   "source": [
    "type(newdf)"
   ]
  },
  {
   "cell_type": "code",
   "execution_count": 30,
   "id": "789d7dbe-a69c-4f1e-8647-b8eefbfb3d20",
   "metadata": {},
   "outputs": [
    {
     "data": {
      "text/html": [
       "<div>\n",
       "<style scoped>\n",
       "    .dataframe tbody tr th:only-of-type {\n",
       "        vertical-align: middle;\n",
       "    }\n",
       "\n",
       "    .dataframe tbody tr th {\n",
       "        vertical-align: top;\n",
       "    }\n",
       "\n",
       "    .dataframe thead th {\n",
       "        text-align: right;\n",
       "    }\n",
       "</style>\n",
       "<table border=\"1\" class=\"dataframe\">\n",
       "  <thead>\n",
       "    <tr style=\"text-align: right;\">\n",
       "      <th></th>\n",
       "      <th>0</th>\n",
       "      <th>1</th>\n",
       "      <th>2</th>\n",
       "      <th>3</th>\n",
       "      <th>4</th>\n",
       "    </tr>\n",
       "  </thead>\n",
       "  <tbody>\n",
       "    <tr>\n",
       "      <th>0</th>\n",
       "      <td>0.643584</td>\n",
       "      <td>0.956249</td>\n",
       "      <td>0.618284</td>\n",
       "      <td>0.608444</td>\n",
       "      <td>0.566489</td>\n",
       "    </tr>\n",
       "    <tr>\n",
       "      <th>1</th>\n",
       "      <td>0.733307</td>\n",
       "      <td>0.355573</td>\n",
       "      <td>0.400758</td>\n",
       "      <td>0.883541</td>\n",
       "      <td>0.449566</td>\n",
       "    </tr>\n",
       "    <tr>\n",
       "      <th>2</th>\n",
       "      <td>0.454182</td>\n",
       "      <td>0.253709</td>\n",
       "      <td>0.222754</td>\n",
       "      <td>0.139876</td>\n",
       "      <td>0.906354</td>\n",
       "    </tr>\n",
       "    <tr>\n",
       "      <th>3</th>\n",
       "      <td>0.773989</td>\n",
       "      <td>0.438137</td>\n",
       "      <td>0.393879</td>\n",
       "      <td>0.487779</td>\n",
       "      <td>0.517853</td>\n",
       "    </tr>\n",
       "    <tr>\n",
       "      <th>4</th>\n",
       "      <td>0.548473</td>\n",
       "      <td>0.009330</td>\n",
       "      <td>0.728241</td>\n",
       "      <td>0.969687</td>\n",
       "      <td>0.333542</td>\n",
       "    </tr>\n",
       "  </tbody>\n",
       "</table>\n",
       "</div>"
      ],
      "text/plain": [
       "          0         1         2         3         4\n",
       "0  0.643584  0.956249  0.618284  0.608444  0.566489\n",
       "1  0.733307  0.355573  0.400758  0.883541  0.449566\n",
       "2  0.454182  0.253709  0.222754  0.139876  0.906354\n",
       "3  0.773989  0.438137  0.393879  0.487779  0.517853\n",
       "4  0.548473  0.009330  0.728241  0.969687  0.333542"
      ]
     },
     "execution_count": 30,
     "metadata": {},
     "output_type": "execute_result"
    }
   ],
   "source": [
    "newdf.head()"
   ]
  },
  {
   "cell_type": "code",
   "execution_count": 31,
   "id": "a76d3dd5-7b6c-4c53-a00c-3cd9acb586ca",
   "metadata": {},
   "outputs": [
    {
     "data": {
      "text/plain": [
       "Index([  0,   1,   2,   3,   4,   5,   6,   7,   8,   9,\n",
       "       ...\n",
       "       324, 325, 326, 327, 328, 329, 330, 331, 332, 333],\n",
       "      dtype='int64', length=334)"
      ]
     },
     "execution_count": 31,
     "metadata": {},
     "output_type": "execute_result"
    }
   ],
   "source": [
    "newdf.index"
   ]
  },
  {
   "cell_type": "code",
   "execution_count": 33,
   "id": "78b15ddc-e1c0-414a-afa2-3ed7ba53d3fa",
   "metadata": {},
   "outputs": [
    {
     "data": {
      "text/plain": [
       "RangeIndex(start=0, stop=5, step=1)"
      ]
     },
     "execution_count": 33,
     "metadata": {},
     "output_type": "execute_result"
    }
   ],
   "source": [
    "newdf.columns"
   ]
  },
  {
   "cell_type": "code",
   "execution_count": 34,
   "id": "30bb18fa-2606-42ca-b9b5-e37ff89ab5ca",
   "metadata": {},
   "outputs": [
    {
     "data": {
      "text/plain": [
       "array([[0.64358419, 0.95624855, 0.61828391, 0.60844449, 0.56648872],\n",
       "       [0.73330731, 0.35557276, 0.40075764, 0.88354077, 0.44956604],\n",
       "       [0.45418182, 0.25370941, 0.22275421, 0.13987612, 0.90635362],\n",
       "       ...,\n",
       "       [0.03866225, 0.73736443, 0.60343553, 0.49009566, 0.66755861],\n",
       "       [0.33144711, 0.70221769, 0.55746699, 0.01436608, 0.37744097],\n",
       "       [0.41659103, 0.64706154, 0.20692798, 0.27040093, 0.42122904]],\n",
       "      shape=(334, 5))"
      ]
     },
     "execution_count": 34,
     "metadata": {},
     "output_type": "execute_result"
    }
   ],
   "source": [
    "newdf.to_numpy()"
   ]
  },
  {
   "cell_type": "code",
   "execution_count": 35,
   "id": "a6ca320e-d6e9-4644-865a-9bb7e8f3b81b",
   "metadata": {},
   "outputs": [
    {
     "data": {
      "text/html": [
       "<div>\n",
       "<style scoped>\n",
       "    .dataframe tbody tr th:only-of-type {\n",
       "        vertical-align: middle;\n",
       "    }\n",
       "\n",
       "    .dataframe tbody tr th {\n",
       "        vertical-align: top;\n",
       "    }\n",
       "\n",
       "    .dataframe thead th {\n",
       "        text-align: right;\n",
       "    }\n",
       "</style>\n",
       "<table border=\"1\" class=\"dataframe\">\n",
       "  <thead>\n",
       "    <tr style=\"text-align: right;\">\n",
       "      <th></th>\n",
       "      <th>0</th>\n",
       "      <th>1</th>\n",
       "      <th>2</th>\n",
       "      <th>3</th>\n",
       "      <th>4</th>\n",
       "      <th>5</th>\n",
       "      <th>6</th>\n",
       "      <th>7</th>\n",
       "      <th>8</th>\n",
       "      <th>9</th>\n",
       "      <th>...</th>\n",
       "      <th>324</th>\n",
       "      <th>325</th>\n",
       "      <th>326</th>\n",
       "      <th>327</th>\n",
       "      <th>328</th>\n",
       "      <th>329</th>\n",
       "      <th>330</th>\n",
       "      <th>331</th>\n",
       "      <th>332</th>\n",
       "      <th>333</th>\n",
       "    </tr>\n",
       "  </thead>\n",
       "  <tbody>\n",
       "    <tr>\n",
       "      <th>0</th>\n",
       "      <td>0.643584</td>\n",
       "      <td>0.733307</td>\n",
       "      <td>0.454182</td>\n",
       "      <td>0.773989</td>\n",
       "      <td>0.548473</td>\n",
       "      <td>0.682397</td>\n",
       "      <td>0.672633</td>\n",
       "      <td>0.392404</td>\n",
       "      <td>0.767708</td>\n",
       "      <td>0.388768</td>\n",
       "      <td>...</td>\n",
       "      <td>0.869463</td>\n",
       "      <td>0.547787</td>\n",
       "      <td>0.913969</td>\n",
       "      <td>0.813301</td>\n",
       "      <td>0.879015</td>\n",
       "      <td>0.220813</td>\n",
       "      <td>0.283522</td>\n",
       "      <td>0.038662</td>\n",
       "      <td>0.331447</td>\n",
       "      <td>0.416591</td>\n",
       "    </tr>\n",
       "    <tr>\n",
       "      <th>1</th>\n",
       "      <td>0.956249</td>\n",
       "      <td>0.355573</td>\n",
       "      <td>0.253709</td>\n",
       "      <td>0.438137</td>\n",
       "      <td>0.009330</td>\n",
       "      <td>0.708709</td>\n",
       "      <td>0.940386</td>\n",
       "      <td>0.394191</td>\n",
       "      <td>0.966148</td>\n",
       "      <td>0.789019</td>\n",
       "      <td>...</td>\n",
       "      <td>0.863864</td>\n",
       "      <td>0.857372</td>\n",
       "      <td>0.922684</td>\n",
       "      <td>0.958405</td>\n",
       "      <td>0.519127</td>\n",
       "      <td>0.864768</td>\n",
       "      <td>0.778651</td>\n",
       "      <td>0.737364</td>\n",
       "      <td>0.702218</td>\n",
       "      <td>0.647062</td>\n",
       "    </tr>\n",
       "    <tr>\n",
       "      <th>2</th>\n",
       "      <td>0.618284</td>\n",
       "      <td>0.400758</td>\n",
       "      <td>0.222754</td>\n",
       "      <td>0.393879</td>\n",
       "      <td>0.728241</td>\n",
       "      <td>0.465243</td>\n",
       "      <td>0.975619</td>\n",
       "      <td>0.414685</td>\n",
       "      <td>0.326353</td>\n",
       "      <td>0.700967</td>\n",
       "      <td>...</td>\n",
       "      <td>0.280965</td>\n",
       "      <td>0.212173</td>\n",
       "      <td>0.658561</td>\n",
       "      <td>0.596871</td>\n",
       "      <td>0.982042</td>\n",
       "      <td>0.864632</td>\n",
       "      <td>0.770811</td>\n",
       "      <td>0.603436</td>\n",
       "      <td>0.557467</td>\n",
       "      <td>0.206928</td>\n",
       "    </tr>\n",
       "    <tr>\n",
       "      <th>3</th>\n",
       "      <td>0.608444</td>\n",
       "      <td>0.883541</td>\n",
       "      <td>0.139876</td>\n",
       "      <td>0.487779</td>\n",
       "      <td>0.969687</td>\n",
       "      <td>0.589900</td>\n",
       "      <td>0.262364</td>\n",
       "      <td>0.522317</td>\n",
       "      <td>0.942281</td>\n",
       "      <td>0.883522</td>\n",
       "      <td>...</td>\n",
       "      <td>0.738678</td>\n",
       "      <td>0.164967</td>\n",
       "      <td>0.623461</td>\n",
       "      <td>0.541365</td>\n",
       "      <td>0.258992</td>\n",
       "      <td>0.502435</td>\n",
       "      <td>0.264824</td>\n",
       "      <td>0.490096</td>\n",
       "      <td>0.014366</td>\n",
       "      <td>0.270401</td>\n",
       "    </tr>\n",
       "    <tr>\n",
       "      <th>4</th>\n",
       "      <td>0.566489</td>\n",
       "      <td>0.449566</td>\n",
       "      <td>0.906354</td>\n",
       "      <td>0.517853</td>\n",
       "      <td>0.333542</td>\n",
       "      <td>0.919079</td>\n",
       "      <td>0.855970</td>\n",
       "      <td>0.788810</td>\n",
       "      <td>0.792328</td>\n",
       "      <td>0.005853</td>\n",
       "      <td>...</td>\n",
       "      <td>0.436627</td>\n",
       "      <td>0.718404</td>\n",
       "      <td>0.808013</td>\n",
       "      <td>0.770198</td>\n",
       "      <td>0.966800</td>\n",
       "      <td>0.755793</td>\n",
       "      <td>0.605251</td>\n",
       "      <td>0.667559</td>\n",
       "      <td>0.377441</td>\n",
       "      <td>0.421229</td>\n",
       "    </tr>\n",
       "  </tbody>\n",
       "</table>\n",
       "<p>5 rows × 334 columns</p>\n",
       "</div>"
      ],
      "text/plain": [
       "        0         1         2         3         4         5         6    \\\n",
       "0  0.643584  0.733307  0.454182  0.773989  0.548473  0.682397  0.672633   \n",
       "1  0.956249  0.355573  0.253709  0.438137  0.009330  0.708709  0.940386   \n",
       "2  0.618284  0.400758  0.222754  0.393879  0.728241  0.465243  0.975619   \n",
       "3  0.608444  0.883541  0.139876  0.487779  0.969687  0.589900  0.262364   \n",
       "4  0.566489  0.449566  0.906354  0.517853  0.333542  0.919079  0.855970   \n",
       "\n",
       "        7         8         9    ...       324       325       326       327  \\\n",
       "0  0.392404  0.767708  0.388768  ...  0.869463  0.547787  0.913969  0.813301   \n",
       "1  0.394191  0.966148  0.789019  ...  0.863864  0.857372  0.922684  0.958405   \n",
       "2  0.414685  0.326353  0.700967  ...  0.280965  0.212173  0.658561  0.596871   \n",
       "3  0.522317  0.942281  0.883522  ...  0.738678  0.164967  0.623461  0.541365   \n",
       "4  0.788810  0.792328  0.005853  ...  0.436627  0.718404  0.808013  0.770198   \n",
       "\n",
       "        328       329       330       331       332       333  \n",
       "0  0.879015  0.220813  0.283522  0.038662  0.331447  0.416591  \n",
       "1  0.519127  0.864768  0.778651  0.737364  0.702218  0.647062  \n",
       "2  0.982042  0.864632  0.770811  0.603436  0.557467  0.206928  \n",
       "3  0.258992  0.502435  0.264824  0.490096  0.014366  0.270401  \n",
       "4  0.966800  0.755793  0.605251  0.667559  0.377441  0.421229  \n",
       "\n",
       "[5 rows x 334 columns]"
      ]
     },
     "execution_count": 35,
     "metadata": {},
     "output_type": "execute_result"
    }
   ],
   "source": [
    "newdf.T"
   ]
  },
  {
   "cell_type": "code",
   "execution_count": 37,
   "id": "46782bc5-2d87-483f-8bbf-633b8b912900",
   "metadata": {},
   "outputs": [
    {
     "data": {
      "text/html": [
       "<div>\n",
       "<style scoped>\n",
       "    .dataframe tbody tr th:only-of-type {\n",
       "        vertical-align: middle;\n",
       "    }\n",
       "\n",
       "    .dataframe tbody tr th {\n",
       "        vertical-align: top;\n",
       "    }\n",
       "\n",
       "    .dataframe thead th {\n",
       "        text-align: right;\n",
       "    }\n",
       "</style>\n",
       "<table border=\"1\" class=\"dataframe\">\n",
       "  <thead>\n",
       "    <tr style=\"text-align: right;\">\n",
       "      <th></th>\n",
       "      <th>0</th>\n",
       "      <th>1</th>\n",
       "      <th>2</th>\n",
       "      <th>3</th>\n",
       "      <th>4</th>\n",
       "    </tr>\n",
       "  </thead>\n",
       "  <tbody>\n",
       "    <tr>\n",
       "      <th>0</th>\n",
       "      <td>0.643584</td>\n",
       "      <td>0.956249</td>\n",
       "      <td>0.618284</td>\n",
       "      <td>0.608444</td>\n",
       "      <td>0.566489</td>\n",
       "    </tr>\n",
       "    <tr>\n",
       "      <th>1</th>\n",
       "      <td>0.733307</td>\n",
       "      <td>0.355573</td>\n",
       "      <td>0.400758</td>\n",
       "      <td>0.883541</td>\n",
       "      <td>0.449566</td>\n",
       "    </tr>\n",
       "    <tr>\n",
       "      <th>2</th>\n",
       "      <td>0.454182</td>\n",
       "      <td>0.253709</td>\n",
       "      <td>0.222754</td>\n",
       "      <td>0.139876</td>\n",
       "      <td>0.906354</td>\n",
       "    </tr>\n",
       "    <tr>\n",
       "      <th>3</th>\n",
       "      <td>0.773989</td>\n",
       "      <td>0.438137</td>\n",
       "      <td>0.393879</td>\n",
       "      <td>0.487779</td>\n",
       "      <td>0.517853</td>\n",
       "    </tr>\n",
       "    <tr>\n",
       "      <th>4</th>\n",
       "      <td>0.548473</td>\n",
       "      <td>0.009330</td>\n",
       "      <td>0.728241</td>\n",
       "      <td>0.969687</td>\n",
       "      <td>0.333542</td>\n",
       "    </tr>\n",
       "  </tbody>\n",
       "</table>\n",
       "</div>"
      ],
      "text/plain": [
       "          0         1         2         3         4\n",
       "0  0.643584  0.956249  0.618284  0.608444  0.566489\n",
       "1  0.733307  0.355573  0.400758  0.883541  0.449566\n",
       "2  0.454182  0.253709  0.222754  0.139876  0.906354\n",
       "3  0.773989  0.438137  0.393879  0.487779  0.517853\n",
       "4  0.548473  0.009330  0.728241  0.969687  0.333542"
      ]
     },
     "execution_count": 37,
     "metadata": {},
     "output_type": "execute_result"
    }
   ],
   "source": [
    "newdf.head()"
   ]
  },
  {
   "cell_type": "code",
   "execution_count": 38,
   "id": "8c05ce24-7abd-4e39-ad48-4f8dd7ef62d8",
   "metadata": {},
   "outputs": [
    {
     "data": {
      "text/html": [
       "<div>\n",
       "<style scoped>\n",
       "    .dataframe tbody tr th:only-of-type {\n",
       "        vertical-align: middle;\n",
       "    }\n",
       "\n",
       "    .dataframe tbody tr th {\n",
       "        vertical-align: top;\n",
       "    }\n",
       "\n",
       "    .dataframe thead th {\n",
       "        text-align: right;\n",
       "    }\n",
       "</style>\n",
       "<table border=\"1\" class=\"dataframe\">\n",
       "  <thead>\n",
       "    <tr style=\"text-align: right;\">\n",
       "      <th></th>\n",
       "      <th>0</th>\n",
       "      <th>1</th>\n",
       "      <th>2</th>\n",
       "      <th>3</th>\n",
       "      <th>4</th>\n",
       "    </tr>\n",
       "  </thead>\n",
       "  <tbody>\n",
       "    <tr>\n",
       "      <th>333</th>\n",
       "      <td>0.416591</td>\n",
       "      <td>0.647062</td>\n",
       "      <td>0.206928</td>\n",
       "      <td>0.270401</td>\n",
       "      <td>0.421229</td>\n",
       "    </tr>\n",
       "    <tr>\n",
       "      <th>332</th>\n",
       "      <td>0.331447</td>\n",
       "      <td>0.702218</td>\n",
       "      <td>0.557467</td>\n",
       "      <td>0.014366</td>\n",
       "      <td>0.377441</td>\n",
       "    </tr>\n",
       "    <tr>\n",
       "      <th>331</th>\n",
       "      <td>0.038662</td>\n",
       "      <td>0.737364</td>\n",
       "      <td>0.603436</td>\n",
       "      <td>0.490096</td>\n",
       "      <td>0.667559</td>\n",
       "    </tr>\n",
       "    <tr>\n",
       "      <th>330</th>\n",
       "      <td>0.283522</td>\n",
       "      <td>0.778651</td>\n",
       "      <td>0.770811</td>\n",
       "      <td>0.264824</td>\n",
       "      <td>0.605251</td>\n",
       "    </tr>\n",
       "    <tr>\n",
       "      <th>329</th>\n",
       "      <td>0.220813</td>\n",
       "      <td>0.864768</td>\n",
       "      <td>0.864632</td>\n",
       "      <td>0.502435</td>\n",
       "      <td>0.755793</td>\n",
       "    </tr>\n",
       "    <tr>\n",
       "      <th>...</th>\n",
       "      <td>...</td>\n",
       "      <td>...</td>\n",
       "      <td>...</td>\n",
       "      <td>...</td>\n",
       "      <td>...</td>\n",
       "    </tr>\n",
       "    <tr>\n",
       "      <th>4</th>\n",
       "      <td>0.548473</td>\n",
       "      <td>0.009330</td>\n",
       "      <td>0.728241</td>\n",
       "      <td>0.969687</td>\n",
       "      <td>0.333542</td>\n",
       "    </tr>\n",
       "    <tr>\n",
       "      <th>3</th>\n",
       "      <td>0.773989</td>\n",
       "      <td>0.438137</td>\n",
       "      <td>0.393879</td>\n",
       "      <td>0.487779</td>\n",
       "      <td>0.517853</td>\n",
       "    </tr>\n",
       "    <tr>\n",
       "      <th>2</th>\n",
       "      <td>0.454182</td>\n",
       "      <td>0.253709</td>\n",
       "      <td>0.222754</td>\n",
       "      <td>0.139876</td>\n",
       "      <td>0.906354</td>\n",
       "    </tr>\n",
       "    <tr>\n",
       "      <th>1</th>\n",
       "      <td>0.733307</td>\n",
       "      <td>0.355573</td>\n",
       "      <td>0.400758</td>\n",
       "      <td>0.883541</td>\n",
       "      <td>0.449566</td>\n",
       "    </tr>\n",
       "    <tr>\n",
       "      <th>0</th>\n",
       "      <td>0.643584</td>\n",
       "      <td>0.956249</td>\n",
       "      <td>0.618284</td>\n",
       "      <td>0.608444</td>\n",
       "      <td>0.566489</td>\n",
       "    </tr>\n",
       "  </tbody>\n",
       "</table>\n",
       "<p>334 rows × 5 columns</p>\n",
       "</div>"
      ],
      "text/plain": [
       "            0         1         2         3         4\n",
       "333  0.416591  0.647062  0.206928  0.270401  0.421229\n",
       "332  0.331447  0.702218  0.557467  0.014366  0.377441\n",
       "331  0.038662  0.737364  0.603436  0.490096  0.667559\n",
       "330  0.283522  0.778651  0.770811  0.264824  0.605251\n",
       "329  0.220813  0.864768  0.864632  0.502435  0.755793\n",
       "..        ...       ...       ...       ...       ...\n",
       "4    0.548473  0.009330  0.728241  0.969687  0.333542\n",
       "3    0.773989  0.438137  0.393879  0.487779  0.517853\n",
       "2    0.454182  0.253709  0.222754  0.139876  0.906354\n",
       "1    0.733307  0.355573  0.400758  0.883541  0.449566\n",
       "0    0.643584  0.956249  0.618284  0.608444  0.566489\n",
       "\n",
       "[334 rows x 5 columns]"
      ]
     },
     "execution_count": 38,
     "metadata": {},
     "output_type": "execute_result"
    }
   ],
   "source": [
    "newdf.sort_index(axis=0,ascending=False)"
   ]
  },
  {
   "cell_type": "code",
   "execution_count": 39,
   "id": "81849c43-5a1f-4714-bc68-7938b5fa1abf",
   "metadata": {},
   "outputs": [
    {
     "data": {
      "text/html": [
       "<div>\n",
       "<style scoped>\n",
       "    .dataframe tbody tr th:only-of-type {\n",
       "        vertical-align: middle;\n",
       "    }\n",
       "\n",
       "    .dataframe tbody tr th {\n",
       "        vertical-align: top;\n",
       "    }\n",
       "\n",
       "    .dataframe thead th {\n",
       "        text-align: right;\n",
       "    }\n",
       "</style>\n",
       "<table border=\"1\" class=\"dataframe\">\n",
       "  <thead>\n",
       "    <tr style=\"text-align: right;\">\n",
       "      <th></th>\n",
       "      <th>4</th>\n",
       "      <th>3</th>\n",
       "      <th>2</th>\n",
       "      <th>1</th>\n",
       "      <th>0</th>\n",
       "    </tr>\n",
       "  </thead>\n",
       "  <tbody>\n",
       "    <tr>\n",
       "      <th>0</th>\n",
       "      <td>0.566489</td>\n",
       "      <td>0.608444</td>\n",
       "      <td>0.618284</td>\n",
       "      <td>0.956249</td>\n",
       "      <td>0.643584</td>\n",
       "    </tr>\n",
       "    <tr>\n",
       "      <th>1</th>\n",
       "      <td>0.449566</td>\n",
       "      <td>0.883541</td>\n",
       "      <td>0.400758</td>\n",
       "      <td>0.355573</td>\n",
       "      <td>0.733307</td>\n",
       "    </tr>\n",
       "    <tr>\n",
       "      <th>2</th>\n",
       "      <td>0.906354</td>\n",
       "      <td>0.139876</td>\n",
       "      <td>0.222754</td>\n",
       "      <td>0.253709</td>\n",
       "      <td>0.454182</td>\n",
       "    </tr>\n",
       "    <tr>\n",
       "      <th>3</th>\n",
       "      <td>0.517853</td>\n",
       "      <td>0.487779</td>\n",
       "      <td>0.393879</td>\n",
       "      <td>0.438137</td>\n",
       "      <td>0.773989</td>\n",
       "    </tr>\n",
       "    <tr>\n",
       "      <th>4</th>\n",
       "      <td>0.333542</td>\n",
       "      <td>0.969687</td>\n",
       "      <td>0.728241</td>\n",
       "      <td>0.009330</td>\n",
       "      <td>0.548473</td>\n",
       "    </tr>\n",
       "    <tr>\n",
       "      <th>...</th>\n",
       "      <td>...</td>\n",
       "      <td>...</td>\n",
       "      <td>...</td>\n",
       "      <td>...</td>\n",
       "      <td>...</td>\n",
       "    </tr>\n",
       "    <tr>\n",
       "      <th>329</th>\n",
       "      <td>0.755793</td>\n",
       "      <td>0.502435</td>\n",
       "      <td>0.864632</td>\n",
       "      <td>0.864768</td>\n",
       "      <td>0.220813</td>\n",
       "    </tr>\n",
       "    <tr>\n",
       "      <th>330</th>\n",
       "      <td>0.605251</td>\n",
       "      <td>0.264824</td>\n",
       "      <td>0.770811</td>\n",
       "      <td>0.778651</td>\n",
       "      <td>0.283522</td>\n",
       "    </tr>\n",
       "    <tr>\n",
       "      <th>331</th>\n",
       "      <td>0.667559</td>\n",
       "      <td>0.490096</td>\n",
       "      <td>0.603436</td>\n",
       "      <td>0.737364</td>\n",
       "      <td>0.038662</td>\n",
       "    </tr>\n",
       "    <tr>\n",
       "      <th>332</th>\n",
       "      <td>0.377441</td>\n",
       "      <td>0.014366</td>\n",
       "      <td>0.557467</td>\n",
       "      <td>0.702218</td>\n",
       "      <td>0.331447</td>\n",
       "    </tr>\n",
       "    <tr>\n",
       "      <th>333</th>\n",
       "      <td>0.421229</td>\n",
       "      <td>0.270401</td>\n",
       "      <td>0.206928</td>\n",
       "      <td>0.647062</td>\n",
       "      <td>0.416591</td>\n",
       "    </tr>\n",
       "  </tbody>\n",
       "</table>\n",
       "<p>334 rows × 5 columns</p>\n",
       "</div>"
      ],
      "text/plain": [
       "            4         3         2         1         0\n",
       "0    0.566489  0.608444  0.618284  0.956249  0.643584\n",
       "1    0.449566  0.883541  0.400758  0.355573  0.733307\n",
       "2    0.906354  0.139876  0.222754  0.253709  0.454182\n",
       "3    0.517853  0.487779  0.393879  0.438137  0.773989\n",
       "4    0.333542  0.969687  0.728241  0.009330  0.548473\n",
       "..        ...       ...       ...       ...       ...\n",
       "329  0.755793  0.502435  0.864632  0.864768  0.220813\n",
       "330  0.605251  0.264824  0.770811  0.778651  0.283522\n",
       "331  0.667559  0.490096  0.603436  0.737364  0.038662\n",
       "332  0.377441  0.014366  0.557467  0.702218  0.331447\n",
       "333  0.421229  0.270401  0.206928  0.647062  0.416591\n",
       "\n",
       "[334 rows x 5 columns]"
      ]
     },
     "execution_count": 39,
     "metadata": {},
     "output_type": "execute_result"
    }
   ],
   "source": [
    "newdf.sort_index(axis=1,ascending=False)"
   ]
  },
  {
   "cell_type": "code",
   "execution_count": 2,
   "id": "899c36d7-1abd-4799-b2e2-e0f05821bb09",
   "metadata": {},
   "outputs": [],
   "source": [
    "import numpy as np\n",
    "import pandas as pd\n",
    "newdf = pd.DataFrame(np.random.rand(334,5),index =np.arange(334))"
   ]
  },
  {
   "cell_type": "code",
   "execution_count": 3,
   "id": "b3d34096-1717-401f-8d96-83f51fd13627",
   "metadata": {},
   "outputs": [
    {
     "data": {
      "text/html": [
       "<div>\n",
       "<style scoped>\n",
       "    .dataframe tbody tr th:only-of-type {\n",
       "        vertical-align: middle;\n",
       "    }\n",
       "\n",
       "    .dataframe tbody tr th {\n",
       "        vertical-align: top;\n",
       "    }\n",
       "\n",
       "    .dataframe thead th {\n",
       "        text-align: right;\n",
       "    }\n",
       "</style>\n",
       "<table border=\"1\" class=\"dataframe\">\n",
       "  <thead>\n",
       "    <tr style=\"text-align: right;\">\n",
       "      <th></th>\n",
       "      <th>0</th>\n",
       "      <th>1</th>\n",
       "      <th>2</th>\n",
       "      <th>3</th>\n",
       "      <th>4</th>\n",
       "    </tr>\n",
       "  </thead>\n",
       "  <tbody>\n",
       "    <tr>\n",
       "      <th>0</th>\n",
       "      <td>0.417927</td>\n",
       "      <td>0.838661</td>\n",
       "      <td>0.664228</td>\n",
       "      <td>0.937997</td>\n",
       "      <td>0.128909</td>\n",
       "    </tr>\n",
       "    <tr>\n",
       "      <th>1</th>\n",
       "      <td>0.332782</td>\n",
       "      <td>0.122433</td>\n",
       "      <td>0.887576</td>\n",
       "      <td>0.521448</td>\n",
       "      <td>0.083257</td>\n",
       "    </tr>\n",
       "    <tr>\n",
       "      <th>2</th>\n",
       "      <td>0.462839</td>\n",
       "      <td>0.232664</td>\n",
       "      <td>0.018682</td>\n",
       "      <td>0.919656</td>\n",
       "      <td>0.723526</td>\n",
       "    </tr>\n",
       "    <tr>\n",
       "      <th>3</th>\n",
       "      <td>0.609358</td>\n",
       "      <td>0.753715</td>\n",
       "      <td>0.516503</td>\n",
       "      <td>0.814999</td>\n",
       "      <td>0.232920</td>\n",
       "    </tr>\n",
       "    <tr>\n",
       "      <th>4</th>\n",
       "      <td>0.784992</td>\n",
       "      <td>0.462757</td>\n",
       "      <td>0.331334</td>\n",
       "      <td>0.779424</td>\n",
       "      <td>0.489974</td>\n",
       "    </tr>\n",
       "  </tbody>\n",
       "</table>\n",
       "</div>"
      ],
      "text/plain": [
       "          0         1         2         3         4\n",
       "0  0.417927  0.838661  0.664228  0.937997  0.128909\n",
       "1  0.332782  0.122433  0.887576  0.521448  0.083257\n",
       "2  0.462839  0.232664  0.018682  0.919656  0.723526\n",
       "3  0.609358  0.753715  0.516503  0.814999  0.232920\n",
       "4  0.784992  0.462757  0.331334  0.779424  0.489974"
      ]
     },
     "execution_count": 3,
     "metadata": {},
     "output_type": "execute_result"
    }
   ],
   "source": [
    "newdf.head()"
   ]
  },
  {
   "cell_type": "code",
   "execution_count": 4,
   "id": "9c0f667b-ab8f-4823-a622-a377ff7f8621",
   "metadata": {},
   "outputs": [],
   "source": [
    "newdf.columns = list(\"ABCDE\")"
   ]
  },
  {
   "cell_type": "code",
   "execution_count": 5,
   "id": "e0cfee9b-ecd6-4f4b-845d-95c75d833c8f",
   "metadata": {},
   "outputs": [
    {
     "data": {
      "text/html": [
       "<div>\n",
       "<style scoped>\n",
       "    .dataframe tbody tr th:only-of-type {\n",
       "        vertical-align: middle;\n",
       "    }\n",
       "\n",
       "    .dataframe tbody tr th {\n",
       "        vertical-align: top;\n",
       "    }\n",
       "\n",
       "    .dataframe thead th {\n",
       "        text-align: right;\n",
       "    }\n",
       "</style>\n",
       "<table border=\"1\" class=\"dataframe\">\n",
       "  <thead>\n",
       "    <tr style=\"text-align: right;\">\n",
       "      <th></th>\n",
       "      <th>A</th>\n",
       "      <th>B</th>\n",
       "      <th>C</th>\n",
       "      <th>D</th>\n",
       "      <th>E</th>\n",
       "    </tr>\n",
       "  </thead>\n",
       "  <tbody>\n",
       "    <tr>\n",
       "      <th>0</th>\n",
       "      <td>0.417927</td>\n",
       "      <td>0.838661</td>\n",
       "      <td>0.664228</td>\n",
       "      <td>0.937997</td>\n",
       "      <td>0.128909</td>\n",
       "    </tr>\n",
       "    <tr>\n",
       "      <th>1</th>\n",
       "      <td>0.332782</td>\n",
       "      <td>0.122433</td>\n",
       "      <td>0.887576</td>\n",
       "      <td>0.521448</td>\n",
       "      <td>0.083257</td>\n",
       "    </tr>\n",
       "    <tr>\n",
       "      <th>2</th>\n",
       "      <td>0.462839</td>\n",
       "      <td>0.232664</td>\n",
       "      <td>0.018682</td>\n",
       "      <td>0.919656</td>\n",
       "      <td>0.723526</td>\n",
       "    </tr>\n",
       "    <tr>\n",
       "      <th>3</th>\n",
       "      <td>0.609358</td>\n",
       "      <td>0.753715</td>\n",
       "      <td>0.516503</td>\n",
       "      <td>0.814999</td>\n",
       "      <td>0.232920</td>\n",
       "    </tr>\n",
       "    <tr>\n",
       "      <th>4</th>\n",
       "      <td>0.784992</td>\n",
       "      <td>0.462757</td>\n",
       "      <td>0.331334</td>\n",
       "      <td>0.779424</td>\n",
       "      <td>0.489974</td>\n",
       "    </tr>\n",
       "    <tr>\n",
       "      <th>...</th>\n",
       "      <td>...</td>\n",
       "      <td>...</td>\n",
       "      <td>...</td>\n",
       "      <td>...</td>\n",
       "      <td>...</td>\n",
       "    </tr>\n",
       "    <tr>\n",
       "      <th>329</th>\n",
       "      <td>0.846878</td>\n",
       "      <td>0.539694</td>\n",
       "      <td>0.692526</td>\n",
       "      <td>0.796096</td>\n",
       "      <td>0.963132</td>\n",
       "    </tr>\n",
       "    <tr>\n",
       "      <th>330</th>\n",
       "      <td>0.993157</td>\n",
       "      <td>0.651072</td>\n",
       "      <td>0.715881</td>\n",
       "      <td>0.367350</td>\n",
       "      <td>0.789568</td>\n",
       "    </tr>\n",
       "    <tr>\n",
       "      <th>331</th>\n",
       "      <td>0.645342</td>\n",
       "      <td>0.469989</td>\n",
       "      <td>0.537728</td>\n",
       "      <td>0.882438</td>\n",
       "      <td>0.142323</td>\n",
       "    </tr>\n",
       "    <tr>\n",
       "      <th>332</th>\n",
       "      <td>0.573371</td>\n",
       "      <td>0.927044</td>\n",
       "      <td>0.307886</td>\n",
       "      <td>0.950938</td>\n",
       "      <td>0.544636</td>\n",
       "    </tr>\n",
       "    <tr>\n",
       "      <th>333</th>\n",
       "      <td>0.619195</td>\n",
       "      <td>0.223146</td>\n",
       "      <td>0.264312</td>\n",
       "      <td>0.723558</td>\n",
       "      <td>0.145590</td>\n",
       "    </tr>\n",
       "  </tbody>\n",
       "</table>\n",
       "<p>334 rows × 5 columns</p>\n",
       "</div>"
      ],
      "text/plain": [
       "            A         B         C         D         E\n",
       "0    0.417927  0.838661  0.664228  0.937997  0.128909\n",
       "1    0.332782  0.122433  0.887576  0.521448  0.083257\n",
       "2    0.462839  0.232664  0.018682  0.919656  0.723526\n",
       "3    0.609358  0.753715  0.516503  0.814999  0.232920\n",
       "4    0.784992  0.462757  0.331334  0.779424  0.489974\n",
       "..        ...       ...       ...       ...       ...\n",
       "329  0.846878  0.539694  0.692526  0.796096  0.963132\n",
       "330  0.993157  0.651072  0.715881  0.367350  0.789568\n",
       "331  0.645342  0.469989  0.537728  0.882438  0.142323\n",
       "332  0.573371  0.927044  0.307886  0.950938  0.544636\n",
       "333  0.619195  0.223146  0.264312  0.723558  0.145590\n",
       "\n",
       "[334 rows x 5 columns]"
      ]
     },
     "execution_count": 5,
     "metadata": {},
     "output_type": "execute_result"
    }
   ],
   "source": [
    "newdf"
   ]
  },
  {
   "cell_type": "code",
   "execution_count": 6,
   "id": "0e994b2e-6e00-4ddd-9fef-7214a49293b2",
   "metadata": {},
   "outputs": [
    {
     "data": {
      "text/html": [
       "<div>\n",
       "<style scoped>\n",
       "    .dataframe tbody tr th:only-of-type {\n",
       "        vertical-align: middle;\n",
       "    }\n",
       "\n",
       "    .dataframe tbody tr th {\n",
       "        vertical-align: top;\n",
       "    }\n",
       "\n",
       "    .dataframe thead th {\n",
       "        text-align: right;\n",
       "    }\n",
       "</style>\n",
       "<table border=\"1\" class=\"dataframe\">\n",
       "  <thead>\n",
       "    <tr style=\"text-align: right;\">\n",
       "      <th></th>\n",
       "      <th>A</th>\n",
       "      <th>B</th>\n",
       "      <th>C</th>\n",
       "      <th>D</th>\n",
       "      <th>E</th>\n",
       "    </tr>\n",
       "  </thead>\n",
       "  <tbody>\n",
       "    <tr>\n",
       "      <th>0</th>\n",
       "      <td>0.417927</td>\n",
       "      <td>0.838661</td>\n",
       "      <td>0.664228</td>\n",
       "      <td>0.937997</td>\n",
       "      <td>0.128909</td>\n",
       "    </tr>\n",
       "    <tr>\n",
       "      <th>1</th>\n",
       "      <td>0.332782</td>\n",
       "      <td>0.122433</td>\n",
       "      <td>0.887576</td>\n",
       "      <td>0.521448</td>\n",
       "      <td>0.083257</td>\n",
       "    </tr>\n",
       "    <tr>\n",
       "      <th>2</th>\n",
       "      <td>0.462839</td>\n",
       "      <td>0.232664</td>\n",
       "      <td>0.018682</td>\n",
       "      <td>0.919656</td>\n",
       "      <td>0.723526</td>\n",
       "    </tr>\n",
       "    <tr>\n",
       "      <th>3</th>\n",
       "      <td>0.609358</td>\n",
       "      <td>0.753715</td>\n",
       "      <td>0.516503</td>\n",
       "      <td>0.814999</td>\n",
       "      <td>0.232920</td>\n",
       "    </tr>\n",
       "    <tr>\n",
       "      <th>4</th>\n",
       "      <td>0.784992</td>\n",
       "      <td>0.462757</td>\n",
       "      <td>0.331334</td>\n",
       "      <td>0.779424</td>\n",
       "      <td>0.489974</td>\n",
       "    </tr>\n",
       "  </tbody>\n",
       "</table>\n",
       "</div>"
      ],
      "text/plain": [
       "          A         B         C         D         E\n",
       "0  0.417927  0.838661  0.664228  0.937997  0.128909\n",
       "1  0.332782  0.122433  0.887576  0.521448  0.083257\n",
       "2  0.462839  0.232664  0.018682  0.919656  0.723526\n",
       "3  0.609358  0.753715  0.516503  0.814999  0.232920\n",
       "4  0.784992  0.462757  0.331334  0.779424  0.489974"
      ]
     },
     "execution_count": 6,
     "metadata": {},
     "output_type": "execute_result"
    }
   ],
   "source": [
    "newdf.head()"
   ]
  },
  {
   "cell_type": "code",
   "execution_count": 7,
   "id": "fa0df59b-00bb-42c4-87db-186efa5840fd",
   "metadata": {},
   "outputs": [
    {
     "data": {
      "text/plain": [
       "np.float64(0.41792684904317423)"
      ]
     },
     "execution_count": 7,
     "metadata": {},
     "output_type": "execute_result"
    }
   ],
   "source": [
    "newdf.loc[0,'A']"
   ]
  },
  {
   "cell_type": "code",
   "execution_count": 8,
   "id": "23588fb0-0420-4fe6-b90f-459f2534fbee",
   "metadata": {},
   "outputs": [
    {
     "data": {
      "text/html": [
       "<div>\n",
       "<style scoped>\n",
       "    .dataframe tbody tr th:only-of-type {\n",
       "        vertical-align: middle;\n",
       "    }\n",
       "\n",
       "    .dataframe tbody tr th {\n",
       "        vertical-align: top;\n",
       "    }\n",
       "\n",
       "    .dataframe thead th {\n",
       "        text-align: right;\n",
       "    }\n",
       "</style>\n",
       "<table border=\"1\" class=\"dataframe\">\n",
       "  <thead>\n",
       "    <tr style=\"text-align: right;\">\n",
       "      <th></th>\n",
       "      <th>C</th>\n",
       "      <th>D</th>\n",
       "    </tr>\n",
       "  </thead>\n",
       "  <tbody>\n",
       "    <tr>\n",
       "      <th>1</th>\n",
       "      <td>0.887576</td>\n",
       "      <td>0.521448</td>\n",
       "    </tr>\n",
       "    <tr>\n",
       "      <th>2</th>\n",
       "      <td>0.018682</td>\n",
       "      <td>0.919656</td>\n",
       "    </tr>\n",
       "  </tbody>\n",
       "</table>\n",
       "</div>"
      ],
      "text/plain": [
       "          C         D\n",
       "1  0.887576  0.521448\n",
       "2  0.018682  0.919656"
      ]
     },
     "execution_count": 8,
     "metadata": {},
     "output_type": "execute_result"
    }
   ],
   "source": [
    "newdf.loc[[1,2],['C','D']]"
   ]
  },
  {
   "cell_type": "code",
   "execution_count": 9,
   "id": "e1ef569a-15de-42d5-a10e-a63cbae4b14e",
   "metadata": {},
   "outputs": [
    {
     "data": {
      "text/html": [
       "<div>\n",
       "<style scoped>\n",
       "    .dataframe tbody tr th:only-of-type {\n",
       "        vertical-align: middle;\n",
       "    }\n",
       "\n",
       "    .dataframe tbody tr th {\n",
       "        vertical-align: top;\n",
       "    }\n",
       "\n",
       "    .dataframe thead th {\n",
       "        text-align: right;\n",
       "    }\n",
       "</style>\n",
       "<table border=\"1\" class=\"dataframe\">\n",
       "  <thead>\n",
       "    <tr style=\"text-align: right;\">\n",
       "      <th></th>\n",
       "      <th>A</th>\n",
       "      <th>B</th>\n",
       "      <th>C</th>\n",
       "      <th>D</th>\n",
       "      <th>E</th>\n",
       "    </tr>\n",
       "  </thead>\n",
       "  <tbody>\n",
       "    <tr>\n",
       "      <th>0</th>\n",
       "      <td>0.417927</td>\n",
       "      <td>0.838661</td>\n",
       "      <td>0.664228</td>\n",
       "      <td>0.937997</td>\n",
       "      <td>0.128909</td>\n",
       "    </tr>\n",
       "    <tr>\n",
       "      <th>1</th>\n",
       "      <td>0.332782</td>\n",
       "      <td>0.122433</td>\n",
       "      <td>0.887576</td>\n",
       "      <td>0.521448</td>\n",
       "      <td>0.083257</td>\n",
       "    </tr>\n",
       "    <tr>\n",
       "      <th>2</th>\n",
       "      <td>0.462839</td>\n",
       "      <td>0.232664</td>\n",
       "      <td>0.018682</td>\n",
       "      <td>0.919656</td>\n",
       "      <td>0.723526</td>\n",
       "    </tr>\n",
       "    <tr>\n",
       "      <th>3</th>\n",
       "      <td>0.609358</td>\n",
       "      <td>0.753715</td>\n",
       "      <td>0.516503</td>\n",
       "      <td>0.814999</td>\n",
       "      <td>0.232920</td>\n",
       "    </tr>\n",
       "    <tr>\n",
       "      <th>4</th>\n",
       "      <td>0.784992</td>\n",
       "      <td>0.462757</td>\n",
       "      <td>0.331334</td>\n",
       "      <td>0.779424</td>\n",
       "      <td>0.489974</td>\n",
       "    </tr>\n",
       "  </tbody>\n",
       "</table>\n",
       "</div>"
      ],
      "text/plain": [
       "          A         B         C         D         E\n",
       "0  0.417927  0.838661  0.664228  0.937997  0.128909\n",
       "1  0.332782  0.122433  0.887576  0.521448  0.083257\n",
       "2  0.462839  0.232664  0.018682  0.919656  0.723526\n",
       "3  0.609358  0.753715  0.516503  0.814999  0.232920\n",
       "4  0.784992  0.462757  0.331334  0.779424  0.489974"
      ]
     },
     "execution_count": 9,
     "metadata": {},
     "output_type": "execute_result"
    }
   ],
   "source": [
    "newdf.head()"
   ]
  },
  {
   "cell_type": "code",
   "execution_count": 10,
   "id": "48bfdd10-6c38-404d-b5a6-29480f7b28f7",
   "metadata": {},
   "outputs": [
    {
     "data": {
      "text/html": [
       "<div>\n",
       "<style scoped>\n",
       "    .dataframe tbody tr th:only-of-type {\n",
       "        vertical-align: middle;\n",
       "    }\n",
       "\n",
       "    .dataframe tbody tr th {\n",
       "        vertical-align: top;\n",
       "    }\n",
       "\n",
       "    .dataframe thead th {\n",
       "        text-align: right;\n",
       "    }\n",
       "</style>\n",
       "<table border=\"1\" class=\"dataframe\">\n",
       "  <thead>\n",
       "    <tr style=\"text-align: right;\">\n",
       "      <th></th>\n",
       "      <th>A</th>\n",
       "      <th>B</th>\n",
       "      <th>C</th>\n",
       "      <th>D</th>\n",
       "      <th>E</th>\n",
       "    </tr>\n",
       "  </thead>\n",
       "  <tbody>\n",
       "    <tr>\n",
       "      <th>0</th>\n",
       "      <td>0.417927</td>\n",
       "      <td>0.838661</td>\n",
       "      <td>0.664228</td>\n",
       "      <td>0.937997</td>\n",
       "      <td>0.128909</td>\n",
       "    </tr>\n",
       "  </tbody>\n",
       "</table>\n",
       "</div>"
      ],
      "text/plain": [
       "          A         B         C         D         E\n",
       "0  0.417927  0.838661  0.664228  0.937997  0.128909"
      ]
     },
     "execution_count": 10,
     "metadata": {},
     "output_type": "execute_result"
    }
   ],
   "source": [
    "newdf.loc[[0],:]"
   ]
  },
  {
   "cell_type": "code",
   "execution_count": 11,
   "id": "c10db370-9e97-4bea-ab87-26ee480d36ae",
   "metadata": {},
   "outputs": [
    {
     "data": {
      "text/html": [
       "<div>\n",
       "<style scoped>\n",
       "    .dataframe tbody tr th:only-of-type {\n",
       "        vertical-align: middle;\n",
       "    }\n",
       "\n",
       "    .dataframe tbody tr th {\n",
       "        vertical-align: top;\n",
       "    }\n",
       "\n",
       "    .dataframe thead th {\n",
       "        text-align: right;\n",
       "    }\n",
       "</style>\n",
       "<table border=\"1\" class=\"dataframe\">\n",
       "  <thead>\n",
       "    <tr style=\"text-align: right;\">\n",
       "      <th></th>\n",
       "      <th>A</th>\n",
       "      <th>B</th>\n",
       "    </tr>\n",
       "  </thead>\n",
       "  <tbody>\n",
       "    <tr>\n",
       "      <th>0</th>\n",
       "      <td>0.417927</td>\n",
       "      <td>0.838661</td>\n",
       "    </tr>\n",
       "    <tr>\n",
       "      <th>1</th>\n",
       "      <td>0.332782</td>\n",
       "      <td>0.122433</td>\n",
       "    </tr>\n",
       "    <tr>\n",
       "      <th>2</th>\n",
       "      <td>0.462839</td>\n",
       "      <td>0.232664</td>\n",
       "    </tr>\n",
       "    <tr>\n",
       "      <th>3</th>\n",
       "      <td>0.609358</td>\n",
       "      <td>0.753715</td>\n",
       "    </tr>\n",
       "    <tr>\n",
       "      <th>4</th>\n",
       "      <td>0.784992</td>\n",
       "      <td>0.462757</td>\n",
       "    </tr>\n",
       "    <tr>\n",
       "      <th>...</th>\n",
       "      <td>...</td>\n",
       "      <td>...</td>\n",
       "    </tr>\n",
       "    <tr>\n",
       "      <th>329</th>\n",
       "      <td>0.846878</td>\n",
       "      <td>0.539694</td>\n",
       "    </tr>\n",
       "    <tr>\n",
       "      <th>330</th>\n",
       "      <td>0.993157</td>\n",
       "      <td>0.651072</td>\n",
       "    </tr>\n",
       "    <tr>\n",
       "      <th>331</th>\n",
       "      <td>0.645342</td>\n",
       "      <td>0.469989</td>\n",
       "    </tr>\n",
       "    <tr>\n",
       "      <th>332</th>\n",
       "      <td>0.573371</td>\n",
       "      <td>0.927044</td>\n",
       "    </tr>\n",
       "    <tr>\n",
       "      <th>333</th>\n",
       "      <td>0.619195</td>\n",
       "      <td>0.223146</td>\n",
       "    </tr>\n",
       "  </tbody>\n",
       "</table>\n",
       "<p>334 rows × 2 columns</p>\n",
       "</div>"
      ],
      "text/plain": [
       "            A         B\n",
       "0    0.417927  0.838661\n",
       "1    0.332782  0.122433\n",
       "2    0.462839  0.232664\n",
       "3    0.609358  0.753715\n",
       "4    0.784992  0.462757\n",
       "..        ...       ...\n",
       "329  0.846878  0.539694\n",
       "330  0.993157  0.651072\n",
       "331  0.645342  0.469989\n",
       "332  0.573371  0.927044\n",
       "333  0.619195  0.223146\n",
       "\n",
       "[334 rows x 2 columns]"
      ]
     },
     "execution_count": 11,
     "metadata": {},
     "output_type": "execute_result"
    }
   ],
   "source": [
    "newdf.loc[:,['A',\"B\"]]"
   ]
  },
  {
   "cell_type": "code",
   "execution_count": 13,
   "id": "44a1560b-f09f-454e-aff8-31de3d2c1902",
   "metadata": {},
   "outputs": [
    {
     "data": {
      "text/html": [
       "<div>\n",
       "<style scoped>\n",
       "    .dataframe tbody tr th:only-of-type {\n",
       "        vertical-align: middle;\n",
       "    }\n",
       "\n",
       "    .dataframe tbody tr th {\n",
       "        vertical-align: top;\n",
       "    }\n",
       "\n",
       "    .dataframe thead th {\n",
       "        text-align: right;\n",
       "    }\n",
       "</style>\n",
       "<table border=\"1\" class=\"dataframe\">\n",
       "  <thead>\n",
       "    <tr style=\"text-align: right;\">\n",
       "      <th></th>\n",
       "      <th>A</th>\n",
       "      <th>B</th>\n",
       "      <th>C</th>\n",
       "      <th>D</th>\n",
       "      <th>E</th>\n",
       "    </tr>\n",
       "  </thead>\n",
       "  <tbody>\n",
       "    <tr>\n",
       "      <th>7</th>\n",
       "      <td>0.272253</td>\n",
       "      <td>0.447703</td>\n",
       "      <td>0.703188</td>\n",
       "      <td>0.742028</td>\n",
       "      <td>0.635235</td>\n",
       "    </tr>\n",
       "    <tr>\n",
       "      <th>12</th>\n",
       "      <td>0.041724</td>\n",
       "      <td>0.811145</td>\n",
       "      <td>0.845752</td>\n",
       "      <td>0.142423</td>\n",
       "      <td>0.653797</td>\n",
       "    </tr>\n",
       "    <tr>\n",
       "      <th>17</th>\n",
       "      <td>0.111961</td>\n",
       "      <td>0.192879</td>\n",
       "      <td>0.799081</td>\n",
       "      <td>0.965966</td>\n",
       "      <td>0.583677</td>\n",
       "    </tr>\n",
       "    <tr>\n",
       "      <th>19</th>\n",
       "      <td>0.073151</td>\n",
       "      <td>0.224264</td>\n",
       "      <td>0.645191</td>\n",
       "      <td>0.953747</td>\n",
       "      <td>0.269053</td>\n",
       "    </tr>\n",
       "    <tr>\n",
       "      <th>21</th>\n",
       "      <td>0.070252</td>\n",
       "      <td>0.920655</td>\n",
       "      <td>0.046639</td>\n",
       "      <td>0.632516</td>\n",
       "      <td>0.407361</td>\n",
       "    </tr>\n",
       "    <tr>\n",
       "      <th>...</th>\n",
       "      <td>...</td>\n",
       "      <td>...</td>\n",
       "      <td>...</td>\n",
       "      <td>...</td>\n",
       "      <td>...</td>\n",
       "    </tr>\n",
       "    <tr>\n",
       "      <th>311</th>\n",
       "      <td>0.275163</td>\n",
       "      <td>0.993613</td>\n",
       "      <td>0.643445</td>\n",
       "      <td>0.370128</td>\n",
       "      <td>0.059488</td>\n",
       "    </tr>\n",
       "    <tr>\n",
       "      <th>313</th>\n",
       "      <td>0.060573</td>\n",
       "      <td>0.512861</td>\n",
       "      <td>0.550075</td>\n",
       "      <td>0.039944</td>\n",
       "      <td>0.720906</td>\n",
       "    </tr>\n",
       "    <tr>\n",
       "      <th>314</th>\n",
       "      <td>0.298110</td>\n",
       "      <td>0.536270</td>\n",
       "      <td>0.475779</td>\n",
       "      <td>0.552089</td>\n",
       "      <td>0.600591</td>\n",
       "    </tr>\n",
       "    <tr>\n",
       "      <th>322</th>\n",
       "      <td>0.210094</td>\n",
       "      <td>0.389873</td>\n",
       "      <td>0.746077</td>\n",
       "      <td>0.774302</td>\n",
       "      <td>0.959149</td>\n",
       "    </tr>\n",
       "    <tr>\n",
       "      <th>326</th>\n",
       "      <td>0.146239</td>\n",
       "      <td>0.991504</td>\n",
       "      <td>0.237575</td>\n",
       "      <td>0.018820</td>\n",
       "      <td>0.928510</td>\n",
       "    </tr>\n",
       "  </tbody>\n",
       "</table>\n",
       "<p>100 rows × 5 columns</p>\n",
       "</div>"
      ],
      "text/plain": [
       "            A         B         C         D         E\n",
       "7    0.272253  0.447703  0.703188  0.742028  0.635235\n",
       "12   0.041724  0.811145  0.845752  0.142423  0.653797\n",
       "17   0.111961  0.192879  0.799081  0.965966  0.583677\n",
       "19   0.073151  0.224264  0.645191  0.953747  0.269053\n",
       "21   0.070252  0.920655  0.046639  0.632516  0.407361\n",
       "..        ...       ...       ...       ...       ...\n",
       "311  0.275163  0.993613  0.643445  0.370128  0.059488\n",
       "313  0.060573  0.512861  0.550075  0.039944  0.720906\n",
       "314  0.298110  0.536270  0.475779  0.552089  0.600591\n",
       "322  0.210094  0.389873  0.746077  0.774302  0.959149\n",
       "326  0.146239  0.991504  0.237575  0.018820  0.928510\n",
       "\n",
       "[100 rows x 5 columns]"
      ]
     },
     "execution_count": 13,
     "metadata": {},
     "output_type": "execute_result"
    }
   ],
   "source": [
    "newdf.loc[newdf['A']<0.3]"
   ]
  },
  {
   "cell_type": "code",
   "execution_count": 14,
   "id": "d6c4931d-6a72-48ba-bea9-682825a39218",
   "metadata": {},
   "outputs": [
    {
     "data": {
      "text/html": [
       "<div>\n",
       "<style scoped>\n",
       "    .dataframe tbody tr th:only-of-type {\n",
       "        vertical-align: middle;\n",
       "    }\n",
       "\n",
       "    .dataframe tbody tr th {\n",
       "        vertical-align: top;\n",
       "    }\n",
       "\n",
       "    .dataframe thead th {\n",
       "        text-align: right;\n",
       "    }\n",
       "</style>\n",
       "<table border=\"1\" class=\"dataframe\">\n",
       "  <thead>\n",
       "    <tr style=\"text-align: right;\">\n",
       "      <th></th>\n",
       "      <th>A</th>\n",
       "      <th>B</th>\n",
       "      <th>C</th>\n",
       "      <th>D</th>\n",
       "      <th>E</th>\n",
       "    </tr>\n",
       "  </thead>\n",
       "  <tbody>\n",
       "    <tr>\n",
       "      <th>0</th>\n",
       "      <td>0.417927</td>\n",
       "      <td>0.838661</td>\n",
       "      <td>0.664228</td>\n",
       "      <td>0.937997</td>\n",
       "      <td>0.128909</td>\n",
       "    </tr>\n",
       "    <tr>\n",
       "      <th>1</th>\n",
       "      <td>0.332782</td>\n",
       "      <td>0.122433</td>\n",
       "      <td>0.887576</td>\n",
       "      <td>0.521448</td>\n",
       "      <td>0.083257</td>\n",
       "    </tr>\n",
       "    <tr>\n",
       "      <th>2</th>\n",
       "      <td>0.462839</td>\n",
       "      <td>0.232664</td>\n",
       "      <td>0.018682</td>\n",
       "      <td>0.919656</td>\n",
       "      <td>0.723526</td>\n",
       "    </tr>\n",
       "    <tr>\n",
       "      <th>3</th>\n",
       "      <td>0.609358</td>\n",
       "      <td>0.753715</td>\n",
       "      <td>0.516503</td>\n",
       "      <td>0.814999</td>\n",
       "      <td>0.232920</td>\n",
       "    </tr>\n",
       "    <tr>\n",
       "      <th>4</th>\n",
       "      <td>0.784992</td>\n",
       "      <td>0.462757</td>\n",
       "      <td>0.331334</td>\n",
       "      <td>0.779424</td>\n",
       "      <td>0.489974</td>\n",
       "    </tr>\n",
       "  </tbody>\n",
       "</table>\n",
       "</div>"
      ],
      "text/plain": [
       "          A         B         C         D         E\n",
       "0  0.417927  0.838661  0.664228  0.937997  0.128909\n",
       "1  0.332782  0.122433  0.887576  0.521448  0.083257\n",
       "2  0.462839  0.232664  0.018682  0.919656  0.723526\n",
       "3  0.609358  0.753715  0.516503  0.814999  0.232920\n",
       "4  0.784992  0.462757  0.331334  0.779424  0.489974"
      ]
     },
     "execution_count": 14,
     "metadata": {},
     "output_type": "execute_result"
    }
   ],
   "source": [
    "newdf.head()"
   ]
  },
  {
   "cell_type": "code",
   "execution_count": 15,
   "id": "7328c3b2-c64c-48a2-a919-f06693f98855",
   "metadata": {},
   "outputs": [],
   "source": [
    "df=pd.DataFrame({\"name\": ['Alfred', 'Batman', 'Catwoman'],\n",
    "                   \"toy\": [np.nan, 'Batmobile', 'Bullwhip'],\n",
    "                   \"born\": [pd.NaT, pd.Timestamp(\"1940-04-25\"),\n",
    "                            pd.NaT]})"
   ]
  },
  {
   "cell_type": "code",
   "execution_count": 16,
   "id": "2c05646a-d299-477e-b02b-2e48714c3342",
   "metadata": {},
   "outputs": [
    {
     "data": {
      "text/html": [
       "<div>\n",
       "<style scoped>\n",
       "    .dataframe tbody tr th:only-of-type {\n",
       "        vertical-align: middle;\n",
       "    }\n",
       "\n",
       "    .dataframe tbody tr th {\n",
       "        vertical-align: top;\n",
       "    }\n",
       "\n",
       "    .dataframe thead th {\n",
       "        text-align: right;\n",
       "    }\n",
       "</style>\n",
       "<table border=\"1\" class=\"dataframe\">\n",
       "  <thead>\n",
       "    <tr style=\"text-align: right;\">\n",
       "      <th></th>\n",
       "      <th>name</th>\n",
       "      <th>toy</th>\n",
       "      <th>born</th>\n",
       "    </tr>\n",
       "  </thead>\n",
       "  <tbody>\n",
       "    <tr>\n",
       "      <th>0</th>\n",
       "      <td>Alfred</td>\n",
       "      <td>NaN</td>\n",
       "      <td>NaT</td>\n",
       "    </tr>\n",
       "    <tr>\n",
       "      <th>1</th>\n",
       "      <td>Batman</td>\n",
       "      <td>Batmobile</td>\n",
       "      <td>1940-04-25</td>\n",
       "    </tr>\n",
       "    <tr>\n",
       "      <th>2</th>\n",
       "      <td>Catwoman</td>\n",
       "      <td>Bullwhip</td>\n",
       "      <td>NaT</td>\n",
       "    </tr>\n",
       "  </tbody>\n",
       "</table>\n",
       "</div>"
      ],
      "text/plain": [
       "       name        toy       born\n",
       "0    Alfred        NaN        NaT\n",
       "1    Batman  Batmobile 1940-04-25\n",
       "2  Catwoman   Bullwhip        NaT"
      ]
     },
     "execution_count": 16,
     "metadata": {},
     "output_type": "execute_result"
    }
   ],
   "source": [
    "df"
   ]
  },
  {
   "cell_type": "code",
   "execution_count": 17,
   "id": "f9f1fbbc-94de-43c5-8ccf-ab5728adf70e",
   "metadata": {},
   "outputs": [
    {
     "data": {
      "text/html": [
       "<div>\n",
       "<style scoped>\n",
       "    .dataframe tbody tr th:only-of-type {\n",
       "        vertical-align: middle;\n",
       "    }\n",
       "\n",
       "    .dataframe tbody tr th {\n",
       "        vertical-align: top;\n",
       "    }\n",
       "\n",
       "    .dataframe thead th {\n",
       "        text-align: right;\n",
       "    }\n",
       "</style>\n",
       "<table border=\"1\" class=\"dataframe\">\n",
       "  <thead>\n",
       "    <tr style=\"text-align: right;\">\n",
       "      <th></th>\n",
       "      <th>name</th>\n",
       "      <th>toy</th>\n",
       "      <th>born</th>\n",
       "    </tr>\n",
       "  </thead>\n",
       "  <tbody>\n",
       "    <tr>\n",
       "      <th>1</th>\n",
       "      <td>Batman</td>\n",
       "      <td>Batmobile</td>\n",
       "      <td>1940-04-25</td>\n",
       "    </tr>\n",
       "  </tbody>\n",
       "</table>\n",
       "</div>"
      ],
      "text/plain": [
       "     name        toy       born\n",
       "1  Batman  Batmobile 1940-04-25"
      ]
     },
     "execution_count": 17,
     "metadata": {},
     "output_type": "execute_result"
    }
   ],
   "source": [
    "df.dropna()"
   ]
  },
  {
   "cell_type": "code",
   "execution_count": 22,
   "id": "b3a7ae29-66f1-45fb-b36d-8a7b9310a85f",
   "metadata": {},
   "outputs": [
    {
     "data": {
      "text/html": [
       "<div>\n",
       "<style scoped>\n",
       "    .dataframe tbody tr th:only-of-type {\n",
       "        vertical-align: middle;\n",
       "    }\n",
       "\n",
       "    .dataframe tbody tr th {\n",
       "        vertical-align: top;\n",
       "    }\n",
       "\n",
       "    .dataframe thead th {\n",
       "        text-align: right;\n",
       "    }\n",
       "</style>\n",
       "<table border=\"1\" class=\"dataframe\">\n",
       "  <thead>\n",
       "    <tr style=\"text-align: right;\">\n",
       "      <th></th>\n",
       "      <th>name</th>\n",
       "      <th>toy</th>\n",
       "      <th>born</th>\n",
       "    </tr>\n",
       "  </thead>\n",
       "  <tbody>\n",
       "    <tr>\n",
       "      <th>1</th>\n",
       "      <td>Batman</td>\n",
       "      <td>Batmobile</td>\n",
       "      <td>1940-04-25</td>\n",
       "    </tr>\n",
       "  </tbody>\n",
       "</table>\n",
       "</div>"
      ],
      "text/plain": [
       "     name        toy       born\n",
       "1  Batman  Batmobile 1940-04-25"
      ]
     },
     "execution_count": 22,
     "metadata": {},
     "output_type": "execute_result"
    }
   ],
   "source": [
    "df.dropna(how='any',axis=0)"
   ]
  },
  {
   "cell_type": "code",
   "execution_count": 24,
   "id": "8580311e-07f8-4817-8c2d-0303d556deba",
   "metadata": {},
   "outputs": [],
   "source": [
    "df_s = pd.DataFrame([[0,1],[2,3],[6,8]])"
   ]
  },
  {
   "cell_type": "code",
   "execution_count": 26,
   "id": "867207b7-e805-4558-b694-a5f86e887139",
   "metadata": {},
   "outputs": [
    {
     "data": {
      "text/html": [
       "<div>\n",
       "<style scoped>\n",
       "    .dataframe tbody tr th:only-of-type {\n",
       "        vertical-align: middle;\n",
       "    }\n",
       "\n",
       "    .dataframe tbody tr th {\n",
       "        vertical-align: top;\n",
       "    }\n",
       "\n",
       "    .dataframe thead th {\n",
       "        text-align: right;\n",
       "    }\n",
       "</style>\n",
       "<table border=\"1\" class=\"dataframe\">\n",
       "  <thead>\n",
       "    <tr style=\"text-align: right;\">\n",
       "      <th></th>\n",
       "      <th>0</th>\n",
       "      <th>1</th>\n",
       "    </tr>\n",
       "  </thead>\n",
       "  <tbody>\n",
       "    <tr>\n",
       "      <th>0</th>\n",
       "      <td>0</td>\n",
       "      <td>1</td>\n",
       "    </tr>\n",
       "    <tr>\n",
       "      <th>1</th>\n",
       "      <td>2</td>\n",
       "      <td>3</td>\n",
       "    </tr>\n",
       "    <tr>\n",
       "      <th>2</th>\n",
       "      <td>6</td>\n",
       "      <td>8</td>\n",
       "    </tr>\n",
       "  </tbody>\n",
       "</table>\n",
       "</div>"
      ],
      "text/plain": [
       "   0  1\n",
       "0  0  1\n",
       "1  2  3\n",
       "2  6  8"
      ]
     },
     "execution_count": 26,
     "metadata": {},
     "output_type": "execute_result"
    }
   ],
   "source": [
    "df_s"
   ]
  },
  {
   "cell_type": "code",
   "execution_count": 30,
   "id": "ff8011ce-b244-4f4b-a7ef-b3fcff82f88f",
   "metadata": {},
   "outputs": [
    {
     "data": {
      "text/html": [
       "<div>\n",
       "<style scoped>\n",
       "    .dataframe tbody tr th:only-of-type {\n",
       "        vertical-align: middle;\n",
       "    }\n",
       "\n",
       "    .dataframe tbody tr th {\n",
       "        vertical-align: top;\n",
       "    }\n",
       "\n",
       "    .dataframe thead th {\n",
       "        text-align: right;\n",
       "    }\n",
       "</style>\n",
       "<table border=\"1\" class=\"dataframe\">\n",
       "  <thead>\n",
       "    <tr style=\"text-align: right;\">\n",
       "      <th></th>\n",
       "      <th>0</th>\n",
       "      <th>1</th>\n",
       "    </tr>\n",
       "  </thead>\n",
       "  <tbody>\n",
       "    <tr>\n",
       "      <th>count</th>\n",
       "      <td>3.000000</td>\n",
       "      <td>3.000000</td>\n",
       "    </tr>\n",
       "    <tr>\n",
       "      <th>mean</th>\n",
       "      <td>2.666667</td>\n",
       "      <td>4.000000</td>\n",
       "    </tr>\n",
       "    <tr>\n",
       "      <th>std</th>\n",
       "      <td>3.055050</td>\n",
       "      <td>3.605551</td>\n",
       "    </tr>\n",
       "    <tr>\n",
       "      <th>min</th>\n",
       "      <td>0.000000</td>\n",
       "      <td>1.000000</td>\n",
       "    </tr>\n",
       "    <tr>\n",
       "      <th>25%</th>\n",
       "      <td>1.000000</td>\n",
       "      <td>2.000000</td>\n",
       "    </tr>\n",
       "    <tr>\n",
       "      <th>50%</th>\n",
       "      <td>2.000000</td>\n",
       "      <td>3.000000</td>\n",
       "    </tr>\n",
       "    <tr>\n",
       "      <th>75%</th>\n",
       "      <td>4.000000</td>\n",
       "      <td>5.500000</td>\n",
       "    </tr>\n",
       "    <tr>\n",
       "      <th>max</th>\n",
       "      <td>6.000000</td>\n",
       "      <td>8.000000</td>\n",
       "    </tr>\n",
       "  </tbody>\n",
       "</table>\n",
       "</div>"
      ],
      "text/plain": [
       "              0         1\n",
       "count  3.000000  3.000000\n",
       "mean   2.666667  4.000000\n",
       "std    3.055050  3.605551\n",
       "min    0.000000  1.000000\n",
       "25%    1.000000  2.000000\n",
       "50%    2.000000  3.000000\n",
       "75%    4.000000  5.500000\n",
       "max    6.000000  8.000000"
      ]
     },
     "execution_count": 30,
     "metadata": {},
     "output_type": "execute_result"
    }
   ],
   "source": [
    "df_s.describe()"
   ]
  },
  {
   "cell_type": "code",
   "execution_count": 34,
   "id": "5d850997-acdd-49bf-88c8-5a87ef818bdf",
   "metadata": {},
   "outputs": [
    {
     "data": {
      "text/plain": [
       "0    2.666667\n",
       "1    4.000000\n",
       "dtype: float64"
      ]
     },
     "execution_count": 34,
     "metadata": {},
     "output_type": "execute_result"
    }
   ],
   "source": [
    "df_s.mean()"
   ]
  },
  {
   "cell_type": "code",
   "execution_count": 35,
   "id": "de72172f-c209-420c-a132-6cc7a56d4ee4",
   "metadata": {},
   "outputs": [
    {
     "data": {
      "text/html": [
       "<div>\n",
       "<style scoped>\n",
       "    .dataframe tbody tr th:only-of-type {\n",
       "        vertical-align: middle;\n",
       "    }\n",
       "\n",
       "    .dataframe tbody tr th {\n",
       "        vertical-align: top;\n",
       "    }\n",
       "\n",
       "    .dataframe thead th {\n",
       "        text-align: right;\n",
       "    }\n",
       "</style>\n",
       "<table border=\"1\" class=\"dataframe\">\n",
       "  <thead>\n",
       "    <tr style=\"text-align: right;\">\n",
       "      <th></th>\n",
       "      <th>0</th>\n",
       "      <th>1</th>\n",
       "    </tr>\n",
       "  </thead>\n",
       "  <tbody>\n",
       "    <tr>\n",
       "      <th>0</th>\n",
       "      <td>1.000000</td>\n",
       "      <td>0.998625</td>\n",
       "    </tr>\n",
       "    <tr>\n",
       "      <th>1</th>\n",
       "      <td>0.998625</td>\n",
       "      <td>1.000000</td>\n",
       "    </tr>\n",
       "  </tbody>\n",
       "</table>\n",
       "</div>"
      ],
      "text/plain": [
       "          0         1\n",
       "0  1.000000  0.998625\n",
       "1  0.998625  1.000000"
      ]
     },
     "execution_count": 35,
     "metadata": {},
     "output_type": "execute_result"
    }
   ],
   "source": [
    "df_s.corr()"
   ]
  },
  {
   "cell_type": "code",
   "execution_count": 36,
   "id": "835ff549-219a-4a55-9520-2abcd17da5bb",
   "metadata": {},
   "outputs": [
    {
     "data": {
      "text/plain": [
       "0    3\n",
       "1    3\n",
       "dtype: int64"
      ]
     },
     "execution_count": 36,
     "metadata": {},
     "output_type": "execute_result"
    }
   ],
   "source": [
    "df_s.count()"
   ]
  },
  {
   "cell_type": "code",
   "execution_count": 37,
   "id": "2572eb5f-36de-4673-a670-d6c1e4dbaf87",
   "metadata": {},
   "outputs": [
    {
     "data": {
      "text/plain": [
       "0    0\n",
       "1    1\n",
       "dtype: int64"
      ]
     },
     "execution_count": 37,
     "metadata": {},
     "output_type": "execute_result"
    }
   ],
   "source": [
    "df_s.max()\n",
    "df_s.min()"
   ]
  },
  {
   "cell_type": "code",
   "execution_count": 40,
   "id": "7a53d352-e669-4375-9223-d458661cebb0",
   "metadata": {},
   "outputs": [
    {
     "data": {
      "text/plain": [
       "0    2.0\n",
       "1    3.0\n",
       "dtype: float64"
      ]
     },
     "execution_count": 40,
     "metadata": {},
     "output_type": "execute_result"
    }
   ],
   "source": [
    "df_s.median(axis=0)"
   ]
  },
  {
   "cell_type": "code",
   "execution_count": 43,
   "id": "a0781b67-5237-4a74-a954-e65025a0a729",
   "metadata": {},
   "outputs": [
    {
     "data": {
      "text/plain": [
       "0    0.707107\n",
       "1    0.707107\n",
       "2    1.414214\n",
       "dtype: float64"
      ]
     },
     "execution_count": 43,
     "metadata": {},
     "output_type": "execute_result"
    }
   ],
   "source": [
    "df_s.std(axis=1)"
   ]
  },
  {
   "cell_type": "code",
   "execution_count": null,
   "id": "201bfd40-cf9d-44c1-9e9b-eec68470d4dd",
   "metadata": {},
   "outputs": [],
   "source": []
  }
 ],
 "metadata": {
  "kernelspec": {
   "display_name": "Python 3 (ipykernel)",
   "language": "python",
   "name": "python3"
  },
  "language_info": {
   "codemirror_mode": {
    "name": "ipython",
    "version": 3
   },
   "file_extension": ".py",
   "mimetype": "text/x-python",
   "name": "python",
   "nbconvert_exporter": "python",
   "pygments_lexer": "ipython3",
   "version": "3.13.2"
  }
 },
 "nbformat": 4,
 "nbformat_minor": 5
}
